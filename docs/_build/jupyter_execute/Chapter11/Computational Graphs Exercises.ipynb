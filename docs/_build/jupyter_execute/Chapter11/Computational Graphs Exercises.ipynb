{
 "cells": [
  {
   "cell_type": "markdown",
   "metadata": {
    "id": "j2tBxc4fohjf"
   },
   "source": [
    "# Computational Graphs - Exercises\n",
    "\n",
    "Version 1.0\n",
    "\n",
    "(C) 2020 - Umberto Michelucci, Michela Sperti\n",
    "\n",
    "This notebook is part of the book _Applied Deep Learning: a case based approach, **2nd edition**_ from APRESS by [U. Michelucci](mailto:umberto.michelucci@toelt.ai) and [M. Sperti](mailto:michela.sperti@toelt.ai)."
   ]
  },
  {
   "cell_type": "code",
   "execution_count": null,
   "metadata": {
    "colab": {
     "base_uri": "https://localhost:8080/",
     "height": 35
    },
    "executionInfo": {
     "elapsed": 5579,
     "status": "ok",
     "timestamp": 1603896131624,
     "user": {
      "displayName": "Umberto Michelucci",
      "photoUrl": "https://lh3.googleusercontent.com/a-/AOh14Ggrkq7MAw6QQDY8sxIXNAo8wGBCTJXUym30fmVK=s64",
      "userId": "10493425851464515093"
     },
     "user_tz": -60
    },
    "id": "rnPwAL42ohjh",
    "outputId": "f15b88ca-f786-4c2a-f36a-a00cdd212d01"
   },
   "outputs": [
    {
     "name": "stdout",
     "output_type": "stream",
     "text": [
      "TensorFlow 1.x selected.\n"
     ]
    }
   ],
   "source": [
    "%tensorflow_version 1.x\n",
    "import tensorflow as tf"
   ]
  },
  {
   "cell_type": "markdown",
   "metadata": {
    "id": "2JsE5vYDpwTw"
   },
   "source": [
    "## Notebook learning goals\n",
    "\n",
    "At the end of this notebook you will know how to create an easy computational graph with the basic types in TensorFlow.\n",
    "\n",
    "To show you how the different datatypes worked in TensorFlow 1.X we will need this version and therefore at the beginning we use the magic command\n",
    "\n",
    "    %tensorflow_version 1.x\n",
    "\n",
    "Since if we use TensorFlow 2.x we would have Eager execution enabled and the examples would not work."
   ]
  },
  {
   "cell_type": "markdown",
   "metadata": {
    "id": "klooNhuPohjl"
   },
   "source": [
    "## Computational Graph - Sum of two variables"
   ]
  },
  {
   "cell_type": "markdown",
   "metadata": {
    "id": "anZob6F9ohjl"
   },
   "source": [
    "Let's see some examples that will show you how you can solve the exercises that you will find in this notebook.\n",
    "\n",
    "Let's start with something easy.\n",
    "\n",
    "$$\n",
    "z = x_1+x_2\n",
    "$$ "
   ]
  },
  {
   "cell_type": "markdown",
   "metadata": {
    "id": "bkTibTXLohjm"
   },
   "source": [
    "This is simply the sum of two variables. Now let's create the computational graph with different datatypes in TensorFlow to see the differences in how they work."
   ]
  },
  {
   "cell_type": "markdown",
   "metadata": {
    "id": "_aqFl2RQohjn"
   },
   "source": [
    "## Graph with ```tf.constant```"
   ]
  },
  {
   "cell_type": "code",
   "execution_count": null,
   "metadata": {
    "id": "zzZXiDm7ohjn"
   },
   "outputs": [],
   "source": [
    "x1 = tf.constant(1)\n",
    "x2 = tf.constant(2)\n",
    "z = tf.add(x1, x2)"
   ]
  },
  {
   "cell_type": "code",
   "execution_count": null,
   "metadata": {
    "colab": {
     "base_uri": "https://localhost:8080/",
     "height": 35
    },
    "executionInfo": {
     "elapsed": 701,
     "status": "ok",
     "timestamp": 1603896132960,
     "user": {
      "displayName": "Umberto Michelucci",
      "photoUrl": "https://lh3.googleusercontent.com/a-/AOh14Ggrkq7MAw6QQDY8sxIXNAo8wGBCTJXUym30fmVK=s64",
      "userId": "10493425851464515093"
     },
     "user_tz": -60
    },
    "id": "j5cATMAXohjq",
    "outputId": "b2a3471f-cc38-4c81-db67-3f0607cfc823"
   },
   "outputs": [
    {
     "name": "stdout",
     "output_type": "stream",
     "text": [
      "Tensor(\"Add:0\", shape=(), dtype=int32)\n"
     ]
    }
   ],
   "source": [
    "print(z)"
   ]
  },
  {
   "cell_type": "code",
   "execution_count": null,
   "metadata": {
    "colab": {
     "base_uri": "https://localhost:8080/",
     "height": 35
    },
    "executionInfo": {
     "elapsed": 1030,
     "status": "ok",
     "timestamp": 1603896133928,
     "user": {
      "displayName": "Umberto Michelucci",
      "photoUrl": "https://lh3.googleusercontent.com/a-/AOh14Ggrkq7MAw6QQDY8sxIXNAo8wGBCTJXUym30fmVK=s64",
      "userId": "10493425851464515093"
     },
     "user_tz": -60
    },
    "id": "Y-3oOeTIohjt",
    "outputId": "0033d057-047e-4076-f578-42948f14a95b"
   },
   "outputs": [
    {
     "name": "stdout",
     "output_type": "stream",
     "text": [
      "Tensor(\"Const:0\", shape=(), dtype=int32)\n"
     ]
    }
   ],
   "source": [
    "print(x1)"
   ]
  },
  {
   "cell_type": "markdown",
   "metadata": {
    "id": "nTBCohNoohjw"
   },
   "source": [
    "Now let's create a session and let's evaluate the graph"
   ]
  },
  {
   "cell_type": "code",
   "execution_count": null,
   "metadata": {
    "colab": {
     "base_uri": "https://localhost:8080/",
     "height": 35
    },
    "executionInfo": {
     "elapsed": 816,
     "status": "ok",
     "timestamp": 1603896136024,
     "user": {
      "displayName": "Umberto Michelucci",
      "photoUrl": "https://lh3.googleusercontent.com/a-/AOh14Ggrkq7MAw6QQDY8sxIXNAo8wGBCTJXUym30fmVK=s64",
      "userId": "10493425851464515093"
     },
     "user_tz": -60
    },
    "id": "ZruYOEolohjw",
    "outputId": "5f673b98-97d8-485a-f82a-bf1bfaaa3e2c"
   },
   "outputs": [
    {
     "name": "stdout",
     "output_type": "stream",
     "text": [
      "3\n"
     ]
    }
   ],
   "source": [
    "sess= tf.Session()\n",
    "print(sess.run(z))"
   ]
  },
  {
   "cell_type": "code",
   "execution_count": null,
   "metadata": {
    "colab": {
     "base_uri": "https://localhost:8080/",
     "height": 35
    },
    "executionInfo": {
     "elapsed": 894,
     "status": "ok",
     "timestamp": 1603896139303,
     "user": {
      "displayName": "Umberto Michelucci",
      "photoUrl": "https://lh3.googleusercontent.com/a-/AOh14Ggrkq7MAw6QQDY8sxIXNAo8wGBCTJXUym30fmVK=s64",
      "userId": "10493425851464515093"
     },
     "user_tz": -60
    },
    "id": "GdGOtcn5ohjz",
    "outputId": "de208046-a01a-4502-b062-d77efe80ebc1"
   },
   "outputs": [
    {
     "name": "stdout",
     "output_type": "stream",
     "text": [
      "1\n"
     ]
    }
   ],
   "source": [
    "print(sess.run(x1))"
   ]
  },
  {
   "cell_type": "code",
   "execution_count": null,
   "metadata": {
    "id": "-U1eihtfohj1"
   },
   "outputs": [],
   "source": [
    "sess.close()"
   ]
  },
  {
   "cell_type": "markdown",
   "metadata": {
    "id": "FBLvVDfoohj3"
   },
   "source": [
    "## Graph with ```tf.Variable```"
   ]
  },
  {
   "cell_type": "code",
   "execution_count": null,
   "metadata": {
    "id": "D0oQ3DU-ohj4"
   },
   "outputs": [],
   "source": [
    "x1 = tf.Variable(1)\n",
    "x2 = tf.Variable(2)\n",
    "z = tf.add(x1,x2)"
   ]
  },
  {
   "cell_type": "code",
   "execution_count": null,
   "metadata": {
    "colab": {
     "base_uri": "https://localhost:8080/",
     "height": 35
    },
    "executionInfo": {
     "elapsed": 589,
     "status": "ok",
     "timestamp": 1603896141243,
     "user": {
      "displayName": "Umberto Michelucci",
      "photoUrl": "https://lh3.googleusercontent.com/a-/AOh14Ggrkq7MAw6QQDY8sxIXNAo8wGBCTJXUym30fmVK=s64",
      "userId": "10493425851464515093"
     },
     "user_tz": -60
    },
    "id": "DOR0zOUBohj5",
    "outputId": "7c340966-785a-4a94-b61c-87b9a4d6565e"
   },
   "outputs": [
    {
     "name": "stdout",
     "output_type": "stream",
     "text": [
      "Tensor(\"Add_1:0\", shape=(), dtype=int32)\n"
     ]
    }
   ],
   "source": [
    "print(z)"
   ]
  },
  {
   "cell_type": "code",
   "execution_count": null,
   "metadata": {
    "colab": {
     "base_uri": "https://localhost:8080/",
     "height": 1000
    },
    "executionInfo": {
     "elapsed": 3598,
     "status": "error",
     "timestamp": 1603896144626,
     "user": {
      "displayName": "Umberto Michelucci",
      "photoUrl": "https://lh3.googleusercontent.com/a-/AOh14Ggrkq7MAw6QQDY8sxIXNAo8wGBCTJXUym30fmVK=s64",
      "userId": "10493425851464515093"
     },
     "user_tz": -60
    },
    "id": "ebJPRQZmohj8",
    "outputId": "d63a2064-c7e5-4a45-b32e-3498c836ab00"
   },
   "outputs": [
    {
     "ename": "FailedPreconditionError",
     "evalue": "ignored",
     "output_type": "error",
     "traceback": [
      "\u001b[0;31m---------------------------------------------------------------------------\u001b[0m",
      "\u001b[0;31mFailedPreconditionError\u001b[0m                   Traceback (most recent call last)",
      "\u001b[0;32m/tensorflow-1.15.2/python3.6/tensorflow_core/python/client/session.py\u001b[0m in \u001b[0;36m_do_call\u001b[0;34m(self, fn, *args)\u001b[0m\n\u001b[1;32m   1364\u001b[0m     \u001b[0;32mtry\u001b[0m\u001b[0;34m:\u001b[0m\u001b[0;34m\u001b[0m\u001b[0;34m\u001b[0m\u001b[0m\n\u001b[0;32m-> 1365\u001b[0;31m       \u001b[0;32mreturn\u001b[0m \u001b[0mfn\u001b[0m\u001b[0;34m(\u001b[0m\u001b[0;34m*\u001b[0m\u001b[0margs\u001b[0m\u001b[0;34m)\u001b[0m\u001b[0;34m\u001b[0m\u001b[0;34m\u001b[0m\u001b[0m\n\u001b[0m\u001b[1;32m   1366\u001b[0m     \u001b[0;32mexcept\u001b[0m \u001b[0merrors\u001b[0m\u001b[0;34m.\u001b[0m\u001b[0mOpError\u001b[0m \u001b[0;32mas\u001b[0m \u001b[0me\u001b[0m\u001b[0;34m:\u001b[0m\u001b[0;34m\u001b[0m\u001b[0;34m\u001b[0m\u001b[0m\n",
      "\u001b[0;32m/tensorflow-1.15.2/python3.6/tensorflow_core/python/client/session.py\u001b[0m in \u001b[0;36m_run_fn\u001b[0;34m(feed_dict, fetch_list, target_list, options, run_metadata)\u001b[0m\n\u001b[1;32m   1349\u001b[0m       return self._call_tf_sessionrun(options, feed_dict, fetch_list,\n\u001b[0;32m-> 1350\u001b[0;31m                                       target_list, run_metadata)\n\u001b[0m\u001b[1;32m   1351\u001b[0m \u001b[0;34m\u001b[0m\u001b[0m\n",
      "\u001b[0;32m/tensorflow-1.15.2/python3.6/tensorflow_core/python/client/session.py\u001b[0m in \u001b[0;36m_call_tf_sessionrun\u001b[0;34m(self, options, feed_dict, fetch_list, target_list, run_metadata)\u001b[0m\n\u001b[1;32m   1442\u001b[0m                                             \u001b[0mfetch_list\u001b[0m\u001b[0;34m,\u001b[0m \u001b[0mtarget_list\u001b[0m\u001b[0;34m,\u001b[0m\u001b[0;34m\u001b[0m\u001b[0;34m\u001b[0m\u001b[0m\n\u001b[0;32m-> 1443\u001b[0;31m                                             run_metadata)\n\u001b[0m\u001b[1;32m   1444\u001b[0m \u001b[0;34m\u001b[0m\u001b[0m\n",
      "\u001b[0;31mFailedPreconditionError\u001b[0m: Attempting to use uninitialized value Variable_1\n\t [[{{node Variable_1/read}}]]",
      "\nDuring handling of the above exception, another exception occurred:\n",
      "\u001b[0;31mFailedPreconditionError\u001b[0m                   Traceback (most recent call last)",
      "\u001b[0;32m<ipython-input-10-1784cd485dbc>\u001b[0m in \u001b[0;36m<module>\u001b[0;34m()\u001b[0m\n\u001b[1;32m      1\u001b[0m \u001b[0msess\u001b[0m \u001b[0;34m=\u001b[0m \u001b[0mtf\u001b[0m\u001b[0;34m.\u001b[0m\u001b[0mSession\u001b[0m\u001b[0;34m(\u001b[0m\u001b[0;34m)\u001b[0m\u001b[0;34m\u001b[0m\u001b[0;34m\u001b[0m\u001b[0m\n\u001b[0;32m----> 2\u001b[0;31m \u001b[0mprint\u001b[0m\u001b[0;34m(\u001b[0m\u001b[0msess\u001b[0m\u001b[0;34m.\u001b[0m\u001b[0mrun\u001b[0m\u001b[0;34m(\u001b[0m\u001b[0mz\u001b[0m\u001b[0;34m)\u001b[0m\u001b[0;34m)\u001b[0m\u001b[0;34m\u001b[0m\u001b[0;34m\u001b[0m\u001b[0m\n\u001b[0m",
      "\u001b[0;32m/tensorflow-1.15.2/python3.6/tensorflow_core/python/client/session.py\u001b[0m in \u001b[0;36mrun\u001b[0;34m(self, fetches, feed_dict, options, run_metadata)\u001b[0m\n\u001b[1;32m    954\u001b[0m     \u001b[0;32mtry\u001b[0m\u001b[0;34m:\u001b[0m\u001b[0;34m\u001b[0m\u001b[0;34m\u001b[0m\u001b[0m\n\u001b[1;32m    955\u001b[0m       result = self._run(None, fetches, feed_dict, options_ptr,\n\u001b[0;32m--> 956\u001b[0;31m                          run_metadata_ptr)\n\u001b[0m\u001b[1;32m    957\u001b[0m       \u001b[0;32mif\u001b[0m \u001b[0mrun_metadata\u001b[0m\u001b[0;34m:\u001b[0m\u001b[0;34m\u001b[0m\u001b[0;34m\u001b[0m\u001b[0m\n\u001b[1;32m    958\u001b[0m         \u001b[0mproto_data\u001b[0m \u001b[0;34m=\u001b[0m \u001b[0mtf_session\u001b[0m\u001b[0;34m.\u001b[0m\u001b[0mTF_GetBuffer\u001b[0m\u001b[0;34m(\u001b[0m\u001b[0mrun_metadata_ptr\u001b[0m\u001b[0;34m)\u001b[0m\u001b[0;34m\u001b[0m\u001b[0;34m\u001b[0m\u001b[0m\n",
      "\u001b[0;32m/tensorflow-1.15.2/python3.6/tensorflow_core/python/client/session.py\u001b[0m in \u001b[0;36m_run\u001b[0;34m(self, handle, fetches, feed_dict, options, run_metadata)\u001b[0m\n\u001b[1;32m   1178\u001b[0m     \u001b[0;32mif\u001b[0m \u001b[0mfinal_fetches\u001b[0m \u001b[0;32mor\u001b[0m \u001b[0mfinal_targets\u001b[0m \u001b[0;32mor\u001b[0m \u001b[0;34m(\u001b[0m\u001b[0mhandle\u001b[0m \u001b[0;32mand\u001b[0m \u001b[0mfeed_dict_tensor\u001b[0m\u001b[0;34m)\u001b[0m\u001b[0;34m:\u001b[0m\u001b[0;34m\u001b[0m\u001b[0;34m\u001b[0m\u001b[0m\n\u001b[1;32m   1179\u001b[0m       results = self._do_run(handle, final_targets, final_fetches,\n\u001b[0;32m-> 1180\u001b[0;31m                              feed_dict_tensor, options, run_metadata)\n\u001b[0m\u001b[1;32m   1181\u001b[0m     \u001b[0;32melse\u001b[0m\u001b[0;34m:\u001b[0m\u001b[0;34m\u001b[0m\u001b[0;34m\u001b[0m\u001b[0m\n\u001b[1;32m   1182\u001b[0m       \u001b[0mresults\u001b[0m \u001b[0;34m=\u001b[0m \u001b[0;34m[\u001b[0m\u001b[0;34m]\u001b[0m\u001b[0;34m\u001b[0m\u001b[0;34m\u001b[0m\u001b[0m\n",
      "\u001b[0;32m/tensorflow-1.15.2/python3.6/tensorflow_core/python/client/session.py\u001b[0m in \u001b[0;36m_do_run\u001b[0;34m(self, handle, target_list, fetch_list, feed_dict, options, run_metadata)\u001b[0m\n\u001b[1;32m   1357\u001b[0m     \u001b[0;32mif\u001b[0m \u001b[0mhandle\u001b[0m \u001b[0;32mis\u001b[0m \u001b[0;32mNone\u001b[0m\u001b[0;34m:\u001b[0m\u001b[0;34m\u001b[0m\u001b[0;34m\u001b[0m\u001b[0m\n\u001b[1;32m   1358\u001b[0m       return self._do_call(_run_fn, feeds, fetches, targets, options,\n\u001b[0;32m-> 1359\u001b[0;31m                            run_metadata)\n\u001b[0m\u001b[1;32m   1360\u001b[0m     \u001b[0;32melse\u001b[0m\u001b[0;34m:\u001b[0m\u001b[0;34m\u001b[0m\u001b[0;34m\u001b[0m\u001b[0m\n\u001b[1;32m   1361\u001b[0m       \u001b[0;32mreturn\u001b[0m \u001b[0mself\u001b[0m\u001b[0;34m.\u001b[0m\u001b[0m_do_call\u001b[0m\u001b[0;34m(\u001b[0m\u001b[0m_prun_fn\u001b[0m\u001b[0;34m,\u001b[0m \u001b[0mhandle\u001b[0m\u001b[0;34m,\u001b[0m \u001b[0mfeeds\u001b[0m\u001b[0;34m,\u001b[0m \u001b[0mfetches\u001b[0m\u001b[0;34m)\u001b[0m\u001b[0;34m\u001b[0m\u001b[0;34m\u001b[0m\u001b[0m\n",
      "\u001b[0;32m/tensorflow-1.15.2/python3.6/tensorflow_core/python/client/session.py\u001b[0m in \u001b[0;36m_do_call\u001b[0;34m(self, fn, *args)\u001b[0m\n\u001b[1;32m   1382\u001b[0m                     \u001b[0;34m'\\nsession_config.graph_options.rewrite_options.'\u001b[0m\u001b[0;34m\u001b[0m\u001b[0;34m\u001b[0m\u001b[0m\n\u001b[1;32m   1383\u001b[0m                     'disable_meta_optimizer = True')\n\u001b[0;32m-> 1384\u001b[0;31m       \u001b[0;32mraise\u001b[0m \u001b[0mtype\u001b[0m\u001b[0;34m(\u001b[0m\u001b[0me\u001b[0m\u001b[0;34m)\u001b[0m\u001b[0;34m(\u001b[0m\u001b[0mnode_def\u001b[0m\u001b[0;34m,\u001b[0m \u001b[0mop\u001b[0m\u001b[0;34m,\u001b[0m \u001b[0mmessage\u001b[0m\u001b[0;34m)\u001b[0m\u001b[0;34m\u001b[0m\u001b[0;34m\u001b[0m\u001b[0m\n\u001b[0m\u001b[1;32m   1385\u001b[0m \u001b[0;34m\u001b[0m\u001b[0m\n\u001b[1;32m   1386\u001b[0m   \u001b[0;32mdef\u001b[0m \u001b[0m_extend_graph\u001b[0m\u001b[0;34m(\u001b[0m\u001b[0mself\u001b[0m\u001b[0;34m)\u001b[0m\u001b[0;34m:\u001b[0m\u001b[0;34m\u001b[0m\u001b[0;34m\u001b[0m\u001b[0m\n",
      "\u001b[0;31mFailedPreconditionError\u001b[0m: Attempting to use uninitialized value Variable_1\n\t [[node Variable_1/read (defined at /tensorflow-1.15.2/python3.6/tensorflow_core/python/framework/ops.py:1748) ]]\n\nOriginal stack trace for 'Variable_1/read':\n  File \"/usr/lib/python3.6/runpy.py\", line 193, in _run_module_as_main\n    \"__main__\", mod_spec)\n  File \"/usr/lib/python3.6/runpy.py\", line 85, in _run_code\n    exec(code, run_globals)\n  File \"/usr/local/lib/python3.6/dist-packages/ipykernel_launcher.py\", line 16, in <module>\n    app.launch_new_instance()\n  File \"/usr/local/lib/python3.6/dist-packages/traitlets/config/application.py\", line 664, in launch_instance\n    app.start()\n  File \"/usr/local/lib/python3.6/dist-packages/ipykernel/kernelapp.py\", line 499, in start\n    self.io_loop.start()\n  File \"/usr/local/lib/python3.6/dist-packages/tornado/platform/asyncio.py\", line 132, in start\n    self.asyncio_loop.run_forever()\n  File \"/usr/lib/python3.6/asyncio/base_events.py\", line 438, in run_forever\n    self._run_once()\n  File \"/usr/lib/python3.6/asyncio/base_events.py\", line 1451, in _run_once\n    handle._run()\n  File \"/usr/lib/python3.6/asyncio/events.py\", line 145, in _run\n    self._callback(*self._args)\n  File \"/usr/local/lib/python3.6/dist-packages/tornado/platform/asyncio.py\", line 122, in _handle_events\n    handler_func(fileobj, events)\n  File \"/usr/local/lib/python3.6/dist-packages/tornado/stack_context.py\", line 300, in null_wrapper\n    return fn(*args, **kwargs)\n  File \"/usr/local/lib/python3.6/dist-packages/zmq/eventloop/zmqstream.py\", line 462, in _handle_events\n    self._handle_recv()\n  File \"/usr/local/lib/python3.6/dist-packages/zmq/eventloop/zmqstream.py\", line 492, in _handle_recv\n    self._run_callback(callback, msg)\n  File \"/usr/local/lib/python3.6/dist-packages/zmq/eventloop/zmqstream.py\", line 444, in _run_callback\n    callback(*args, **kwargs)\n  File \"/usr/local/lib/python3.6/dist-packages/tornado/stack_context.py\", line 300, in null_wrapper\n    return fn(*args, **kwargs)\n  File \"/usr/local/lib/python3.6/dist-packages/ipykernel/kernelbase.py\", line 283, in dispatcher\n    return self.dispatch_shell(stream, msg)\n  File \"/usr/local/lib/python3.6/dist-packages/ipykernel/kernelbase.py\", line 233, in dispatch_shell\n    handler(stream, idents, msg)\n  File \"/usr/local/lib/python3.6/dist-packages/ipykernel/kernelbase.py\", line 399, in execute_request\n    user_expressions, allow_stdin)\n  File \"/usr/local/lib/python3.6/dist-packages/ipykernel/ipkernel.py\", line 208, in do_execute\n    res = shell.run_cell(code, store_history=store_history, silent=silent)\n  File \"/usr/local/lib/python3.6/dist-packages/ipykernel/zmqshell.py\", line 537, in run_cell\n    return super(ZMQInteractiveShell, self).run_cell(*args, **kwargs)\n  File \"/usr/local/lib/python3.6/dist-packages/IPython/core/interactiveshell.py\", line 2718, in run_cell\n    interactivity=interactivity, compiler=compiler, result=result)\n  File \"/usr/local/lib/python3.6/dist-packages/IPython/core/interactiveshell.py\", line 2822, in run_ast_nodes\n    if self.run_code(code, result):\n  File \"/usr/local/lib/python3.6/dist-packages/IPython/core/interactiveshell.py\", line 2882, in run_code\n    exec(code_obj, self.user_global_ns, self.user_ns)\n  File \"<ipython-input-8-93cd6787ae35>\", line 2, in <module>\n    x2 = tf.Variable(2)\n  File \"/tensorflow-1.15.2/python3.6/tensorflow_core/python/ops/variables.py\", line 258, in __call__\n    return cls._variable_v1_call(*args, **kwargs)\n  File \"/tensorflow-1.15.2/python3.6/tensorflow_core/python/ops/variables.py\", line 219, in _variable_v1_call\n    shape=shape)\n  File \"/tensorflow-1.15.2/python3.6/tensorflow_core/python/ops/variables.py\", line 197, in <lambda>\n    previous_getter = lambda **kwargs: default_variable_creator(None, **kwargs)\n  File \"/tensorflow-1.15.2/python3.6/tensorflow_core/python/ops/variable_scope.py\", line 2519, in default_variable_creator\n    shape=shape)\n  File \"/tensorflow-1.15.2/python3.6/tensorflow_core/python/ops/variables.py\", line 262, in __call__\n    return super(VariableMetaclass, cls).__call__(*args, **kwargs)\n  File \"/tensorflow-1.15.2/python3.6/tensorflow_core/python/ops/variables.py\", line 1688, in __init__\n    shape=shape)\n  File \"/tensorflow-1.15.2/python3.6/tensorflow_core/python/ops/variables.py\", line 1872, in _init_from_args\n    self._snapshot = array_ops.identity(self._variable, name=\"read\")\n  File \"/tensorflow-1.15.2/python3.6/tensorflow_core/python/util/dispatch.py\", line 180, in wrapper\n    return target(*args, **kwargs)\n  File \"/tensorflow-1.15.2/python3.6/tensorflow_core/python/ops/array_ops.py\", line 203, in identity\n    ret = gen_array_ops.identity(input, name=name)\n  File \"/tensorflow-1.15.2/python3.6/tensorflow_core/python/ops/gen_array_ops.py\", line 4239, in identity\n    \"Identity\", input=input, name=name)\n  File \"/tensorflow-1.15.2/python3.6/tensorflow_core/python/framework/op_def_library.py\", line 794, in _apply_op_helper\n    op_def=op_def)\n  File \"/tensorflow-1.15.2/python3.6/tensorflow_core/python/util/deprecation.py\", line 507, in new_func\n    return func(*args, **kwargs)\n  File \"/tensorflow-1.15.2/python3.6/tensorflow_core/python/framework/ops.py\", line 3357, in create_op\n    attrs, op_def, compute_device)\n  File \"/tensorflow-1.15.2/python3.6/tensorflow_core/python/framework/ops.py\", line 3426, in _create_op_internal\n    op_def=op_def)\n  File \"/tensorflow-1.15.2/python3.6/tensorflow_core/python/framework/ops.py\", line 1748, in __init__\n    self._traceback = tf_stack.extract_stack()\n"
     ]
    }
   ],
   "source": [
    "#\n",
    "# WARNING: you will get an error from this cell. This is normal and is designed\n",
    "# to return an error. Continue to read below for the explanation.\n",
    "#\n",
    "sess = tf.Session()\n",
    "print(sess.run(z))"
   ]
  },
  {
   "cell_type": "markdown",
   "metadata": {
    "id": "Stm5RKNtohj-"
   },
   "source": [
    "The error message is normal... First you have to initialize the variables in tensorflow! Tensorflow ***does not automatically initialize the variables***."
   ]
  },
  {
   "cell_type": "code",
   "execution_count": null,
   "metadata": {
    "colab": {
     "base_uri": "https://localhost:8080/",
     "height": 35
    },
    "executionInfo": {
     "elapsed": 812,
     "status": "ok",
     "timestamp": 1603896166216,
     "user": {
      "displayName": "Umberto Michelucci",
      "photoUrl": "https://lh3.googleusercontent.com/a-/AOh14Ggrkq7MAw6QQDY8sxIXNAo8wGBCTJXUym30fmVK=s64",
      "userId": "10493425851464515093"
     },
     "user_tz": -60
    },
    "id": "Gxr1I9Mpohj-",
    "outputId": "7b6e2dad-04c9-4d4c-ab36-a8f7fdc86ebe"
   },
   "outputs": [
    {
     "name": "stdout",
     "output_type": "stream",
     "text": [
      "3\n"
     ]
    }
   ],
   "source": [
    "sess.run(x1.initializer)\n",
    "sess.run(x2.initializer)\n",
    "print(sess.run(z))"
   ]
  },
  {
   "cell_type": "code",
   "execution_count": null,
   "metadata": {
    "id": "Lsa2JjxlohkA"
   },
   "outputs": [],
   "source": [
    "init = tf.global_variables_initializer()"
   ]
  },
  {
   "cell_type": "code",
   "execution_count": null,
   "metadata": {
    "colab": {
     "base_uri": "https://localhost:8080/",
     "height": 35
    },
    "executionInfo": {
     "elapsed": 686,
     "status": "ok",
     "timestamp": 1603896207418,
     "user": {
      "displayName": "Umberto Michelucci",
      "photoUrl": "https://lh3.googleusercontent.com/a-/AOh14Ggrkq7MAw6QQDY8sxIXNAo8wGBCTJXUym30fmVK=s64",
      "userId": "10493425851464515093"
     },
     "user_tz": -60
    },
    "id": "hmtrJaL-ohkC",
    "outputId": "df4fa22d-bf63-44e5-f7ad-af0d1e9e1b61"
   },
   "outputs": [
    {
     "name": "stdout",
     "output_type": "stream",
     "text": [
      "3\n"
     ]
    }
   ],
   "source": [
    "sess.run(init)\n",
    "print(sess.run(z))"
   ]
  },
  {
   "cell_type": "code",
   "execution_count": null,
   "metadata": {
    "id": "t_hoagBEohkE"
   },
   "outputs": [],
   "source": [
    "sess.close()"
   ]
  },
  {
   "cell_type": "markdown",
   "metadata": {
    "id": "Bik9n6ynohkG"
   },
   "source": [
    "## Graph with ```tf.placeholder```"
   ]
  },
  {
   "cell_type": "code",
   "execution_count": null,
   "metadata": {
    "id": "egW-fmENohkH"
   },
   "outputs": [],
   "source": [
    "x1 = tf.placeholder(tf.float32, 1)\n",
    "x2 = tf.placeholder(tf.float32, 1)"
   ]
  },
  {
   "cell_type": "markdown",
   "metadata": {
    "id": "PqRi8W1aohkJ"
   },
   "source": [
    "Note that in this declaration no values were passed. The \"1\" is the dimension of the placeholder, in this case a scalar!"
   ]
  },
  {
   "cell_type": "code",
   "execution_count": null,
   "metadata": {
    "id": "qpV2e93IohkJ"
   },
   "outputs": [],
   "source": [
    "z = tf.add(x1, x2)"
   ]
  },
  {
   "cell_type": "code",
   "execution_count": null,
   "metadata": {
    "colab": {
     "base_uri": "https://localhost:8080/",
     "height": 35
    },
    "executionInfo": {
     "elapsed": 767,
     "status": "ok",
     "timestamp": 1603896214734,
     "user": {
      "displayName": "Umberto Michelucci",
      "photoUrl": "https://lh3.googleusercontent.com/a-/AOh14Ggrkq7MAw6QQDY8sxIXNAo8wGBCTJXUym30fmVK=s64",
      "userId": "10493425851464515093"
     },
     "user_tz": -60
    },
    "id": "5QpotcKgohkL",
    "outputId": "f006c967-0923-4d7a-fcd3-e941e4055753"
   },
   "outputs": [
    {
     "name": "stdout",
     "output_type": "stream",
     "text": [
      "Tensor(\"Add_2:0\", shape=(1,), dtype=float32)\n"
     ]
    }
   ],
   "source": [
    "print(z)"
   ]
  },
  {
   "cell_type": "code",
   "execution_count": null,
   "metadata": {
    "id": "EYj_o2eyohkN"
   },
   "outputs": [],
   "source": [
    "sess = tf.Session()"
   ]
  },
  {
   "cell_type": "code",
   "execution_count": null,
   "metadata": {
    "colab": {
     "base_uri": "https://localhost:8080/",
     "height": 35
    },
    "executionInfo": {
     "elapsed": 669,
     "status": "ok",
     "timestamp": 1603896217426,
     "user": {
      "displayName": "Umberto Michelucci",
      "photoUrl": "https://lh3.googleusercontent.com/a-/AOh14Ggrkq7MAw6QQDY8sxIXNAo8wGBCTJXUym30fmVK=s64",
      "userId": "10493425851464515093"
     },
     "user_tz": -60
    },
    "id": "JxhZuvi1ohkP",
    "outputId": "5503f454-74c3-45f4-8fec-0233037f9c6d"
   },
   "outputs": [
    {
     "name": "stdout",
     "output_type": "stream",
     "text": [
      "[3.]\n"
     ]
    }
   ],
   "source": [
    "feed_dict = {x1: [1], x2:[2]}\n",
    "print(sess.run(z, feed_dict))"
   ]
  },
  {
   "cell_type": "code",
   "execution_count": null,
   "metadata": {
    "id": "q-_dH-YLohkR"
   },
   "outputs": [],
   "source": [
    "sess.close()"
   ]
  },
  {
   "cell_type": "markdown",
   "metadata": {
    "id": "5ciYyHm-ohkT"
   },
   "source": [
    "Now we can also use vectors as input, to show that we don't need to deal only with scalars"
   ]
  },
  {
   "cell_type": "code",
   "execution_count": null,
   "metadata": {
    "colab": {
     "base_uri": "https://localhost:8080/",
     "height": 35
    },
    "executionInfo": {
     "elapsed": 742,
     "status": "ok",
     "timestamp": 1603896219672,
     "user": {
      "displayName": "Umberto Michelucci",
      "photoUrl": "https://lh3.googleusercontent.com/a-/AOh14Ggrkq7MAw6QQDY8sxIXNAo8wGBCTJXUym30fmVK=s64",
      "userId": "10493425851464515093"
     },
     "user_tz": -60
    },
    "id": "xkKAPOE9ohkT",
    "outputId": "681ce8d1-77cb-46d3-edef-abaa0ad3a1f9"
   },
   "outputs": [
    {
     "data": {
      "text/plain": [
       "array([2., 6.], dtype=float32)"
      ]
     },
     "execution_count": 23,
     "metadata": {
      "tags": []
     },
     "output_type": "execute_result"
    }
   ],
   "source": [
    "x1 = tf.placeholder(tf.float32, [2])\n",
    "x2 = tf.placeholder(tf.float32, [2])\n",
    "\n",
    "z = tf.add(x1,x2)\n",
    "feed_dict = {x1: [1,5], x2:[1,1]}\n",
    "\n",
    "sess = tf.Session()\n",
    "sess.run(z, feed_dict)"
   ]
  },
  {
   "cell_type": "markdown",
   "metadata": {
    "id": "3c5bBs06ohkV"
   },
   "source": [
    "## Exercises"
   ]
  },
  {
   "cell_type": "markdown",
   "metadata": {
    "id": "N-KZ8tM1ohkW"
   },
   "source": [
    "### Exercise 1 (Difficulty: easy)"
   ]
  },
  {
   "cell_type": "markdown",
   "metadata": {
    "id": "Kp8ynhs0ohkW"
   },
   "source": [
    "Draw and develop in tensorflow with ```tf.constant``` the computational graphs for the following operations\n",
    "\n",
    "A) ```w1*x1+w2*x2+x1*x1```\n",
    "\n",
    "B) ```A*x1+3+x2/2```\n",
    "\n",
    "Use as input values ```x1 = 5``` and ```x2 = 6```"
   ]
  },
  {
   "cell_type": "markdown",
   "metadata": {
    "id": "LK-FBsk8ohkX"
   },
   "source": [
    "### Exercise 2 (Difficulty: medium)"
   ]
  },
  {
   "cell_type": "markdown",
   "metadata": {
    "id": "6QfOnTeFohkX"
   },
   "source": [
    "Draw and develop in tensorflow with ```tf.Variable``` the computational graph for the following operation ```A*(w1*x1+w2*x2)```\n",
    "\n",
    "build the computational graph and then evaluate it two times (without re-building it) with the initial values in the same session\n",
    "\n",
    "A) ```x1 = 3, x2 = 4```\n",
    "\n",
    "B) ```x1 = 5, x2 = 7```"
   ]
  },
  {
   "cell_type": "markdown",
   "metadata": {
    "id": "pAcj3tBwohkX"
   },
   "source": [
    "### Exercise 3 (Difficulty: FUN)"
   ]
  },
  {
   "cell_type": "markdown",
   "metadata": {
    "id": "zozhYZidohkY"
   },
   "source": [
    "Consider two vectors\n",
    "\n",
    "``` x1 = [1,2,3,4,5],  x2 = [6,7,8,9,10]```\n",
    "\n",
    "draw and build in tensorflow the computational graph for the dot-product operation between the two vectors. If you don't know what a dot-product is you can check it here (we covered that in our introductory week) [](https://en.wikipedia.org/wiki/Dot_product).\n",
    "\n",
    "Build it in two different ways:\n",
    "\n",
    "A) Do it with loops. Build a computational graph that takes as input scalars and in the session/evaluation phase build a loop to go over all the inputs and then sums the results\n",
    "\n",
    "B) Do it in one shot with tensorflow. Build a computational graph that takes as input vectors and do the entire operation directly in tensorflow. \n",
    "\n",
    "Hint: you can use in tensorflow two methods: ```tf.reduce_sum(tf.multiply(x1, x2))``` or ```tf.matmul(x1, tf.reshape(x2, [-1, 1]))```. Try to understand why they work checking the official documentation."
   ]
  },
  {
   "cell_type": "markdown",
   "metadata": {
    "id": "ZriKCQfjohkZ"
   },
   "source": [
    "## Difference between ```run``` and ```eval```"
   ]
  },
  {
   "cell_type": "markdown",
   "metadata": {
    "id": "xjVNZKZ6ohkZ"
   },
   "source": [
    "Consider the following code"
   ]
  },
  {
   "cell_type": "code",
   "execution_count": null,
   "metadata": {
    "colab": {
     "base_uri": "https://localhost:8080/",
     "height": 35
    },
    "executionInfo": {
     "elapsed": 812,
     "status": "ok",
     "timestamp": 1603896234437,
     "user": {
      "displayName": "Umberto Michelucci",
      "photoUrl": "https://lh3.googleusercontent.com/a-/AOh14Ggrkq7MAw6QQDY8sxIXNAo8wGBCTJXUym30fmVK=s64",
      "userId": "10493425851464515093"
     },
     "user_tz": -60
    },
    "id": "tZZpKU-Oohka",
    "outputId": "12e774e0-3d19-408a-8d77-4f1a75734137"
   },
   "outputs": [
    {
     "data": {
      "text/plain": [
       "3"
      ]
     },
     "execution_count": 24,
     "metadata": {
      "tags": []
     },
     "output_type": "execute_result"
    }
   ],
   "source": [
    "x1 = tf.constant(1)\n",
    "x2 = tf.constant(2)\n",
    "z = tf.add(x1, x2)\n",
    "init = tf.global_variables_initializer()\n",
    "sess = tf.Session()\n",
    "sess.run(init)\n",
    "sess.run(z)"
   ]
  },
  {
   "cell_type": "markdown",
   "metadata": {
    "id": "5qbWfl6Qohkc"
   },
   "source": [
    "You can evaluate more nodes at the same time"
   ]
  },
  {
   "cell_type": "code",
   "execution_count": null,
   "metadata": {
    "colab": {
     "base_uri": "https://localhost:8080/",
     "height": 35
    },
    "executionInfo": {
     "elapsed": 680,
     "status": "ok",
     "timestamp": 1603896235553,
     "user": {
      "displayName": "Umberto Michelucci",
      "photoUrl": "https://lh3.googleusercontent.com/a-/AOh14Ggrkq7MAw6QQDY8sxIXNAo8wGBCTJXUym30fmVK=s64",
      "userId": "10493425851464515093"
     },
     "user_tz": -60
    },
    "id": "tyFXnmyfohkc",
    "outputId": "358af9b5-99c3-4b9c-a255-8a600b955ee0"
   },
   "outputs": [
    {
     "data": {
      "text/plain": [
       "[1, 2, 3]"
      ]
     },
     "execution_count": 25,
     "metadata": {
      "tags": []
     },
     "output_type": "execute_result"
    }
   ],
   "source": [
    "sess.run([x1,x2,z])"
   ]
  },
  {
   "cell_type": "markdown",
   "metadata": {
    "id": "OJS20wZSohke"
   },
   "source": [
    "You can also use the ```eval()``` method to evaluate nodes, but you have to provide the session name"
   ]
  },
  {
   "cell_type": "code",
   "execution_count": null,
   "metadata": {
    "colab": {
     "base_uri": "https://localhost:8080/",
     "height": 35
    },
    "executionInfo": {
     "elapsed": 1000,
     "status": "ok",
     "timestamp": 1603896238525,
     "user": {
      "displayName": "Umberto Michelucci",
      "photoUrl": "https://lh3.googleusercontent.com/a-/AOh14Ggrkq7MAw6QQDY8sxIXNAo8wGBCTJXUym30fmVK=s64",
      "userId": "10493425851464515093"
     },
     "user_tz": -60
    },
    "id": "c2GUaFXKohke",
    "outputId": "265912b1-02de-4871-f81a-2ce67013528a"
   },
   "outputs": [
    {
     "data": {
      "text/plain": [
       "3"
      ]
     },
     "execution_count": 26,
     "metadata": {
      "tags": []
     },
     "output_type": "execute_result"
    }
   ],
   "source": [
    "z.eval(session = sess)"
   ]
  },
  {
   "cell_type": "markdown",
   "metadata": {
    "id": "LrCvuomvohkh"
   },
   "source": [
    "## Dependencies between Nodes"
   ]
  },
  {
   "cell_type": "markdown",
   "metadata": {
    "id": "Di7d-Nszohki"
   },
   "source": [
    "Sometime tensorflow may evaluate some nodes multiple times. Pay attention. Consider the following code"
   ]
  },
  {
   "cell_type": "code",
   "execution_count": null,
   "metadata": {
    "colab": {
     "base_uri": "https://localhost:8080/",
     "height": 53
    },
    "executionInfo": {
     "elapsed": 919,
     "status": "ok",
     "timestamp": 1603896241841,
     "user": {
      "displayName": "Umberto Michelucci",
      "photoUrl": "https://lh3.googleusercontent.com/a-/AOh14Ggrkq7MAw6QQDY8sxIXNAo8wGBCTJXUym30fmVK=s64",
      "userId": "10493425851464515093"
     },
     "user_tz": -60
    },
    "id": "g3X7qI73ohki",
    "outputId": "efee4ae3-01b1-4359-bf28-b2de4be8c468"
   },
   "outputs": [
    {
     "name": "stdout",
     "output_type": "stream",
     "text": [
      "y is 7\n",
      "z is 8\n"
     ]
    }
   ],
   "source": [
    "c = tf.constant(5)\n",
    "x = c + 1\n",
    "y = x + 1\n",
    "z = x + 2\n",
    "sess = tf.Session()\n",
    "print('y is',sess.run(y))\n",
    "print('z is',sess.run(z))\n",
    "sess.close()"
   ]
  },
  {
   "cell_type": "markdown",
   "metadata": {
    "id": "JET0WLZKohkk"
   },
   "source": [
    "here ```x``` is evaluated twice! You can do it like this"
   ]
  },
  {
   "cell_type": "code",
   "execution_count": null,
   "metadata": {
    "colab": {
     "base_uri": "https://localhost:8080/",
     "height": 35
    },
    "executionInfo": {
     "elapsed": 470,
     "status": "ok",
     "timestamp": 1603896241842,
     "user": {
      "displayName": "Umberto Michelucci",
      "photoUrl": "https://lh3.googleusercontent.com/a-/AOh14Ggrkq7MAw6QQDY8sxIXNAo8wGBCTJXUym30fmVK=s64",
      "userId": "10493425851464515093"
     },
     "user_tz": -60
    },
    "id": "wYuZMLlCohkk",
    "outputId": "62900b3d-9e79-4381-b888-2f351e86629d"
   },
   "outputs": [
    {
     "name": "stdout",
     "output_type": "stream",
     "text": [
      "y,z are [7, 8]\n"
     ]
    }
   ],
   "source": [
    "c = tf.constant(5)\n",
    "x = c + 1\n",
    "y = x + 1\n",
    "z = x + 2\n",
    "sess = tf.Session()\n",
    "print('y,z are',sess.run([y,z]))\n",
    "sess.close()"
   ]
  },
  {
   "cell_type": "markdown",
   "metadata": {
    "id": "ieLnNrsMohkm"
   },
   "source": [
    "now ```x``` is evaluated only once."
   ]
  },
  {
   "cell_type": "markdown",
   "metadata": {
    "id": "6N0JZm3Eohkn"
   },
   "source": [
    "## How to close a session"
   ]
  },
  {
   "cell_type": "markdown",
   "metadata": {
    "id": "1h-USxU3ohkn"
   },
   "source": [
    "You can close a session in this way"
   ]
  },
  {
   "cell_type": "code",
   "execution_count": null,
   "metadata": {
    "id": "14XLo2sJohko"
   },
   "outputs": [],
   "source": [
    "sess = tf.Session()\n",
    "# Do something here\n",
    "sess.close()"
   ]
  },
  {
   "cell_type": "markdown",
   "metadata": {
    "id": "4yXhpiKOohkp"
   },
   "source": [
    "You can also do it in this way"
   ]
  },
  {
   "cell_type": "code",
   "execution_count": null,
   "metadata": {
    "id": "8jZed9Xjohkp"
   },
   "outputs": [],
   "source": [
    "with tf.Session() as sess:\n",
    "    # Do something here"
   ]
  },
  {
   "cell_type": "markdown",
   "metadata": {
    "id": "ePt6uBR8ohkr"
   },
   "source": [
    "you need some code to avoid the error. Consider the following code"
   ]
  },
  {
   "cell_type": "code",
   "execution_count": null,
   "metadata": {
    "colab": {
     "base_uri": "https://localhost:8080/",
     "height": 53
    },
    "executionInfo": {
     "elapsed": 923,
     "status": "ok",
     "timestamp": 1603896256472,
     "user": {
      "displayName": "Umberto Michelucci",
      "photoUrl": "https://lh3.googleusercontent.com/a-/AOh14Ggrkq7MAw6QQDY8sxIXNAo8wGBCTJXUym30fmVK=s64",
      "userId": "10493425851464515093"
     },
     "user_tz": -60
    },
    "id": "Pp6j7N9uohks",
    "outputId": "c2322dc9-114c-47a7-802c-90d6ae27fb0d"
   },
   "outputs": [
    {
     "name": "stdout",
     "output_type": "stream",
     "text": [
      "y is 7\n",
      "z is 8\n"
     ]
    }
   ],
   "source": [
    "c = tf.constant(5)\n",
    "x = c + 1\n",
    "y = x + 1\n",
    "z = x + 2\n",
    "sess = tf.Session()\n",
    "print('y is',sess.run(y))\n",
    "print('z is',sess.run(z))\n",
    "sess.close()"
   ]
  },
  {
   "cell_type": "markdown",
   "metadata": {
    "id": "21oXDaXpohku"
   },
   "source": [
    "this can also be written as the following"
   ]
  },
  {
   "cell_type": "code",
   "execution_count": null,
   "metadata": {
    "colab": {
     "base_uri": "https://localhost:8080/",
     "height": 53
    },
    "executionInfo": {
     "elapsed": 816,
     "status": "ok",
     "timestamp": 1603896258910,
     "user": {
      "displayName": "Umberto Michelucci",
      "photoUrl": "https://lh3.googleusercontent.com/a-/AOh14Ggrkq7MAw6QQDY8sxIXNAo8wGBCTJXUym30fmVK=s64",
      "userId": "10493425851464515093"
     },
     "user_tz": -60
    },
    "id": "sTguVnLGohkv",
    "outputId": "5a506b7a-3216-4970-a241-dd528d10a8b1"
   },
   "outputs": [
    {
     "name": "stdout",
     "output_type": "stream",
     "text": [
      "y is 7\n",
      "z is 8\n"
     ]
    }
   ],
   "source": [
    "c = tf.constant(5)\n",
    "x = c + 1\n",
    "y = x + 1\n",
    "z = x + 2\n",
    "with tf.Session() as sess:\n",
    "    print('y is',sess.run(y))\n",
    "    print('z is',sess.run(z))"
   ]
  },
  {
   "cell_type": "markdown",
   "metadata": {
    "id": "G2GUcBKIohkw"
   },
   "source": [
    "Now you don't need to close the session explicitly. Is done for you."
   ]
  },
  {
   "cell_type": "markdown",
   "metadata": {
    "id": "nXS8F5iLohkx"
   },
   "source": [
    "## Exercises"
   ]
  },
  {
   "cell_type": "markdown",
   "metadata": {
    "id": "IIX0Hu5dohkx"
   },
   "source": [
    "### Exercise 4 (Difficulty: medium)"
   ]
  },
  {
   "cell_type": "markdown",
   "metadata": {
    "id": "C2DpXUgbohkx"
   },
   "source": [
    "Write a function that build a computational graph for the operation ```x1+x2``` where the input ```x1``` and ```x2``` are input with given dimensions. Your ```x1``` and ```x2``` should be declared as ```tf.placeholder```. \n",
    "Your functions should accept as input:\n",
    "\n",
    "- dimensions of ```x1``` as list, for example ```[3]```\n",
    "- dimensions of ```x2``` as list, for example ```[3]```\n",
    "\n",
    "The function should return a tensor ```z = x1 + x2```. \n",
    "Then open a session and evaluate ```z``` with the following inputs:\n",
    "\n",
    "- ```x1 = [4,6,7], x2 = [1,2,9]```\n",
    "- ```x1 = [1,2,....., 1000], x2 = [10001, 10002, ...., 11000]```\n",
    "\n",
    "and print the result."
   ]
  },
  {
   "cell_type": "markdown",
   "metadata": {
    "id": "TM1EQDlAohky"
   },
   "source": [
    "### Exercise 5 (Difficult: FUN)"
   ]
  },
  {
   "cell_type": "markdown",
   "metadata": {
    "id": "DgESCvM0ohky"
   },
   "source": [
    "### Linear Regression with tensorflow"
   ]
  },
  {
   "cell_type": "markdown",
   "metadata": {
    "id": "ZCvT4pjLohkz"
   },
   "source": [
    "https://onlinecourses.science.psu.edu/stat501/node/382/"
   ]
  },
  {
   "cell_type": "markdown",
   "metadata": {
    "id": "gHJqYJqTohkz"
   },
   "source": [
    "Consider the following dataset"
   ]
  },
  {
   "cell_type": "code",
   "execution_count": null,
   "metadata": {
    "id": "MkfWMNF0ohkz"
   },
   "outputs": [],
   "source": [
    "x = [4.0, 4.5, 5.0, 5.5, 6.0, 6.5, 7.0]\n",
    "y = [33, 42, 45, 51, 53, 61, 62]"
   ]
  },
  {
   "cell_type": "markdown",
   "metadata": {
    "id": "clVT3G54ohk1"
   },
   "source": [
    "We want to find the best parameters $p_0$ and $p_1$ that minimise the MSE (mean squared error) for the data given, in other words we want to do a linear regression on the data $(x,y)$. Given that a matrix solution to find the best parameter is\n",
    "\n",
    "$$\n",
    "{\\bf p} =(X^TX)^{-1} X^T Y\n",
    "$$\n",
    "\n",
    "where $X^T$ is the transpose of the matrix $X$. The matrix $X$ is defined as\n",
    "\n",
    "$$\n",
    "X = \n",
    "\\begin{bmatrix}\n",
    "1 & x_1  \\\\\n",
    "... &  ...  \\\\\n",
    "1 &  x_n \n",
    "\\end{bmatrix}\n",
    "$$\n",
    "\n",
    "The matrix $Y$ is simply a matrix $n\\times 1$ containing the values $y_i$.\n",
    "\n",
    "dimensions are:\n",
    "\n",
    "- $X$ has dimensions $n\\times 2$\n",
    "- $Y$ has dimensions $n\\times 1$\n",
    "- ${\\bf p}$ has dimensions $2\\times 1$"
   ]
  },
  {
   "cell_type": "markdown",
   "metadata": {
    "id": "Yn4xIRsPohk1"
   },
   "source": [
    "Build a computational graph that evaluates $\\bf p$ as given above, given the matrices $X$ and $Y$. Note you will have to build the matrices from the data given at the beginning. If you need more information a beatifully long explanation can be found here https://onlinecourses.science.psu.edu/stat501/node/382/"
   ]
  }
 ],
 "metadata": {
  "colab": {
   "collapsed_sections": [],
   "name": "Computational Graphs Exercises.ipynb",
   "provenance": [
    {
     "file_id": "https://github.com/Apress/applied-deep-learning/blob/master/Chapter%201%20-%20Computational%20graphs/Chapter%201%20-%20Computational%20Graphs.ipynb",
     "timestamp": 1603895718242
    }
   ],
   "toc_visible": true
  },
  "kernelspec": {
   "display_name": "Python 3",
   "language": "python",
   "name": "python3"
  },
  "language_info": {
   "codemirror_mode": {
    "name": "ipython",
    "version": 3
   },
   "file_extension": ".py",
   "mimetype": "text/x-python",
   "name": "python",
   "nbconvert_exporter": "python",
   "pygments_lexer": "ipython3",
   "version": "3.6.3"
  }
 },
 "nbformat": 4,
 "nbformat_minor": 0
}