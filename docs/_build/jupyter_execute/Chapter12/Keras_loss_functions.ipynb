{
 "cells": [
  {
   "cell_type": "markdown",
   "metadata": {
    "id": "uSuXUMIVmhgo"
   },
   "source": [
    "# Keras Loss Functions\n",
    "\n",
    "Version 1.0"
   ]
  },
  {
   "cell_type": "markdown",
   "metadata": {
    "id": "tJo_NK-nmqCf"
   },
   "source": [
    "(C) 2020 - Umberto Michelucci, Michela Sperti\n",
    "\n",
    "This notebook is part of the book _Applied Deep Learning: a case based approach, **2nd edition**_ from APRESS by [U. Michelucci](mailto:umberto.michelucci@toelt.ai) and [M. Sperti](mailto:michela.sperti@toelt.ai)."
   ]
  },
  {
   "cell_type": "markdown",
   "metadata": {
    "id": "31wfEV06mtro"
   },
   "source": [
    "The purpose of this notebook is ... ."
   ]
  },
  {
   "cell_type": "markdown",
   "metadata": {
    "id": "V2wkdTiVmy1F"
   },
   "source": [
    "## Notebook Learning Goals"
   ]
  },
  {
   "cell_type": "markdown",
   "metadata": {
    "id": "6pqNL9dfm4Uj"
   },
   "source": [
    "At the end of the notebook you are going to ... . Moreover, you will have learnt ... ."
   ]
  },
  {
   "cell_type": "markdown",
   "metadata": {
    "id": "_KpgX4W8nCd8"
   },
   "source": [
    "## Exercises"
   ]
  },
  {
   "cell_type": "markdown",
   "metadata": {
    "id": "3J38NJG0nQRB"
   },
   "source": [
    "1. [*Easy Difficulty*] ...\n",
    "2. [*Medium Difficulty*]\n",
    "3. [*Hard Difficulty*]"
   ]
  },
  {
   "cell_type": "markdown",
   "metadata": {
    "id": "Jlnfe37YnFtS"
   },
   "source": [
    "## References"
   ]
  },
  {
   "cell_type": "markdown",
   "metadata": {
    "id": "UYE_8ognncsi"
   },
   "source": [
    "1. ...\n",
    "2. ..."
   ]
  },
  {
   "cell_type": "markdown",
   "metadata": {
    "id": "mDgjWwv5nHwH"
   },
   "source": [
    "## Further Readings"
   ]
  },
  {
   "cell_type": "markdown",
   "metadata": {
    "id": "OTbDJqUjnFvl"
   },
   "source": []
  },
  {
   "cell_type": "code",
   "execution_count": null,
   "metadata": {
    "id": "4XLbzXl-lBTq"
   },
   "outputs": [],
   "source": []
  }
 ],
 "metadata": {
  "colab": {
   "authorship_tag": "ABX9TyN+3MDmCUNSGafM7NWlgtep",
   "collapsed_sections": [],
   "name": "Keras_loss_functions.ipynb",
   "provenance": [],
   "toc_visible": true
  },
  "kernelspec": {
   "display_name": "Python 3",
   "name": "python3"
  }
 },
 "nbformat": 4,
 "nbformat_minor": 0
}