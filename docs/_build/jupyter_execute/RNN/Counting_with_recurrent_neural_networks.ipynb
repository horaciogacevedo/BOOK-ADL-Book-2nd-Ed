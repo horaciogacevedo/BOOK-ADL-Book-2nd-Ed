{
 "cells": [
  {
   "cell_type": "markdown",
   "metadata": {
    "id": "uSuXUMIVmhgo"
   },
   "source": [
    "# Counting with Recurrent Neural Networks\n",
    "\n",
    "Version 1.0"
   ]
  },
  {
   "cell_type": "markdown",
   "metadata": {
    "id": "tJo_NK-nmqCf"
   },
   "source": [
    "(C) 2020 - Umberto Michelucci, Michela Sperti\n",
    "\n",
    "This notebook is part of the book _Applied Deep Learning: a case based approach, **2nd edition**_ from APRESS by [U. Michelucci](mailto:umberto.michelucci@toelt.ai) and [M. Sperti](mailto:michela.sperti@toelt.ai)."
   ]
  },
  {
   "cell_type": "markdown",
   "metadata": {
    "id": "31wfEV06mtro"
   },
   "source": [
    "The purpose of this notebook is to give you a very simple example of application of Recurrent Neural Networks (RNNs) and specifically a RNN which is able to count how many 1s there are in a vector containing both 0s and 1s."
   ]
  },
  {
   "cell_type": "markdown",
   "metadata": {
    "id": "V2wkdTiVmy1F"
   },
   "source": [
    "## Notebook Learning Goals"
   ]
  },
  {
   "cell_type": "markdown",
   "metadata": {
    "id": "6pqNL9dfm4Uj"
   },
   "source": [
    "At the end of the notebook you are going to know which is the most basic structure of a RNN. Moreover, you will be able to apply it in other similar problems that you may encounter further."
   ]
  },
  {
   "cell_type": "markdown",
   "metadata": {
    "id": "tyZX89NQS1nd"
   },
   "source": [
    "## Libraries Import"
   ]
  },
  {
   "cell_type": "code",
   "execution_count": null,
   "metadata": {
    "id": "_zVC1Mw5hOO4"
   },
   "outputs": [],
   "source": [
    "import numpy as np\n",
    "import tensorflow as tf\n",
    "from random import shuffle\n",
    "from tensorflow import keras\n",
    "from tensorflow.keras import layers"
   ]
  },
  {
   "cell_type": "markdown",
   "metadata": {
    "id": "QGHVPAV7UBbR"
   },
   "source": [
    "We will now create $10^5$ vectors made of 15 elements each, containing only 1 and 0 values. \n",
    "\n",
    "We want to have all possible combination of 1 and 0. An easy way to do this is by taking all numbers up to $2^{15}$ in binary format. To understand why, consider the following simpler example, in which we will generate every possible combination of four 0 and 1, so we will consider every number up to $2^4$."
   ]
  },
  {
   "cell_type": "markdown",
   "metadata": {
    "id": "AwJMUgCbqRbo"
   },
   "source": [
    "## Explanation of Data Preparation"
   ]
  },
  {
   "cell_type": "code",
   "execution_count": null,
   "metadata": {
    "colab": {
     "base_uri": "https://localhost:8080/"
    },
    "executionInfo": {
     "elapsed": 16,
     "status": "ok",
     "timestamp": 1627381419477,
     "user": {
      "displayName": "Michela Sperti",
      "photoUrl": "https://lh3.googleusercontent.com/a-/AOh14Gh7mD9r-1Xj0Qve63ZPZx9UHRv0PkVhL5ayiHNv=s64",
      "userId": "13210266879998244642"
     },
     "user_tz": -120
    },
    "id": "gVICti0HjTJC",
    "outputId": "4116d3ae-5398-424b-f57e-3d0c0c8339fb"
   },
   "outputs": [
    {
     "data": {
      "text/plain": [
       "['0000',\n",
       " '0001',\n",
       " '0010',\n",
       " '0011',\n",
       " '0100',\n",
       " '0101',\n",
       " '0110',\n",
       " '0111',\n",
       " '1000',\n",
       " '1001',\n",
       " '1010',\n",
       " '1011',\n",
       " '1100',\n",
       " '1101',\n",
       " '1110',\n",
       " '1111']"
      ]
     },
     "execution_count": 2,
     "metadata": {
      "tags": []
     },
     "output_type": "execute_result"
    }
   ],
   "source": [
    " ['{0:04b}'.format(i) for i in range(2**4)]"
   ]
  },
  {
   "cell_type": "markdown",
   "metadata": {
    "id": "jmC2qZZDVfUt"
   },
   "source": [
    "The above code simply format all numbers that you get with the `range(2**4)` function from 0 to `2**4` in binary format with `{0:04b}`, limiting the number of digits to 4. \n",
    "\n",
    "For our example we will simply do it with 15 digits, that means we will do it with numbers up to `2**15`. "
   ]
  },
  {
   "cell_type": "markdown",
   "metadata": {
    "id": "JD66vTvCgNkh"
   },
   "source": [
    "## Data Preparation"
   ]
  },
  {
   "cell_type": "code",
   "execution_count": null,
   "metadata": {
    "id": "7TlEPUZgrqM8"
   },
   "outputs": [],
   "source": [
    "nn = 15\n",
    "ll = 2**15"
   ]
  },
  {
   "cell_type": "code",
   "execution_count": null,
   "metadata": {
    "id": "SF79OU2JWrt3"
   },
   "outputs": [],
   "source": [
    "train_input = ['{0:015b}'.format(i) for i in range(ll)] # consider every number up to 2^15 in binary format\n",
    "shuffle(train_input) # shuffle inputs\n",
    "train_input = [map(int, i) for i in train_input]"
   ]
  },
  {
   "cell_type": "code",
   "execution_count": null,
   "metadata": {
    "id": "dQcWwuGhhXuz"
   },
   "outputs": [],
   "source": [
    "ti  = []\n",
    "for i in train_input:\n",
    "  temp_list = []\n",
    "  for j in i:\n",
    "    temp_list.append([j])\n",
    "  ti.append(np.array(temp_list))\n",
    "train_input = ti"
   ]
  },
  {
   "cell_type": "markdown",
   "metadata": {
    "id": "OCO6qMEjdhbI"
   },
   "source": [
    "The code above is there to simply transform a string like '0100' in a list [0,1,0,0] and then concatenate all the lists with all the possible combinations."
   ]
  },
  {
   "cell_type": "markdown",
   "metadata": {
    "id": "HZiA95c6dzew"
   },
   "source": [
    "Then we prepare the target variable, a one-hot encoded version of the counts. That means that if we have an input with four 1s in the vector our target vector will look like `[0,0,0,0,1,0,0,0,0,0,0,0,0,0,0,0]`."
   ]
  },
  {
   "cell_type": "markdown",
   "metadata": {
    "id": "qaMhNXvjgQko"
   },
   "source": [
    "## Targets Preparation"
   ]
  },
  {
   "cell_type": "code",
   "execution_count": null,
   "metadata": {
    "id": "3B56qyZdqoO_"
   },
   "outputs": [],
   "source": [
    "train_output = []\n",
    " \n",
    "for i in train_input:\n",
    "    count = 0\n",
    "    for j in i:\n",
    "        if j[0] == 1:\n",
    "            count += 1\n",
    "    temp_list = ([0]*(nn + 1))\n",
    "    temp_list[count] = 1\n",
    "    train_output.append(temp_list)"
   ]
  },
  {
   "cell_type": "markdown",
   "metadata": {
    "id": "T2E9L1hWd_Qa"
   },
   "source": [
    "## Dataset Splitting"
   ]
  },
  {
   "cell_type": "code",
   "execution_count": null,
   "metadata": {
    "id": "W6FSQJB8qtqg"
   },
   "outputs": [],
   "source": [
    "NUM_EXAMPLES = ll - 2000\n",
    "test_input = train_input[NUM_EXAMPLES:]\n",
    "test_output = train_output[NUM_EXAMPLES:] # everything beyond 10,000\n",
    " \n",
    "train_input = train_input[:NUM_EXAMPLES]\n",
    "train_output = train_output[:NUM_EXAMPLES] # till 10,000"
   ]
  },
  {
   "cell_type": "markdown",
   "metadata": {
    "id": "HiYaloc3eHpJ"
   },
   "source": [
    "## Network Building"
   ]
  },
  {
   "cell_type": "code",
   "execution_count": null,
   "metadata": {
    "colab": {
     "base_uri": "https://localhost:8080/"
    },
    "executionInfo": {
     "elapsed": 446,
     "status": "ok",
     "timestamp": 1627381421203,
     "user": {
      "displayName": "Michela Sperti",
      "photoUrl": "https://lh3.googleusercontent.com/a-/AOh14Gh7mD9r-1Xj0Qve63ZPZx9UHRv0PkVhL5ayiHNv=s64",
      "userId": "13210266879998244642"
     },
     "user_tz": -120
    },
    "id": "v3tz7gXZmTue",
    "outputId": "17d2cab7-0a81-49fc-abe4-3b4254167150"
   },
   "outputs": [
    {
     "name": "stdout",
     "output_type": "stream",
     "text": [
      "Model: \"sequential\"\n",
      "_________________________________________________________________\n",
      "Layer (type)                 Output Shape              Param #   \n",
      "=================================================================\n",
      "embedding (Embedding)        (None, None, 15)          225       \n",
      "_________________________________________________________________\n",
      "lstm (LSTM)                  (None, 24)                3840      \n",
      "_________________________________________________________________\n",
      "dense (Dense)                (None, 16)                400       \n",
      "=================================================================\n",
      "Total params: 4,465\n",
      "Trainable params: 4,465\n",
      "Non-trainable params: 0\n",
      "_________________________________________________________________\n"
     ]
    }
   ],
   "source": [
    "model = keras.Sequential()\n",
    "\n",
    "model.add(layers.Embedding(input_dim = 15, output_dim = 15))\n",
    "\n",
    "# Add a LSTM layer with 128 internal units.\n",
    "model.add(layers.LSTM(24, input_dim = 15))\n",
    "\n",
    "# Add a Dense layer with 10 units.\n",
    "model.add(layers.Dense(16, activation = 'softmax'))\n",
    "\n",
    "model.compile(loss = 'categorical_crossentropy', optimizer = 'adam', metrics = ['categorical_accuracy'])\n",
    "\n",
    "model.summary()"
   ]
  },
  {
   "cell_type": "markdown",
   "metadata": {
    "id": "4GGoRhMueNZi"
   },
   "source": [
    "## Network Training"
   ]
  },
  {
   "cell_type": "code",
   "execution_count": null,
   "metadata": {
    "id": "LHt4kbuVXgOI"
   },
   "outputs": [],
   "source": [
    "# we need to convert the input and output to numpy array to be used by the network\n",
    "train_input = np.array(train_input)\n",
    "train_output = np.array(train_output)\n",
    "\n",
    "test_input = np.array(test_input)\n",
    "test_output = np.array(test_output)"
   ]
  },
  {
   "cell_type": "code",
   "execution_count": null,
   "metadata": {
    "colab": {
     "base_uri": "https://localhost:8080/"
    },
    "executionInfo": {
     "elapsed": 24462,
     "status": "ok",
     "timestamp": 1627381445662,
     "user": {
      "displayName": "Michela Sperti",
      "photoUrl": "https://lh3.googleusercontent.com/a-/AOh14Gh7mD9r-1Xj0Qve63ZPZx9UHRv0PkVhL5ayiHNv=s64",
      "userId": "13210266879998244642"
     },
     "user_tz": -120
    },
    "id": "qg6F93MftQaD",
    "outputId": "f8129009-e869-44dc-84ac-6f1bb7534adc"
   },
   "outputs": [
    {
     "name": "stdout",
     "output_type": "stream",
     "text": [
      "Epoch 1/10\n",
      "308/308 [==============================] - 4s 9ms/step - loss: 1.9441 - categorical_accuracy: 0.3063 - val_loss: 1.1784 - val_categorical_accuracy: 0.6840\n",
      "Epoch 2/10\n",
      "308/308 [==============================] - 2s 7ms/step - loss: 0.7472 - categorical_accuracy: 0.8332 - val_loss: 0.4515 - val_categorical_accuracy: 0.9270\n",
      "Epoch 3/10\n",
      "308/308 [==============================] - 2s 7ms/step - loss: 0.3311 - categorical_accuracy: 0.9554 - val_loss: 0.2360 - val_categorical_accuracy: 0.9630\n",
      "Epoch 4/10\n",
      "308/308 [==============================] - 2s 7ms/step - loss: 0.1921 - categorical_accuracy: 0.9658 - val_loss: 0.1530 - val_categorical_accuracy: 0.9675\n",
      "Epoch 5/10\n",
      "308/308 [==============================] - 2s 7ms/step - loss: 0.1306 - categorical_accuracy: 0.9760 - val_loss: 0.1071 - val_categorical_accuracy: 0.9775\n",
      "Epoch 6/10\n",
      "308/308 [==============================] - 2s 7ms/step - loss: 0.0937 - categorical_accuracy: 0.9824 - val_loss: 0.0778 - val_categorical_accuracy: 0.9870\n",
      "Epoch 7/10\n",
      "308/308 [==============================] - 2s 7ms/step - loss: 0.0696 - categorical_accuracy: 0.9905 - val_loss: 0.0586 - val_categorical_accuracy: 0.9930\n",
      "Epoch 8/10\n",
      "308/308 [==============================] - 2s 7ms/step - loss: 0.0533 - categorical_accuracy: 0.9921 - val_loss: 0.0446 - val_categorical_accuracy: 0.9945\n",
      "Epoch 9/10\n",
      "308/308 [==============================] - 2s 7ms/step - loss: 0.0422 - categorical_accuracy: 0.9924 - val_loss: 0.0367 - val_categorical_accuracy: 0.9960\n",
      "Epoch 10/10\n",
      "308/308 [==============================] - 2s 7ms/step - loss: 0.0346 - categorical_accuracy: 0.9943 - val_loss: 0.0301 - val_categorical_accuracy: 0.9955\n"
     ]
    },
    {
     "data": {
      "text/plain": [
       "<tensorflow.python.keras.callbacks.History at 0x7f6b7b3bd990>"
      ]
     },
     "execution_count": 15,
     "metadata": {
      "tags": []
     },
     "output_type": "execute_result"
    }
   ],
   "source": [
    "model.fit(train_input, train_output, validation_data = (test_input, test_output), epochs = 10, batch_size = 100)"
   ]
  },
  {
   "cell_type": "markdown",
   "metadata": {
    "id": "H9cuSTAjiRv6"
   },
   "source": [
    "After just 10 epochs the network is right in 99% of the cases. Just let it run for more epochs and you can reach incredible precision. "
   ]
  },
  {
   "cell_type": "markdown",
   "metadata": {
    "id": "_KpgX4W8nCd8"
   },
   "source": [
    "## Exercises"
   ]
  },
  {
   "cell_type": "markdown",
   "metadata": {
    "id": "3J38NJG0nQRB"
   },
   "source": [
    "1. [*Medium Difficulty*] Try to train a fully connected network (as the ones we have discussed so far) to count and compare it with the RNN we have seen during this Chapter. You will see how this is not possible. "
   ]
  }
 ],
 "metadata": {
  "colab": {
   "authorship_tag": "ABX9TyN9ubwcAKXDJSQNV90NuYa1",
   "collapsed_sections": [],
   "name": "Counting_with_recurrent_neural_networks.ipynb",
   "provenance": [],
   "toc_visible": true
  },
  "kernelspec": {
   "display_name": "Python 3",
   "name": "python3"
  }
 },
 "nbformat": 4,
 "nbformat_minor": 0
}