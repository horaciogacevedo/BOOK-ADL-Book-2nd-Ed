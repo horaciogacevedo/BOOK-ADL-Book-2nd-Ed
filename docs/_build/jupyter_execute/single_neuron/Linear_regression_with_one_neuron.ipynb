{
 "cells": [
  {
   "cell_type": "markdown",
   "metadata": {
    "id": "atdxLNG7Bmfx"
   },
   "source": [
    "# Linear Regression with One Neuron\n",
    "\n",
    "Version 1.03"
   ]
  },
  {
   "cell_type": "markdown",
   "metadata": {
    "id": "jYIdcBEGhc8R"
   },
   "source": [
    "(C) 2020 - Umberto Michelucci, Michela Sperti\n",
    "\n",
    "This notebook is part of the book _Applied Deep Learning: a case based approach, **2nd edition**_ from APRESS by [U. Michelucci](mailto:umberto.michelucci@toelt.ai) and [M. Sperti](mailto:michela.sperti@toelt.ai)."
   ]
  },
  {
   "cell_type": "markdown",
   "metadata": {
    "id": "tVpnrRq9yP7F"
   },
   "source": [
    "The purpose of this notebook is to give an example of an application of Linear Regression performed with One Neuron to a dataset taken from real world."
   ]
  },
  {
   "cell_type": "markdown",
   "metadata": {
    "id": "PGu2kWUryTSC"
   },
   "source": [
    "## Notebook Learning Goals"
   ]
  },
  {
   "cell_type": "markdown",
   "metadata": {
    "id": "VeNwsKOc88sR"
   },
   "source": [
    "At the end of the notebook you are going to have a clear idea of what linear regression is, seen through a practical example. Moreover, you will have learnt what is one of the simplest tasks that Neural Networks can solve. You can of course perform linear regression easily by applying traditional math formulas or using dedicated functions such as those found in scikit-learn. However, it is very instructive to follow this example, since it gives a practical grasp of how the building blocks of Deep Learning architectures (i.e. neurons) work."
   ]
  },
  {
   "cell_type": "markdown",
   "metadata": {
    "id": "sya8rrO3dCR7"
   },
   "source": [
    "## Real Case Example: **Radon Contamination**\n",
    "\n"
   ]
  },
  {
   "cell_type": "markdown",
   "metadata": {
    "id": "2TDH1V4ACBlY"
   },
   "source": [
    "### Dataset Overview"
   ]
  },
  {
   "cell_type": "markdown",
   "metadata": {
    "id": "5_AH8YS-h1Qv"
   },
   "source": [
    "Radon is a radioactive gas that enters homes through contact points with the ground. It is a carcinogen that is the primary cause of lung cancer in non-smokers. Radon levels vary greatly from household to household. This dataset contains measured radon levels in U.S. homes by county and state. The *activity* label is the measured radon concentration in *pCi/L*. Important predictors are: \n",
    "- *floor* (the floor of the house in which the measurement was taken), \n",
    "- *county* (the U.S. county in which the house is located), and \n",
    "- *uppm* (a measurement of uranium level of the soil by county).\n"
   ]
  },
  {
   "cell_type": "markdown",
   "metadata": {
    "id": "wOFzuRWYzyuE"
   },
   "source": [
    "This dataset fits well a classical regression problem, since it contains a continuous variable (radon activity) which is interesting to be predicted. The model which will be built is made of one neuron and will fit a linear function to floor, county, uppm and pcterr variables."
   ]
  },
  {
   "cell_type": "markdown",
   "metadata": {
    "id": "or5Hcrsr95Gg"
   },
   "source": [
    "### Libraries and Dataset Import"
   ]
  },
  {
   "cell_type": "markdown",
   "metadata": {
    "id": "vpeWLaBf1dPc"
   },
   "source": [
    "This section contains the necessary libraries (such as tensorflow or pandas) you need to import to run the notebook."
   ]
  },
  {
   "cell_type": "code",
   "execution_count": null,
   "metadata": {
    "colab": {
     "base_uri": "https://localhost:8080/"
    },
    "executionInfo": {
     "elapsed": 15385,
     "status": "ok",
     "timestamp": 1610562018430,
     "user": {
      "displayName": "Michela Sperti",
      "photoUrl": "https://lh3.googleusercontent.com/a-/AOh14Gh7mD9r-1Xj0Qve63ZPZx9UHRv0PkVhL5ayiHNv=s64",
      "userId": "13210266879998244642"
     },
     "user_tz": -60
    },
    "id": "rx34o2vMwvL6",
    "outputId": "f0a17c53-b888-438c-cb5f-4064e3b1715f"
   },
   "outputs": [
    {
     "name": "stdout",
     "output_type": "stream",
     "text": [
      "Collecting git+https://github.com/tensorflow/docs\n",
      "  Cloning https://github.com/tensorflow/docs to /tmp/pip-req-build-i6fpletq\n",
      "  Running command git clone -q https://github.com/tensorflow/docs /tmp/pip-req-build-i6fpletq\n",
      "Requirement already satisfied (use --upgrade to upgrade): tensorflow-docs===0.0.0d7cf3b307cf13e5aadea359db22a77a1cb04f499- from git+https://github.com/tensorflow/docs in /usr/local/lib/python3.6/dist-packages\n",
      "Requirement already satisfied: astor in /usr/local/lib/python3.6/dist-packages (from tensorflow-docs===0.0.0d7cf3b307cf13e5aadea359db22a77a1cb04f499-) (0.8.1)\n",
      "Requirement already satisfied: absl-py in /usr/local/lib/python3.6/dist-packages (from tensorflow-docs===0.0.0d7cf3b307cf13e5aadea359db22a77a1cb04f499-) (0.10.0)\n",
      "Requirement already satisfied: protobuf>=3.14 in /usr/local/lib/python3.6/dist-packages (from tensorflow-docs===0.0.0d7cf3b307cf13e5aadea359db22a77a1cb04f499-) (3.14.0)\n",
      "Requirement already satisfied: pyyaml in /usr/local/lib/python3.6/dist-packages (from tensorflow-docs===0.0.0d7cf3b307cf13e5aadea359db22a77a1cb04f499-) (3.13)\n",
      "Requirement already satisfied: dataclasses in /usr/local/lib/python3.6/dist-packages (from tensorflow-docs===0.0.0d7cf3b307cf13e5aadea359db22a77a1cb04f499-) (0.8)\n",
      "Requirement already satisfied: six in /usr/local/lib/python3.6/dist-packages (from absl-py->tensorflow-docs===0.0.0d7cf3b307cf13e5aadea359db22a77a1cb04f499-) (1.15.0)\n",
      "Building wheels for collected packages: tensorflow-docs\n",
      "  Building wheel for tensorflow-docs (setup.py) ... \u001b[?25l\u001b[?25hdone\n",
      "  Created wheel for tensorflow-docs: filename=tensorflow_docs-0.0.0d7cf3b307cf13e5aadea359db22a77a1cb04f499_-cp36-none-any.whl size=146696 sha256=66a2dc47b5db36fffdcf797cf2ddcac23ff1e0b0f03d721cbed1bbab77e1ca68\n",
      "  Stored in directory: /tmp/pip-ephem-wheel-cache-efk_dabh/wheels/eb/1b/35/fce87697be00d2fc63e0b4b395b0d9c7e391a10e98d9a0d97f\n",
      "Successfully built tensorflow-docs\n"
     ]
    }
   ],
   "source": [
    "# This command install code from the tensorflow docs repository.\n",
    "# We need to use tensorflow_docs.modeling function when training our model.\n",
    "# This function will generate a report on the network's perfomances\n",
    "# step by step during the training phase (see Training Phase section of the\n",
    "# notebook). \n",
    "\n",
    "# You can safely ignore this cell if you don't understand what it does.\n",
    "\n",
    "!pip install git+https://github.com/tensorflow/docs"
   ]
  },
  {
   "cell_type": "code",
   "execution_count": null,
   "metadata": {
    "id": "IKQxIMYyeCva"
   },
   "outputs": [],
   "source": [
    "# general libraries\n",
    "import os\n",
    "import sys\n",
    "import numpy as np\n",
    "import pandas as pd\n",
    "import matplotlib.pyplot as plt\n",
    "import matplotlib.font_manager as fm\n",
    "\n",
    "# tensorflow libraries\n",
    "import tensorflow as tf\n",
    "from tensorflow import keras\n",
    "from tensorflow.keras import layers\n",
    "import tensorflow_docs as tfdocs\n",
    "import tensorflow_docs.modeling\n",
    "\n",
    "# ignore warnings\n",
    "import warnings\n",
    "warnings.simplefilter('ignore')"
   ]
  },
  {
   "cell_type": "markdown",
   "metadata": {
    "id": "CtgG2-1y_-2o"
   },
   "source": [
    "The following cells are needed to **download** the dataset. You don't need to understand all the download and processing steps, since the focus of this section is to apply a simple linear regression model to a real case dataset (therefore you can just execute the following cells, ignoring their content). If you are interested in the details, you can find the complete code in the /modules folder."
   ]
  },
  {
   "cell_type": "markdown",
   "metadata": {
    "id": "HOfq2TvDbCwr"
   },
   "source": [
    "Now we clone the repository for the book to be able to access the modules that we have written for all the juypter notebooks."
   ]
  },
  {
   "cell_type": "code",
   "execution_count": null,
   "metadata": {
    "id": "aD3j0wJoP7hs"
   },
   "outputs": [],
   "source": [
    "# Referring to the following cell, if you want to re-clone a repository\n",
    "# inside the google colab instance, you need to delete it first. \n",
    "# You can delete the repositories contained in this instance executing \n",
    "# the following two lines of code (deleting the # comment symbol).\n",
    "\n",
    "# !rm -rf ADL-Book-2nd-Ed \n",
    "# !rm -rf BCCD_Dataset"
   ]
  },
  {
   "cell_type": "code",
   "execution_count": null,
   "metadata": {
    "colab": {
     "base_uri": "https://localhost:8080/"
    },
    "executionInfo": {
     "elapsed": 15374,
     "status": "ok",
     "timestamp": 1610562018432,
     "user": {
      "displayName": "Michela Sperti",
      "photoUrl": "https://lh3.googleusercontent.com/a-/AOh14Gh7mD9r-1Xj0Qve63ZPZx9UHRv0PkVhL5ayiHNv=s64",
      "userId": "13210266879998244642"
     },
     "user_tz": -60
    },
    "id": "AiWkaBRaYSHH",
    "outputId": "f1a5351f-b158-4954-cd90-b38fbf2b6edc"
   },
   "outputs": [
    {
     "name": "stdout",
     "output_type": "stream",
     "text": [
      "fatal: destination path 'ADL-Book-2nd-Ed' already exists and is not an empty directory.\n"
     ]
    }
   ],
   "source": [
    "# This command actually clone the repository of the book in the google colab\n",
    "# instance. In this way this notebook will have access to the modules\n",
    "# we have written for this book.\n",
    "\n",
    "# Please note that in case you have already run this cell, and you run it again\n",
    "# you may get the error message:\n",
    "#\n",
    "# fatal: destination path 'ADL-Book-2nd-Ed' already exists and is not an empty directory.\n",
    "# \n",
    "# In this case you can safely ignore the error message.\n",
    "\n",
    "!git clone https://github.com/toelt-llc/ADL-Book-2nd-Ed.git"
   ]
  },
  {
   "cell_type": "code",
   "execution_count": null,
   "metadata": {
    "id": "4FxrxSG771VZ"
   },
   "outputs": [],
   "source": [
    "# This cell imports some custom written functions that we have created to \n",
    "# make the loading of the data and the plotting easier. You don't need \n",
    "# to undertsand the details and you can simply ignore this cell.\n",
    "# Simply run it with CMD+Enter (on Mac) or CTRL+Enter (Windows or Ubuntu) to\n",
    "# import the necessary functions.\n",
    "\n",
    "import sys\n",
    "sys.path.append('ADL-Book-2nd-Ed/modules/')\n",
    "\n",
    "from read_radon_dataset import read_data\n",
    "from style_setting import set_style"
   ]
  },
  {
   "cell_type": "code",
   "execution_count": null,
   "metadata": {
    "id": "Xwr5PiuX5cVS"
   },
   "outputs": [],
   "source": [
    "# This cell provides the dataset on which you will implement the linear regression model.\n",
    "# Data are temporarily put into \"tmp\" folder. \"url_base\" contains the link to access the dataset.\n",
    "\n",
    "# After cell's execution, you will have a variable containing features (\"radon_features\"),\n",
    "# a variable containing labels (\"radon_labels\") and an informative variable containing\n",
    "# all countries including in the dataset. \n",
    "\n",
    "# You don't need to understand the implementation's details and you can simply ignore this cell.\n",
    "# Simply run it with CMD+Enter (on Mac) or CTRL+Enter (Windows or Ubuntu) to\n",
    "# import the necessary functions.\n",
    "\n",
    "# inputs to download the dataset\n",
    "CACHE_DIR = os.path.join(os.sep, 'tmp', 'radon')\n",
    "url_base = 'http://www.stat.columbia.edu/~gelman/arm/examples/radon/'\n",
    "# Alternative source:\n",
    "# url_base = ('https://raw.githubusercontent.com/pymc-devs/uq_chapter/master/reference/data/')\n",
    "\n",
    "rd = read_data(CACHE_DIR, url_base)\n",
    "radon_features, radon_labels, county_name = rd.create_dataset()"
   ]
  },
  {
   "cell_type": "markdown",
   "metadata": {
    "id": "P0D4C0bsAWc6"
   },
   "source": [
    "Now you have all the necessary elements to successfully implement this tutorial. **Let's have a look at our data**:"
   ]
  },
  {
   "cell_type": "code",
   "execution_count": null,
   "metadata": {
    "colab": {
     "base_uri": "https://localhost:8080/"
    },
    "executionInfo": {
     "elapsed": 15751,
     "status": "ok",
     "timestamp": 1610562018822,
     "user": {
      "displayName": "Michela Sperti",
      "photoUrl": "https://lh3.googleusercontent.com/a-/AOh14Gh7mD9r-1Xj0Qve63ZPZx9UHRv0PkVhL5ayiHNv=s64",
      "userId": "13210266879998244642"
     },
     "user_tz": -60
    },
    "id": "UxV7roADedjA",
    "outputId": "191acb05-8808-4661-e3a9-3f0698f25f9b"
   },
   "outputs": [
    {
     "name": "stdout",
     "output_type": "stream",
     "text": [
      "Number of counties included in the dataset:  85\n",
      "Number of total samples:  919\n"
     ]
    }
   ],
   "source": [
    "num_counties = len(county_name)\n",
    "num_observations = len(radon_features)\n",
    "print('Number of counties included in the dataset: ', num_counties)\n",
    "print('Number of total samples: ', num_observations)"
   ]
  },
  {
   "cell_type": "code",
   "execution_count": null,
   "metadata": {
    "colab": {
     "base_uri": "https://localhost:8080/",
     "height": 198
    },
    "executionInfo": {
     "elapsed": 15745,
     "status": "ok",
     "timestamp": 1610562018822,
     "user": {
      "displayName": "Michela Sperti",
      "photoUrl": "https://lh3.googleusercontent.com/a-/AOh14Gh7mD9r-1Xj0Qve63ZPZx9UHRv0PkVhL5ayiHNv=s64",
      "userId": "13210266879998244642"
     },
     "user_tz": -60
    },
    "id": "-rrry8uqeelL",
    "outputId": "a118d83c-92f2-4faf-9112-8c8a0bbcabf0"
   },
   "outputs": [
    {
     "data": {
      "text/html": [
       "<div>\n",
       "<style scoped>\n",
       "    .dataframe tbody tr th:only-of-type {\n",
       "        vertical-align: middle;\n",
       "    }\n",
       "\n",
       "    .dataframe tbody tr th {\n",
       "        vertical-align: top;\n",
       "    }\n",
       "\n",
       "    .dataframe thead th {\n",
       "        text-align: right;\n",
       "    }\n",
       "</style>\n",
       "<table border=\"1\" class=\"dataframe\">\n",
       "  <thead>\n",
       "    <tr style=\"text-align: right;\">\n",
       "      <th></th>\n",
       "      <th>floor</th>\n",
       "      <th>county</th>\n",
       "      <th>log_uranium_ppm</th>\n",
       "      <th>pcterr</th>\n",
       "    </tr>\n",
       "  </thead>\n",
       "  <tbody>\n",
       "    <tr>\n",
       "      <th>0</th>\n",
       "      <td>1</td>\n",
       "      <td>0</td>\n",
       "      <td>0.502054</td>\n",
       "      <td>9.7</td>\n",
       "    </tr>\n",
       "    <tr>\n",
       "      <th>1</th>\n",
       "      <td>0</td>\n",
       "      <td>0</td>\n",
       "      <td>0.502054</td>\n",
       "      <td>14.5</td>\n",
       "    </tr>\n",
       "    <tr>\n",
       "      <th>2</th>\n",
       "      <td>0</td>\n",
       "      <td>0</td>\n",
       "      <td>0.502054</td>\n",
       "      <td>9.6</td>\n",
       "    </tr>\n",
       "    <tr>\n",
       "      <th>3</th>\n",
       "      <td>0</td>\n",
       "      <td>0</td>\n",
       "      <td>0.502054</td>\n",
       "      <td>24.3</td>\n",
       "    </tr>\n",
       "    <tr>\n",
       "      <th>4</th>\n",
       "      <td>0</td>\n",
       "      <td>1</td>\n",
       "      <td>0.428565</td>\n",
       "      <td>13.8</td>\n",
       "    </tr>\n",
       "  </tbody>\n",
       "</table>\n",
       "</div>"
      ],
      "text/plain": [
       "   floor  county  log_uranium_ppm  pcterr\n",
       "0      1       0         0.502054     9.7\n",
       "1      0       0         0.502054    14.5\n",
       "2      0       0         0.502054     9.6\n",
       "3      0       0         0.502054    24.3\n",
       "4      0       1         0.428565    13.8"
      ]
     },
     "execution_count": 26,
     "metadata": {
      "tags": []
     },
     "output_type": "execute_result"
    }
   ],
   "source": [
    "radon_features.head()"
   ]
  },
  {
   "cell_type": "markdown",
   "metadata": {
    "id": "WiFX99w4FhGM"
   },
   "source": [
    "The dataset is made of **919 observations**, **1 target** column (`activity`) and **4 features** (`floor`, `county`, `log_uranium_ppm`, `pcterr`). 85 different American counties are included in the dataset."
   ]
  },
  {
   "cell_type": "markdown",
   "metadata": {
    "id": "IyI4q099I0aD"
   },
   "source": [
    "### Dataset Splitting"
   ]
  },
  {
   "cell_type": "markdown",
   "metadata": {
    "id": "1zMbWztwKkd7"
   },
   "source": [
    "*In any machine learning project, it is a good behaviour to split the dataset you have at your disposal in different subsets.* Plenty of theoretical explanations about this need is present in literature. In the [Further Readings](#fr) section of the notebook you will find some advice on useful material about this topic. To simply explain the concept: when you build a machine learning model, you first need to train (i.e. build) the model and then you have to test it (i.e. verify the model's performances on never seen before data). The roughest way to do this is to split the dataset into two subsets: 80% of the original dataset to train the model (the more data you have the better your model will perform) and the remaining 20% to test it."
   ]
  },
  {
   "cell_type": "markdown",
   "metadata": {
    "id": "iVoeeov7I4DJ"
   },
   "source": [
    "Now we build a train and a test set splitting the dataset randomly in two parts with the following proportions: **80%/20%**. "
   ]
  },
  {
   "cell_type": "code",
   "execution_count": null,
   "metadata": {
    "colab": {
     "base_uri": "https://localhost:8080/"
    },
    "executionInfo": {
     "elapsed": 15741,
     "status": "ok",
     "timestamp": 1610562018823,
     "user": {
      "displayName": "Michela Sperti",
      "photoUrl": "https://lh3.googleusercontent.com/a-/AOh14Gh7mD9r-1Xj0Qve63ZPZx9UHRv0PkVhL5ayiHNv=s64",
      "userId": "13210266879998244642"
     },
     "user_tz": -60
    },
    "id": "hDfC43LoIy80",
    "outputId": "909c9dea-acaf-4788-f3bd-b3509f1bdebf"
   },
   "outputs": [
    {
     "name": "stdout",
     "output_type": "stream",
     "text": [
      "The training dataset dimensions are:  (733, 4)\n",
      "The testing dataset dimensions are:  (186, 4)\n"
     ]
    }
   ],
   "source": [
    "np.random.seed(42)\n",
    "rnd = np.random.rand(len(radon_features)) < 0.8\n",
    "\n",
    "train_x = radon_features[rnd] # training dataset (features)\n",
    "train_y = radon_labels[rnd] # training dataset (labels)\n",
    "test_x = radon_features[~rnd] # testing dataset (features)\n",
    "test_y = radon_labels[~rnd] # testing dataset (labels)\n",
    "\n",
    "print('The training dataset dimensions are: ', train_x.shape)\n",
    "print('The testing dataset dimensions are: ', test_x.shape)"
   ]
  },
  {
   "cell_type": "markdown",
   "metadata": {
    "id": "6-ar3G0uoKwH"
   },
   "source": [
    "### Linear Regression: the Model"
   ]
  },
  {
   "cell_type": "markdown",
   "metadata": {
    "id": "6iLEJNtEqAhj"
   },
   "source": [
    "From now on, the interesting part begins. Keep in mind that a one neuron model is an overkill for a regression task. We could solve linear regression exactly without the need of using gradient descent or similar optimisation algorithm (employed in the neuron's architecture). You can find an exact regression solution example, implemented with numpy library, in *Linear_regression_with_numpy.ipynb* notebook. \n",
    "\n",
    "To note is (for those with some more experience with neural networks) that we will use **one single neuron** with an **identity function** as activation function. \n",
    "\n",
    "Our dataset can be expressed as a matrix ($X$), where the rows represent the different measurements describing radon activity and the columns the 4 features at our disposal. Then, we have the column containing the label we wants to predict ($y$). When we employ one neuron to perform linear regression, we are simply computing the following equation: \n",
    "\n",
    "\\begin{equation}\n",
    "\\hat{y}=WX+b\n",
    "\\end{equation}\n",
    "\n",
    "that is a linear combination of the input data and the network's weights plus a constat term (bias) $b$. $\\hat{y}$ is the predicted output given a certain input vector ${\\bf x} = ({\\bf x_1}, {\\bf x_2}, ... , {\\bf x_{n_x}})$, where we have indicated the number of observations we have at our disposal with $n_x$."
   ]
  },
  {
   "cell_type": "markdown",
   "metadata": {
    "id": "J7zwPPV1ujMl"
   },
   "source": [
    "### Structure of the Net"
   ]
  },
  {
   "cell_type": "markdown",
   "metadata": {
    "id": "n_Rju5QcI-0L"
   },
   "source": [
    "Despite it is very important to keep in mind the previous considerations, developing this model with Keras is straightforward. The following function builds the one neuron model for linear regression."
   ]
  },
  {
   "cell_type": "code",
   "execution_count": null,
   "metadata": {
    "id": "TLQ3qfSEvZNz"
   },
   "outputs": [],
   "source": [
    "def build_model():\n",
    "\n",
    "  # one unit as network's output\n",
    "  # identity function as activation function\n",
    "  # sequential groups a linear stack of layers into a tf.keras.Model\n",
    "  # activation parameter: if you don't specify anything, no activation \n",
    "  # is applied (i.e. \"linear\" activation: a(x) = x).\n",
    "  model = keras.Sequential([ \n",
    "    layers.Dense(1, input_shape = [len(train_x.columns)])\n",
    "  ])\n",
    "\n",
    "  # optimizer that implements the RMSprop algorithm\n",
    "  optimizer = tf.keras.optimizers.RMSprop(learning_rate = 0.001)\n",
    "\n",
    "  # the compile() method takes a metrics argument, which is a list of metrics\n",
    "  # loss = Mean Square Error (mse), metrics = Mean Absolute Error (mae),\n",
    "  # Mean Square Error (mse)\n",
    "  model.compile(loss = 'mse',\n",
    "                optimizer = optimizer,\n",
    "                metrics = ['mse'])\n",
    "  \n",
    "  return model"
   ]
  },
  {
   "cell_type": "code",
   "execution_count": null,
   "metadata": {
    "id": "q0ubvr0av4mt"
   },
   "outputs": [],
   "source": [
    "model = build_model()"
   ]
  },
  {
   "cell_type": "markdown",
   "metadata": {
    "id": "j1Z6uxSyOzE6"
   },
   "source": [
    "Let's have a look at the model summary:"
   ]
  },
  {
   "cell_type": "code",
   "execution_count": null,
   "metadata": {
    "colab": {
     "base_uri": "https://localhost:8080/"
    },
    "executionInfo": {
     "elapsed": 15727,
     "status": "ok",
     "timestamp": 1610562018824,
     "user": {
      "displayName": "Michela Sperti",
      "photoUrl": "https://lh3.googleusercontent.com/a-/AOh14Gh7mD9r-1Xj0Qve63ZPZx9UHRv0PkVhL5ayiHNv=s64",
      "userId": "13210266879998244642"
     },
     "user_tz": -60
    },
    "id": "_E0vi5qXwCkH",
    "outputId": "c0b3f4d3-141d-4659-83e3-f75b8cc88cb0"
   },
   "outputs": [
    {
     "name": "stdout",
     "output_type": "stream",
     "text": [
      "Model: \"sequential_1\"\n",
      "_________________________________________________________________\n",
      "Layer (type)                 Output Shape              Param #   \n",
      "=================================================================\n",
      "dense_1 (Dense)              (None, 1)                 5         \n",
      "=================================================================\n",
      "Total params: 5\n",
      "Trainable params: 5\n",
      "Non-trainable params: 0\n",
      "_________________________________________________________________\n"
     ]
    }
   ],
   "source": [
    "model.summary()"
   ]
  },
  {
   "cell_type": "markdown",
   "metadata": {
    "id": "SKH9b3SXDXGs"
   },
   "source": [
    "**Learning rate** is a very important parameter of the optimizer. In fact, it strongly influences the convergence of the minimization process. It is a common and good behaviour to try different learning rate values and see how the model's convergence changes. You can find further reading advices about this topic in the [Further Reading](#fr) section of this notebook."
   ]
  },
  {
   "cell_type": "markdown",
   "metadata": {
    "id": "RLFuIbDWO5uP"
   },
   "source": [
    "### Training Phase (Model's Learning Phase)"
   ]
  },
  {
   "cell_type": "markdown",
   "metadata": {
    "id": "4rAnbHnuPOt5"
   },
   "source": [
    "Training our neuron means finding the weights and biases that minimize a chosen function (usually called the **cost function** and typically indicated by $J$). The cost function to be minimized in the case of a linear regression task is the **mean square error**. The most famous numerical method to find the minimum of a given function is the **gradient descent** (it is suited for cases in which the solution can not be found analytically, such as all neural network applications). In our example we used the **RMSprop algorithm** as optimizer. \n",
    "\n",
    "The minimization process is iterative, therefore it is necessary to decide when to stop it. The simplest way is to set a number of repetitions (called **epochs**) and to run the algorithm that fixed number of times. Then, results are checked to see if an optimal point has been reached. If not, the number of epochs is increased.  \n",
    "\n",
    "We start training our model for **1000** epochs and we look at the summary in terms of performances (MSE). "
   ]
  },
  {
   "cell_type": "code",
   "execution_count": null,
   "metadata": {
    "colab": {
     "base_uri": "https://localhost:8080/"
    },
    "executionInfo": {
     "elapsed": 34696,
     "status": "ok",
     "timestamp": 1610562037798,
     "user": {
      "displayName": "Michela Sperti",
      "photoUrl": "https://lh3.googleusercontent.com/a-/AOh14Gh7mD9r-1Xj0Qve63ZPZx9UHRv0PkVhL5ayiHNv=s64",
      "userId": "13210266879998244642"
     },
     "user_tz": -60
    },
    "id": "AJ_MTC-RwV6j",
    "outputId": "f0636705-088a-47a5-9ad9-795cb879c65e"
   },
   "outputs": [
    {
     "name": "stdout",
     "output_type": "stream",
     "text": [
      "\n",
      "Epoch: 0, loss:1784.2560,  mse:1784.2560,  \n",
      "....................................................................................................\n",
      "Epoch: 100, loss:20.8368,  mse:20.8368,  \n",
      "....................................................................................................\n",
      "Epoch: 200, loss:16.8424,  mse:16.8424,  \n",
      "....................................................................................................\n",
      "Epoch: 300, loss:16.1779,  mse:16.1779,  \n",
      "....................................................................................................\n",
      "Epoch: 400, loss:16.0776,  mse:16.0776,  \n",
      "....................................................................................................\n",
      "Epoch: 500, loss:16.0403,  mse:16.0403,  \n",
      "....................................................................................................\n",
      "Epoch: 600, loss:16.0212,  mse:16.0212,  \n",
      "....................................................................................................\n",
      "Epoch: 700, loss:16.0089,  mse:16.0089,  \n",
      "....................................................................................................\n",
      "Epoch: 800, loss:15.9947,  mse:15.9947,  \n",
      "....................................................................................................\n",
      "Epoch: 900, loss:15.9936,  mse:15.9936,  \n",
      "...................................................................................................."
     ]
    }
   ],
   "source": [
    "EPOCHS = 1000\n",
    "\n",
    "history = model.fit(\n",
    "  train_x, train_y,\n",
    "  epochs = EPOCHS, verbose = 0,\n",
    "  callbacks = [tfdocs.modeling.EpochDots()])"
   ]
  },
  {
   "cell_type": "code",
   "execution_count": null,
   "metadata": {
    "colab": {
     "base_uri": "https://localhost:8080/",
     "height": 198
    },
    "executionInfo": {
     "elapsed": 34987,
     "status": "ok",
     "timestamp": 1610562038096,
     "user": {
      "displayName": "Michela Sperti",
      "photoUrl": "https://lh3.googleusercontent.com/a-/AOh14Gh7mD9r-1Xj0Qve63ZPZx9UHRv0PkVhL5ayiHNv=s64",
      "userId": "13210266879998244642"
     },
     "user_tz": -60
    },
    "id": "OUB4yKlzxvZV",
    "outputId": "e7b67c70-3068-4539-a471-8007c58864a8"
   },
   "outputs": [
    {
     "data": {
      "text/html": [
       "<div>\n",
       "<style scoped>\n",
       "    .dataframe tbody tr th:only-of-type {\n",
       "        vertical-align: middle;\n",
       "    }\n",
       "\n",
       "    .dataframe tbody tr th {\n",
       "        vertical-align: top;\n",
       "    }\n",
       "\n",
       "    .dataframe thead th {\n",
       "        text-align: right;\n",
       "    }\n",
       "</style>\n",
       "<table border=\"1\" class=\"dataframe\">\n",
       "  <thead>\n",
       "    <tr style=\"text-align: right;\">\n",
       "      <th></th>\n",
       "      <th>loss</th>\n",
       "      <th>mse</th>\n",
       "      <th>epoch</th>\n",
       "    </tr>\n",
       "  </thead>\n",
       "  <tbody>\n",
       "    <tr>\n",
       "      <th>995</th>\n",
       "      <td>15.992101</td>\n",
       "      <td>15.992101</td>\n",
       "      <td>995</td>\n",
       "    </tr>\n",
       "    <tr>\n",
       "      <th>996</th>\n",
       "      <td>15.979033</td>\n",
       "      <td>15.979033</td>\n",
       "      <td>996</td>\n",
       "    </tr>\n",
       "    <tr>\n",
       "      <th>997</th>\n",
       "      <td>15.987959</td>\n",
       "      <td>15.987959</td>\n",
       "      <td>997</td>\n",
       "    </tr>\n",
       "    <tr>\n",
       "      <th>998</th>\n",
       "      <td>15.970425</td>\n",
       "      <td>15.970425</td>\n",
       "      <td>998</td>\n",
       "    </tr>\n",
       "    <tr>\n",
       "      <th>999</th>\n",
       "      <td>15.969935</td>\n",
       "      <td>15.969935</td>\n",
       "      <td>999</td>\n",
       "    </tr>\n",
       "  </tbody>\n",
       "</table>\n",
       "</div>"
      ],
      "text/plain": [
       "          loss        mse  epoch\n",
       "995  15.992101  15.992101    995\n",
       "996  15.979033  15.979033    996\n",
       "997  15.987959  15.987959    997\n",
       "998  15.970425  15.970425    998\n",
       "999  15.969935  15.969935    999"
      ]
     },
     "execution_count": 32,
     "metadata": {
      "tags": []
     },
     "output_type": "execute_result"
    }
   ],
   "source": [
    "hist = pd.DataFrame(history.history)\n",
    "hist['epoch'] = history.epoch\n",
    "hist.tail()"
   ]
  },
  {
   "cell_type": "markdown",
   "metadata": {
    "id": "THjB3LZU5Xhc"
   },
   "source": [
    "You can noticed that while the number of epochs increases, the MSE is minimized. But *which is the best number of epochs to set*? A possible hint can be given by the plot of the **cost function vs. number of iterations**. Let's plot it. If you are interested in plotting details you can find the complete code inside the /module folder.\n",
    "\n",
    "The cost function vs. number of iterations plot is also useful to evaluate the model's convergence for different learning rates."
   ]
  },
  {
   "cell_type": "code",
   "execution_count": null,
   "metadata": {
    "id": "_hU-CvZt7d0G"
   },
   "outputs": [],
   "source": [
    "# The following line contains the path to fonts that are used to plot result in\n",
    "# a uniform way.\n",
    "\n",
    "f = set_style().set_general_style_parameters()"
   ]
  },
  {
   "cell_type": "code",
   "execution_count": null,
   "metadata": {
    "colab": {
     "base_uri": "https://localhost:8080/",
     "height": 389
    },
    "executionInfo": {
     "elapsed": 1408,
     "status": "ok",
     "timestamp": 1610562171284,
     "user": {
      "displayName": "Michela Sperti",
      "photoUrl": "https://lh3.googleusercontent.com/a-/AOh14Gh7mD9r-1Xj0Qve63ZPZx9UHRv0PkVhL5ayiHNv=s64",
      "userId": "13210266879998244642"
     },
     "user_tz": -60
    },
    "id": "hVdybZ2AUxSD",
    "outputId": "d5466982-8d86-45cc-c681-f79dcfed8f94"
   },
   "outputs": [
    {
     "data": {
      "image/png": "[encoded data removed]",
      "text/plain": [
       "<Figure size 640x400 with 1 Axes>"
      ]
     },
     "metadata": {
      "filenames": {
       "image/png": "/Users/umberto/Research/Active Books/Applied Deep Learning - 2nd edition/ADL-Book-2nd-Ed/docs/_build/jupyter_execute/single_neuron/Linear_regression_with_one_neuron_42_0.png"
      },
      "needs_background": "light",
      "tags": []
     },
     "output_type": "display_data"
    }
   ],
   "source": [
    "# Cost Function vs. Number of Iterations PLOT\n",
    "\n",
    "fig = plt.figure()\n",
    "ax = fig.add_subplot(111)\n",
    "\n",
    "plt.plot(hist['epoch'], hist['mse'], color = 'blue')\n",
    "\n",
    "plt.ylabel('Cost Function (MSE)', fontproperties = fm.FontProperties(fname = f))\n",
    "plt.xlabel('Number of Iterations', fontproperties = fm.FontProperties(fname = f))\n",
    "\n",
    "plt.ylim(0, 50)\n",
    "plt.xlim(0, 1000)\n",
    "\n",
    "plt.axis(True)\n",
    "plt.show()"
   ]
  },
  {
   "cell_type": "markdown",
   "metadata": {
    "id": "QkGx80bbaeQU"
   },
   "source": [
    "Looking at the previous plot, you can notice that, after 400 epochs, the cost function remains almost constant in its value, indicating that a minimum has been reached."
   ]
  },
  {
   "cell_type": "markdown",
   "metadata": {
    "id": "uxlvsycsxQM9"
   },
   "source": [
    "Let's have a look at the **estimated weights** of our neuron model. The first four can be seen as the linear regression coefficients, while the last one is the bias term. Keep in mind that the neuron performs the following operation:\n",
    "\n",
    "\\begin{equation}\n",
    "\\hat{y}=WX+b\n",
    "\\end{equation}\n",
    "\n",
    "You can compare these numbers with the ones obtained in the *Linear_regression_with_numpy.ipynb* notebook."
   ]
  },
  {
   "cell_type": "code",
   "execution_count": null,
   "metadata": {
    "colab": {
     "base_uri": "https://localhost:8080/"
    },
    "executionInfo": {
     "elapsed": 35642,
     "status": "ok",
     "timestamp": 1610562038774,
     "user": {
      "displayName": "Michela Sperti",
      "photoUrl": "https://lh3.googleusercontent.com/a-/AOh14Gh7mD9r-1Xj0Qve63ZPZx9UHRv0PkVhL5ayiHNv=s64",
      "userId": "13210266879998244642"
     },
     "user_tz": -60
    },
    "id": "1YNmRSLFxhtb",
    "outputId": "736858a8-5691-43d0-9a1a-cc910bfbe5b1"
   },
   "outputs": [
    {
     "name": "stdout",
     "output_type": "stream",
     "text": [
      "[array([[-6.8692839e-01],\n",
      "       [ 1.4542415e-03],\n",
      "       [ 3.0431905e+00],\n",
      "       [-2.0223841e-01]], dtype=float32), array([4.0284123], dtype=float32)]\n"
     ]
    }
   ],
   "source": [
    "weights = model.get_weights() # return a numpy list of weights\n",
    "print(weights)"
   ]
  },
  {
   "cell_type": "markdown",
   "metadata": {
    "id": "3YiMXQlLPn6Y"
   },
   "source": [
    "### Testing Phase (Model's Performances Evaluation)"
   ]
  },
  {
   "cell_type": "markdown",
   "metadata": {
    "id": "-qru_cQ35UWw"
   },
   "source": [
    "Now, to know if the model you have just built is suited to be applied to unseen data, you have to check its performances over the test set. In the following cell the linear model is applied to the test set to make predictions (`test_predictions`). Then, predicted radon activity values are compared with real values (`test_y`) by simply plotting **predictions vs. true values**. An optimal model shows points distributed over the black solid line present in the plot. "
   ]
  },
  {
   "cell_type": "code",
   "execution_count": null,
   "metadata": {
    "colab": {
     "base_uri": "https://localhost:8080/",
     "height": 389
    },
    "executionInfo": {
     "elapsed": 1643,
     "status": "ok",
     "timestamp": 1610562179479,
     "user": {
      "displayName": "Michela Sperti",
      "photoUrl": "https://lh3.googleusercontent.com/a-/AOh14Gh7mD9r-1Xj0Qve63ZPZx9UHRv0PkVhL5ayiHNv=s64",
      "userId": "13210266879998244642"
     },
     "user_tz": -60
    },
    "id": "iEYRvFMXx7i4",
    "outputId": "a75ab782-29d2-4275-ae85-9f4cdafe7c75"
   },
   "outputs": [
    {
     "data": {
      "image/png": "[encoded data removed]",
      "text/plain": [
       "<Figure size 640x400 with 1 Axes>"
      ]
     },
     "metadata": {
      "filenames": {
       "image/png": "/Users/umberto/Research/Active Books/Applied Deep Learning - 2nd edition/ADL-Book-2nd-Ed/docs/_build/jupyter_execute/single_neuron/Linear_regression_with_one_neuron_48_0.png"
      },
      "needs_background": "light",
      "tags": []
     },
     "output_type": "display_data"
    }
   ],
   "source": [
    "test_predictions = model.predict(test_x).flatten() # predict radon activities with the built linear regression model\n",
    "\n",
    "# Predictions vs. True Values PLOT\n",
    "\n",
    "fig = plt.figure()\n",
    "ax = fig.add_subplot(111)\n",
    "\n",
    "plt.scatter(test_y, test_predictions, marker = 'o', c = 'blue')\n",
    "plt.plot([-5,20], [-5,20], color = 'black', ls = '--')\n",
    "\n",
    "plt.ylabel('Predictions [activity]', fontproperties = fm.FontProperties(fname = f))\n",
    "plt.xlabel('True Values [activity]', fontproperties = fm.FontProperties(fname = f))\n",
    "plt.title('Linear Regression with One Neuron', fontproperties = fm.FontProperties(fname = f))\n",
    "\n",
    "plt.ylim(-5, 20)\n",
    "plt.xlim(-5, 20)\n",
    "\n",
    "plt.axis(True)\n",
    "plt.show()"
   ]
  },
  {
   "cell_type": "markdown",
   "metadata": {
    "id": "8sHsUEB87mxN"
   },
   "source": [
    "This plots shows that linear regression is too simple to accurately model this dataset's behaviour and a more complex model is needed."
   ]
  },
  {
   "cell_type": "markdown",
   "metadata": {
    "id": "4OiltN3FBQ7s"
   },
   "source": [
    "## Exercises"
   ]
  },
  {
   "cell_type": "markdown",
   "metadata": {
    "id": "tQNEUPtpF-nN"
   },
   "source": [
    "1. [*Easy Difficulty*] Try using only one feature to predict radon activity and see how results change.\n",
    "2. [*Medium Difficulty*] Try to change the `learning_rate` parameter and see how the model's convergence changes. Then try to reduce the `EPOCHS` parameter and see when the model cannot reach convergence.\n",
    "3. [*Medium Difficulty*] Try to see how model's results change based on the training dataset's size (reduce it and use different sizes comparing the final results)."
   ]
  },
  {
   "cell_type": "markdown",
   "metadata": {
    "id": "w87V_zulzZLE"
   },
   "source": [
    "## References"
   ]
  },
  {
   "cell_type": "markdown",
   "metadata": {
    "id": "zSkZwptPzXxp"
   },
   "source": [
    "1. https://www.tensorflow.org/probability/examples/Multilevel_Modeling_Primer (radon dataset loading and preprocessing) \n",
    "2. https://www.tensorflow.org/datasets/catalog/radon (dataset explanation)"
   ]
  },
  {
   "cell_type": "markdown",
   "metadata": {
    "id": "TPxowOWHLWh-"
   },
   "source": [
    "## Further Readings <a name = \"fr\"></a>"
   ]
  },
  {
   "cell_type": "markdown",
   "metadata": {
    "id": "OTVlEAEWNMe-"
   },
   "source": [
    "**Dataset Splitting, Overfitting & Underfitting**"
   ]
  },
  {
   "cell_type": "markdown",
   "metadata": {
    "id": "uWW3rV8_NO9C"
   },
   "source": [
    "1. Lever, Jake, Martin Krzywinski, and Naomi Altman. \"Points of significance: model selection and overfitting.\" (2016): 703.\n",
    "2. Srivastava, Nitish, et al. \"Dropout: a simple way to prevent neural networks from overfitting.\" The journal of machine learning research 15.1 (2014): 1929-1958."
   ]
  },
  {
   "cell_type": "markdown",
   "metadata": {
    "id": "oPzEsG82AEuM"
   },
   "source": [
    "**Learning Rate**"
   ]
  },
  {
   "cell_type": "markdown",
   "metadata": {
    "id": "4n-E6XJpF0dR"
   },
   "source": [
    "1. Bengio, Yoshua. \"Practical recommendations for gradient-based training of deep architectures.\" Neural networks: Tricks of the trade. Springer, Berlin, Heidelberg, 2012. 437-478."
   ]
  }
 ],
 "metadata": {
  "colab": {
   "collapsed_sections": [],
   "name": "Linear_regression_with_one_neuron",
   "provenance": [],
   "toc_visible": true
  },
  "kernelspec": {
   "display_name": "Python 3",
   "name": "python3"
  }
 },
 "nbformat": 4,
 "nbformat_minor": 0
}