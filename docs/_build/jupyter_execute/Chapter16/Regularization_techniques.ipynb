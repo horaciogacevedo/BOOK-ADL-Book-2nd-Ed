{
 "cells": [
  {
   "cell_type": "markdown",
   "metadata": {
    "id": "ub8QsY-Cavgx"
   },
   "source": [
    "# Regularization Techniques\n",
    "\n",
    "Version 1.0"
   ]
  },
  {
   "cell_type": "markdown",
   "metadata": {
    "id": "sdcMH4PxbKnK"
   },
   "source": [
    "(C) 2020 - Umberto Michelucci, Michela Sperti\n",
    "\n",
    "This notebook is part of the book _Applied Deep Learning: a case based approach, **2nd edition**_ from APRESS by [U. Michelucci](mailto:umberto.michelucci@toelt.ai) and [M. Sperti](mailto:michela.sperti@toelt.ai)."
   ]
  },
  {
   "cell_type": "markdown",
   "metadata": {
    "id": "TQxdMyP9bOch"
   },
   "source": [
    "The purpose of this notebook is to show you an example of extreme overfitting in the case of a linear regression model applied to a dataset taken from the real world. Then a series of strategies are presented (called regularization techniques) which can help us try to solve this issue, without the need of changing the network's architecture or the model itself."
   ]
  },
  {
   "cell_type": "markdown",
   "metadata": {
    "id": "NBYRYRnObTIt"
   },
   "source": [
    "## Notebook Learning Goals"
   ]
  },
  {
   "cell_type": "markdown",
   "metadata": {
    "id": "tn3RvXegbW69"
   },
   "source": [
    "At the end of this notebook you will clearly know what overfitting is and how to treat it by means of regularization and dropout techniques. In particular you will know how to implement in Keras $L_2$ and $L_1$ regularization techniques, dropout and early stopping."
   ]
  },
  {
   "cell_type": "markdown",
   "metadata": {
    "id": "BJ9rcQcWbcoj"
   },
   "source": [
    "## Libraries and Dataset Import"
   ]
  },
  {
   "cell_type": "markdown",
   "metadata": {
    "id": "bVG--ACBbhO9"
   },
   "source": [
    "This section contains the necessary libraries (such as tensorflow or pandas) you need to import to run the notebook."
   ]
  },
  {
   "cell_type": "code",
   "execution_count": 1,
   "metadata": {
    "executionInfo": {
     "elapsed": 5240,
     "status": "ok",
     "timestamp": 1617349281072,
     "user": {
      "displayName": "Michela Sperti",
      "photoUrl": "https://lh3.googleusercontent.com/a-/AOh14Gh7mD9r-1Xj0Qve63ZPZx9UHRv0PkVhL5ayiHNv=s64",
      "userId": "13210266879998244642"
     },
     "user_tz": -120
    },
    "id": "Y0ZYe1KeZ2QS"
   },
   "outputs": [],
   "source": [
    "# general libraries\n",
    "import numpy as np\n",
    "import pandas as pd\n",
    "import matplotlib.pyplot as plt\n",
    "import matplotlib.font_manager as fm\n",
    "\n",
    "# tensorflow libraries\n",
    "import tensorflow as tf\n",
    "from tensorflow import keras\n",
    "from tensorflow.keras import layers\n",
    "\n",
    "# sklearn libraries\n",
    "from sklearn.datasets import load_boston"
   ]
  },
  {
   "cell_type": "code",
   "execution_count": 2,
   "metadata": {
    "executionInfo": {
     "elapsed": 5237,
     "status": "ok",
     "timestamp": 1617349281074,
     "user": {
      "displayName": "Michela Sperti",
      "photoUrl": "https://lh3.googleusercontent.com/a-/AOh14Gh7mD9r-1Xj0Qve63ZPZx9UHRv0PkVhL5ayiHNv=s64",
      "userId": "13210266879998244642"
     },
     "user_tz": -120
    },
    "id": "ID_T-PjXcDkD"
   },
   "outputs": [],
   "source": [
    "# Referring to the following cell, if you want to re-clone a repository\n",
    "# inside the google colab instance, you need to delete it first. \n",
    "# You can delete the repositories contained in this instance executing \n",
    "# the following two lines of code (deleting the # comment symbol).\n",
    "\n",
    "# !rm -rf ADL-Book-2nd-Ed "
   ]
  },
  {
   "cell_type": "code",
   "execution_count": 3,
   "metadata": {
    "colab": {
     "base_uri": "https://localhost:8080/"
    },
    "executionInfo": {
     "elapsed": 16292,
     "status": "ok",
     "timestamp": 1617349292143,
     "user": {
      "displayName": "Michela Sperti",
      "photoUrl": "https://lh3.googleusercontent.com/a-/AOh14Gh7mD9r-1Xj0Qve63ZPZx9UHRv0PkVhL5ayiHNv=s64",
      "userId": "13210266879998244642"
     },
     "user_tz": -120
    },
    "id": "zUC3x44EcHZv",
    "outputId": "353937c2-4a9a-404f-d01a-2fba3dde5007"
   },
   "outputs": [
    {
     "name": "stdout",
     "output_type": "stream",
     "text": [
      "Cloning into 'ADL-Book-2nd-Ed'...\n",
      "remote: Enumerating objects: 237, done.\u001b[K\n",
      "remote: Counting objects: 100% (237/237), done.\u001b[K\n",
      "remote: Compressing objects: 100% (193/193), done.\u001b[K\n",
      "remote: Total 1164 (delta 61), reused 199 (delta 44), pack-reused 927\u001b[K\n",
      "Receiving objects: 100% (1164/1164), 180.25 MiB | 25.74 MiB/s, done.\n",
      "Resolving deltas: 100% (489/489), done.\n"
     ]
    }
   ],
   "source": [
    "# This command actually clone the repository of the book in the google colab\n",
    "# instance. In this way this notebook will have access to the modules\n",
    "# we have written for this book.\n",
    "\n",
    "# Please note that in case you have already run this cell, and you run it again\n",
    "# you may get the error message:\n",
    "#\n",
    "# fatal: destination path 'ADL-Book-2nd-Ed' already exists and is not an empty directory.\n",
    "# \n",
    "# In this case you can safely ignore the error message.\n",
    "\n",
    "!git clone https://github.com/toelt-llc/ADL-Book-2nd-Ed.git"
   ]
  },
  {
   "cell_type": "code",
   "execution_count": 4,
   "metadata": {
    "executionInfo": {
     "elapsed": 16291,
     "status": "ok",
     "timestamp": 1617349292144,
     "user": {
      "displayName": "Michela Sperti",
      "photoUrl": "https://lh3.googleusercontent.com/a-/AOh14Gh7mD9r-1Xj0Qve63ZPZx9UHRv0PkVhL5ayiHNv=s64",
      "userId": "13210266879998244642"
     },
     "user_tz": -120
    },
    "id": "bvmUst-ycIhW"
   },
   "outputs": [],
   "source": [
    "# This cell imports some custom written functions that we have created to \n",
    "# make the plotting easier. You don't need to undertsand the details and \n",
    "# you can simply ignore this cell.\n",
    "# Simply run it with CMD+Enter (on Mac) or CTRL+Enter (Windows or Ubuntu) to\n",
    "# import the necessary functions.\n",
    "\n",
    "import sys\n",
    "sys.path.append('ADL-Book-2nd-Ed/modules/')\n",
    "\n",
    "from style_setting import set_style"
   ]
  },
  {
   "cell_type": "markdown",
   "metadata": {
    "id": "vWH44koTcwYS"
   },
   "source": [
    "In this notebook we will use the **Boston dataset**. Check the [Further Readings](#fr) section to have more details about this dataset. It is very straightforward to import, by means of scikit-learn library, which already contains the dataset, ready to be used. The following cells are needed to automatically download the dataset and have it in the notebook."
   ]
  },
  {
   "cell_type": "code",
   "execution_count": 5,
   "metadata": {
    "executionInfo": {
     "elapsed": 16291,
     "status": "ok",
     "timestamp": 1617349292145,
     "user": {
      "displayName": "Michela Sperti",
      "photoUrl": "https://lh3.googleusercontent.com/a-/AOh14Gh7mD9r-1Xj0Qve63ZPZx9UHRv0PkVhL5ayiHNv=s64",
      "userId": "13210266879998244642"
     },
     "user_tz": -120
    },
    "id": "XYw3Ng11aLbF"
   },
   "outputs": [],
   "source": [
    "boston = load_boston()\n",
    "features = np.array(boston.data)\n",
    "target = np.array(boston.target)"
   ]
  },
  {
   "cell_type": "markdown",
   "metadata": {
    "id": "_C5ixxyTeUbH"
   },
   "source": [
    "Let's have a look at the description of the Boston dataset."
   ]
  },
  {
   "cell_type": "code",
   "execution_count": 6,
   "metadata": {
    "colab": {
     "base_uri": "https://localhost:8080/"
    },
    "executionInfo": {
     "elapsed": 16284,
     "status": "ok",
     "timestamp": 1617349292146,
     "user": {
      "displayName": "Michela Sperti",
      "photoUrl": "https://lh3.googleusercontent.com/a-/AOh14Gh7mD9r-1Xj0Qve63ZPZx9UHRv0PkVhL5ayiHNv=s64",
      "userId": "13210266879998244642"
     },
     "user_tz": -120
    },
    "id": "O7HI-6CneZvH",
    "outputId": "95c0203e-9ccc-488b-e081-2d62220ca272"
   },
   "outputs": [
    {
     "name": "stdout",
     "output_type": "stream",
     "text": [
      ".. _boston_dataset:\n",
      "\n",
      "Boston house prices dataset\n",
      "---------------------------\n",
      "\n",
      "**Data Set Characteristics:**  \n",
      "\n",
      "    :Number of Instances: 506 \n",
      "\n",
      "    :Number of Attributes: 13 numeric/categorical predictive. Median Value (attribute 14) is usually the target.\n",
      "\n",
      "    :Attribute Information (in order):\n",
      "        - CRIM     per capita crime rate by town\n",
      "        - ZN       proportion of residential land zoned for lots over 25,000 sq.ft.\n",
      "        - INDUS    proportion of non-retail business acres per town\n",
      "        - CHAS     Charles River dummy variable (= 1 if tract bounds river; 0 otherwise)\n",
      "        - NOX      nitric oxides concentration (parts per 10 million)\n",
      "        - RM       average number of rooms per dwelling\n",
      "        - AGE      proportion of owner-occupied units built prior to 1940\n",
      "        - DIS      weighted distances to five Boston employment centres\n",
      "        - RAD      index of accessibility to radial highways\n",
      "        - TAX      full-value property-tax rate per $10,000\n",
      "        - PTRATIO  pupil-teacher ratio by town\n",
      "        - B        1000(Bk - 0.63)^2 where Bk is the proportion of blacks by town\n",
      "        - LSTAT    % lower status of the population\n",
      "        - MEDV     Median value of owner-occupied homes in $1000's\n",
      "\n",
      "    :Missing Attribute Values: None\n",
      "\n",
      "    :Creator: Harrison, D. and Rubinfeld, D.L.\n",
      "\n",
      "This is a copy of UCI ML housing dataset.\n",
      "https://archive.ics.uci.edu/ml/machine-learning-databases/housing/\n",
      "\n",
      "\n",
      "This dataset was taken from the StatLib library which is maintained at Carnegie Mellon University.\n",
      "\n",
      "The Boston house-price data of Harrison, D. and Rubinfeld, D.L. 'Hedonic\n",
      "prices and the demand for clean air', J. Environ. Economics & Management,\n",
      "vol.5, 81-102, 1978.   Used in Belsley, Kuh & Welsch, 'Regression diagnostics\n",
      "...', Wiley, 1980.   N.B. Various transformations are used in the table on\n",
      "pages 244-261 of the latter.\n",
      "\n",
      "The Boston house-price data has been used in many machine learning papers that address regression\n",
      "problems.   \n",
      "     \n",
      ".. topic:: References\n",
      "\n",
      "   - Belsley, Kuh & Welsch, 'Regression diagnostics: Identifying Influential Data and Sources of Collinearity', Wiley, 1980. 244-261.\n",
      "   - Quinlan,R. (1993). Combining Instance-Based and Model-Based Learning. In Proceedings on the Tenth International Conference of Machine Learning, 236-243, University of Massachusetts, Amherst. Morgan Kaufmann.\n",
      "\n"
     ]
    }
   ],
   "source": [
    "print(boston['DESCR'])"
   ]
  },
  {
   "cell_type": "markdown",
   "metadata": {
    "id": "pFsRlbsifEsE"
   },
   "source": [
    "Let's get the dimension of the data set now."
   ]
  },
  {
   "cell_type": "code",
   "execution_count": 7,
   "metadata": {
    "colab": {
     "base_uri": "https://localhost:8080/"
    },
    "executionInfo": {
     "elapsed": 14481,
     "status": "ok",
     "timestamp": 1617349292147,
     "user": {
      "displayName": "Michela Sperti",
      "photoUrl": "https://lh3.googleusercontent.com/a-/AOh14Gh7mD9r-1Xj0Qve63ZPZx9UHRv0PkVhL5ayiHNv=s64",
      "userId": "13210266879998244642"
     },
     "user_tz": -120
    },
    "id": "UYURRuMDaORt",
    "outputId": "5ea362a7-d6b3-41f9-fed7-fd7df54266ba"
   },
   "outputs": [
    {
     "name": "stdout",
     "output_type": "stream",
     "text": [
      "The dataset has 506 training samples.\n",
      "The dataset has 13 features.\n"
     ]
    }
   ],
   "source": [
    "n_training_samples = features.shape[0]\n",
    "n_dim = features.shape[1]\n",
    "\n",
    "print('The dataset has', n_training_samples, 'training samples.')\n",
    "print('The dataset has', n_dim, 'features.')"
   ]
  },
  {
   "cell_type": "markdown",
   "metadata": {
    "id": "VsJ3lWHYfOoq"
   },
   "source": [
    "So, in the variable `n_training_samples` we have the number of different input observations, and in the variable `n_dim` we have the number of features (or variables if you like) that we have at our disposal."
   ]
  },
  {
   "cell_type": "markdown",
   "metadata": {
    "id": "dg5CZQrVhY-z"
   },
   "source": [
    "## Dataset Normalization"
   ]
  },
  {
   "cell_type": "markdown",
   "metadata": {
    "id": "mm9VmZvGekCK"
   },
   "source": [
    "The following function is needed to normalize the different features, since this helps learning. As you can see, this is done by means of NumPy wonderful vectorized code."
   ]
  },
  {
   "cell_type": "code",
   "execution_count": 8,
   "metadata": {
    "executionInfo": {
     "elapsed": 13240,
     "status": "ok",
     "timestamp": 1617349292148,
     "user": {
      "displayName": "Michela Sperti",
      "photoUrl": "https://lh3.googleusercontent.com/a-/AOh14Gh7mD9r-1Xj0Qve63ZPZx9UHRv0PkVhL5ayiHNv=s64",
      "userId": "13210266879998244642"
     },
     "user_tz": -120
    },
    "id": "O_xOKJ8daSbg"
   },
   "outputs": [],
   "source": [
    "def normalize(dataset):\n",
    "    mu = np.mean(dataset, axis = 0)\n",
    "    sigma = np.std(dataset, axis = 0)\n",
    "    return (dataset - mu)/sigma"
   ]
  },
  {
   "cell_type": "code",
   "execution_count": 9,
   "metadata": {
    "executionInfo": {
     "elapsed": 12311,
     "status": "ok",
     "timestamp": 1617349292148,
     "user": {
      "displayName": "Michela Sperti",
      "photoUrl": "https://lh3.googleusercontent.com/a-/AOh14Gh7mD9r-1Xj0Qve63ZPZx9UHRv0PkVhL5ayiHNv=s64",
      "userId": "13210266879998244642"
     },
     "user_tz": -120
    },
    "id": "uD80TkNSaUuh"
   },
   "outputs": [],
   "source": [
    "features_norm = normalize(features)"
   ]
  },
  {
   "cell_type": "markdown",
   "metadata": {
    "id": "Bl3ACKAHgFie"
   },
   "source": [
    "## Extreme Overfitting"
   ]
  },
  {
   "cell_type": "markdown",
   "metadata": {
    "id": "tcHvhOhrgIkI"
   },
   "source": [
    "Now we will use the Boston dataset to go into a situation of extreme ovefitting. We will apply a **linear regression** model performed by means of deep neural networks to the Boston dataset. If you don't remember the details of linear regression implemented with deep neural networks you can check *Linear_regression_with_one_neuron.ipynb* notebook, in Chapter 14. \n",
    "\n",
    "First of all, **we split our dataset** into training (80% of the original dataset) and dev (20% of the original dataset) sets."
   ]
  },
  {
   "cell_type": "code",
   "execution_count": 10,
   "metadata": {
    "colab": {
     "base_uri": "https://localhost:8080/"
    },
    "executionInfo": {
     "elapsed": 9024,
     "status": "ok",
     "timestamp": 1617349292149,
     "user": {
      "displayName": "Michela Sperti",
      "photoUrl": "https://lh3.googleusercontent.com/a-/AOh14Gh7mD9r-1Xj0Qve63ZPZx9UHRv0PkVhL5ayiHNv=s64",
      "userId": "13210266879998244642"
     },
     "user_tz": -120
    },
    "id": "bRwhCHg_gUi-",
    "outputId": "755b04d5-9d03-4f15-d7f5-b62238680593"
   },
   "outputs": [
    {
     "name": "stdout",
     "output_type": "stream",
     "text": [
      "(399, 13)\n",
      "(399,)\n",
      "(107, 13)\n",
      "(107,)\n"
     ]
    }
   ],
   "source": [
    "np.random.seed(42)\n",
    "rnd = np.random.rand(len(features_norm)) < 0.8\n",
    "\n",
    "train_x = features_norm[rnd]\n",
    "train_y = target[rnd]\n",
    "dev_x = features_norm[~rnd]\n",
    "dev_y = target[~rnd]\n",
    "\n",
    "print(train_x.shape)\n",
    "print(train_y.shape)\n",
    "print(dev_x.shape)\n",
    "print(dev_y.shape)"
   ]
  },
  {
   "cell_type": "markdown",
   "metadata": {
    "id": "pMclFBAZhRr-"
   },
   "source": [
    "Let's look at what happens when we try to do linear regression with a network with **4 layers with 20 neurons each**.\n",
    "\n",
    "The following function builds and trains a feed-forward neural network model for linear regression and evaluates it on the training and dev sets. If you don't remember what a feed-forward neural network is, you can check the *Multiclass_classification_with_fully_connected_networks.ipynb* notebook in Chapter 15."
   ]
  },
  {
   "cell_type": "code",
   "execution_count": null,
   "metadata": {
    "id": "9A8iYGFRiADS"
   },
   "outputs": [],
   "source": [
    "def create_and_train_model_nlayers(data_train_norm, labels_train, data_dev_norm, labels_dev, num_neurons, num_layers):\n",
    "    # build model\n",
    "    inputs = keras.Input(shape = data_train_norm.shape[1]) # input layer\n",
    "    # he initialization\n",
    "    initializer = tf.keras.initializers.HeNormal()\n",
    "    # first hidden layer\n",
    "    dense = layers.Dense(num_neurons, activation = 'relu', kernel_initializer = initializer)(inputs)\n",
    "    # customized number of layers and neurons per layer\n",
    "    for i in range(num_layers - 1):       \n",
    "        dense = layers.Dense(num_neurons, activation = 'relu', kernel_initializer = initializer)(dense)\n",
    "    # output layer   \n",
    "    outputs = layers.Dense(1)(dense)\n",
    "    model = keras.Model(inputs = inputs, outputs = outputs, name = 'model')\n",
    "    # set optimizer and loss\n",
    "    opt = keras.optimizers.Adam(learning_rate = 0.001)\n",
    "    model.compile(loss = 'mse', optimizer = opt, metrics = ['mse'])\n",
    "    \n",
    "    # train model\n",
    "    history = model.fit(\n",
    "      data_train_norm, labels_train,\n",
    "      epochs = 10000, verbose = 0,\n",
    "      batch_size = data_train_norm.shape[0],\n",
    "      validation_data = (data_dev_norm, labels_dev))\n",
    "    # save performances\n",
    "    hist = pd.DataFrame(history.history)\n",
    "    hist['epoch'] = history.epoch \n",
    "\n",
    "    return hist, model"
   ]
  },
  {
   "cell_type": "code",
   "execution_count": null,
   "metadata": {
    "id": "c-5jnFfir4Dn"
   },
   "outputs": [],
   "source": [
    "hist, model = create_and_train_model_nlayers(train_x, train_y, dev_x, dev_y, 20, 4)"
   ]
  },
  {
   "cell_type": "markdown",
   "metadata": {
    "id": "Bx44mEACqqA0"
   },
   "source": [
    "Now we want to plot the **dev vs training mean square error (MSE)** to understand if we are in overfitting regime."
   ]
  },
  {
   "cell_type": "markdown",
   "metadata": {
    "id": "ixKgBLoOtx5C"
   },
   "source": [
    "### Cost Function on the Training and Dev Dataset Plot"
   ]
  },
  {
   "cell_type": "code",
   "execution_count": 20,
   "metadata": {
    "executionInfo": {
     "elapsed": 700,
     "status": "ok",
     "timestamp": 1617351722264,
     "user": {
      "displayName": "Michela Sperti",
      "photoUrl": "https://lh3.googleusercontent.com/a-/AOh14Gh7mD9r-1Xj0Qve63ZPZx9UHRv0PkVhL5ayiHNv=s64",
      "userId": "13210266879998244642"
     },
     "user_tz": -120
    },
    "id": "1kfKnyTvBLll"
   },
   "outputs": [],
   "source": [
    "# The following line contains the path to fonts that are used to plot result in\n",
    "# a uniform way.\n",
    "\n",
    "f = set_style().set_general_style_parameters()"
   ]
  },
  {
   "cell_type": "code",
   "execution_count": null,
   "metadata": {
    "colab": {
     "base_uri": "https://localhost:8080/",
     "height": 392
    },
    "executionInfo": {
     "elapsed": 596332,
     "status": "ok",
     "timestamp": 1617184759624,
     "user": {
      "displayName": "Michela Sperti",
      "photoUrl": "https://lh3.googleusercontent.com/a-/AOh14Gh7mD9r-1Xj0Qve63ZPZx9UHRv0PkVhL5ayiHNv=s64",
      "userId": "13210266879998244642"
     },
     "user_tz": -120
    },
    "id": "zG_u4wBbBOCl",
    "outputId": "7e6e92b1-640f-49b4-f67b-39f1c5aa5bbe"
   },
   "outputs": [
    {
     "data": {
      "image/png": "[encoded data removed]",
      "text/plain": [
       "<Figure size 640x400 with 1 Axes>"
      ]
     },
     "metadata": {
      "filenames": {
       "image/png": "/Users/umberto/Research/Active Books/Applied Deep Learning - 2nd edition/ADL-Book-2nd-Ed/docs/_build/jupyter_execute/Chapter16/Regularization_techniques_31_0.png"
      },
      "needs_background": "light",
      "tags": []
     },
     "output_type": "display_data"
    }
   ],
   "source": [
    "# Cost Function vs. Number of Iterations plot for training and dev datasets\n",
    "\n",
    "fig = plt.figure()\n",
    "ax = fig.add_subplot(111)\n",
    "\n",
    "ax.plot(hist['loss'], ls = '-', color = 'black', lw = 3, label = 'Training MSE')\n",
    "ax.plot(hist['val_loss'], ls = '--', color = 'blue', lw = 2, label = 'Dev MSE')\n",
    "plt.ylabel('Cost Function (MSE)', fontproperties = fm.FontProperties(fname = f))\n",
    "plt.xlabel('Number of Iterations', fontproperties = fm.FontProperties(fname = f))\n",
    "ax.set_ylim(0, 30)\n",
    "plt.legend(loc = 'best')\n",
    "\n",
    "plt.axis(True)\n",
    "#plt.savefig('./Figure16-1.png', dpi = 300)\n",
    "plt.show()"
   ]
  },
  {
   "cell_type": "markdown",
   "metadata": {
    "id": "_OGWJC2yMP8q"
   },
   "source": [
    "As you can see from the above plot, we are in a situation of **extreme overfitting**. In fact, while the error on the training dataset quickly reaches the zero, the error on the dev dataset reaches a value of 15 and then it starts increasing until a value of 20. This means that our model has learnt useless features of the training dataset (for example noise) and that it cannot generalize on newly unseen data samples."
   ]
  },
  {
   "cell_type": "markdown",
   "metadata": {
    "id": "wHcWOItBFvSR"
   },
   "source": [
    "Another easy way of checking how our regression model is working is to plot the predicted values vs. the true values for both the training and dev datasets. If our regression would be perfect, all the points would be placed on the diagonal, if not they would spread around it."
   ]
  },
  {
   "cell_type": "code",
   "execution_count": null,
   "metadata": {
    "id": "buYdh4ocGhvg"
   },
   "outputs": [],
   "source": [
    "# predictions\n",
    "pred_y_train = model.predict(train_x).flatten()\n",
    "pred_y_dev = model.predict(dev_x).flatten()"
   ]
  },
  {
   "cell_type": "markdown",
   "metadata": {
    "id": "xVaa0SQqGI6q"
   },
   "source": [
    "### Predicted Values vs. True Values on Training and Dev Dataset Plot"
   ]
  },
  {
   "cell_type": "code",
   "execution_count": null,
   "metadata": {
    "colab": {
     "base_uri": "https://localhost:8080/",
     "height": 385
    },
    "executionInfo": {
     "elapsed": 596224,
     "status": "ok",
     "timestamp": 1617184760245,
     "user": {
      "displayName": "Michela Sperti",
      "photoUrl": "https://lh3.googleusercontent.com/a-/AOh14Gh7mD9r-1Xj0Qve63ZPZx9UHRv0PkVhL5ayiHNv=s64",
      "userId": "13210266879998244642"
     },
     "user_tz": -120
    },
    "id": "KMDqh0c-G8gJ",
    "outputId": "a2b0431e-d6a4-4d8e-8a02-d4d10878ffc7"
   },
   "outputs": [
    {
     "data": {
      "image/png": "[encoded data removed]",
      "text/plain": [
       "<Figure size 1040x400 with 2 Axes>"
      ]
     },
     "metadata": {
      "filenames": {
       "image/png": "/Users/umberto/Research/Active Books/Applied Deep Learning - 2nd edition/ADL-Book-2nd-Ed/docs/_build/jupyter_execute/Chapter16/Regularization_techniques_36_0.png"
      },
      "needs_background": "light",
      "tags": []
     },
     "output_type": "display_data"
    }
   ],
   "source": [
    "# predicted values vs. true values plot for training and dev datasets\n",
    "\n",
    "fig = plt.figure(figsize = (13, 5))\n",
    "ax = fig.add_subplot(121)\n",
    "\n",
    "ax.scatter(train_y, pred_y_train, s = 50, color = 'blue', label = 'MSE Training = ' + '{:5.4f}'.format(hist['loss'].values[-1]))\n",
    "ax.plot([np.min(np.array(dev_y)), np.max(np.array(dev_y))], [np.min(np.array(dev_y)), np.max(np.array(dev_y))], 'k--', lw = 3)\n",
    "ax.set_xlabel('Measured Target Value', fontproperties = fm.FontProperties(fname = f))\n",
    "ax.set_ylabel('Predicted Target Value', fontproperties = fm.FontProperties(fname = f))\n",
    "ax.set_ylim(0, 55)\n",
    "ax.legend(loc = 'best')\n",
    "\n",
    "ax = fig.add_subplot(122)\n",
    "ax.scatter(dev_y, pred_y_dev, s = 50, color = 'blue', label = 'MSE Dev = ' + '{:5.2f}'.format(hist['val_loss'].values[-1]))\n",
    "ax.plot([np.min(np.array(dev_y)), np.max(np.array(dev_y))], [np.min(np.array(dev_y)), np.max(np.array(dev_y))], 'k--', lw = 3)\n",
    "ax.set_xlabel('Measured Target Value', fontproperties = fm.FontProperties(fname = f))\n",
    "ax.set_ylim(0, 55)\n",
    "ax.legend(loc = 'best')\n",
    "\n",
    "plt.axis(True)\n",
    "#plt.savefig('./Figure16-2.png', dpi = 300)\n",
    "plt.show()"
   ]
  },
  {
   "cell_type": "markdown",
   "metadata": {
    "id": "asc6XJqENR81"
   },
   "source": [
    "And, as expected, the model behaves perfectly on the training dataset and poorly on the dev dataset. In the left plot all the points stand on the diagonal line, with a very low MSE, while in the right plot the points are more scattered and the MSE increases. This means that the predictions on the dev test are quite different from the target labels.\n",
    "\n",
    "So, the natural question now is: why does the model go into overfitting regime? How to avoid it? The answer to the first question is quite easy and it is linked to the complexity of our network: too many layers and too many neurons learn useless information from the training dataset.\n",
    "\n",
    "Concerning the second question, there are many ways to try to reduce overfitting. The most straightforward is to reduce the complexity of the network. However, this is a very time-consuming process, mostly when we have very big datasets which require time to be trained. In fact we have to try different architecture and decide which is the right one. \n",
    "\n",
    "*An alternative solution to the problem of overfitting is regularization.* Let us see more in detail how to perform it."
   ]
  },
  {
   "cell_type": "markdown",
   "metadata": {
    "id": "oc4s4hzSN6tK"
   },
   "source": [
    "## Regularization"
   ]
  },
  {
   "cell_type": "markdown",
   "metadata": {
    "id": "kt-Q8Kw3Zsag"
   },
   "source": [
    "We are now going to try a regularization method to deal with the problem of overfitting. \n",
    "\n",
    "First of all, it is important to know that the concept of **regularization** in machine learning has a long history, starting from the 90s, and evolving over time. If you are interest in different views on what regularization means, check the [Further Readings](#fr) section of the notebook.\n",
    "\n",
    "In this notebook, we will consider regularization as a way to try to avoid overfitting.  More specifically, this is achieved by reducing the number of network's weights which are not zero, during the training phase. \n",
    "\n",
    "We will start from **${\\bf L_2}$ regularization technique**, which consists of adding a term to the cost function with the aim of reducing the effective capacity of the network to adapt to complex datasets."
   ]
  },
  {
   "cell_type": "markdown",
   "metadata": {
    "id": "RIoWlS9ih2PA"
   },
   "source": [
    "### **$L_2$ Regularization Technique**"
   ]
  },
  {
   "cell_type": "markdown",
   "metadata": {
    "id": "Gif6LmaEtpbT"
   },
   "source": [
    "Applying $L_2$ regularization technique, the cost function is defined as follow\n",
    "\n",
    "$$\n",
    "\\tilde{J}({\\bf w})={J({\\bf w})+\\frac{\\lambda}{2m}{||{\\bf w}||}^2}_2 \n",
    "$$\n",
    "\n",
    "where ${\\frac{\\lambda}{2m}{||{\\bf w}||}^2}_2$ is called the **regularization term** ($m$ is the number of observations) and $\\lambda$ is called the **regularization parameter**.\n",
    "\n",
    "We will define $\\lambda$ in Keras as an additional hyper-parameter and we will search for its optimal value (i.e. the one that prevents the network from going into overfitting regime). \n",
    "\n",
    "Notice that in Keras the $L_2$ regularization penalty is computed as: `loss = l2 * reduce_sum(square(x))`."
   ]
  },
  {
   "cell_type": "code",
   "execution_count": null,
   "metadata": {
    "id": "QU9qN5NydOoM"
   },
   "outputs": [],
   "source": [
    "def create_and_train_reg_model_L2(data_train_norm, labels_train, data_dev_norm, labels_dev, num_neurons, num_layers, n_epochs, lambda_):\n",
    "    # build model\n",
    "    inputs = keras.Input(shape = data_train_norm.shape[1]) # input layer\n",
    "    # he initialization\n",
    "    initializer = tf.keras.initializers.HeNormal()\n",
    "    # regularization\n",
    "    reg = tf.keras.regularizers.l2(l2 = lambda_)\n",
    "    # first hidden layer\n",
    "    dense = layers.Dense(num_neurons, activation = 'relu', kernel_initializer = initializer, kernel_regularizer = reg)(inputs)\n",
    "    # customized number of layers and neurons per layer\n",
    "    for i in range(num_layers - 1):       \n",
    "        dense = layers.Dense(num_neurons, activation = 'relu', kernel_initializer = initializer, kernel_regularizer = reg)(dense)\n",
    "    # output layer   \n",
    "    outputs = layers.Dense(1)(dense)\n",
    "    model = keras.Model(inputs = inputs, outputs = outputs, name = 'model')\n",
    "    # set optimizer and loss\n",
    "    opt = keras.optimizers.Adam(learning_rate = 0.001)\n",
    "    model.compile(loss = 'mse', optimizer = opt, metrics = ['mse'])\n",
    "    \n",
    "    # train model\n",
    "    history = model.fit(\n",
    "      data_train_norm, labels_train,\n",
    "      epochs = n_epochs, verbose = 0,\n",
    "      batch_size = data_train_norm.shape[0],\n",
    "      validation_data = (data_dev_norm, labels_dev))\n",
    "    # save performances\n",
    "    hist = pd.DataFrame(history.history)\n",
    "    hist['epoch'] = history.epoch \n",
    "    # print performances\n",
    "    print('Cost function at epoch 0')\n",
    "    print('Training MSE = ', hist['loss'].values[0])\n",
    "    print('Dev MSE = ', hist['val_loss'].values[0])\n",
    "    print('Cost function at epoch ' + str(n_epochs))\n",
    "    print('Training MSE = ', hist['loss'].values[-1])\n",
    "    print('Dev MSE = ', hist['val_loss'].values[-1])\n",
    "\n",
    "    return hist, model"
   ]
  },
  {
   "cell_type": "markdown",
   "metadata": {
    "id": "1KE1wKMKJRkq"
   },
   "source": [
    "#### Number of Weights that are Zero"
   ]
  },
  {
   "cell_type": "markdown",
   "metadata": {
    "id": "oRjQ-Fw-RJCP"
   },
   "source": [
    "Let us evaluate and compare a situation in which the network is not regularized ($\\lambda = 0.0$) and a situation in which we apply a regularization ($\\lambda = 10.0$), printing on the screen the final loss function value in the case of the training and dev dataset."
   ]
  },
  {
   "cell_type": "markdown",
   "metadata": {
    "id": "tugD62uDFEg1"
   },
   "source": [
    "##### $\\lambda = 0.0$ vs $\\lambda = 10.0$, $5000$ epochs"
   ]
  },
  {
   "cell_type": "code",
   "execution_count": null,
   "metadata": {
    "colab": {
     "base_uri": "https://localhost:8080/"
    },
    "executionInfo": {
     "elapsed": 888934,
     "status": "ok",
     "timestamp": 1617185054605,
     "user": {
      "displayName": "Michela Sperti",
      "photoUrl": "https://lh3.googleusercontent.com/a-/AOh14Gh7mD9r-1Xj0Qve63ZPZx9UHRv0PkVhL5ayiHNv=s64",
      "userId": "13210266879998244642"
     },
     "user_tz": -120
    },
    "id": "-6qYKGAQge5R",
    "outputId": "772090fb-d8d1-4cee-ac54-01b027c61977"
   },
   "outputs": [
    {
     "name": "stdout",
     "output_type": "stream",
     "text": [
      "Cost function at epoch 0\n",
      "Training MSE =  437.77789306640625\n",
      "Dev MSE =  409.2901611328125\n",
      "Cost function at epoch 5000\n",
      "Training MSE =  0.3108246922492981\n",
      "Dev MSE =  18.21949005126953\n"
     ]
    }
   ],
   "source": [
    "hist_notreg, model_notreg = create_and_train_reg_model_L2(train_x, train_y, dev_x, dev_y, 20, 4, 5000, 0.0)"
   ]
  },
  {
   "cell_type": "code",
   "execution_count": null,
   "metadata": {
    "colab": {
     "base_uri": "https://localhost:8080/"
    },
    "executionInfo": {
     "elapsed": 1182320,
     "status": "ok",
     "timestamp": 1617185348176,
     "user": {
      "displayName": "Michela Sperti",
      "photoUrl": "https://lh3.googleusercontent.com/a-/AOh14Gh7mD9r-1Xj0Qve63ZPZx9UHRv0PkVhL5ayiHNv=s64",
      "userId": "13210266879998244642"
     },
     "user_tz": -120
    },
    "id": "81eE_NkV3l2J",
    "outputId": "fe727792-c380-47e8-b428-4527c7e7b7aa"
   },
   "outputs": [
    {
     "name": "stdout",
     "output_type": "stream",
     "text": [
      "Cost function at epoch 0\n",
      "Training MSE =  2099.23779296875\n",
      "Dev MSE =  2067.65234375\n",
      "Cost function at epoch 5000\n",
      "Training MSE =  54.47111511230469\n",
      "Dev MSE =  53.30109786987305\n"
     ]
    }
   ],
   "source": [
    "hist_reg, model_reg = create_and_train_reg_model_L2(train_x, train_y, dev_x, dev_y, 20, 4, 5000, 10.0)"
   ]
  },
  {
   "cell_type": "markdown",
   "metadata": {
    "id": "qD07AnWyFp_r"
   },
   "source": [
    "As we said before, $L_2$ regularization reduces the number of network's weights which are not zero, during the training phase, and prevent the overfitting situation (in fact, as you can see, the MSE on the training and test after 5000 epochs are quite similar). Let us inspect how the weights have changed after regularization."
   ]
  },
  {
   "cell_type": "markdown",
   "metadata": {
    "id": "25Fn37ajMcyM"
   },
   "source": [
    "Let us first check how many weights have been reduced to zero during the regularization process.\n",
    "\n",
    "The following lines extract the weights associated to each hidden layer in the case of the regularized version of the network and the not regularized one."
   ]
  },
  {
   "cell_type": "code",
   "execution_count": null,
   "metadata": {
    "id": "JlvQw0xFJjyH"
   },
   "outputs": [],
   "source": [
    "# not regularized network\n",
    "weights1_notreg = model_notreg.layers[1].get_weights()[0]\n",
    "weights2_notreg = model_notreg.layers[2].get_weights()[0]\n",
    "weights3_notreg = model_notreg.layers[3].get_weights()[0]\n",
    "weights4_notreg = model_notreg.layers[4].get_weights()[0]"
   ]
  },
  {
   "cell_type": "code",
   "execution_count": null,
   "metadata": {
    "id": "_qO61sJKthgT"
   },
   "outputs": [],
   "source": [
    "# regularized network\n",
    "weights1_reg = model_reg.layers[1].get_weights()[0]\n",
    "weights2_reg = model_reg.layers[2].get_weights()[0]\n",
    "weights3_reg = model_reg.layers[3].get_weights()[0]\n",
    "weights4_reg = model_reg.layers[4].get_weights()[0]"
   ]
  },
  {
   "cell_type": "markdown",
   "metadata": {
    "id": "zwPzrMk31cVE"
   },
   "source": [
    "Now we print the percentage of weights equal to zero inside each hidden layer."
   ]
  },
  {
   "cell_type": "code",
   "execution_count": null,
   "metadata": {
    "colab": {
     "base_uri": "https://localhost:8080/"
    },
    "executionInfo": {
     "elapsed": 1181274,
     "status": "ok",
     "timestamp": 1617185348177,
     "user": {
      "displayName": "Michela Sperti",
      "photoUrl": "https://lh3.googleusercontent.com/a-/AOh14Gh7mD9r-1Xj0Qve63ZPZx9UHRv0PkVhL5ayiHNv=s64",
      "userId": "13210266879998244642"
     },
     "user_tz": -120
    },
    "id": "AECQN6T80tNb",
    "outputId": "66f9b102-8c06-4a3d-dbc1-b308d955e31f"
   },
   "outputs": [
    {
     "name": "stdout",
     "output_type": "stream",
     "text": [
      "NOT REGULARIZED NETWORK\n",
      "First hidden layer:\n",
      "0.38\n",
      "Second hidden layer:\n",
      "0.00\n",
      "Third hidden layer:\n",
      "0.25\n",
      "Fourth hidden layer:\n",
      "0.25\n"
     ]
    }
   ],
   "source": [
    "print('NOT REGULARIZED NETWORK')\n",
    "print('First hidden layer:')\n",
    "print('{:.2f}'.format((np.sum(np.abs(weights1_notreg) < 1e-3)) / weights1_notreg.size * 100.0))\n",
    "print('Second hidden layer:')\n",
    "print('{:.2f}'.format((np.sum(np.abs(weights2_notreg) < 1e-3)) / weights2_notreg.size * 100.0))\n",
    "print('Third hidden layer:')\n",
    "print('{:.2f}'.format((np.sum(np.abs(weights3_notreg) < 1e-3)) / weights3_notreg.size * 100.0))\n",
    "print('Fourth hidden layer:')\n",
    "print('{:.2f}'.format((np.sum(np.abs(weights4_notreg) < 1e-3)) / weights4_notreg.size * 100.0))"
   ]
  },
  {
   "cell_type": "code",
   "execution_count": null,
   "metadata": {
    "colab": {
     "base_uri": "https://localhost:8080/"
    },
    "executionInfo": {
     "elapsed": 1180976,
     "status": "ok",
     "timestamp": 1617185348178,
     "user": {
      "displayName": "Michela Sperti",
      "photoUrl": "https://lh3.googleusercontent.com/a-/AOh14Gh7mD9r-1Xj0Qve63ZPZx9UHRv0PkVhL5ayiHNv=s64",
      "userId": "13210266879998244642"
     },
     "user_tz": -120
    },
    "id": "ywyfAUIo1RBF",
    "outputId": "c6ce6ee0-0c9a-485f-849f-fdedbbfcf92b"
   },
   "outputs": [
    {
     "name": "stdout",
     "output_type": "stream",
     "text": [
      "REGULARIZED NETWORK\n",
      "First hidden layer:\n",
      "10.00\n",
      "Second hidden layer:\n",
      "37.75\n",
      "Third hidden layer:\n",
      "65.50\n",
      "Fourth hidden layer:\n",
      "64.25\n"
     ]
    }
   ],
   "source": [
    "print('REGULARIZED NETWORK')\n",
    "print('First hidden layer:')\n",
    "print('{:.2f}'.format((np.sum(np.abs(weights1_reg) < 1e-3)) / weights1_reg.size * 100.0))\n",
    "print('Second hidden layer:')\n",
    "print('{:.2f}'.format((np.sum(np.abs(weights2_reg) < 1e-3)) / weights2_reg.size * 100.0))\n",
    "print('Third hidden layer:')\n",
    "print('{:.2f}'.format((np.sum(np.abs(weights3_reg) < 1e-3)) / weights3_reg.size * 100.0))\n",
    "print('Fourth hidden layer:')\n",
    "print('{:.2f}'.format((np.sum(np.abs(weights4_reg) < 1e-3)) / weights4_reg.size * 100.0))"
   ]
  },
  {
   "cell_type": "markdown",
   "metadata": {
    "id": "d-PZsu0jMlKd"
   },
   "source": [
    "We can then compare the histogram of the weights with and without regularization (to have a more intuitive representation of the weights). The difference is quite stunning."
   ]
  },
  {
   "cell_type": "code",
   "execution_count": null,
   "metadata": {
    "colab": {
     "base_uri": "https://localhost:8080/",
     "height": 566
    },
    "executionInfo": {
     "elapsed": 1181182,
     "status": "ok",
     "timestamp": 1617185349067,
     "user": {
      "displayName": "Michela Sperti",
      "photoUrl": "https://lh3.googleusercontent.com/a-/AOh14Gh7mD9r-1Xj0Qve63ZPZx9UHRv0PkVhL5ayiHNv=s64",
      "userId": "13210266879998244642"
     },
     "user_tz": -120
    },
    "id": "hI6aOuOoKFH2",
    "outputId": "516ddf3c-d270-43e3-8ab5-2471ce057e15"
   },
   "outputs": [
    {
     "data": {
      "image/png": "[encoded data removed]",
      "text/plain": [
       "<Figure size 960x640 with 4 Axes>"
      ]
     },
     "metadata": {
      "filenames": {
       "image/png": "/Users/umberto/Research/Active Books/Applied Deep Learning - 2nd edition/ADL-Book-2nd-Ed/docs/_build/jupyter_execute/Chapter16/Regularization_techniques_56_0.png"
      },
      "needs_background": "light",
      "tags": []
     },
     "output_type": "display_data"
    }
   ],
   "source": [
    "fig = plt.figure(figsize = (12, 8))\n",
    "ax = fig.add_subplot(221)\n",
    "plt.hist(weights1_notreg.flatten(), alpha = 0.25, bins = 10, color = 'black')\n",
    "plt.hist(weights1_reg.flatten(), alpha = 0.5, bins = 5, color = 'black')\n",
    "ax.set_ylabel('Count', fontproperties = fm.FontProperties(fname = f))\n",
    "ax.text(-1, 150, 'Layer 1', fontproperties = fm.FontProperties(fname = f))\n",
    "plt.xticks(fontproperties = fm.FontProperties(fname = f))\n",
    "plt.yticks(fontproperties = fm.FontProperties(fname = f)) \n",
    "plt.ylim(0, 350)\n",
    "\n",
    "ax = fig.add_subplot(222)\n",
    "plt.hist(weights2_notreg.flatten(), alpha = 0.25, bins = 10, color = 'black')\n",
    "plt.hist(weights2_reg.flatten(), alpha = 0.5, bins = 5, color = 'black')\n",
    "ax.text(-1.25, 150, 'Layer 2', fontproperties = fm.FontProperties(fname = f))\n",
    "plt.xticks(fontproperties = fm.FontProperties(fname = f))\n",
    "plt.yticks(fontproperties = fm.FontProperties(fname = f)) \n",
    "plt.ylim(0, 350)\n",
    "\n",
    "ax = fig.add_subplot(223)\n",
    "plt.hist(weights3_notreg.flatten(), alpha = 0.25, bins = 10, color = 'black')\n",
    "plt.hist(weights3_reg.flatten(), alpha = 0.5, bins = 5, color = 'black')\n",
    "ax.set_ylabel('Count', fontproperties = fm.FontProperties(fname = f))\n",
    "ax.set_xlabel('Weights', fontproperties = fm.FontProperties(fname = f))\n",
    "ax.text(-2.30, 150, 'Layer 3', fontproperties = fm.FontProperties(fname = f))\n",
    "plt.xticks(fontproperties = fm.FontProperties(fname = f))\n",
    "plt.yticks(fontproperties = fm.FontProperties(fname = f)) \n",
    "plt.ylim(0, 400)\n",
    "\n",
    "ax = fig.add_subplot(224)\n",
    "plt.hist(weights4_notreg.flatten(), alpha = 0.25, bins = 10, color = 'black')\n",
    "plt.hist(weights4_reg.flatten(), alpha = 0.5, bins = 5, color = 'black')\n",
    "ax.set_xlabel('Weights', fontproperties = fm.FontProperties(fname = f))\n",
    "ax.text(-2.30, 150, 'Layer 4', fontproperties = fm.FontProperties(fname = f))\n",
    "plt.xticks(fontproperties = fm.FontProperties(fname = f))\n",
    "plt.yticks(fontproperties = fm.FontProperties(fname = f)) \n",
    "plt.ylim(0, 400)\n",
    "\n",
    "#plt.savefig('./Figure16-3.png', dpi = 300)\n",
    "plt.show()"
   ]
  },
  {
   "cell_type": "markdown",
   "metadata": {
    "id": "vXZLhnD44NKZ"
   },
   "source": [
    "As you can see from the above plot, regularization effectively increases the number of weights which are zero, reducing overfitting by making the network simpler, without the need to change its architecture."
   ]
  },
  {
   "cell_type": "markdown",
   "metadata": {
    "id": "bbTKc7EOF3SP"
   },
   "source": [
    "##### $\\lambda = 0.0$ vs $\\lambda = 3.0$, $1000$ epochs"
   ]
  },
  {
   "cell_type": "markdown",
   "metadata": {
    "id": "iAt-ybb7c4Kr"
   },
   "source": [
    "Let us inspect another case, comparing a not regularized network with a regularized one, with $\\lambda = 3.0$ and after 1000 epochs."
   ]
  },
  {
   "cell_type": "code",
   "execution_count": null,
   "metadata": {
    "colab": {
     "base_uri": "https://localhost:8080/"
    },
    "executionInfo": {
     "elapsed": 1238967,
     "status": "ok",
     "timestamp": 1617185407848,
     "user": {
      "displayName": "Michela Sperti",
      "photoUrl": "https://lh3.googleusercontent.com/a-/AOh14Gh7mD9r-1Xj0Qve63ZPZx9UHRv0PkVhL5ayiHNv=s64",
      "userId": "13210266879998244642"
     },
     "user_tz": -120
    },
    "id": "K1q6ZQCDyk-5",
    "outputId": "68ee7ae7-1e29-46d9-f41a-877ddb88baf3"
   },
   "outputs": [
    {
     "name": "stdout",
     "output_type": "stream",
     "text": [
      "Cost function at epoch 0\n",
      "Training MSE =  588.55859375\n",
      "Dev MSE =  561.6209106445312\n",
      "Cost function at epoch 1000\n",
      "Training MSE =  3.4968719482421875\n",
      "Dev MSE =  20.51352310180664\n"
     ]
    }
   ],
   "source": [
    "hist_notreg, model_notreg = create_and_train_reg_model_L2(train_x, train_y, dev_x, dev_y, 20, 4, 1000, 0.0)"
   ]
  },
  {
   "cell_type": "code",
   "execution_count": null,
   "metadata": {
    "colab": {
     "base_uri": "https://localhost:8080/"
    },
    "executionInfo": {
     "elapsed": 1298372,
     "status": "ok",
     "timestamp": 1617185467382,
     "user": {
      "displayName": "Michela Sperti",
      "photoUrl": "https://lh3.googleusercontent.com/a-/AOh14Gh7mD9r-1Xj0Qve63ZPZx9UHRv0PkVhL5ayiHNv=s64",
      "userId": "13210266879998244642"
     },
     "user_tz": -120
    },
    "id": "iNeHkdJZwwat",
    "outputId": "36392a3f-e312-482d-808f-5c96883cb355"
   },
   "outputs": [
    {
     "name": "stdout",
     "output_type": "stream",
     "text": [
      "Cost function at epoch 0\n",
      "Training MSE =  1022.06396484375\n",
      "Dev MSE =  995.086181640625\n",
      "Cost function at epoch 1000\n",
      "Training MSE =  52.672828674316406\n",
      "Dev MSE =  55.371116638183594\n"
     ]
    }
   ],
   "source": [
    "hist_reg, model_reg = create_and_train_reg_model_L2(train_x, train_y, dev_x, dev_y, 20, 4, 1000, 3.0)"
   ]
  },
  {
   "cell_type": "code",
   "execution_count": null,
   "metadata": {
    "id": "9YRx6L6jxfQr"
   },
   "outputs": [],
   "source": [
    "# not regularized network\n",
    "weights1_notreg = model_notreg.layers[1].get_weights()[0]\n",
    "weights2_notreg = model_notreg.layers[2].get_weights()[0]\n",
    "weights3_notreg = model_notreg.layers[3].get_weights()[0]\n",
    "weights4_notreg = model_notreg.layers[4].get_weights()[0]"
   ]
  },
  {
   "cell_type": "code",
   "execution_count": null,
   "metadata": {
    "id": "yERE_RFBxiV2"
   },
   "outputs": [],
   "source": [
    "# regularized network\n",
    "weights1_reg = model_reg.layers[1].get_weights()[0]\n",
    "weights2_reg = model_reg.layers[2].get_weights()[0]\n",
    "weights3_reg = model_reg.layers[3].get_weights()[0]\n",
    "weights4_reg = model_reg.layers[4].get_weights()[0]"
   ]
  },
  {
   "cell_type": "code",
   "execution_count": null,
   "metadata": {
    "colab": {
     "base_uri": "https://localhost:8080/"
    },
    "executionInfo": {
     "elapsed": 1297679,
     "status": "ok",
     "timestamp": 1617185467385,
     "user": {
      "displayName": "Michela Sperti",
      "photoUrl": "https://lh3.googleusercontent.com/a-/AOh14Gh7mD9r-1Xj0Qve63ZPZx9UHRv0PkVhL5ayiHNv=s64",
      "userId": "13210266879998244642"
     },
     "user_tz": -120
    },
    "id": "wziiO9JHxms1",
    "outputId": "c889ed6b-faab-4d2d-903b-bcdbf34beb03"
   },
   "outputs": [
    {
     "name": "stdout",
     "output_type": "stream",
     "text": [
      "NOT REGULARIZED NETWORK\n",
      "First hidden layer:\n",
      "0.77\n",
      "Second hidden layer:\n",
      "0.00\n",
      "Third hidden layer:\n",
      "1.00\n",
      "Fourth hidden layer:\n",
      "0.25\n"
     ]
    }
   ],
   "source": [
    "print('NOT REGULARIZED NETWORK')\n",
    "print('First hidden layer:')\n",
    "print('{:.2f}'.format((np.sum(np.abs(weights1_notreg) < 1e-3)) / weights1_notreg.size * 100.0))\n",
    "print('Second hidden layer:')\n",
    "print('{:.2f}'.format((np.sum(np.abs(weights2_notreg) < 1e-3)) / weights2_notreg.size * 100.0))\n",
    "print('Third hidden layer:')\n",
    "print('{:.2f}'.format((np.sum(np.abs(weights3_notreg) < 1e-3)) / weights3_notreg.size * 100.0))\n",
    "print('Fourth hidden layer:')\n",
    "print('{:.2f}'.format((np.sum(np.abs(weights4_notreg) < 1e-3)) / weights4_notreg.size * 100.0))"
   ]
  },
  {
   "cell_type": "code",
   "execution_count": null,
   "metadata": {
    "colab": {
     "base_uri": "https://localhost:8080/"
    },
    "executionInfo": {
     "elapsed": 1297381,
     "status": "ok",
     "timestamp": 1617185467385,
     "user": {
      "displayName": "Michela Sperti",
      "photoUrl": "https://lh3.googleusercontent.com/a-/AOh14Gh7mD9r-1Xj0Qve63ZPZx9UHRv0PkVhL5ayiHNv=s64",
      "userId": "13210266879998244642"
     },
     "user_tz": -120
    },
    "id": "NNc_jUYmxpE9",
    "outputId": "3b0e586c-6d72-45a7-e982-761689a512fb"
   },
   "outputs": [
    {
     "name": "stdout",
     "output_type": "stream",
     "text": [
      "REGULARIZED NETWORK\n",
      "First hidden layer:\n",
      "1.54\n",
      "Second hidden layer:\n",
      "28.25\n",
      "Third hidden layer:\n",
      "40.00\n",
      "Fourth hidden layer:\n",
      "45.75\n"
     ]
    }
   ],
   "source": [
    "print('REGULARIZED NETWORK')\n",
    "print('First hidden layer:')\n",
    "print('{:.2f}'.format((np.sum(np.abs(weights1_reg) < 1e-3)) / weights1_reg.size * 100.0))\n",
    "print('Second hidden layer:')\n",
    "print('{:.2f}'.format((np.sum(np.abs(weights2_reg) < 1e-3)) / weights2_reg.size * 100.0))\n",
    "print('Third hidden layer:')\n",
    "print('{:.2f}'.format((np.sum(np.abs(weights3_reg) < 1e-3)) / weights3_reg.size * 100.0))\n",
    "print('Fourth hidden layer:')\n",
    "print('{:.2f}'.format((np.sum(np.abs(weights4_reg) < 1e-3)) / weights4_reg.size * 100.0))"
   ]
  },
  {
   "cell_type": "markdown",
   "metadata": {
    "id": "2guyd5ub1f0V"
   },
   "source": [
    "#### Training and Dev MSE vs. $\\lambda$ Plot"
   ]
  },
  {
   "cell_type": "markdown",
   "metadata": {
    "id": "6IR3vo9h4qD1"
   },
   "source": [
    "**How can we choose $\\lambda$?** A very useful **tip** may be to plot the behaviour of the MSE on the training and dev sets, given a specific network, for many $\\lambda$ parameters.\n",
    "\n",
    "Let us calculate the performances:"
   ]
  },
  {
   "cell_type": "code",
   "execution_count": null,
   "metadata": {
    "colab": {
     "base_uri": "https://localhost:8080/"
    },
    "executionInfo": {
     "elapsed": 1830487,
     "status": "ok",
     "timestamp": 1617186001230,
     "user": {
      "displayName": "Michela Sperti",
      "photoUrl": "https://lh3.googleusercontent.com/a-/AOh14Gh7mD9r-1Xj0Qve63ZPZx9UHRv0PkVhL5ayiHNv=s64",
      "userId": "13210266879998244642"
     },
     "user_tz": -120
    },
    "id": "5vAKs-Ki1xiO",
    "outputId": "d198f306-18df-4168-f4eb-e1171df42d77"
   },
   "outputs": [
    {
     "name": "stdout",
     "output_type": "stream",
     "text": [
      "Lambda =  0.0\n",
      "Cost function at epoch 0\n",
      "Training MSE =  651.7122192382812\n",
      "Dev MSE =  615.8396606445312\n",
      "Cost function at epoch 1000\n",
      "Training MSE =  3.743802547454834\n",
      "Dev MSE =  16.33320426940918\n",
      "\n",
      "Lambda =  2.5\n",
      "Cost function at epoch 0\n",
      "Training MSE =  989.0043334960938\n",
      "Dev MSE =  960.2646484375\n",
      "Cost function at epoch 1000\n",
      "Training MSE =  48.386962890625\n",
      "Dev MSE =  51.39109802246094\n",
      "\n",
      "Lambda =  5.0\n",
      "Cost function at epoch 0\n",
      "Training MSE =  1516.9046630859375\n",
      "Dev MSE =  1480.40478515625\n",
      "Cost function at epoch 1000\n",
      "Training MSE =  62.484893798828125\n",
      "Dev MSE =  63.04401397705078\n",
      "\n",
      "Lambda =  7.5\n",
      "Cost function at epoch 0\n",
      "Training MSE =  1772.639892578125\n",
      "Dev MSE =  1738.387939453125\n",
      "Cost function at epoch 1000\n",
      "Training MSE =  73.22252655029297\n",
      "Dev MSE =  71.78938293457031\n",
      "\n",
      "Lambda =  10.0\n",
      "Cost function at epoch 0\n",
      "Training MSE =  2200.84375\n",
      "Dev MSE =  2164.82763671875\n",
      "Cost function at epoch 1000\n",
      "Training MSE =  89.33045196533203\n",
      "Dev MSE =  85.83134460449219\n",
      "\n",
      "Lambda =  12.5\n",
      "Cost function at epoch 0\n",
      "Training MSE =  2630.42333984375\n",
      "Dev MSE =  2593.941650390625\n",
      "Cost function at epoch 1000\n",
      "Training MSE =  103.18284606933594\n",
      "Dev MSE =  98.20773315429688\n",
      "\n",
      "Lambda =  15.0\n",
      "Cost function at epoch 0\n",
      "Training MSE =  3095.466064453125\n",
      "Dev MSE =  3055.00927734375\n",
      "Cost function at epoch 1000\n",
      "Training MSE =  118.67585754394531\n",
      "Dev MSE =  112.77542114257812\n",
      "\n",
      "Lambda =  17.5\n",
      "Cost function at epoch 0\n",
      "Training MSE =  3383.120849609375\n",
      "Dev MSE =  3345.5634765625\n",
      "Cost function at epoch 1000\n",
      "Training MSE =  118.77632904052734\n",
      "Dev MSE =  112.03402709960938\n",
      "\n",
      "Lambda =  20.0\n",
      "Cost function at epoch 0\n",
      "Training MSE =  3794.609375\n",
      "Dev MSE =  3753.96435546875\n",
      "Cost function at epoch 1000\n",
      "Training MSE =  127.06510162353516\n",
      "Dev MSE =  119.71223449707031\n",
      "\n"
     ]
    }
   ],
   "source": [
    "train_mse, dev_mse = [], []\n",
    "lambda_values = [0.0, 2.5, 5.0, 7.5, 10.0, 12.5, 15.0, 17.5, 20.0]\n",
    "\n",
    "for lambda_ in lambda_values:\n",
    "  \n",
    "  print('Lambda = ', lambda_)\n",
    "  hist_, model_ = create_and_train_reg_model_L2(train_x, train_y, dev_x, dev_y, 20, 4, 1000, lambda_)\n",
    "  train_mse.append(hist_['loss'].values[-1])\n",
    "  dev_mse.append(hist_['val_loss'].values[-1])\n",
    "  print()"
   ]
  },
  {
   "cell_type": "markdown",
   "metadata": {
    "id": "O-GO6ywE5DBC"
   },
   "source": [
    "And let us plot the final result."
   ]
  },
  {
   "cell_type": "code",
   "execution_count": null,
   "metadata": {
    "colab": {
     "base_uri": "https://localhost:8080/",
     "height": 385
    },
    "executionInfo": {
     "elapsed": 1457,
     "status": "ok",
     "timestamp": 1617187132709,
     "user": {
      "displayName": "Michela Sperti",
      "photoUrl": "https://lh3.googleusercontent.com/a-/AOh14Gh7mD9r-1Xj0Qve63ZPZx9UHRv0PkVhL5ayiHNv=s64",
      "userId": "13210266879998244642"
     },
     "user_tz": -120
    },
    "id": "Q8PyjvjXsdS-",
    "outputId": "3a9675ef-4867-4e75-c8ca-16520528e609"
   },
   "outputs": [
    {
     "data": {
      "image/png": "[encoded data removed]",
      "text/plain": [
       "<Figure size 640x400 with 1 Axes>"
      ]
     },
     "metadata": {
      "filenames": {
       "image/png": "/Users/umberto/Research/Active Books/Applied Deep Learning - 2nd edition/ADL-Book-2nd-Ed/docs/_build/jupyter_execute/Chapter16/Regularization_techniques_70_0.png"
      },
      "needs_background": "light",
      "tags": []
     },
     "output_type": "display_data"
    }
   ],
   "source": [
    "fig = plt.figure()\n",
    "ax = fig.add_subplot(111)\n",
    "\n",
    "ax.plot(lambda_values, train_mse, ls = '-', color = 'black', lw = 3, label = 'Training MSE')\n",
    "ax.plot(lambda_values, dev_mse, ls = '--', color = 'blue', lw = 2, label = 'Dev MSE')\n",
    "plt.ylabel('Cost Function (MSE)', fontproperties = fm.FontProperties(fname = f))\n",
    "plt.xlabel('$\\lambda$', fontproperties = fm.FontProperties(fname = f))\n",
    "ax.set_xticks(lambda_values)\n",
    "plt.legend(loc = 'best')\n",
    "\n",
    "plt.axis(True)\n",
    "#plt.savefig('./Figure16-4.png', dpi = 300)\n",
    "plt.show()"
   ]
  },
  {
   "cell_type": "markdown",
   "metadata": {
    "id": "V9jXk9DnNnYm"
   },
   "source": [
    " As you can see, a good choice for the $\\lambda$ parameter in this specific case (always remember that in the deep learning world there is no a unique rule) may be 6, since in this point the MSE on the training and on the dev datasets are almost the same. Before 6 in the plot, the model tends to overfit the data (since the error on the training is higher than the error on the dev set), while after 6 the model becomes too simple and cannot capture the main features of the dataset."
   ]
  },
  {
   "cell_type": "markdown",
   "metadata": {
    "id": "HYosvaJB7cpX"
   },
   "source": [
    "### $L_1$ Regularization Technique"
   ]
  },
  {
   "cell_type": "markdown",
   "metadata": {
    "id": "pZt-IySH7rhd"
   },
   "source": [
    "As for $L_2$ regularization, the implementation in Keras is straightforward.\n",
    "\n",
    "**${\\bf L_1}$ regularization** also works by adding an additional term to the cost function:\n",
    "\n",
    "$$\n",
    "\\tilde{J}({\\bf w})={J({\\bf w})+\\frac{\\lambda}{m}{||{\\bf w}||}}_1\n",
    "$$\n",
    "\n",
    "As before, we will define $\\lambda$ in Keras as an additional hyper-parameter and we will search for its optimal value (i.e. the one that prevents the network from going into overfitting regime). \n",
    "\n",
    "Notice that in Keras the $L_1$ regularization penalty is computed as: `loss = l1 * reduce_sum(abs(x))`."
   ]
  },
  {
   "cell_type": "code",
   "execution_count": null,
   "metadata": {
    "id": "iiLyBLG77l8i"
   },
   "outputs": [],
   "source": [
    "def create_and_train_reg_model_L1(data_train_norm, labels_train, data_dev_norm, labels_dev, num_neurons, num_layers, n_epochs, lambda_):\n",
    "    # build model\n",
    "    inputs = keras.Input(shape = data_train_norm.shape[1]) # input layer\n",
    "    # he initialization\n",
    "    initializer = tf.keras.initializers.HeNormal()\n",
    "    # regularization\n",
    "    reg = tf.keras.regularizers.l1(l1 = lambda_)\n",
    "    # first hidden layer\n",
    "    dense = layers.Dense(num_neurons, activation = 'relu', kernel_initializer = initializer, kernel_regularizer = reg)(inputs)\n",
    "    # customized number of layers and neurons per layer\n",
    "    for i in range(num_layers - 1):       \n",
    "        dense = layers.Dense(num_neurons, activation = 'relu', kernel_initializer = initializer, kernel_regularizer = reg)(dense)\n",
    "    # output layer   \n",
    "    outputs = layers.Dense(1)(dense)\n",
    "    model = keras.Model(inputs = inputs, outputs = outputs, name = 'model')\n",
    "    # set optimizer and loss\n",
    "    opt = keras.optimizers.Adam(learning_rate = 0.001)\n",
    "    model.compile(loss = 'mse', optimizer = opt, metrics = ['mse'])\n",
    "    \n",
    "    # train model\n",
    "    history = model.fit(\n",
    "      data_train_norm, labels_train,\n",
    "      epochs = n_epochs, verbose = 0,\n",
    "      batch_size = data_train_norm.shape[0],\n",
    "      validation_data = (data_dev_norm, labels_dev))\n",
    "    # save performances\n",
    "    hist = pd.DataFrame(history.history)\n",
    "    hist['epoch'] = history.epoch \n",
    "    # print performances\n",
    "    print('Cost function at epoch 0')\n",
    "    print('Training MSE = ', hist['loss'].values[0])\n",
    "    print('Dev MSE = ', hist['val_loss'].values[0])\n",
    "    print('Cost function at epoch ' + str(n_epochs))\n",
    "    print('Training MSE = ', hist['loss'].values[-1])\n",
    "    print('Dev MSE = ', hist['val_loss'].values[-1])\n",
    "\n",
    "    return hist, model"
   ]
  },
  {
   "cell_type": "markdown",
   "metadata": {
    "id": "MRdKgHwX8rro"
   },
   "source": [
    "The only change with respect to the function we wrote for implementing $L_2$ regularizer is in the definition of the regularizer itself. Very simple!!!"
   ]
  },
  {
   "cell_type": "markdown",
   "metadata": {
    "id": "VDrdzjCV86N5"
   },
   "source": [
    "#### Number of Weights that are Zero"
   ]
  },
  {
   "cell_type": "markdown",
   "metadata": {
    "id": "Ew2y8AtX88_A"
   },
   "source": [
    "Let us evaluate and compare a situation in which the network is not regularized ($\\lambda = 0.0$) and a situation in which we apply a regularization ($\\lambda = 3.0$), printing on the screen the final loss function value in the case of the training and dev dataset."
   ]
  },
  {
   "cell_type": "markdown",
   "metadata": {
    "id": "_5CuSfDC9DXB"
   },
   "source": [
    "##### $\\lambda = 0.0$ vs $\\lambda = 3.0$, $1000$ epochs"
   ]
  },
  {
   "cell_type": "code",
   "execution_count": null,
   "metadata": {
    "colab": {
     "base_uri": "https://localhost:8080/"
    },
    "executionInfo": {
     "elapsed": 41182,
     "status": "ok",
     "timestamp": 1617272628936,
     "user": {
      "displayName": "Michela Sperti",
      "photoUrl": "https://lh3.googleusercontent.com/a-/AOh14Gh7mD9r-1Xj0Qve63ZPZx9UHRv0PkVhL5ayiHNv=s64",
      "userId": "13210266879998244642"
     },
     "user_tz": -120
    },
    "id": "Go0Eq30s9Gsb",
    "outputId": "4c795697-852e-4858-c78f-9858a20ca0c0"
   },
   "outputs": [
    {
     "name": "stdout",
     "output_type": "stream",
     "text": [
      "Cost function at epoch 0\n",
      "Training MSE =  582.0275268554688\n",
      "Dev MSE =  555.6217651367188\n",
      "Cost function at epoch 1000\n",
      "Training MSE =  5.341501235961914\n",
      "Dev MSE =  25.19839096069336\n"
     ]
    }
   ],
   "source": [
    "hist_notreg, model_notreg = create_and_train_reg_model_L1(train_x, train_y, dev_x, dev_y, 20, 4, 1000, 0.0)"
   ]
  },
  {
   "cell_type": "code",
   "execution_count": null,
   "metadata": {
    "colab": {
     "base_uri": "https://localhost:8080/"
    },
    "executionInfo": {
     "elapsed": 40307,
     "status": "ok",
     "timestamp": 1617272996814,
     "user": {
      "displayName": "Michela Sperti",
      "photoUrl": "https://lh3.googleusercontent.com/a-/AOh14Gh7mD9r-1Xj0Qve63ZPZx9UHRv0PkVhL5ayiHNv=s64",
      "userId": "13210266879998244642"
     },
     "user_tz": -120
    },
    "id": "CVzBPTsz9Lgq",
    "outputId": "b0f2499b-5195-4e6b-cbb8-2c56196624f4"
   },
   "outputs": [
    {
     "name": "stdout",
     "output_type": "stream",
     "text": [
      "Cost function at epoch 0\n",
      "Training MSE =  1811.86376953125\n",
      "Dev MSE =  1778.408447265625\n",
      "Cost function at epoch 1000\n",
      "Training MSE =  91.37516021728516\n",
      "Dev MSE =  92.39669799804688\n"
     ]
    }
   ],
   "source": [
    "hist_reg, model_reg = create_and_train_reg_model_L1(train_x, train_y, dev_x, dev_y, 20, 4, 1000, 3.0)"
   ]
  },
  {
   "cell_type": "markdown",
   "metadata": {
    "id": "ClU6XZUc-jyb"
   },
   "source": [
    "As expected, also $L_1$ regularization effectively deals with overfitting (by reducing the difference between the training and dev set performances)."
   ]
  },
  {
   "cell_type": "markdown",
   "metadata": {
    "id": "pFeR6_LY9dJj"
   },
   "source": [
    "Let us inspect how many weights are close to zero, like we did for $L_2$ regularizer."
   ]
  },
  {
   "cell_type": "code",
   "execution_count": null,
   "metadata": {
    "id": "GSO_38A19bni"
   },
   "outputs": [],
   "source": [
    "# not regularized network\n",
    "weights1_notreg = model_notreg.layers[1].get_weights()[0]\n",
    "weights2_notreg = model_notreg.layers[2].get_weights()[0]\n",
    "weights3_notreg = model_notreg.layers[3].get_weights()[0]\n",
    "weights4_notreg = model_notreg.layers[4].get_weights()[0]"
   ]
  },
  {
   "cell_type": "code",
   "execution_count": null,
   "metadata": {
    "id": "bXSIwzTL9mVi"
   },
   "outputs": [],
   "source": [
    "# regularized network\n",
    "weights1_reg = model_reg.layers[1].get_weights()[0]\n",
    "weights2_reg = model_reg.layers[2].get_weights()[0]\n",
    "weights3_reg = model_reg.layers[3].get_weights()[0]\n",
    "weights4_reg = model_reg.layers[4].get_weights()[0]"
   ]
  },
  {
   "cell_type": "code",
   "execution_count": null,
   "metadata": {
    "colab": {
     "base_uri": "https://localhost:8080/"
    },
    "executionInfo": {
     "elapsed": 592,
     "status": "ok",
     "timestamp": 1617273015068,
     "user": {
      "displayName": "Michela Sperti",
      "photoUrl": "https://lh3.googleusercontent.com/a-/AOh14Gh7mD9r-1Xj0Qve63ZPZx9UHRv0PkVhL5ayiHNv=s64",
      "userId": "13210266879998244642"
     },
     "user_tz": -120
    },
    "id": "PK6BYWV_9oWK",
    "outputId": "e6940e20-2b9f-4729-d0d3-5bf37137ee60"
   },
   "outputs": [
    {
     "name": "stdout",
     "output_type": "stream",
     "text": [
      "NOT REGULARIZED NETWORK\n",
      "First hidden layer:\n",
      "0.00\n",
      "Second hidden layer:\n",
      "0.50\n",
      "Third hidden layer:\n",
      "0.00\n",
      "Fourth hidden layer:\n",
      "0.00\n"
     ]
    }
   ],
   "source": [
    "print('NOT REGULARIZED NETWORK')\n",
    "print('First hidden layer:')\n",
    "print('{:.2f}'.format((np.sum(np.abs(weights1_notreg) < 1e-3)) / weights1_notreg.size * 100.0))\n",
    "print('Second hidden layer:')\n",
    "print('{:.2f}'.format((np.sum(np.abs(weights2_notreg) < 1e-3)) / weights2_notreg.size * 100.0))\n",
    "print('Third hidden layer:')\n",
    "print('{:.2f}'.format((np.sum(np.abs(weights3_notreg) < 1e-3)) / weights3_notreg.size * 100.0))\n",
    "print('Fourth hidden layer:')\n",
    "print('{:.2f}'.format((np.sum(np.abs(weights4_notreg) < 1e-3)) / weights4_notreg.size * 100.0))"
   ]
  },
  {
   "cell_type": "code",
   "execution_count": null,
   "metadata": {
    "colab": {
     "base_uri": "https://localhost:8080/"
    },
    "executionInfo": {
     "elapsed": 524,
     "status": "ok",
     "timestamp": 1617273018030,
     "user": {
      "displayName": "Michela Sperti",
      "photoUrl": "https://lh3.googleusercontent.com/a-/AOh14Gh7mD9r-1Xj0Qve63ZPZx9UHRv0PkVhL5ayiHNv=s64",
      "userId": "13210266879998244642"
     },
     "user_tz": -120
    },
    "id": "x803asiW9rFi",
    "outputId": "f074779f-f879-4ded-a774-3d7cf15046a7"
   },
   "outputs": [
    {
     "name": "stdout",
     "output_type": "stream",
     "text": [
      "REGULARIZED NETWORK\n",
      "First hidden layer:\n",
      "90.77\n",
      "Second hidden layer:\n",
      "94.50\n",
      "Third hidden layer:\n",
      "96.75\n",
      "Fourth hidden layer:\n",
      "94.50\n"
     ]
    }
   ],
   "source": [
    "print('REGULARIZED NETWORK')\n",
    "print('First hidden layer:')\n",
    "print('{:.2f}'.format((np.sum(np.abs(weights1_reg) < 1e-3)) / weights1_reg.size * 100.0))\n",
    "print('Second hidden layer:')\n",
    "print('{:.2f}'.format((np.sum(np.abs(weights2_reg) < 1e-3)) / weights2_reg.size * 100.0))\n",
    "print('Third hidden layer:')\n",
    "print('{:.2f}'.format((np.sum(np.abs(weights3_reg) < 1e-3)) / weights3_reg.size * 100.0))\n",
    "print('Fourth hidden layer:')\n",
    "print('{:.2f}'.format((np.sum(np.abs(weights4_reg) < 1e-3)) / weights4_reg.size * 100.0))"
   ]
  },
  {
   "cell_type": "code",
   "execution_count": null,
   "metadata": {
    "colab": {
     "base_uri": "https://localhost:8080/",
     "height": 573
    },
    "executionInfo": {
     "elapsed": 2949,
     "status": "ok",
     "timestamp": 1617273155516,
     "user": {
      "displayName": "Michela Sperti",
      "photoUrl": "https://lh3.googleusercontent.com/a-/AOh14Gh7mD9r-1Xj0Qve63ZPZx9UHRv0PkVhL5ayiHNv=s64",
      "userId": "13210266879998244642"
     },
     "user_tz": -120
    },
    "id": "3If_8_ag9w25",
    "outputId": "30c436a3-4331-4dcc-d4da-744c5d2d4ca8"
   },
   "outputs": [
    {
     "data": {
      "image/png": "[encoded data removed]",
      "text/plain": [
       "<Figure size 960x640 with 4 Axes>"
      ]
     },
     "metadata": {
      "filenames": {
       "image/png": "/Users/umberto/Research/Active Books/Applied Deep Learning - 2nd edition/ADL-Book-2nd-Ed/docs/_build/jupyter_execute/Chapter16/Regularization_techniques_87_0.png"
      },
      "needs_background": "light",
      "tags": []
     },
     "output_type": "display_data"
    }
   ],
   "source": [
    "fig = plt.figure(figsize = (12, 8))\n",
    "ax = fig.add_subplot(221)\n",
    "plt.hist(weights1_notreg.flatten(), alpha = 0.25, bins = 10, color = 'black')\n",
    "plt.hist(weights1_reg.flatten(), alpha = 0.5, bins = 5, color = 'black')\n",
    "ax.set_ylabel('Count', fontproperties = fm.FontProperties(fname = f))\n",
    "ax.text(-0.75, 200, 'Layer 1', fontproperties = fm.FontProperties(fname = f))\n",
    "plt.xticks(fontproperties = fm.FontProperties(fname = f))\n",
    "plt.yticks(fontproperties = fm.FontProperties(fname = f)) \n",
    "plt.ylim(0, 400)\n",
    "\n",
    "ax = fig.add_subplot(222)\n",
    "plt.hist(weights2_notreg.flatten(), alpha = 0.25, bins = 10, color = 'black')\n",
    "plt.hist(weights2_reg.flatten(), alpha = 0.5, bins = 5, color = 'black')\n",
    "ax.text(-0.5, 200, 'Layer 2', fontproperties = fm.FontProperties(fname = f))\n",
    "plt.xticks(fontproperties = fm.FontProperties(fname = f))\n",
    "plt.yticks(fontproperties = fm.FontProperties(fname = f)) \n",
    "plt.ylim(0, 400)\n",
    "\n",
    "ax = fig.add_subplot(223)\n",
    "plt.hist(weights3_notreg.flatten(), alpha = 0.25, bins = 10, color = 'black')\n",
    "plt.hist(weights3_reg.flatten(), alpha = 0.5, bins = 5, color = 'black')\n",
    "ax.set_ylabel('Count', fontproperties = fm.FontProperties(fname = f))\n",
    "ax.set_xlabel('Weights', fontproperties = fm.FontProperties(fname = f))\n",
    "ax.text(-1, 200, 'Layer 3', fontproperties = fm.FontProperties(fname = f))\n",
    "plt.xticks(fontproperties = fm.FontProperties(fname = f))\n",
    "plt.yticks(fontproperties = fm.FontProperties(fname = f)) \n",
    "plt.ylim(0, 400)\n",
    "\n",
    "ax = fig.add_subplot(224)\n",
    "plt.hist(weights4_notreg.flatten(), alpha = 0.25, bins = 10, color = 'black')\n",
    "plt.hist(weights4_reg.flatten(), alpha = 0.5, bins = 5, color = 'black')\n",
    "ax.set_xlabel('Weights', fontproperties = fm.FontProperties(fname = f))\n",
    "ax.text(-1, 200, 'Layer 4', fontproperties = fm.FontProperties(fname = f))\n",
    "plt.xticks(fontproperties = fm.FontProperties(fname = f))\n",
    "plt.yticks(fontproperties = fm.FontProperties(fname = f)) \n",
    "plt.ylim(0, 400)\n",
    "\n",
    "#plt.savefig('./Figure16-8.png', dpi = 300)\n",
    "plt.show()"
   ]
  },
  {
   "cell_type": "markdown",
   "metadata": {
    "id": "YOoeQbs6eSIg"
   },
   "source": [
    "### Are the weights really going to zero?"
   ]
  },
  {
   "cell_type": "markdown",
   "metadata": {
    "id": "f8DV6tohgTFC"
   },
   "source": [
    "We are now using a simulated dataset to visually see how fast the weights of a regularized deep neural network goes to zero."
   ]
  },
  {
   "cell_type": "code",
   "execution_count": null,
   "metadata": {
    "id": "3phhfjH9g4Xh"
   },
   "outputs": [],
   "source": [
    "nobs = 30 # number of observations\n",
    "np.random.seed(42) # making results reproducible\n",
    "\n",
    "# first set of observations\n",
    "xx1 = np.array([np.random.normal(0.3, 0.15) for i in range (0, nobs)])\n",
    "yy1 = np.array([np.random.normal(0.3, 0.15) for i in range (0, nobs)])\n",
    "# second set of observations\n",
    "xx2 = np.array([np.random.normal(0.1, 0.1) for i in range (0, nobs)])\n",
    "yy2 = np.array([np.random.normal(0.3, 0.1) for i in range (0, nobs)])\n",
    "# concatenating observations\n",
    "c1_ = np.c_[xx1.ravel(), yy1.ravel()]\n",
    "c2_ = np.c_[xx2.ravel(), yy2.ravel()] \n",
    "c = np.concatenate([c1_, c2_])\n",
    "# creating the labels\n",
    "yy1_ = np.full(nobs, 0, dtype = int)\n",
    "yy2_ = np.full(nobs, 1, dtype = int)\n",
    "yyL = np.concatenate((yy1_, yy2_), axis = 0)\n",
    "# defining training points and labels\n",
    "train_x = c\n",
    "train_y = yyL"
   ]
  },
  {
   "cell_type": "markdown",
   "metadata": {
    "id": "9RH3cHATs_OY"
   },
   "source": [
    "Our dataset has two features: $x$ and $y$. Two group of points have been generated from a normal distribution:\n",
    "- (`xx1`, `yy1`), of class 0 \n",
    "- (`xx2`, `yy2`), of class 1"
   ]
  },
  {
   "cell_type": "markdown",
   "metadata": {
    "id": "zz4NlVkrhd8J"
   },
   "source": [
    "We will follow the behaviour of a specific weight ($w_{12,5}^{[3]}$ from layer 3) along the 1000 epochs. The network has been $L_2$-regularized ($\\lambda=0.1$).\n",
    "\n",
    "To get weights for every epoch from a Keras model it is necessary to use a **callback function**. We are not going into the details of callback functions here, since they are widely explained in another Chapter, specifically dedicated to them. The only thing you need to know now is that Keras does not automatically save each weight's value during training. To have them, we need to use callbacks.\n",
    "\n"
   ]
  },
  {
   "cell_type": "markdown",
   "metadata": {
    "id": "ix47Kw5qtlFU"
   },
   "source": [
    "With the following code we train the model for binary classification and we save the weights for each epoch."
   ]
  },
  {
   "cell_type": "code",
   "execution_count": null,
   "metadata": {
    "id": "FCA9SXD6jJk2"
   },
   "outputs": [],
   "source": [
    "weights_dict = {}\n",
    "weight_history = []"
   ]
  },
  {
   "cell_type": "code",
   "execution_count": null,
   "metadata": {
    "id": "jIPkGcBXiFVH"
   },
   "outputs": [],
   "source": [
    "# build model\n",
    "inputs = keras.Input(shape = train_x.shape[1]) # input layer\n",
    "# he initialization\n",
    "initializer = tf.keras.initializers.HeNormal()\n",
    "# regularization\n",
    "reg = tf.keras.regularizers.l2(l2 = 0.1)\n",
    "# hidden layers\n",
    "dense = layers.Dense(20, activation = 'relu', kernel_initializer = initializer, kernel_regularizer = reg)(inputs)\n",
    "dense = layers.Dense(20, activation = 'relu', kernel_initializer = initializer, kernel_regularizer = reg)(dense)\n",
    "dense = layers.Dense(20, activation = 'relu', kernel_initializer = initializer, kernel_regularizer = reg)(dense)\n",
    "dense = layers.Dense(20, activation = 'relu', kernel_initializer = initializer, kernel_regularizer = reg)(dense)    \n",
    "# output layer   \n",
    "outputs = layers.Dense(1, activation = 'sigmoid')(dense)\n",
    "model = keras.Model(inputs = inputs, outputs = outputs, name = 'model')\n",
    "# set optimizer and loss\n",
    "opt = keras.optimizers.Adam(learning_rate = 0.001)\n",
    "model.compile(loss = 'binary_crossentropy', optimizer = opt, metrics = ['accuracy'])\n",
    "# set callback function\n",
    "weight_callback = tf.keras.callbacks.LambdaCallback(on_epoch_end = lambda epoch, logs: weights_dict.update({epoch: model.get_weights()}))\n",
    "# train model\n",
    "history = model.fit(\n",
    "  train_x, train_y,\n",
    "  epochs = 1000, verbose = 0,\n",
    "  batch_size = train_x.shape[0],\n",
    "  callbacks = weight_callback)"
   ]
  },
  {
   "cell_type": "markdown",
   "metadata": {
    "id": "isx5g3jLtu8C"
   },
   "source": [
    "We then keep the values of the specific weight we are interested in."
   ]
  },
  {
   "cell_type": "code",
   "execution_count": null,
   "metadata": {
    "id": "PTzg_6OOjBKl"
   },
   "outputs": [],
   "source": [
    "# retrieve weights\n",
    "for epoch, weights in weights_dict.items():\n",
    "  weight_history.append(weights[6][5][12])"
   ]
  },
  {
   "cell_type": "markdown",
   "metadata": {
    "id": "qMNidLdpt3B7"
   },
   "source": [
    "Finally we plot the weight's decay rate."
   ]
  },
  {
   "cell_type": "code",
   "execution_count": null,
   "metadata": {
    "colab": {
     "base_uri": "https://localhost:8080/",
     "height": 385
    },
    "executionInfo": {
     "elapsed": 1640,
     "status": "ok",
     "timestamp": 1617286740358,
     "user": {
      "displayName": "Michela Sperti",
      "photoUrl": "https://lh3.googleusercontent.com/a-/AOh14Gh7mD9r-1Xj0Qve63ZPZx9UHRv0PkVhL5ayiHNv=s64",
      "userId": "13210266879998244642"
     },
     "user_tz": -120
    },
    "id": "stdLx1jCrfB8",
    "outputId": "23cc1fed-56b1-43cf-af25-7f065242a99a"
   },
   "outputs": [
    {
     "data": {
      "image/png": "[encoded data removed]",
      "text/plain": [
       "<Figure size 640x400 with 1 Axes>"
      ]
     },
     "metadata": {
      "filenames": {
       "image/png": "/Users/umberto/Research/Active Books/Applied Deep Learning - 2nd edition/ADL-Book-2nd-Ed/docs/_build/jupyter_execute/Chapter16/Regularization_techniques_99_0.png"
      },
      "needs_background": "light",
      "tags": []
     },
     "output_type": "display_data"
    }
   ],
   "source": [
    "# Weight's value vs. number of epoch plot\n",
    "fig = plt.figure()\n",
    "ax = fig.add_subplot(111)\n",
    "\n",
    "ax.plot(weight_history, color = 'blue')\n",
    "plt.ylabel('$w^{[3]}_{12,5}$', fontproperties = fm.FontProperties(fname = f))\n",
    "plt.xlabel('Epochs', fontproperties = fm.FontProperties(fname = f))\n",
    "ax.text(400, 0.08, 'Value after 1000 epochs:\\n$1\\cdot 10^{-16}$', fontproperties = fm.FontProperties(fname = f))\n",
    "\n",
    "#plt.savefig('./Figure16-9.png', dpi = 300)\n",
    "plt.show()"
   ]
  },
  {
   "cell_type": "markdown",
   "metadata": {
    "id": "SCIZ6VGCwv74"
   },
   "source": [
    "As you can notice, the weights really go down to zero and also very fast. How fast? Exponentially. Let us prove it visually, by comparing the above plot with an exponential decay."
   ]
  },
  {
   "cell_type": "code",
   "execution_count": null,
   "metadata": {
    "colab": {
     "base_uri": "https://localhost:8080/",
     "height": 392
    },
    "executionInfo": {
     "elapsed": 1487,
     "status": "ok",
     "timestamp": 1617286756399,
     "user": {
      "displayName": "Michela Sperti",
      "photoUrl": "https://lh3.googleusercontent.com/a-/AOh14Gh7mD9r-1Xj0Qve63ZPZx9UHRv0PkVhL5ayiHNv=s64",
      "userId": "13210266879998244642"
     },
     "user_tz": -120
    },
    "id": "Y-vRHJR0xGkm",
    "outputId": "3b45f2e5-ae88-4b83-a8fe-589b84748a7a"
   },
   "outputs": [
    {
     "data": {
      "image/png": "[encoded data removed]",
      "text/plain": [
       "<Figure size 640x400 with 1 Axes>"
      ]
     },
     "metadata": {
      "filenames": {
       "image/png": "/Users/umberto/Research/Active Books/Applied Deep Learning - 2nd edition/ADL-Book-2nd-Ed/docs/_build/jupyter_execute/Chapter16/Regularization_techniques_101_0.png"
      },
      "needs_background": "light",
      "tags": []
     },
     "output_type": "display_data"
    }
   ],
   "source": [
    "# Weight's value vs. number of epoch plot compared to exponential decay\n",
    "fig = plt.figure()\n",
    "ax = fig.add_subplot(111)\n",
    "\n",
    "ax.plot(weight_history, ls = '-', color = 'blue', label = 'Weight decay')\n",
    "ax.plot(0.11 * np.exp(-np.arange(0, 1000, 1) / 63), ls = '--', color = 'blue', label = 'Exponential decay')\n",
    "plt.ylabel('$w^{[3]}_{12,5}$', fontproperties = fm.FontProperties(fname = f))\n",
    "plt.xlabel('Epochs', fontproperties = fm.FontProperties(fname = f))\n",
    "plt.ylim(-0.01, 0.1)\n",
    "plt.legend(loc = 'best')\n",
    "\n",
    "#plt.savefig('./Figure16-10.png', dpi = 300)\n",
    "plt.show()"
   ]
  },
  {
   "cell_type": "markdown",
   "metadata": {
    "id": "VOHt0Ttn2pWT"
   },
   "source": [
    "### Dropout"
   ]
  },
  {
   "cell_type": "markdown",
   "metadata": {
    "id": "PoR7p20loBpj"
   },
   "source": [
    "Another regularization technique is called dropout and its basic idea is the following: during the training phase of a deep neural network, nodes are removed randomly (with a specified probability $p^{[l]}$) from layer $l$.\n",
    "\n",
    "In Keras, you simply add how many dropout layers as you want after the layer you want to *drop*, with the following function: `keras.layers.Dropout(rate)`.\n",
    "\n",
    "In the above function you must put as input the layer you want to *drop* and you must set the `rate` parameter. This parameter can assume float values in the following range: $[0, 1)$, since it represents the fraction of the input units to drop. Therefore, it is not possible to drop all the units (setting a rate equal to 1)."
   ]
  },
  {
   "cell_type": "markdown",
   "metadata": {
    "id": "p0wXxYXoqazn"
   },
   "source": [
    "Now, let us compare the results when applying or not dropout to the Boston dataset."
   ]
  },
  {
   "cell_type": "code",
   "execution_count": 34,
   "metadata": {
    "executionInfo": {
     "elapsed": 908,
     "status": "ok",
     "timestamp": 1617353778475,
     "user": {
      "displayName": "Michela Sperti",
      "photoUrl": "https://lh3.googleusercontent.com/a-/AOh14Gh7mD9r-1Xj0Qve63ZPZx9UHRv0PkVhL5ayiHNv=s64",
      "userId": "13210266879998244642"
     },
     "user_tz": -120
    },
    "id": "s5PzAEURUdP0"
   },
   "outputs": [],
   "source": [
    "def create_and_train_reg_model_dropout(data_train_norm, labels_train, data_dev_norm, labels_dev, num_neurons, num_layers, n_epochs, rate):\n",
    "    # build model\n",
    "    inputs = keras.Input(shape = data_train_norm.shape[1]) # input layer\n",
    "    # he initialization\n",
    "    initializer = tf.keras.initializers.HeNormal()\n",
    "    # first hidden layer\n",
    "    dense = layers.Dense(num_neurons, activation = 'relu', kernel_initializer = initializer)(inputs)\n",
    "    # first dropout layer\n",
    "    dense = keras.layers.Dropout(rate)(dense)\n",
    "    # customized number of layers and neurons per layer\n",
    "    for i in range(num_layers - 1):   \n",
    "        dense = layers.Dense(num_neurons, activation = 'relu', kernel_initializer = initializer)(dense)\n",
    "        # customized number of dropout layers  \n",
    "        dense = keras.layers.Dropout(rate)(dense)\n",
    "    # output layer   \n",
    "    outputs = layers.Dense(1)(dense)\n",
    "    model = keras.Model(inputs = inputs, outputs = outputs, name = 'model')\n",
    "    # set optimizer and loss\n",
    "    opt = keras.optimizers.Adam(learning_rate = 0.001)\n",
    "    model.compile(loss = 'mse', optimizer = opt, metrics = ['mse'])\n",
    "    \n",
    "    # train model\n",
    "    history = model.fit(\n",
    "      data_train_norm, labels_train,\n",
    "      epochs = n_epochs, verbose = 0,\n",
    "      batch_size = data_train_norm.shape[0],\n",
    "      validation_data = (data_dev_norm, labels_dev))\n",
    "    # save performances\n",
    "    hist = pd.DataFrame(history.history)\n",
    "    hist['epoch'] = history.epoch \n",
    "    # print performances\n",
    "    print('Cost function at epoch 0')\n",
    "    print('Training MSE = ', hist['loss'].values[0])\n",
    "    print('Dev MSE = ', hist['val_loss'].values[0])\n",
    "    print('Cost function at epoch ' + str(n_epochs))\n",
    "    print('Training MSE = ', hist['loss'].values[-1])\n",
    "    print('Dev MSE = ', hist['val_loss'].values[-1])\n",
    "\n",
    "    return hist, model"
   ]
  },
  {
   "cell_type": "code",
   "execution_count": 35,
   "metadata": {
    "colab": {
     "base_uri": "https://localhost:8080/"
    },
    "executionInfo": {
     "elapsed": 371819,
     "status": "ok",
     "timestamp": 1617354153623,
     "user": {
      "displayName": "Michela Sperti",
      "photoUrl": "https://lh3.googleusercontent.com/a-/AOh14Gh7mD9r-1Xj0Qve63ZPZx9UHRv0PkVhL5ayiHNv=s64",
      "userId": "13210266879998244642"
     },
     "user_tz": -120
    },
    "id": "go8Q3xm0Yxnl",
    "outputId": "5aeed833-88a6-489b-9f9b-6b85e8dc2965"
   },
   "outputs": [
    {
     "name": "stdout",
     "output_type": "stream",
     "text": [
      "Cost function at epoch 0\n",
      "Training MSE =  617.59765625\n",
      "Dev MSE =  587.8325805664062\n",
      "Cost function at epoch 8000\n",
      "Training MSE =  0.07932430505752563\n",
      "Dev MSE =  16.718381881713867\n"
     ]
    }
   ],
   "source": [
    "hist_notreg, model_notreg = create_and_train_reg_model_dropout(train_x, train_y, dev_x, dev_y, 20, 4, 8000, 0.0)"
   ]
  },
  {
   "cell_type": "code",
   "execution_count": 36,
   "metadata": {
    "colab": {
     "base_uri": "https://localhost:8080/"
    },
    "executionInfo": {
     "elapsed": 399601,
     "status": "ok",
     "timestamp": 1617354553243,
     "user": {
      "displayName": "Michela Sperti",
      "photoUrl": "https://lh3.googleusercontent.com/a-/AOh14Gh7mD9r-1Xj0Qve63ZPZx9UHRv0PkVhL5ayiHNv=s64",
      "userId": "13210266879998244642"
     },
     "user_tz": -120
    },
    "id": "LEz_4_FLY4ND",
    "outputId": "db1c3f27-001b-4b81-ea6e-5affb728ce0c"
   },
   "outputs": [
    {
     "name": "stdout",
     "output_type": "stream",
     "text": [
      "Cost function at epoch 0\n",
      "Training MSE =  729.6145629882812\n",
      "Dev MSE =  649.31689453125\n",
      "Cost function at epoch 8000\n",
      "Training MSE =  53.04020309448242\n",
      "Dev MSE =  54.92367935180664\n"
     ]
    }
   ],
   "source": [
    "hist_reg, model_reg = create_and_train_reg_model_dropout(train_x, train_y, dev_x, dev_y, 20, 4, 8000, 0.50)"
   ]
  },
  {
   "cell_type": "markdown",
   "metadata": {
    "id": "6UyHS9zurcm3"
   },
   "source": [
    "In the following plot you can see the training dataset cost function vs. the number of epoch in the case of a model without regularization and another one with a dropout rate of 0.50."
   ]
  },
  {
   "cell_type": "code",
   "execution_count": 43,
   "metadata": {
    "colab": {
     "base_uri": "https://localhost:8080/",
     "height": 392
    },
    "executionInfo": {
     "elapsed": 1723,
     "status": "ok",
     "timestamp": 1617354812867,
     "user": {
      "displayName": "Michela Sperti",
      "photoUrl": "https://lh3.googleusercontent.com/a-/AOh14Gh7mD9r-1Xj0Qve63ZPZx9UHRv0PkVhL5ayiHNv=s64",
      "userId": "13210266879998244642"
     },
     "user_tz": -120
    },
    "id": "DjF_YAukkTPI",
    "outputId": "c330aa87-06da-4cda-9030-e806bae3a04c"
   },
   "outputs": [
    {
     "data": {
      "image/png": "[encoded data removed]",
      "text/plain": [
       "<Figure size 640x400 with 1 Axes>"
      ]
     },
     "metadata": {
      "filenames": {
       "image/png": "/Users/umberto/Research/Active Books/Applied Deep Learning - 2nd edition/ADL-Book-2nd-Ed/docs/_build/jupyter_execute/Chapter16/Regularization_techniques_109_0.png"
      },
      "needs_background": "light",
      "tags": []
     },
     "output_type": "display_data"
    }
   ],
   "source": [
    "# Cost function vs. number of epoch plot for a model trained with dropout and another one trained without dropout\n",
    "\n",
    "fig = plt.figure()\n",
    "ax = fig.add_subplot(111)\n",
    "\n",
    "ax.plot(hist_notreg['loss'], color = 'blue', label = 'Without Dropout')\n",
    "ax.plot(hist_reg['loss'], color = 'red', label = 'With Dropout')\n",
    "plt.ylabel('Cost Function (MSE)', fontproperties = fm.FontProperties(fname = f))\n",
    "plt.xlabel('Number of Iterations', fontproperties = fm.FontProperties(fname = f))\n",
    "ax.set_xlim(0, 2000)\n",
    "ax.set_ylim(0, 500)\n",
    "plt.legend(loc = 'best')\n",
    "\n",
    "plt.axis(True)\n",
    "#plt.savefig('./Figure16-11.png', dpi = 300)\n",
    "plt.show()"
   ]
  },
  {
   "cell_type": "markdown",
   "metadata": {
    "id": "IdjR5XmB3175"
   },
   "source": [
    "As you can see, when applying dropout, the cost function is very irregular. Let us now plot the cost function on the training and dev datasets, comparing them both when applying dropout and when not."
   ]
  },
  {
   "cell_type": "code",
   "execution_count": 46,
   "metadata": {
    "colab": {
     "base_uri": "https://localhost:8080/",
     "height": 392
    },
    "executionInfo": {
     "elapsed": 2636,
     "status": "ok",
     "timestamp": 1617355116295,
     "user": {
      "displayName": "Michela Sperti",
      "photoUrl": "https://lh3.googleusercontent.com/a-/AOh14Gh7mD9r-1Xj0Qve63ZPZx9UHRv0PkVhL5ayiHNv=s64",
      "userId": "13210266879998244642"
     },
     "user_tz": -120
    },
    "id": "yycWqF0SrzrC",
    "outputId": "682dca0a-66f3-4f2f-e3bd-3bca74f2bd22"
   },
   "outputs": [
    {
     "data": {
      "image/png": "[encoded data removed]",
      "text/plain": [
       "<Figure size 1040x400 with 2 Axes>"
      ]
     },
     "metadata": {
      "filenames": {
       "image/png": "/Users/umberto/Research/Active Books/Applied Deep Learning - 2nd edition/ADL-Book-2nd-Ed/docs/_build/jupyter_execute/Chapter16/Regularization_techniques_111_0.png"
      },
      "needs_background": "light",
      "tags": []
     },
     "output_type": "display_data"
    }
   ],
   "source": [
    "# cost function vs. number of epochs plot for training and dev datasets\n",
    "# with dropout\n",
    "\n",
    "fig = plt.figure(figsize = (13, 5))\n",
    "ax = fig.add_subplot(121)\n",
    "\n",
    "ax.plot(hist_reg['loss'], color = 'blue', label = 'MSE training')\n",
    "ax.set_xlabel('Number of iterations', fontproperties = fm.FontProperties(fname = f))\n",
    "ax.set_ylabel('Cost function (MSE)', fontproperties = fm.FontProperties(fname = f))\n",
    "ax.set_xlim(0, 8000)\n",
    "ax.set_ylim(0, 200)\n",
    "ax.legend(loc = 'best')\n",
    "\n",
    "ax = fig.add_subplot(122)\n",
    "ax.plot(hist_reg['val_loss'], color = 'blue', label = 'MSE dev')\n",
    "ax.set_xlabel('Number of iterations', fontproperties = fm.FontProperties(fname = f))\n",
    "ax.set_xlim(0, 8000)\n",
    "ax.set_ylim(0, 200)\n",
    "ax.legend(loc = 'best')\n",
    "\n",
    "plt.axis(True)\n",
    "#plt.savefig('./Figure16-12.png', dpi = 300)\n",
    "plt.show()"
   ]
  },
  {
   "cell_type": "code",
   "execution_count": 47,
   "metadata": {
    "colab": {
     "base_uri": "https://localhost:8080/",
     "height": 392
    },
    "executionInfo": {
     "elapsed": 2186,
     "status": "ok",
     "timestamp": 1617355126924,
     "user": {
      "displayName": "Michela Sperti",
      "photoUrl": "https://lh3.googleusercontent.com/a-/AOh14Gh7mD9r-1Xj0Qve63ZPZx9UHRv0PkVhL5ayiHNv=s64",
      "userId": "13210266879998244642"
     },
     "user_tz": -120
    },
    "id": "gMZxvS5Rs0HU",
    "outputId": "23bb417f-b1e0-4ae9-d29c-0c8c50d0c03d"
   },
   "outputs": [
    {
     "data": {
      "image/png": "[encoded data removed]",
      "text/plain": [
       "<Figure size 1040x400 with 2 Axes>"
      ]
     },
     "metadata": {
      "filenames": {
       "image/png": "/Users/umberto/Research/Active Books/Applied Deep Learning - 2nd edition/ADL-Book-2nd-Ed/docs/_build/jupyter_execute/Chapter16/Regularization_techniques_112_0.png"
      },
      "needs_background": "light",
      "tags": []
     },
     "output_type": "display_data"
    }
   ],
   "source": [
    "# cost function vs. number of epochs plot for training and dev datasets\n",
    "# without dropout\n",
    "\n",
    "fig = plt.figure(figsize = (13, 5))\n",
    "ax = fig.add_subplot(121)\n",
    "\n",
    "ax.plot(hist_notreg['loss'], color = 'blue', label = 'MSE training')\n",
    "ax.set_xlabel('Number of iterations', fontproperties = fm.FontProperties(fname = f))\n",
    "ax.set_ylabel('Cost function (MSE)', fontproperties = fm.FontProperties(fname = f))\n",
    "ax.set_xlim(0, 8000)\n",
    "ax.set_ylim(0, 40)\n",
    "ax.legend(loc = 'best')\n",
    "\n",
    "ax = fig.add_subplot(122)\n",
    "ax.plot(hist_notreg['val_loss'], color = 'blue', label = 'MSE dev')\n",
    "ax.set_xlabel('Number of iterations', fontproperties = fm.FontProperties(fname = f))\n",
    "ax.set_xlim(0, 8000)\n",
    "ax.set_ylim(0, 40)\n",
    "ax.legend(loc = 'best')\n",
    "\n",
    "plt.axis(True)\n",
    "#plt.savefig('./Figure16-13.png', dpi = 300)\n",
    "plt.show()"
   ]
  },
  {
   "cell_type": "markdown",
   "metadata": {
    "id": "jt2DNjlT4m1b"
   },
   "source": [
    "The difference between the two above plots is evident: it is very interesting the fact that without dropout $MSE_{dev}$ grows with epochs, while using dropout it is rather stable. Without dropout, the model is in clear extreme overfitting regime, while with dropout you can see how the $MSE_{train}$ and $MSE_{dev}$ are of the same order of magnitude and the $MSE_{dev}$ does not continue to grow, so we have a model that is a lot better at generalizing. "
   ]
  },
  {
   "cell_type": "markdown",
   "metadata": {
    "id": "2miuYkbE21Yb"
   },
   "source": [
    "### Early Stopping"
   ]
  },
  {
   "cell_type": "markdown",
   "metadata": {
    "id": "9VEDxLMI-8Zu"
   },
   "source": [
    "Now the last technique that is sometime used to fight overfitting is early stopping. Strictly speaking this method does nothing to avoid overfitting, it simply stops the learning before the overfitting problem becomes too bad. In the above considered example, we can decide to stop the training phase when the $MSE_{dev}$ reaches its minimum, as the red vertical line in the following plot indicates."
   ]
  },
  {
   "cell_type": "code",
   "execution_count": 54,
   "metadata": {
    "colab": {
     "base_uri": "https://localhost:8080/",
     "height": 392
    },
    "executionInfo": {
     "elapsed": 1627,
     "status": "ok",
     "timestamp": 1617355588953,
     "user": {
      "displayName": "Michela Sperti",
      "photoUrl": "https://lh3.googleusercontent.com/a-/AOh14Gh7mD9r-1Xj0Qve63ZPZx9UHRv0PkVhL5ayiHNv=s64",
      "userId": "13210266879998244642"
     },
     "user_tz": -120
    },
    "id": "YxLzzX7s3e13",
    "outputId": "40ce71fb-48d7-4f0a-fe85-62945aab48a6"
   },
   "outputs": [
    {
     "data": {
      "image/png": "[encoded data removed]",
      "text/plain": [
       "<Figure size 640x400 with 1 Axes>"
      ]
     },
     "metadata": {
      "filenames": {
       "image/png": "/Users/umberto/Research/Active Books/Applied Deep Learning - 2nd edition/ADL-Book-2nd-Ed/docs/_build/jupyter_execute/Chapter16/Regularization_techniques_116_0.png"
      },
      "needs_background": "light",
      "tags": []
     },
     "output_type": "display_data"
    }
   ],
   "source": [
    "# Cost function vs. number of epoch plot for a model trained with dropout and another one trained without dropout\n",
    "\n",
    "fig = plt.figure()\n",
    "ax = fig.add_subplot(111)\n",
    "\n",
    "ax.plot(hist_notreg['loss'], ls = '-', color = 'blue', label = 'MSE training')\n",
    "ax.plot(hist_notreg['val_loss'], ls = '--', color = 'blue', label = 'MSE dev')\n",
    "plt.vlines(np.argmin(hist_notreg['val_loss'].values), 0, 50, color = 'red')\n",
    "plt.ylabel('Cost Function (MSE)', fontproperties = fm.FontProperties(fname = f))\n",
    "plt.xlabel('Number of Iterations', fontproperties = fm.FontProperties(fname = f))\n",
    "ax.set_xlim(0, 8000)\n",
    "ax.set_ylim(0, 50)\n",
    "plt.legend(loc = 'best')\n",
    "\n",
    "plt.axis(True)\n",
    "plt.savefig('./Figure16-14.png', dpi = 300)\n",
    "plt.show()"
   ]
  },
  {
   "cell_type": "markdown",
   "metadata": {
    "id": "klPgn8b__3cG"
   },
   "source": [
    "Note that this is not an ideal way of solving the overfitting problem. Your model will still most probably generalize very badly to new data. It is usually preferable to use other techniques. Additionally, this is also time consuming and a manual process that is very error prone. "
   ]
  },
  {
   "cell_type": "markdown",
   "metadata": {
    "id": "6Jm9GhF6EwEA"
   },
   "source": [
    "## Exercises"
   ]
  },
  {
   "cell_type": "markdown",
   "metadata": {
    "id": "8EzSun72Exkj"
   },
   "source": [
    "1. [*Easy Difficulty*] Try to determine which architecture (number of layers and number of neurons) is not overfitting the Boston dataset. When the network starts overfitting? Which network would give a good result? Try (**at least**) the following combinations:\n",
    "\n",
    "| Number of layers | Number of neurons for each layer |\n",
    "| --- | --- |\n",
    "| 1 | 3 |\n",
    "| 1 | 5 |\n",
    "| 2 | 3 |\n",
    "| 2 | 5 |\n",
    "\n",
    "2. [*Medium Difficulty*] Find the minimum value for $\\lambda$ (in the case of $L_2$ regularization) for which the overfitting stops. Perform a set of tests using the function `hist, model = create_and_train_reg_model_L2(train_x, train_y, dev_x, dev_y, 20, 4, 0.0)` varying the value of $\\lambda$ from 0 to 10.0 in regular increment (you can decide what values you want to test). Use at minimum the values: 0, 0.5, 1.0, 2.0, 5.0, 7.0, 10.0, 15.0. After that, make a plot of the value for the cost function on the training dataset and on the dev dataset vs. $\\lambda$.\n",
    "\n",
    "3. [*Medium Difficulty*] In $L_1$ regularization example applied to the Boston dataset, plot the amount of weights close to zero in hidden layer 3 vs. $\\lambda$. Considering only layer 3, plot the quantity `(np.sum(np.abs(weights3) < 1e-3)) / weights3.size * 100.0`\n",
    "we have evaluated before and calculate it for several values of $\\lambda$. Consider at least: 0, 0.5, 1.0, 2.0, 5.0, 7.0, 10.0, 15.0. Plot then the value vs. $\\lambda$. What shape do the curve have? Does it flatten out?\n",
    "\n",
    "4. [*Hard Difficulty*] Implement $L_2$ regularization from scratch."
   ]
  },
  {
   "cell_type": "markdown",
   "metadata": {
    "id": "oWrucgYvdooi"
   },
   "source": [
    "## Further Readings <a name = \"fr\"></a>"
   ]
  },
  {
   "cell_type": "markdown",
   "metadata": {
    "id": "UmY76XvQdvAe"
   },
   "source": [
    "**Boston dataset**\n",
    "\n",
    "1. Delve (Data for Evaluating Learning in Valid Experiments), “The Boston Housing Dataset”, www.cs.toronto.edu/~delve/data/boston/bostonDetail.html\n",
    "\n",
    "**Regularization**\n",
    "\n",
    "1. Bishop, C.M, (1995) Neural Networks for Pattern Recognition, Oxford University Press\n",
    "2. Goodfellow, I.J. et al., Deep Learning, MIT Press\n",
    "3. Kukačka, J. et al., Regularization for deep learning: a taxonomy, arXiv: 1710.10686v1, available here: https://goo.gl/wNkjXz\n"
   ]
  },
  {
   "cell_type": "code",
   "execution_count": null,
   "metadata": {
    "id": "iKSf0MPndqBM"
   },
   "outputs": [],
   "source": []
  }
 ],
 "metadata": {
  "colab": {
   "authorship_tag": "ABX9TyPz38zOvmi9PLLS1CUVEumX",
   "collapsed_sections": [],
   "name": "Regularization_techniques.ipynb",
   "provenance": [],
   "toc_visible": true
  },
  "kernelspec": {
   "display_name": "Python 3",
   "name": "python3"
  },
  "language_info": {
   "name": "python"
  }
 },
 "nbformat": 4,
 "nbformat_minor": 0
}