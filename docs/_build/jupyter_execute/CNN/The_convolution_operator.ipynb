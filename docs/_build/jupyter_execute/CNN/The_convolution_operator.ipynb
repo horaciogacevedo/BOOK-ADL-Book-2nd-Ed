{
 "cells": [
  {
   "cell_type": "markdown",
   "metadata": {
    "id": "uSuXUMIVmhgo"
   },
   "source": [
    "# The Convolution Operator\n",
    "\n",
    "Version 1.0"
   ]
  },
  {
   "cell_type": "markdown",
   "metadata": {
    "id": "tJo_NK-nmqCf"
   },
   "source": [
    "(C) 2020 - Umberto Michelucci, Michela Sperti\n",
    "\n",
    "This notebook is part of the book _Applied Deep Learning: a case based approach, **2nd edition**_ from APRESS by [U. Michelucci](mailto:umberto.michelucci@toelt.ai) and [M. Sperti](mailto:michela.sperti@toelt.ai)."
   ]
  },
  {
   "cell_type": "markdown",
   "metadata": {
    "id": "31wfEV06mtro"
   },
   "source": [
    "The purpose of this notebook is to show some basic examples to understand what convolution is."
   ]
  },
  {
   "cell_type": "markdown",
   "metadata": {
    "id": "V2wkdTiVmy1F"
   },
   "source": [
    "## Notebook Learning Goals"
   ]
  },
  {
   "cell_type": "markdown",
   "metadata": {
    "id": "6pqNL9dfm4Uj"
   },
   "source": [
    "At the end of the notebook you are going to know what convolution is and why it is the base upon which convolutional neural networks (CNNs) are built. "
   ]
  },
  {
   "cell_type": "markdown",
   "metadata": {
    "id": "LR3ZSTI5ZuPj"
   },
   "source": [
    "## Convolution in Neural Networks"
   ]
  },
  {
   "cell_type": "markdown",
   "metadata": {
    "id": "PHL6ZuPbaL-i"
   },
   "source": [
    "In the context of neural networks, and in particular CNNs, the convolution operation is performed between tensors. It gets two tensors as input and it produces a tensor as output and it is usually indicated with the operator *.\n",
    "\n",
    "Consider two tensors, both with dimensions 3 x 3. The convolution operation is done by applying the following formula:\n",
    "\n",
    "$$\n",
    "\\begin{pmatrix}\n",
    "a_1 & a_2 & a_3\\\\\n",
    "a_4 & a_5 & a_6\\\\\n",
    "a_7 & a_8 & a_9\\\\\n",
    "\\end{pmatrix} *\n",
    "\\begin{pmatrix}\n",
    "k_1 & k_2 & k_3\\\\\n",
    "k_4 & k_5 & k_6\\\\\n",
    "k_7 & k_8 & k_9\\\\\n",
    "\\end{pmatrix} =\\sum_{i=1}^9 a_ik_i\n",
    "$$\n",
    "\n",
    "In advanced applications, you normally perform convolution betweeen an image with high resolution (that we can call $A$, for example of dimensions 1024 x 1024 x 3 in the case of image recognition) and a smaller matrix, called **kernel** (that we can call $K$), typically of dimension 3 x 3 or 5 x 5. In this case, $K$ slides on $A$. Let us see why. Given\n",
    "\n",
    "$$\n",
    "A =\n",
    "\\begin{pmatrix}\n",
    "a_1 & a_2 & a_3 & a_4\\\\\n",
    "a_5 & a_6 & a_7 & a_8\\\\\n",
    "a_9 & a_{10} & a_{11} & a_{12}\\\\\n",
    "a_{13} & a_{14} & a_{15} & a_{16}\n",
    "\\end{pmatrix}\n",
    "$$\n",
    "\n",
    "and\n",
    "\n",
    "$$\n",
    "K =\n",
    "\\begin{pmatrix}\n",
    "k_1 & k_2 & k_3\\\\\n",
    "k_4 & k_5 & k_6\\\\\n",
    "k_7 & k_8 & k_9\n",
    "\\end{pmatrix}\n",
    "$$\n",
    "\n",
    "the convolution is first performed between $K$ and the elements highlighted in bold, as followed\n",
    "\n",
    "$$\n",
    "\\begin{pmatrix}\n",
    "\\mathbf{a_1} & \\mathbf{a_2} & \\mathbf{a_3} & a_4\\\\\n",
    "\\mathbf{a_5} & \\mathbf{a_6} & \\mathbf{a_7} & a_8\\\\\n",
    "\\mathbf{a_9} & \\mathbf{a_{10}} & \\mathbf{a_{11}} & a_{12}\\\\\n",
    "a_{13} & a_{14} & a_{15} & a_{16}\n",
    "\\end{pmatrix}\n",
    "$$\n",
    "\n",
    "The result can be indicated with $B_1$. Then, $K$ shifts one column right, and convolution is again performed between $K$ and the elements highlighted in bold, as followed\n",
    "\n",
    "$$\n",
    "\\begin{pmatrix}\n",
    "a_1 & \\mathbf{a_2} & \\mathbf{a_3} & \\mathbf{a_4}\\\\\n",
    "a_5 & \\mathbf{a_6} & \\mathbf{a_7} & \\mathbf{a_8}\\\\\n",
    "a_9 & \\mathbf{a_{10}} & \\mathbf{a_{11}} & \\mathbf{a_{12}}\\\\\n",
    "a_{13} & a_{14} & a_{15} & a_{16}\n",
    "\\end{pmatrix}\n",
    "$$\n",
    "\n",
    "We obtain $B_2$. Then, since we cannot shift $K$ anymore to the right, we shift it one row down and start again from the left side \n",
    "\n",
    "$$\n",
    "\\begin{pmatrix}\n",
    "a_1 & a_2 & a_3 & a_4\\\\\n",
    "\\mathbf{a_5} & \\mathbf{a_6} & \\mathbf{a_7} & a_8\\\\\n",
    "\\mathbf{a_9} & \\mathbf{a_{10}} & \\mathbf{a_{11}} & a_{12}\\\\\n",
    "\\mathbf{a_{13}} & \\mathbf{a_{14}} & \\mathbf{a_{15}} & a_{16}\n",
    "\\end{pmatrix}\n",
    "$$\n",
    "\n",
    "And finally\n",
    "\n",
    "$$\n",
    "\\begin{pmatrix}\n",
    "a_1 & a_2 & a_3 & a_4\\\\\n",
    "a_5 & \\mathbf{a_6} & \\mathbf{a_7} & \\mathbf{a_8}\\\\\n",
    "a_9 & \\mathbf{a_{10}} & \\mathbf{a_{11}} & \\mathbf{a_{12}}\\\\\n",
    "a_{13} & \\mathbf{a_{14}} & \\mathbf{a_{15}} & \\mathbf{a_{16}}\n",
    "\\end{pmatrix}\n",
    "$$\n",
    "\n",
    "In the end, the result will be the following matrix\n",
    "\n",
    "$$\n",
    "B =\n",
    "\\begin{pmatrix}\n",
    "B_1 & B_2\\\\\n",
    "B_3 & B_4\n",
    "\\end{pmatrix}\n",
    "$$"
   ]
  },
  {
   "cell_type": "markdown",
   "metadata": {
    "id": "Fjk34yvKkE24"
   },
   "source": [
    "The number of columns and rows by which the kernel is shifted along the matrix is called **stride** ($s$)."
   ]
  },
  {
   "cell_type": "markdown",
   "metadata": {
    "id": "Y8XQ7jW-lZmd"
   },
   "source": [
    "## Libraries Import"
   ]
  },
  {
   "cell_type": "code",
   "execution_count": null,
   "metadata": {
    "id": "VbjeJfoNle0R"
   },
   "outputs": [],
   "source": [
    "import numpy as np\n",
    "import matplotlib.pyplot as plt"
   ]
  },
  {
   "cell_type": "markdown",
   "metadata": {
    "id": "C68tCJjglDrn"
   },
   "source": [
    "The following function can evaluate the convolution of two matrices for $s=1$."
   ]
  },
  {
   "cell_type": "code",
   "execution_count": null,
   "metadata": {
    "id": "AMbPg6uKlhQi"
   },
   "outputs": [],
   "source": [
    "def conv_2d(A, kernel):\n",
    "\n",
    "    output = np.zeros([A.shape[0]-(kernel.shape[0]-1), A.shape[1]-(kernel.shape[0]-1)])\n",
    "    \n",
    "    for row in range(1, A.shape[0]-1):\n",
    "        for column in range(1, A.shape[1]-1):\n",
    "            output[row-1, column-1] = np.tensordot(A[row-1:row+2, column-1:column+2], kernel)\n",
    "    \n",
    "    return output"
   ]
  },
  {
   "cell_type": "markdown",
   "metadata": {
    "id": "zqfJpge2DlQQ"
   },
   "source": [
    "The previous example can be evaluated with the following code, as an example:"
   ]
  },
  {
   "cell_type": "code",
   "execution_count": null,
   "metadata": {
    "colab": {
     "base_uri": "https://localhost:8080/"
    },
    "executionInfo": {
     "elapsed": 5,
     "status": "ok",
     "timestamp": 1626687214930,
     "user": {
      "displayName": "Michela Sperti",
      "photoUrl": "https://lh3.googleusercontent.com/a-/AOh14Gh7mD9r-1Xj0Qve63ZPZx9UHRv0PkVhL5ayiHNv=s64",
      "userId": "13210266879998244642"
     },
     "user_tz": -120
    },
    "id": "vsP3WW7WDgyr",
    "outputId": "70f00abc-39e5-40fe-c6d9-6e92011f4428"
   },
   "outputs": [
    {
     "name": "stdout",
     "output_type": "stream",
     "text": [
      "[[348. 393.]\n",
      " [528. 573.]]\n"
     ]
    }
   ],
   "source": [
    "A = np.array([[1,2,3,4],[5,6,7,8],[9,10,11,12],[13,14,15,16]])\n",
    "K = np.array([[1,2,3],[4,5,6],[7,8,9]])\n",
    "print(conv_2d(A,K))"
   ]
  },
  {
   "cell_type": "markdown",
   "metadata": {
    "id": "TOalB6dEmQiW"
   },
   "source": [
    "### Examples of Convolution"
   ]
  },
  {
   "cell_type": "markdown",
   "metadata": {
    "id": "pESSSusNmebv"
   },
   "source": [
    "We will now perform some examples of convolution operations.\n",
    "\n",
    "Let us first build a chessboard of dimensions 160 x 160, which we will use to test several types of kernels."
   ]
  },
  {
   "cell_type": "code",
   "execution_count": null,
   "metadata": {
    "id": "NMChBEUHmUJq"
   },
   "outputs": [],
   "source": [
    "chessboard = np.zeros([8*20, 8*20])\n",
    "for row in range(0, 8):\n",
    "    for column in range (0, 8):\n",
    "        if ((column+8*row) % 2 == 1) and (row % 2 == 0):\n",
    "            chessboard[row*20:row*20+20, column*20:column*20+20] = 1\n",
    "        elif ((column+8*row) % 2 == 0) and (row % 2 == 1):\n",
    "            chessboard[row*20:row*20+20, column*20:column*20+20] = 1"
   ]
  },
  {
   "cell_type": "code",
   "execution_count": null,
   "metadata": {
    "colab": {
     "base_uri": "https://localhost:8080/"
    },
    "executionInfo": {
     "elapsed": 5,
     "status": "ok",
     "timestamp": 1626687214931,
     "user": {
      "displayName": "Michela Sperti",
      "photoUrl": "https://lh3.googleusercontent.com/a-/AOh14Gh7mD9r-1Xj0Qve63ZPZx9UHRv0PkVhL5ayiHNv=s64",
      "userId": "13210266879998244642"
     },
     "user_tz": -120
    },
    "id": "ph2mC65QyASz",
    "outputId": "30edc5b5-8225-4e9d-9ca4-2d6d8f3fbe14"
   },
   "outputs": [
    {
     "data": {
      "text/plain": [
       "(160, 160)"
      ]
     },
     "execution_count": 32,
     "metadata": {
      "tags": []
     },
     "output_type": "execute_result"
    }
   ],
   "source": [
    "chessboard.shape"
   ]
  },
  {
   "cell_type": "code",
   "execution_count": null,
   "metadata": {
    "colab": {
     "base_uri": "https://localhost:8080/",
     "height": 378
    },
    "executionInfo": {
     "elapsed": 1032,
     "status": "ok",
     "timestamp": 1626687215960,
     "user": {
      "displayName": "Michela Sperti",
      "photoUrl": "https://lh3.googleusercontent.com/a-/AOh14Gh7mD9r-1Xj0Qve63ZPZx9UHRv0PkVhL5ayiHNv=s64",
      "userId": "13210266879998244642"
     },
     "user_tz": -120
    },
    "id": "ep9OXfBYm4FB",
    "outputId": "4a632919-79c6-4b3b-fa72-9e4441277491"
   },
   "outputs": [
    {
     "data": {
      "image/png": "[encoded data removed]",
      "text/plain": [
       "<Figure size 432x432 with 1 Axes>"
      ]
     },
     "metadata": {
      "filenames": {
       "image/png": "/Users/umberto/Research/Active Books/Applied Deep Learning - 2nd edition/ADL-Book-2nd-Ed/docs/_build/jupyter_execute/CNN/The_convolution_operator_18_0.png"
      },
      "needs_background": "light",
      "tags": []
     },
     "output_type": "display_data"
    }
   ],
   "source": [
    "plt.figure(figsize = (6, 6))\n",
    "plt.imshow(chessboard, cmap = 'Greys', interpolation = 'nearest', extent = [0, 160, 0, 160])\n",
    "#plt.savefig('./Figure15-5', dpi = 300)\n",
    "plt.show()"
   ]
  },
  {
   "cell_type": "markdown",
   "metadata": {
    "id": "zMl5LSC_t3OU"
   },
   "source": [
    "#### Horizontal Edges Detection Kernel"
   ]
  },
  {
   "cell_type": "markdown",
   "metadata": {
    "id": "Eswa-SP_3bmP"
   },
   "source": [
    "The following kernel is able to detect horizontal edges inside images. Let us show an example using the above-built chessboard."
   ]
  },
  {
   "cell_type": "markdown",
   "metadata": {
    "id": "9MdZ820lwcLn"
   },
   "source": [
    "$$\n",
    "K_H =\n",
    "\\begin{pmatrix}\n",
    "1 & 1 & 1\\\\\n",
    "0 & 0 & 0\\\\\n",
    "-1 & -1 & -1\n",
    "\\end{pmatrix}\n",
    "$$"
   ]
  },
  {
   "cell_type": "code",
   "execution_count": null,
   "metadata": {
    "id": "5G_eQ--NwKSX"
   },
   "outputs": [],
   "source": [
    "edgeh = np.matrix('1 1 1; 0 0 0; -1 -1 -1')\n",
    "outputh = conv_2d(chessboard, edgeh)"
   ]
  },
  {
   "cell_type": "code",
   "execution_count": null,
   "metadata": {
    "colab": {
     "base_uri": "https://localhost:8080/"
    },
    "executionInfo": {
     "elapsed": 3,
     "status": "ok",
     "timestamp": 1626687216601,
     "user": {
      "displayName": "Michela Sperti",
      "photoUrl": "https://lh3.googleusercontent.com/a-/AOh14Gh7mD9r-1Xj0Qve63ZPZx9UHRv0PkVhL5ayiHNv=s64",
      "userId": "13210266879998244642"
     },
     "user_tz": -120
    },
    "id": "6-AqeyXayHQC",
    "outputId": "049a1841-5334-4c4c-fb25-0bd0364ed4ec"
   },
   "outputs": [
    {
     "data": {
      "text/plain": [
       "(158, 158)"
      ]
     },
     "execution_count": 35,
     "metadata": {
      "tags": []
     },
     "output_type": "execute_result"
    }
   ],
   "source": [
    "outputh.shape"
   ]
  },
  {
   "cell_type": "markdown",
   "metadata": {
    "id": "j_GkMLp95B-u"
   },
   "source": [
    "The fact that the convolution operation's result has a smaller shape than the original matrix depends on the matrix and kernel's dimensions. To get more details, see the correspondent hands-on chapter of the book."
   ]
  },
  {
   "cell_type": "code",
   "execution_count": null,
   "metadata": {
    "colab": {
     "base_uri": "https://localhost:8080/",
     "height": 374
    },
    "executionInfo": {
     "elapsed": 891,
     "status": "ok",
     "timestamp": 1626687217490,
     "user": {
      "displayName": "Michela Sperti",
      "photoUrl": "https://lh3.googleusercontent.com/a-/AOh14Gh7mD9r-1Xj0Qve63ZPZx9UHRv0PkVhL5ayiHNv=s64",
      "userId": "13210266879998244642"
     },
     "user_tz": -120
    },
    "id": "0Q7ZEg_KwwFy",
    "outputId": "a435bf72-6266-47cd-9692-85f022ceb382"
   },
   "outputs": [
    {
     "data": {
      "image/png": "[encoded data removed]",
      "text/plain": [
       "<Figure size 432x432 with 1 Axes>"
      ]
     },
     "metadata": {
      "filenames": {
       "image/png": "/Users/umberto/Research/Active Books/Applied Deep Learning - 2nd edition/ADL-Book-2nd-Ed/docs/_build/jupyter_execute/CNN/The_convolution_operator_25_0.png"
      },
      "needs_background": "light",
      "tags": []
     },
     "output_type": "display_data"
    }
   ],
   "source": [
    "plt.figure(figsize = (6, 6))\n",
    "plt.imshow(outputh, cmap = 'Greys', interpolation = 'nearest', extent = [0, 158, 0, 158])\n",
    "#plt.savefig('./Figure15-6', dpi = 300)\n",
    "plt.show()"
   ]
  },
  {
   "cell_type": "markdown",
   "metadata": {
    "id": "Ll4k-GeKxRMb"
   },
   "source": [
    "You can observe the horizontal variations in the above figure. Additional, this kernel detects if you go from light to dark or vice versa."
   ]
  },
  {
   "cell_type": "markdown",
   "metadata": {
    "id": "d_qAMd69xA87"
   },
   "source": [
    "#### Vertical Edges Detection Kernel"
   ]
  },
  {
   "cell_type": "markdown",
   "metadata": {
    "id": "HKhM0QRc5r2l"
   },
   "source": [
    "The following kernel is able to detect vertical edges inside images. Let us show an example using the above-built chessboard."
   ]
  },
  {
   "cell_type": "markdown",
   "metadata": {
    "id": "lgNeQd3fxEKF"
   },
   "source": [
    "$$\n",
    "K_V =\n",
    "\\begin{pmatrix}\n",
    "1 & 0 & -1\\\\\n",
    "1 & 0 & -1\\\\\n",
    "1 & 0 & -1\n",
    "\\end{pmatrix}\n",
    "$$"
   ]
  },
  {
   "cell_type": "code",
   "execution_count": null,
   "metadata": {
    "id": "0yyvyZUyxLOU"
   },
   "outputs": [],
   "source": [
    "edgev = np.matrix('1 0 -1; 1 0 -1; 1 0 -1')\n",
    "outputv = conv_2d(chessboard, edgev)"
   ]
  },
  {
   "cell_type": "code",
   "execution_count": null,
   "metadata": {
    "colab": {
     "base_uri": "https://localhost:8080/"
    },
    "executionInfo": {
     "elapsed": 4,
     "status": "ok",
     "timestamp": 1626687218185,
     "user": {
      "displayName": "Michela Sperti",
      "photoUrl": "https://lh3.googleusercontent.com/a-/AOh14Gh7mD9r-1Xj0Qve63ZPZx9UHRv0PkVhL5ayiHNv=s64",
      "userId": "13210266879998244642"
     },
     "user_tz": -120
    },
    "id": "RC0BrOXwyKK3",
    "outputId": "1cb42802-3c06-4228-83c6-fccfb7dc5909"
   },
   "outputs": [
    {
     "data": {
      "text/plain": [
       "(158, 158)"
      ]
     },
     "execution_count": 38,
     "metadata": {
      "tags": []
     },
     "output_type": "execute_result"
    }
   ],
   "source": [
    "outputv.shape"
   ]
  },
  {
   "cell_type": "markdown",
   "metadata": {
    "id": "D-EHo4eS5w9X"
   },
   "source": [
    "Again, the fact that the convolution operation's result has a smaller shape than the original matrix depends on the matrix and kernel's dimensions. To get more details, see the correspondent hands-on chapter of the book."
   ]
  },
  {
   "cell_type": "code",
   "execution_count": null,
   "metadata": {
    "colab": {
     "base_uri": "https://localhost:8080/",
     "height": 374
    },
    "executionInfo": {
     "elapsed": 848,
     "status": "ok",
     "timestamp": 1626687219030,
     "user": {
      "displayName": "Michela Sperti",
      "photoUrl": "https://lh3.googleusercontent.com/a-/AOh14Gh7mD9r-1Xj0Qve63ZPZx9UHRv0PkVhL5ayiHNv=s64",
      "userId": "13210266879998244642"
     },
     "user_tz": -120
    },
    "id": "VSewapObxhMq",
    "outputId": "4f406f00-3243-41fb-c13a-b5bb997eb65e"
   },
   "outputs": [
    {
     "data": {
      "image/png": "[encoded data removed]",
      "text/plain": [
       "<Figure size 432x432 with 1 Axes>"
      ]
     },
     "metadata": {
      "filenames": {
       "image/png": "/Users/umberto/Research/Active Books/Applied Deep Learning - 2nd edition/ADL-Book-2nd-Ed/docs/_build/jupyter_execute/CNN/The_convolution_operator_33_0.png"
      },
      "needs_background": "light",
      "tags": []
     },
     "output_type": "display_data"
    }
   ],
   "source": [
    "plt.figure(figsize = (6, 6))\n",
    "plt.imshow(outputv, cmap = 'Greys', interpolation = 'nearest', extent = [0, 158, 0, 158])\n",
    "#plt.savefig('./Figure15-7', dpi = 300)\n",
    "plt.show()"
   ]
  },
  {
   "cell_type": "markdown",
   "metadata": {
    "id": "IaEM7pTf50WB"
   },
   "source": [
    "You can observe the vertical variations in the above figure. Additional, this kernel detects if you go from light to dark or vice versa."
   ]
  },
  {
   "cell_type": "markdown",
   "metadata": {
    "id": "FVGchvQhyZ-G"
   },
   "source": [
    "#### Luminosity Change in Edges Detection Kernel"
   ]
  },
  {
   "cell_type": "markdown",
   "metadata": {
    "id": "TEVHDBTe54bE"
   },
   "source": [
    "The following kernel is able to detect if luminosity changes inside an image. Let us show an example using the above-built chessboard."
   ]
  },
  {
   "cell_type": "markdown",
   "metadata": {
    "id": "D0oF1AUYyog9"
   },
   "source": [
    "$$\n",
    "K_L =\n",
    "\\begin{pmatrix}\n",
    "-1 & -1 & -1\\\\\n",
    "-1 & 8 & -1\\\\\n",
    "-1 & -1 & -1\n",
    "\\end{pmatrix}\n",
    "$$"
   ]
  },
  {
   "cell_type": "code",
   "execution_count": null,
   "metadata": {
    "id": "CTV0Pcogyvhg"
   },
   "outputs": [],
   "source": [
    "edgel = np.matrix ('-1 -1 -1; -1 8 -1; -1 -1 -1')\n",
    "outputl = conv_2d(chessboard, edgel)"
   ]
  },
  {
   "cell_type": "code",
   "execution_count": null,
   "metadata": {
    "colab": {
     "base_uri": "https://localhost:8080/"
    },
    "executionInfo": {
     "elapsed": 5,
     "status": "ok",
     "timestamp": 1626687219743,
     "user": {
      "displayName": "Michela Sperti",
      "photoUrl": "https://lh3.googleusercontent.com/a-/AOh14Gh7mD9r-1Xj0Qve63ZPZx9UHRv0PkVhL5ayiHNv=s64",
      "userId": "13210266879998244642"
     },
     "user_tz": -120
    },
    "id": "WUNLQodgy3Zt",
    "outputId": "a47615a1-7007-4b57-c04d-bfcf8e571d94"
   },
   "outputs": [
    {
     "data": {
      "text/plain": [
       "(158, 158)"
      ]
     },
     "execution_count": 41,
     "metadata": {
      "tags": []
     },
     "output_type": "execute_result"
    }
   ],
   "source": [
    "outputl.shape"
   ]
  },
  {
   "cell_type": "markdown",
   "metadata": {
    "id": "eY4U7hbD5_jI"
   },
   "source": [
    "Again, the fact that the convolution operation's result has a smaller shape than the original matrix depends on the matrix and kernel's dimensions. To get more details, see the correspondent hands-on chapter of the book."
   ]
  },
  {
   "cell_type": "code",
   "execution_count": null,
   "metadata": {
    "colab": {
     "base_uri": "https://localhost:8080/",
     "height": 374
    },
    "executionInfo": {
     "elapsed": 885,
     "status": "ok",
     "timestamp": 1626687220625,
     "user": {
      "displayName": "Michela Sperti",
      "photoUrl": "https://lh3.googleusercontent.com/a-/AOh14Gh7mD9r-1Xj0Qve63ZPZx9UHRv0PkVhL5ayiHNv=s64",
      "userId": "13210266879998244642"
     },
     "user_tz": -120
    },
    "id": "olOUoyJOy3fH",
    "outputId": "560f608e-c15d-479a-a0fa-c9d60add717c"
   },
   "outputs": [
    {
     "data": {
      "image/png": "[encoded data removed]",
      "text/plain": [
       "<Figure size 432x432 with 1 Axes>"
      ]
     },
     "metadata": {
      "filenames": {
       "image/png": "/Users/umberto/Research/Active Books/Applied Deep Learning - 2nd edition/ADL-Book-2nd-Ed/docs/_build/jupyter_execute/CNN/The_convolution_operator_41_0.png"
      },
      "needs_background": "light",
      "tags": []
     },
     "output_type": "display_data"
    }
   ],
   "source": [
    "plt.figure(figsize = (6, 6))\n",
    "plt.imshow(outputl, cmap = 'Greys', interpolation = 'nearest', extent = [0, 158, 0, 158])\n",
    "#plt.savefig('./Figure15-8', dpi = 300)\n",
    "plt.show()"
   ]
  },
  {
   "cell_type": "markdown",
   "metadata": {
    "id": "TcwnptU86BeY"
   },
   "source": [
    "You can observe the luminosity variations of each square in the above figure."
   ]
  },
  {
   "cell_type": "markdown",
   "metadata": {
    "id": "lGO5x-HVzJiX"
   },
   "source": [
    "#### Blurring Edges Kernel"
   ]
  },
  {
   "cell_type": "markdown",
   "metadata": {
    "id": "I3rL9vyy6J1V"
   },
   "source": [
    "The following kernel is able to blur the edges of an image. Let us show an example using the above-built chessboard."
   ]
  },
  {
   "cell_type": "markdown",
   "metadata": {
    "id": "kNXPjeBjzQHR"
   },
   "source": [
    "$$\n",
    "K_B = \\frac{1}{9}\n",
    "\\begin{pmatrix}\n",
    "1 & 1 & 1\\\\\n",
    "1 & 1 & 1\\\\\n",
    "1 & 1 & 1\n",
    "\\end{pmatrix}\n",
    "$$"
   ]
  },
  {
   "cell_type": "code",
   "execution_count": null,
   "metadata": {
    "id": "x7-7kGcVzjHP"
   },
   "outputs": [],
   "source": [
    "edge_blur = 1.0/9.0*np.matrix('1 1 1; 1 1 1; 1 1 1')\n",
    "output_blur = conv_2d(chessboard, edge_blur)"
   ]
  },
  {
   "cell_type": "code",
   "execution_count": null,
   "metadata": {
    "colab": {
     "base_uri": "https://localhost:8080/"
    },
    "executionInfo": {
     "elapsed": 223,
     "status": "ok",
     "timestamp": 1626687221199,
     "user": {
      "displayName": "Michela Sperti",
      "photoUrl": "https://lh3.googleusercontent.com/a-/AOh14Gh7mD9r-1Xj0Qve63ZPZx9UHRv0PkVhL5ayiHNv=s64",
      "userId": "13210266879998244642"
     },
     "user_tz": -120
    },
    "id": "Hp9SCczVznXt",
    "outputId": "a02afc5b-2fb5-4131-e115-a7cc38e6bb3e"
   },
   "outputs": [
    {
     "data": {
      "text/plain": [
       "(158, 158)"
      ]
     },
     "execution_count": 44,
     "metadata": {
      "tags": []
     },
     "output_type": "execute_result"
    }
   ],
   "source": [
    "output_blur.shape"
   ]
  },
  {
   "cell_type": "markdown",
   "metadata": {
    "id": "JbgEUK3d6S_9"
   },
   "source": [
    "Again, the fact that the convolution operation's result has a smaller shape than the original matrix depends on the matrix and kernel's dimensions. To get more details, see the correspondent hands-on chapter of the book."
   ]
  },
  {
   "cell_type": "code",
   "execution_count": null,
   "metadata": {
    "colab": {
     "base_uri": "https://localhost:8080/",
     "height": 204
    },
    "executionInfo": {
     "elapsed": 719,
     "status": "ok",
     "timestamp": 1626687221916,
     "user": {
      "displayName": "Michela Sperti",
      "photoUrl": "https://lh3.googleusercontent.com/a-/AOh14Gh7mD9r-1Xj0Qve63ZPZx9UHRv0PkVhL5ayiHNv=s64",
      "userId": "13210266879998244642"
     },
     "user_tz": -120
    },
    "id": "cCsm5IU9zokM",
    "outputId": "fb02ba7a-af98-4ba5-a434-73c267c471e2"
   },
   "outputs": [
    {
     "data": {
      "image/png": "[encoded data removed]",
      "text/plain": [
       "<Figure size 432x288 with 2 Axes>"
      ]
     },
     "metadata": {
      "filenames": {
       "image/png": "/Users/umberto/Research/Active Books/Applied Deep Learning - 2nd edition/ADL-Book-2nd-Ed/docs/_build/jupyter_execute/CNN/The_convolution_operator_49_0.png"
      },
      "needs_background": "light",
      "tags": []
     },
     "output_type": "display_data"
    }
   ],
   "source": [
    "fig, (ax1, ax2) = plt.subplots(1, 2)\n",
    "ax1.imshow(output_blur[90:118, 40:70], cmap = 'Greys', interpolation = 'nearest', extent = [40, 70, 40, 70])\n",
    "ax2.imshow(chessboard[90:118, 40:70], cmap = 'Greys', interpolation = 'nearest', extent = [40, 70, 40, 70])\n",
    "#plt.savefig('./Figure15-9', dpi = 300)\n",
    "plt.show()"
   ]
  },
  {
   "cell_type": "markdown",
   "metadata": {
    "id": "hZ0LMyH36U_k"
   },
   "source": [
    "You can observe a zoomed part of the original (on the right) and the blurred (on the left) chessboard in the above figure."
   ]
  },
  {
   "cell_type": "markdown",
   "metadata": {
    "id": "ZgVRr91q72ir"
   },
   "source": [
    "### A Final Example"
   ]
  },
  {
   "cell_type": "markdown",
   "metadata": {
    "id": "MyGjkPhhNkLt"
   },
   "source": [
    "To fully understand how convolution works, we need to make a final example on how edges are practically detected.\n",
    "\n",
    "Let us consider a matrix with a sharp vertical transition:"
   ]
  },
  {
   "cell_type": "code",
   "execution_count": null,
   "metadata": {
    "id": "0xBa6ctj7r1U"
   },
   "outputs": [],
   "source": [
    "ex_mat = np.matrix('10 10 10 10 0 0 0 0; 10 10 10 10 0 0 0 0; 10 10 10 10 0 0 0 0; 10 10 10 10 0 0 0 0; 10 10 10 10 0 0 0 0; 10 10 10 10 0 0 0 0; 10 10 10 10 0 0 0 0; 10 10 10 10 0 0 0 0')"
   ]
  },
  {
   "cell_type": "code",
   "execution_count": null,
   "metadata": {
    "colab": {
     "base_uri": "https://localhost:8080/"
    },
    "executionInfo": {
     "elapsed": 5,
     "status": "ok",
     "timestamp": 1626687221917,
     "user": {
      "displayName": "Michela Sperti",
      "photoUrl": "https://lh3.googleusercontent.com/a-/AOh14Gh7mD9r-1Xj0Qve63ZPZx9UHRv0PkVhL5ayiHNv=s64",
      "userId": "13210266879998244642"
     },
     "user_tz": -120
    },
    "id": "RHB03UiF70Gc",
    "outputId": "dcf6543e-973d-4081-b6bc-8a361b7dfe92"
   },
   "outputs": [
    {
     "data": {
      "text/plain": [
       "matrix([[10, 10, 10, 10,  0,  0,  0,  0],\n",
       "        [10, 10, 10, 10,  0,  0,  0,  0],\n",
       "        [10, 10, 10, 10,  0,  0,  0,  0],\n",
       "        [10, 10, 10, 10,  0,  0,  0,  0],\n",
       "        [10, 10, 10, 10,  0,  0,  0,  0],\n",
       "        [10, 10, 10, 10,  0,  0,  0,  0],\n",
       "        [10, 10, 10, 10,  0,  0,  0,  0],\n",
       "        [10, 10, 10, 10,  0,  0,  0,  0]])"
      ]
     },
     "execution_count": 47,
     "metadata": {
      "tags": []
     },
     "output_type": "execute_result"
    }
   ],
   "source": [
    "ex_mat"
   ]
  },
  {
   "cell_type": "markdown",
   "metadata": {
    "id": "aefLLXc8OLRz"
   },
   "source": [
    "As you can see, we have built the matrix so that its left part is all made by 10s, while its right part is all made by 0s.\n",
    "\n",
    "Now we perform a convolution with the vertical edges detector kernel."
   ]
  },
  {
   "cell_type": "code",
   "execution_count": null,
   "metadata": {
    "id": "1vJuwc8b8W-s"
   },
   "outputs": [],
   "source": [
    "ex_out = conv_2d (ex_mat, edgev)"
   ]
  },
  {
   "cell_type": "markdown",
   "metadata": {
    "id": "Dq3RQkxROncQ"
   },
   "source": [
    "The result is:"
   ]
  },
  {
   "cell_type": "code",
   "execution_count": null,
   "metadata": {
    "colab": {
     "base_uri": "https://localhost:8080/"
    },
    "executionInfo": {
     "elapsed": 5,
     "status": "ok",
     "timestamp": 1626687221918,
     "user": {
      "displayName": "Michela Sperti",
      "photoUrl": "https://lh3.googleusercontent.com/a-/AOh14Gh7mD9r-1Xj0Qve63ZPZx9UHRv0PkVhL5ayiHNv=s64",
      "userId": "13210266879998244642"
     },
     "user_tz": -120
    },
    "id": "fQ-wHnne8YQ0",
    "outputId": "8fccb98d-d0d5-4019-f1b9-cd02d78dbded"
   },
   "outputs": [
    {
     "data": {
      "text/plain": [
       "array([[ 0.,  0., 30., 30.,  0.,  0.],\n",
       "       [ 0.,  0., 30., 30.,  0.,  0.],\n",
       "       [ 0.,  0., 30., 30.,  0.,  0.],\n",
       "       [ 0.,  0., 30., 30.,  0.,  0.],\n",
       "       [ 0.,  0., 30., 30.,  0.,  0.],\n",
       "       [ 0.,  0., 30., 30.,  0.,  0.]])"
      ]
     },
     "execution_count": 49,
     "metadata": {
      "tags": []
     },
     "output_type": "execute_result"
    }
   ],
   "source": [
    "ex_out"
   ]
  },
  {
   "cell_type": "code",
   "execution_count": null,
   "metadata": {
    "colab": {
     "base_uri": "https://localhost:8080/",
     "height": 200
    },
    "executionInfo": {
     "elapsed": 901,
     "status": "ok",
     "timestamp": 1626687222816,
     "user": {
      "displayName": "Michela Sperti",
      "photoUrl": "https://lh3.googleusercontent.com/a-/AOh14Gh7mD9r-1Xj0Qve63ZPZx9UHRv0PkVhL5ayiHNv=s64",
      "userId": "13210266879998244642"
     },
     "user_tz": -120
    },
    "id": "6ufIOjwC-pcX",
    "outputId": "f4df3d9c-7592-4a72-c9ff-e66472a24c01"
   },
   "outputs": [
    {
     "data": {
      "image/png": "[encoded data removed]",
      "text/plain": [
       "<Figure size 432x288 with 2 Axes>"
      ]
     },
     "metadata": {
      "filenames": {
       "image/png": "/Users/umberto/Research/Active Books/Applied Deep Learning - 2nd edition/ADL-Book-2nd-Ed/docs/_build/jupyter_execute/CNN/The_convolution_operator_59_0.png"
      },
      "needs_background": "light",
      "tags": []
     },
     "output_type": "display_data"
    }
   ],
   "source": [
    "fig, (ax1, ax2) = plt.subplots(1, 2)\n",
    "ax1.imshow(ex_mat, cmap = 'Greys', interpolation = 'nearest')\n",
    "ax2.imshow(ex_out, cmap = 'Greys', interpolation = 'nearest')\n",
    "\n",
    "# The following lines are needed to format the plots.\n",
    "# You can safely ignore them.\n",
    "# major ticks\n",
    "ax1.set_xticks(np.arange(0, 8, 1))\n",
    "ax1.set_yticks(np.arange(0, 8, 1))\n",
    "# labels for major ticks\n",
    "ax1.set_xticklabels(np.arange(0, 8, 1))\n",
    "ax1.set_yticklabels(np.arange(0, 8, 1))\n",
    "# minor ticks\n",
    "ax1.set_xticks(np.arange(-0.5, 7.5, 1), minor = True)\n",
    "ax1.set_yticks(np.arange(-0.5, 7.5, 1), minor = True)\n",
    "# gridlines based on minor ticks\n",
    "ax1.grid(which = 'minor', color = 'grey', linestyle = '-', linewidth = 1)\n",
    "# major ticks\n",
    "ax2.set_xticks(np.arange(0, 6, 1))\n",
    "ax2.set_yticks(np.arange(0, 6, 1))\n",
    "# labels for major ticks\n",
    "ax2.set_xticklabels(np.arange(0, 6, 1))\n",
    "ax2.set_yticklabels(np.arange(0, 6, 1))\n",
    "# minor ticks\n",
    "ax2.set_xticks(np.arange(-0.5, 5.5, 1), minor = True)\n",
    "ax2.set_yticks(np.arange(-0.5, 5.5, 1), minor = True)\n",
    "# gridlines based on minor ticks\n",
    "ax2.grid(which = 'minor', color = 'grey', linestyle = '-', linewidth = 1)\n",
    "\n",
    "#plt.savefig('./Figure15-10', dpi = 300)\n",
    "plt.show()"
   ]
  },
  {
   "cell_type": "markdown",
   "metadata": {
    "id": "KnDKK1J_Or-j"
   },
   "source": [
    "The convolution with the vertical edges detector kernel has clearly detected the sharp transition in the original matrix marking with a vertical black line where the transition from black to white happens, as you can notice from the above figure. This is possible thanks to the form of the kernel that, when multiplied by the original matrix, highlights the edge (resulting in a big number after the convolution) and ignores the parts where no change in colour happens (resulting in zero value)."
   ]
  },
  {
   "cell_type": "markdown",
   "metadata": {
    "id": "tBvuNTyjHj98"
   },
   "source": [
    "## Exercises"
   ]
  },
  {
   "cell_type": "markdown",
   "metadata": {
    "id": "V8R5_qtaHpct"
   },
   "source": [
    "1. [*Easy Difficulty*] Try to apply the different convolution operators like the ones we saw together in this notebook, but to different images, like the handwritten digits of the MNIST database (http://yann.lecun.com/exdb/mnist/). To download the dataset from TensorFlow use the following lines of code:\n",
    "```\n",
    "from tensorflow import keras \n",
    "(x_train, y_train), (x_test, y_test) = keras.datasets.mnist.load_data()\n",
    "```"
   ]
  },
  {
   "cell_type": "code",
   "execution_count": null,
   "metadata": {
    "id": "icaxCdlnHl21"
   },
   "outputs": [],
   "source": []
  }
 ],
 "metadata": {
  "colab": {
   "authorship_tag": "ABX9TyNKVLqyfCxkaylkGTp6VM6I",
   "collapsed_sections": [],
   "name": "The_convolution_operator.ipynb",
   "provenance": [],
   "toc_visible": true
  },
  "kernelspec": {
   "display_name": "Python 3",
   "name": "python3"
  }
 },
 "nbformat": 4,
 "nbformat_minor": 0
}