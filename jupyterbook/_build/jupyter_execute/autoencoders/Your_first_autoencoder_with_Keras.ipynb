{
 "cells": [
  {
   "cell_type": "markdown",
   "metadata": {
    "id": "yAHyZgUGrjrS"
   },
   "source": [
    "# Your first autoencoder\n",
    "\n",
    "(C) 2020 - Umberto Michelucci, Michela Sperti\n",
    "\n",
    "This notebook is part of the book _Applied Deep Learning: a case based approach, **2nd edition**_ from APRESS by [U. Michelucci](mailto:umberto.michelucci@toelt.ai) and [M. Sperti](mailto:michela.sperti@toelt.ai).\n",
    "\n",
    "This notebook is referenced in Chapter 25 and 26 in the book."
   ]
  },
  {
   "cell_type": "markdown",
   "metadata": {
    "id": "AoofZNYbrnyI"
   },
   "source": [
    "## Notebook learning goals\n",
    "\n",
    "At the end of this notebook you will be able to build a simple autoencoder with Keras, using `Dense` layers in Keras and apply to images, in particular to the [MNIST](http://yann.lecun.com/exdb/mnist/) dataset and the [fashion MNIST](https://keras.io/api/datasets/fashion_mnist/) dataset as examples."
   ]
  },
  {
   "cell_type": "code",
   "execution_count": 1,
   "metadata": {
    "executionInfo": {
     "elapsed": 478,
     "status": "ok",
     "timestamp": 1601712344357,
     "user": {
      "displayName": "Umberto Michelucci",
      "photoUrl": "https://lh3.googleusercontent.com/a-/AOh14Ggrkq7MAw6QQDY8sxIXNAo8wGBCTJXUym30fmVK=s64",
      "userId": "10493425851464515093"
     },
     "user_tz": -120
    },
    "id": "DUNNih8SlLaO"
   },
   "outputs": [
    {
     "name": "stderr",
     "output_type": "stream",
     "text": [
      "Using TensorFlow backend.\n"
     ]
    }
   ],
   "source": [
    "import numpy as np\n",
    "import tensorflow.keras as keras\n",
    "import pandas as pd\n",
    "import time\n",
    "\n",
    "from keras.layers import Input, Dense\n",
    "from keras.models import Model"
   ]
  },
  {
   "cell_type": "markdown",
   "metadata": {
    "id": "6EFOxMEhus07"
   },
   "source": [
    "## MNIST and FASHION MNIST dataset "
   ]
  },
  {
   "cell_type": "code",
   "execution_count": 2,
   "metadata": {
    "executionInfo": {
     "elapsed": 863,
     "status": "ok",
     "timestamp": 1601712345037,
     "user": {
      "displayName": "Umberto Michelucci",
      "photoUrl": "https://lh3.googleusercontent.com/a-/AOh14Ggrkq7MAw6QQDY8sxIXNAo8wGBCTJXUym30fmVK=s64",
      "userId": "10493425851464515093"
     },
     "user_tz": -120
    },
    "id": "-IQf1yl8uyQ-"
   },
   "outputs": [],
   "source": [
    "from keras.datasets import mnist\n",
    "import numpy as np\n",
    "(mnist_x_train, mnist_y_train), (mnist_x_test, mnist_y_test) = mnist.load_data()"
   ]
  },
  {
   "cell_type": "code",
   "execution_count": 3,
   "metadata": {
    "executionInfo": {
     "elapsed": 1105,
     "status": "ok",
     "timestamp": 1601712345421,
     "user": {
      "displayName": "Umberto Michelucci",
      "photoUrl": "https://lh3.googleusercontent.com/a-/AOh14Ggrkq7MAw6QQDY8sxIXNAo8wGBCTJXUym30fmVK=s64",
      "userId": "10493425851464515093"
     },
     "user_tz": -120
    },
    "id": "8MX96nM1u2Z0"
   },
   "outputs": [],
   "source": [
    "mnist_x_train = mnist_x_train.astype('float32') / 255.\n",
    "mnist_x_test = mnist_x_test.astype('float32') / 255.\n",
    "mnist_x_train = mnist_x_train.reshape((len(mnist_x_train), np.prod(mnist_x_train.shape[1:])))\n",
    "mnist_x_test = mnist_x_test.reshape((len(mnist_x_test), np.prod(mnist_x_test.shape[1:])))"
   ]
  },
  {
   "cell_type": "code",
   "execution_count": 4,
   "metadata": {
    "executionInfo": {
     "elapsed": 861,
     "status": "ok",
     "timestamp": 1601712903456,
     "user": {
      "displayName": "Umberto Michelucci",
      "photoUrl": "https://lh3.googleusercontent.com/a-/AOh14Ggrkq7MAw6QQDY8sxIXNAo8wGBCTJXUym30fmVK=s64",
      "userId": "10493425851464515093"
     },
     "user_tz": -120
    },
    "id": "E8TfQEXmvALJ"
   },
   "outputs": [],
   "source": [
    "from keras.datasets import fashion_mnist\n",
    "import numpy as np\n",
    "(fashion_x_train, fashion_y_train), (fashion_x_test, fashion_y_test) = fashion_mnist.load_data()"
   ]
  },
  {
   "cell_type": "code",
   "execution_count": 5,
   "metadata": {
    "executionInfo": {
     "elapsed": 556,
     "status": "ok",
     "timestamp": 1601712904019,
     "user": {
      "displayName": "Umberto Michelucci",
      "photoUrl": "https://lh3.googleusercontent.com/a-/AOh14Ggrkq7MAw6QQDY8sxIXNAo8wGBCTJXUym30fmVK=s64",
      "userId": "10493425851464515093"
     },
     "user_tz": -120
    },
    "id": "Lw3IFaPeu_3s"
   },
   "outputs": [],
   "source": [
    "fashion_x_train = fashion_x_train.astype('float32') / 255.\n",
    "fashion_x_test = fashion_x_test.astype('float32') / 255.\n",
    "fashion_x_train = fashion_x_train.reshape((len(fashion_x_train), np.prod(fashion_x_train.shape[1:])))\n",
    "fashion_x_test = fashion_x_test.reshape((len(fashion_x_test), np.prod(fashion_x_test.shape[1:])))"
   ]
  },
  {
   "cell_type": "markdown",
   "metadata": {
    "id": "gsxM-4FYunrK"
   },
   "source": [
    "## Function to create the autoencoders"
   ]
  },
  {
   "cell_type": "code",
   "execution_count": 6,
   "metadata": {
    "executionInfo": {
     "elapsed": 456,
     "status": "ok",
     "timestamp": 1601712346889,
     "user": {
      "displayName": "Umberto Michelucci",
      "photoUrl": "https://lh3.googleusercontent.com/a-/AOh14Ggrkq7MAw6QQDY8sxIXNAo8wGBCTJXUym30fmVK=s64",
      "userId": "10493425851464515093"
     },
     "user_tz": -120
    },
    "id": "9e3_MUYyuHp-"
   },
   "outputs": [],
   "source": [
    "def create_autoencoders (feature_layer_dim = 16):\n",
    "  input_img = Input(shape = (784,), name = 'Input_Layer')\n",
    "  encoded = Dense(feature_layer_dim, activation = 'relu', name = 'Encoded_Features')(input_img)\n",
    "  decoded = Dense(784, activation = 'sigmoid', name = 'Decoded_Input')(encoded)\n",
    "\n",
    "  autoencoder = Model(input_img, decoded)\n",
    "  encoder = Model(input_img, encoded)\n",
    "\n",
    "  encoded_input = Input(shape = (feature_layer_dim,))\n",
    "  decoder = autoencoder.layers[-1]\n",
    "  decoder = Model(encoded_input, decoder(encoded_input))\n",
    "\n",
    "  return autoencoder, encoder, decoder"
   ]
  },
  {
   "cell_type": "markdown",
   "metadata": {
    "id": "Y6juVqpJvSQg"
   },
   "source": [
    "## (784,16,784)\n",
    "\n",
    "\n"
   ]
  },
  {
   "cell_type": "code",
   "execution_count": 7,
   "metadata": {
    "executionInfo": {
     "elapsed": 775,
     "status": "ok",
     "timestamp": 1601648919205,
     "user": {
      "displayName": "Umberto Michelucci",
      "photoUrl": "https://lh3.googleusercontent.com/a-/AOh14Ggrkq7MAw6QQDY8sxIXNAo8wGBCTJXUym30fmVK=s64",
      "userId": "10493425851464515093"
     },
     "user_tz": -120
    },
    "id": "U5BaDqnbuY-I"
   },
   "outputs": [
    {
     "ename": "AttributeError",
     "evalue": "module 'tensorflow' has no attribute 'placeholder'",
     "output_type": "error",
     "traceback": [
      "\u001b[0;31m---------------------------------------------------------------------------\u001b[0m",
      "\u001b[0;31mAttributeError\u001b[0m                            Traceback (most recent call last)",
      "\u001b[0;32m<ipython-input-7-7929c50d7b78>\u001b[0m in \u001b[0;36m<module>\u001b[0;34m\u001b[0m\n\u001b[0;32m----> 1\u001b[0;31m \u001b[0mautoencoder\u001b[0m\u001b[0;34m,\u001b[0m \u001b[0mencoder\u001b[0m\u001b[0;34m,\u001b[0m \u001b[0mdecoder\u001b[0m \u001b[0;34m=\u001b[0m \u001b[0mcreate_autoencoders\u001b[0m \u001b[0;34m(\u001b[0m\u001b[0;36m16\u001b[0m\u001b[0;34m)\u001b[0m\u001b[0;34m\u001b[0m\u001b[0;34m\u001b[0m\u001b[0m\n\u001b[0m",
      "\u001b[0;32m<ipython-input-6-c3195d98c5e5>\u001b[0m in \u001b[0;36mcreate_autoencoders\u001b[0;34m(feature_layer_dim)\u001b[0m\n\u001b[1;32m      1\u001b[0m \u001b[0;32mdef\u001b[0m \u001b[0mcreate_autoencoders\u001b[0m \u001b[0;34m(\u001b[0m\u001b[0mfeature_layer_dim\u001b[0m \u001b[0;34m=\u001b[0m \u001b[0;36m16\u001b[0m\u001b[0;34m)\u001b[0m\u001b[0;34m:\u001b[0m\u001b[0;34m\u001b[0m\u001b[0;34m\u001b[0m\u001b[0m\n\u001b[0;32m----> 2\u001b[0;31m   \u001b[0minput_img\u001b[0m \u001b[0;34m=\u001b[0m \u001b[0mInput\u001b[0m\u001b[0;34m(\u001b[0m\u001b[0mshape\u001b[0m \u001b[0;34m=\u001b[0m \u001b[0;34m(\u001b[0m\u001b[0;36m784\u001b[0m\u001b[0;34m,\u001b[0m\u001b[0;34m)\u001b[0m\u001b[0;34m,\u001b[0m \u001b[0mname\u001b[0m \u001b[0;34m=\u001b[0m \u001b[0;34m'Input_Layer'\u001b[0m\u001b[0;34m)\u001b[0m\u001b[0;34m\u001b[0m\u001b[0;34m\u001b[0m\u001b[0m\n\u001b[0m\u001b[1;32m      3\u001b[0m   \u001b[0mencoded\u001b[0m \u001b[0;34m=\u001b[0m \u001b[0mDense\u001b[0m\u001b[0;34m(\u001b[0m\u001b[0mfeature_layer_dim\u001b[0m\u001b[0;34m,\u001b[0m \u001b[0mactivation\u001b[0m \u001b[0;34m=\u001b[0m \u001b[0;34m'relu'\u001b[0m\u001b[0;34m,\u001b[0m \u001b[0mname\u001b[0m \u001b[0;34m=\u001b[0m \u001b[0;34m'Encoded_Features'\u001b[0m\u001b[0;34m)\u001b[0m\u001b[0;34m(\u001b[0m\u001b[0minput_img\u001b[0m\u001b[0;34m)\u001b[0m\u001b[0;34m\u001b[0m\u001b[0;34m\u001b[0m\u001b[0m\n\u001b[1;32m      4\u001b[0m   \u001b[0mdecoded\u001b[0m \u001b[0;34m=\u001b[0m \u001b[0mDense\u001b[0m\u001b[0;34m(\u001b[0m\u001b[0;36m784\u001b[0m\u001b[0;34m,\u001b[0m \u001b[0mactivation\u001b[0m \u001b[0;34m=\u001b[0m \u001b[0;34m'sigmoid'\u001b[0m\u001b[0;34m,\u001b[0m \u001b[0mname\u001b[0m \u001b[0;34m=\u001b[0m \u001b[0;34m'Decoded_Input'\u001b[0m\u001b[0;34m)\u001b[0m\u001b[0;34m(\u001b[0m\u001b[0mencoded\u001b[0m\u001b[0;34m)\u001b[0m\u001b[0;34m\u001b[0m\u001b[0;34m\u001b[0m\u001b[0m\n\u001b[1;32m      5\u001b[0m \u001b[0;34m\u001b[0m\u001b[0m\n",
      "\u001b[0;32m~/Python-Environments/tfenv2/lib/python3.7/site-packages/keras/engine/input_layer.py\u001b[0m in \u001b[0;36mInput\u001b[0;34m(shape, batch_shape, name, dtype, sparse, tensor)\u001b[0m\n\u001b[1;32m    176\u001b[0m                              \u001b[0mname\u001b[0m\u001b[0;34m=\u001b[0m\u001b[0mname\u001b[0m\u001b[0;34m,\u001b[0m \u001b[0mdtype\u001b[0m\u001b[0;34m=\u001b[0m\u001b[0mdtype\u001b[0m\u001b[0;34m,\u001b[0m\u001b[0;34m\u001b[0m\u001b[0;34m\u001b[0m\u001b[0m\n\u001b[1;32m    177\u001b[0m                              \u001b[0msparse\u001b[0m\u001b[0;34m=\u001b[0m\u001b[0msparse\u001b[0m\u001b[0;34m,\u001b[0m\u001b[0;34m\u001b[0m\u001b[0;34m\u001b[0m\u001b[0m\n\u001b[0;32m--> 178\u001b[0;31m                              input_tensor=tensor)\n\u001b[0m\u001b[1;32m    179\u001b[0m     \u001b[0;31m# Return tensor including _keras_shape and _keras_history.\u001b[0m\u001b[0;34m\u001b[0m\u001b[0;34m\u001b[0m\u001b[0;34m\u001b[0m\u001b[0m\n\u001b[1;32m    180\u001b[0m     \u001b[0;31m# Note that in this case train_output and test_output are the same pointer.\u001b[0m\u001b[0;34m\u001b[0m\u001b[0;34m\u001b[0m\u001b[0;34m\u001b[0m\u001b[0m\n",
      "\u001b[0;32m~/Python-Environments/tfenv2/lib/python3.7/site-packages/keras/legacy/interfaces.py\u001b[0m in \u001b[0;36mwrapper\u001b[0;34m(*args, **kwargs)\u001b[0m\n\u001b[1;32m     89\u001b[0m                 warnings.warn('Update your `' + object_name + '` call to the ' +\n\u001b[1;32m     90\u001b[0m                               'Keras 2 API: ' + signature, stacklevel=2)\n\u001b[0;32m---> 91\u001b[0;31m             \u001b[0;32mreturn\u001b[0m \u001b[0mfunc\u001b[0m\u001b[0;34m(\u001b[0m\u001b[0;34m*\u001b[0m\u001b[0margs\u001b[0m\u001b[0;34m,\u001b[0m \u001b[0;34m**\u001b[0m\u001b[0mkwargs\u001b[0m\u001b[0;34m)\u001b[0m\u001b[0;34m\u001b[0m\u001b[0;34m\u001b[0m\u001b[0m\n\u001b[0m\u001b[1;32m     92\u001b[0m         \u001b[0mwrapper\u001b[0m\u001b[0;34m.\u001b[0m\u001b[0m_original_function\u001b[0m \u001b[0;34m=\u001b[0m \u001b[0mfunc\u001b[0m\u001b[0;34m\u001b[0m\u001b[0;34m\u001b[0m\u001b[0m\n\u001b[1;32m     93\u001b[0m         \u001b[0;32mreturn\u001b[0m \u001b[0mwrapper\u001b[0m\u001b[0;34m\u001b[0m\u001b[0;34m\u001b[0m\u001b[0m\n",
      "\u001b[0;32m~/Python-Environments/tfenv2/lib/python3.7/site-packages/keras/engine/input_layer.py\u001b[0m in \u001b[0;36m__init__\u001b[0;34m(self, input_shape, batch_size, batch_input_shape, dtype, input_tensor, sparse, name)\u001b[0m\n\u001b[1;32m     85\u001b[0m                                          \u001b[0mdtype\u001b[0m\u001b[0;34m=\u001b[0m\u001b[0mdtype\u001b[0m\u001b[0;34m,\u001b[0m\u001b[0;34m\u001b[0m\u001b[0;34m\u001b[0m\u001b[0m\n\u001b[1;32m     86\u001b[0m                                          \u001b[0msparse\u001b[0m\u001b[0;34m=\u001b[0m\u001b[0mself\u001b[0m\u001b[0;34m.\u001b[0m\u001b[0msparse\u001b[0m\u001b[0;34m,\u001b[0m\u001b[0;34m\u001b[0m\u001b[0;34m\u001b[0m\u001b[0m\n\u001b[0;32m---> 87\u001b[0;31m                                          name=self.name)\n\u001b[0m\u001b[1;32m     88\u001b[0m         \u001b[0;32melse\u001b[0m\u001b[0;34m:\u001b[0m\u001b[0;34m\u001b[0m\u001b[0;34m\u001b[0m\u001b[0m\n\u001b[1;32m     89\u001b[0m             \u001b[0mself\u001b[0m\u001b[0;34m.\u001b[0m\u001b[0mis_placeholder\u001b[0m \u001b[0;34m=\u001b[0m \u001b[0;32mFalse\u001b[0m\u001b[0;34m\u001b[0m\u001b[0;34m\u001b[0m\u001b[0m\n",
      "\u001b[0;32m~/Python-Environments/tfenv2/lib/python3.7/site-packages/keras/backend/tensorflow_backend.py\u001b[0m in \u001b[0;36mplaceholder\u001b[0;34m(shape, ndim, dtype, sparse, name)\u001b[0m\n\u001b[1;32m    515\u001b[0m         \u001b[0mx\u001b[0m \u001b[0;34m=\u001b[0m \u001b[0mtf\u001b[0m\u001b[0;34m.\u001b[0m\u001b[0msparse_placeholder\u001b[0m\u001b[0;34m(\u001b[0m\u001b[0mdtype\u001b[0m\u001b[0;34m,\u001b[0m \u001b[0mshape\u001b[0m\u001b[0;34m=\u001b[0m\u001b[0mshape\u001b[0m\u001b[0;34m,\u001b[0m \u001b[0mname\u001b[0m\u001b[0;34m=\u001b[0m\u001b[0mname\u001b[0m\u001b[0;34m)\u001b[0m\u001b[0;34m\u001b[0m\u001b[0;34m\u001b[0m\u001b[0m\n\u001b[1;32m    516\u001b[0m     \u001b[0;32melse\u001b[0m\u001b[0;34m:\u001b[0m\u001b[0;34m\u001b[0m\u001b[0;34m\u001b[0m\u001b[0m\n\u001b[0;32m--> 517\u001b[0;31m         \u001b[0mx\u001b[0m \u001b[0;34m=\u001b[0m \u001b[0mtf\u001b[0m\u001b[0;34m.\u001b[0m\u001b[0mplaceholder\u001b[0m\u001b[0;34m(\u001b[0m\u001b[0mdtype\u001b[0m\u001b[0;34m,\u001b[0m \u001b[0mshape\u001b[0m\u001b[0;34m=\u001b[0m\u001b[0mshape\u001b[0m\u001b[0;34m,\u001b[0m \u001b[0mname\u001b[0m\u001b[0;34m=\u001b[0m\u001b[0mname\u001b[0m\u001b[0;34m)\u001b[0m\u001b[0;34m\u001b[0m\u001b[0;34m\u001b[0m\u001b[0m\n\u001b[0m\u001b[1;32m    518\u001b[0m     \u001b[0mx\u001b[0m\u001b[0;34m.\u001b[0m\u001b[0m_keras_shape\u001b[0m \u001b[0;34m=\u001b[0m \u001b[0mshape\u001b[0m\u001b[0;34m\u001b[0m\u001b[0;34m\u001b[0m\u001b[0m\n\u001b[1;32m    519\u001b[0m     \u001b[0mx\u001b[0m\u001b[0;34m.\u001b[0m\u001b[0m_uses_learning_phase\u001b[0m \u001b[0;34m=\u001b[0m \u001b[0;32mFalse\u001b[0m\u001b[0;34m\u001b[0m\u001b[0;34m\u001b[0m\u001b[0m\n",
      "\u001b[0;31mAttributeError\u001b[0m: module 'tensorflow' has no attribute 'placeholder'"
     ]
    }
   ],
   "source": [
    "autoencoder, encoder, decoder = create_autoencoders (16)"
   ]
  },
  {
   "cell_type": "code",
   "execution_count": 32,
   "metadata": {
    "colab": {
     "base_uri": "https://localhost:8080/",
     "height": 312
    },
    "executionInfo": {
     "elapsed": 792,
     "status": "ok",
     "timestamp": 1601648919571,
     "user": {
      "displayName": "Umberto Michelucci",
      "photoUrl": "https://lh3.googleusercontent.com/a-/AOh14Ggrkq7MAw6QQDY8sxIXNAo8wGBCTJXUym30fmVK=s64",
      "userId": "10493425851464515093"
     },
     "user_tz": -120
    },
    "id": "A157gXaewJI2",
    "outputId": "0b9954b1-2165-4468-c653-3f61eb5ce6b9"
   },
   "outputs": [
    {
     "data": {
      "image/png": "[encoded data removed]",
      "text/plain": [
       "<IPython.core.display.Image object>"
      ]
     },
     "execution_count": 32,
     "metadata": {
      "filenames": {
       "image/png": "/Users/umberto/Research/Active Books/Applied Deep Learning - 2nd edition/ADL-Book-2nd-Ed/jupyterbook/_build/jupyter_execute/autoencoders/Your_first_autoencoder_with_Keras_12_0.png"
      },
      "tags": []
     },
     "output_type": "execute_result"
    }
   ],
   "source": [
    "keras.utils.plot_model(autoencoder, show_shapes=True)"
   ]
  },
  {
   "cell_type": "markdown",
   "metadata": {
    "id": "9jNv0UMqwvJ9"
   },
   "source": [
    "### Model compilation"
   ]
  },
  {
   "cell_type": "code",
   "execution_count": 33,
   "metadata": {
    "executionInfo": {
     "elapsed": 792,
     "status": "ok",
     "timestamp": 1601648925405,
     "user": {
      "displayName": "Umberto Michelucci",
      "photoUrl": "https://lh3.googleusercontent.com/a-/AOh14Ggrkq7MAw6QQDY8sxIXNAo8wGBCTJXUym30fmVK=s64",
      "userId": "10493425851464515093"
     },
     "user_tz": -120
    },
    "id": "rFv4sGg4mBkB"
   },
   "outputs": [],
   "source": [
    "autoencoder.compile(optimizer='adam', loss='binary_crossentropy')"
   ]
  },
  {
   "cell_type": "code",
   "execution_count": 34,
   "metadata": {
    "colab": {
     "base_uri": "https://localhost:8080/",
     "height": 1000
    },
    "executionInfo": {
     "elapsed": 72197,
     "status": "ok",
     "timestamp": 1601649001634,
     "user": {
      "displayName": "Umberto Michelucci",
      "photoUrl": "https://lh3.googleusercontent.com/a-/AOh14Ggrkq7MAw6QQDY8sxIXNAo8wGBCTJXUym30fmVK=s64",
      "userId": "10493425851464515093"
     },
     "user_tz": -120
    },
    "id": "uxaS4XlLmLI7",
    "outputId": "1b1ec478-15ac-4c7b-cfe9-174945cb994b"
   },
   "outputs": [
    {
     "name": "stdout",
     "output_type": "stream",
     "text": [
      "Epoch 1/30\n",
      "235/235 [==============================] - 2s 10ms/step - loss: 0.3083 - val_loss: 0.2183\n",
      "Epoch 2/30\n",
      "235/235 [==============================] - 2s 10ms/step - loss: 0.1982 - val_loss: 0.1806\n",
      "Epoch 3/30\n",
      "235/235 [==============================] - 2s 10ms/step - loss: 0.1719 - val_loss: 0.1624\n",
      "Epoch 4/30\n",
      "235/235 [==============================] - 2s 10ms/step - loss: 0.1581 - val_loss: 0.1513\n",
      "Epoch 5/30\n",
      "235/235 [==============================] - 2s 10ms/step - loss: 0.1491 - val_loss: 0.1445\n",
      "Epoch 6/30\n",
      "235/235 [==============================] - 2s 10ms/step - loss: 0.1441 - val_loss: 0.1409\n",
      "Epoch 7/30\n",
      "235/235 [==============================] - 2s 10ms/step - loss: 0.1410 - val_loss: 0.1384\n",
      "Epoch 8/30\n",
      "235/235 [==============================] - 2s 10ms/step - loss: 0.1387 - val_loss: 0.1362\n",
      "Epoch 9/30\n",
      "235/235 [==============================] - 2s 10ms/step - loss: 0.1368 - val_loss: 0.1345\n",
      "Epoch 10/30\n",
      "235/235 [==============================] - 2s 10ms/step - loss: 0.1352 - val_loss: 0.1331\n",
      "Epoch 11/30\n",
      "235/235 [==============================] - 2s 10ms/step - loss: 0.1338 - val_loss: 0.1318\n",
      "Epoch 12/30\n",
      "235/235 [==============================] - 2s 10ms/step - loss: 0.1327 - val_loss: 0.1308\n",
      "Epoch 13/30\n",
      "235/235 [==============================] - 2s 9ms/step - loss: 0.1319 - val_loss: 0.1301\n",
      "Epoch 14/30\n",
      "235/235 [==============================] - 2s 10ms/step - loss: 0.1313 - val_loss: 0.1295\n",
      "Epoch 15/30\n",
      "235/235 [==============================] - 3s 11ms/step - loss: 0.1308 - val_loss: 0.1291\n",
      "Epoch 16/30\n",
      "235/235 [==============================] - 3s 11ms/step - loss: 0.1304 - val_loss: 0.1287\n",
      "Epoch 17/30\n",
      "235/235 [==============================] - 3s 11ms/step - loss: 0.1302 - val_loss: 0.1285\n",
      "Epoch 18/30\n",
      "235/235 [==============================] - 3s 11ms/step - loss: 0.1300 - val_loss: 0.1282\n",
      "Epoch 19/30\n",
      "235/235 [==============================] - 3s 11ms/step - loss: 0.1298 - val_loss: 0.1281\n",
      "Epoch 20/30\n",
      "235/235 [==============================] - 3s 11ms/step - loss: 0.1296 - val_loss: 0.1280\n",
      "Epoch 21/30\n",
      "235/235 [==============================] - 3s 11ms/step - loss: 0.1295 - val_loss: 0.1278\n",
      "Epoch 22/30\n",
      "235/235 [==============================] - 3s 11ms/step - loss: 0.1294 - val_loss: 0.1278\n",
      "Epoch 23/30\n",
      "235/235 [==============================] - 3s 11ms/step - loss: 0.1293 - val_loss: 0.1277\n",
      "Epoch 24/30\n",
      "235/235 [==============================] - 2s 10ms/step - loss: 0.1292 - val_loss: 0.1276\n",
      "Epoch 25/30\n",
      "235/235 [==============================] - 2s 10ms/step - loss: 0.1291 - val_loss: 0.1275\n",
      "Epoch 26/30\n",
      "235/235 [==============================] - 2s 10ms/step - loss: 0.1290 - val_loss: 0.1274\n",
      "Epoch 27/30\n",
      "235/235 [==============================] - 2s 10ms/step - loss: 0.1289 - val_loss: 0.1273\n",
      "Epoch 28/30\n",
      "235/235 [==============================] - 2s 10ms/step - loss: 0.1289 - val_loss: 0.1272\n",
      "Epoch 29/30\n",
      "235/235 [==============================] - 2s 9ms/step - loss: 0.1288 - val_loss: 0.1271\n",
      "Epoch 30/30\n",
      "235/235 [==============================] - 2s 10ms/step - loss: 0.1287 - val_loss: 0.1272\n"
     ]
    }
   ],
   "source": [
    "history = autoencoder.fit(mnist_x_train, mnist_x_train,\n",
    "                epochs=30,\n",
    "                batch_size=256,\n",
    "                shuffle=True,\n",
    "                validation_data=(mnist_x_test, mnist_x_test))"
   ]
  },
  {
   "cell_type": "code",
   "execution_count": 35,
   "metadata": {
    "executionInfo": {
     "elapsed": 52670,
     "status": "ok",
     "timestamp": 1601649002509,
     "user": {
      "displayName": "Umberto Michelucci",
      "photoUrl": "https://lh3.googleusercontent.com/a-/AOh14Ggrkq7MAw6QQDY8sxIXNAo8wGBCTJXUym30fmVK=s64",
      "userId": "10493425851464515093"
     },
     "user_tz": -120
    },
    "id": "ZaRLBur6mM2Y"
   },
   "outputs": [],
   "source": [
    "encoded_imgs = encoder.predict(mnist_x_test)\n",
    "decoded_imgs = decoder.predict(encoded_imgs)"
   ]
  },
  {
   "cell_type": "code",
   "execution_count": 36,
   "metadata": {
    "colab": {
     "base_uri": "https://localhost:8080/",
     "height": 270
    },
    "executionInfo": {
     "elapsed": 53187,
     "status": "ok",
     "timestamp": 1601649003637,
     "user": {
      "displayName": "Umberto Michelucci",
      "photoUrl": "https://lh3.googleusercontent.com/a-/AOh14Ggrkq7MAw6QQDY8sxIXNAo8wGBCTJXUym30fmVK=s64",
      "userId": "10493425851464515093"
     },
     "user_tz": -120
    },
    "id": "UzqmwmRznzSH",
    "outputId": "dba17c65-4477-4854-8c95-9269670dd7ae"
   },
   "outputs": [
    {
     "data": {
      "image/png": "[encoded data removed]",
      "text/plain": [
       "<Figure size 1440x288 with 20 Axes>"
      ]
     },
     "metadata": {
      "filenames": {
       "image/png": "/Users/umberto/Research/Active Books/Applied Deep Learning - 2nd edition/ADL-Book-2nd-Ed/jupyterbook/_build/jupyter_execute/autoencoders/Your_first_autoencoder_with_Keras_17_0.png"
      },
      "needs_background": "light",
      "tags": []
     },
     "output_type": "display_data"
    }
   ],
   "source": [
    "import matplotlib.pyplot as plt\n",
    "\n",
    "n = 10  # how many digits we will display\n",
    "fig = plt.figure(figsize=(20, 4))\n",
    "for i in range(n):\n",
    "    # display original\n",
    "    ax = plt.subplot(2, n, i + 1)\n",
    "    plt.imshow(mnist_x_test[i].reshape(28, 28))\n",
    "    plt.gray()\n",
    "    ax.get_xaxis().set_visible(False)\n",
    "    ax.get_yaxis().set_visible(False)\n",
    "\n",
    "    # display reconstruction\n",
    "    ax = plt.subplot(2, n, i + 1 + n)\n",
    "    plt.imshow(decoded_imgs[i].reshape(28, 28))\n",
    "    plt.gray()\n",
    "    ax.get_xaxis().set_visible(False)\n",
    "    ax.get_yaxis().set_visible(False)\n",
    "plt.tight_layout()\n",
    "plt.show()\n",
    "\n",
    "fig.savefig('comparison_16.png')"
   ]
  },
  {
   "cell_type": "markdown",
   "metadata": {
    "id": "f7O6b2A0tP8j"
   },
   "source": [
    "# Autoencoders (784,64,784)\n",
    "\n",
    "\n",
    "\n",
    "\n",
    "\n"
   ]
  },
  {
   "cell_type": "code",
   "execution_count": 37,
   "metadata": {
    "executionInfo": {
     "elapsed": 633,
     "status": "ok",
     "timestamp": 1601649009399,
     "user": {
      "displayName": "Umberto Michelucci",
      "photoUrl": "https://lh3.googleusercontent.com/a-/AOh14Ggrkq7MAw6QQDY8sxIXNAo8wGBCTJXUym30fmVK=s64",
      "userId": "10493425851464515093"
     },
     "user_tz": -120
    },
    "id": "NFpLzQ0MtTkH"
   },
   "outputs": [],
   "source": [
    "autoencoder, encoder, decoder = create_autoencoders (64)"
   ]
  },
  {
   "cell_type": "code",
   "execution_count": 38,
   "metadata": {
    "executionInfo": {
     "elapsed": 473,
     "status": "ok",
     "timestamp": 1601649009675,
     "user": {
      "displayName": "Umberto Michelucci",
      "photoUrl": "https://lh3.googleusercontent.com/a-/AOh14Ggrkq7MAw6QQDY8sxIXNAo8wGBCTJXUym30fmVK=s64",
      "userId": "10493425851464515093"
     },
     "user_tz": -120
    },
    "id": "cusA73eRtWgW"
   },
   "outputs": [],
   "source": [
    "autoencoder.compile(optimizer='adam', loss='binary_crossentropy')"
   ]
  },
  {
   "cell_type": "code",
   "execution_count": 39,
   "metadata": {
    "colab": {
     "base_uri": "https://localhost:8080/",
     "height": 1000
    },
    "executionInfo": {
     "elapsed": 83088,
     "status": "ok",
     "timestamp": 1601649097335,
     "user": {
      "displayName": "Umberto Michelucci",
      "photoUrl": "https://lh3.googleusercontent.com/a-/AOh14Ggrkq7MAw6QQDY8sxIXNAo8wGBCTJXUym30fmVK=s64",
      "userId": "10493425851464515093"
     },
     "user_tz": -120
    },
    "id": "zxSZA8tdtYRj",
    "outputId": "bdd09f77-e1ab-411d-9c7b-e39ac92a6495"
   },
   "outputs": [
    {
     "name": "stdout",
     "output_type": "stream",
     "text": [
      "Epoch 1/30\n",
      "235/235 [==============================] - 3s 12ms/step - loss: 0.2436 - val_loss: 0.1633\n",
      "Epoch 2/30\n",
      "235/235 [==============================] - 3s 11ms/step - loss: 0.1443 - val_loss: 0.1277\n",
      "Epoch 3/30\n",
      "235/235 [==============================] - 3s 11ms/step - loss: 0.1195 - val_loss: 0.1102\n",
      "Epoch 4/30\n",
      "235/235 [==============================] - 3s 11ms/step - loss: 0.1053 - val_loss: 0.0988\n",
      "Epoch 5/30\n",
      "235/235 [==============================] - 3s 12ms/step - loss: 0.0960 - val_loss: 0.0911\n",
      "Epoch 6/30\n",
      "235/235 [==============================] - 3s 13ms/step - loss: 0.0894 - val_loss: 0.0858\n",
      "Epoch 7/30\n",
      "235/235 [==============================] - 3s 13ms/step - loss: 0.0846 - val_loss: 0.0819\n",
      "Epoch 8/30\n",
      "235/235 [==============================] - 3s 11ms/step - loss: 0.0814 - val_loss: 0.0793\n",
      "Epoch 9/30\n",
      "235/235 [==============================] - 3s 11ms/step - loss: 0.0791 - val_loss: 0.0775\n",
      "Epoch 10/30\n",
      "235/235 [==============================] - 3s 11ms/step - loss: 0.0776 - val_loss: 0.0763\n",
      "Epoch 11/30\n",
      "235/235 [==============================] - 3s 11ms/step - loss: 0.0766 - val_loss: 0.0755\n",
      "Epoch 12/30\n",
      "235/235 [==============================] - 3s 12ms/step - loss: 0.0759 - val_loss: 0.0748\n",
      "Epoch 13/30\n",
      "235/235 [==============================] - 3s 11ms/step - loss: 0.0753 - val_loss: 0.0744\n",
      "Epoch 14/30\n",
      "235/235 [==============================] - 3s 12ms/step - loss: 0.0749 - val_loss: 0.0741\n",
      "Epoch 15/30\n",
      "235/235 [==============================] - 3s 11ms/step - loss: 0.0746 - val_loss: 0.0738\n",
      "Epoch 16/30\n",
      "235/235 [==============================] - 3s 12ms/step - loss: 0.0743 - val_loss: 0.0736\n",
      "Epoch 17/30\n",
      "235/235 [==============================] - 3s 11ms/step - loss: 0.0741 - val_loss: 0.0734\n",
      "Epoch 18/30\n",
      "235/235 [==============================] - 3s 11ms/step - loss: 0.0739 - val_loss: 0.0733\n",
      "Epoch 19/30\n",
      "235/235 [==============================] - 3s 12ms/step - loss: 0.0738 - val_loss: 0.0732\n",
      "Epoch 20/30\n",
      "235/235 [==============================] - 3s 12ms/step - loss: 0.0737 - val_loss: 0.0730\n",
      "Epoch 21/30\n",
      "235/235 [==============================] - 3s 12ms/step - loss: 0.0736 - val_loss: 0.0730\n",
      "Epoch 22/30\n",
      "235/235 [==============================] - 3s 11ms/step - loss: 0.0735 - val_loss: 0.0729\n",
      "Epoch 23/30\n",
      "235/235 [==============================] - 3s 11ms/step - loss: 0.0734 - val_loss: 0.0729\n",
      "Epoch 24/30\n",
      "235/235 [==============================] - 3s 12ms/step - loss: 0.0733 - val_loss: 0.0728\n",
      "Epoch 25/30\n",
      "235/235 [==============================] - 3s 12ms/step - loss: 0.0733 - val_loss: 0.0727\n",
      "Epoch 26/30\n",
      "235/235 [==============================] - 3s 11ms/step - loss: 0.0732 - val_loss: 0.0727\n",
      "Epoch 27/30\n",
      "235/235 [==============================] - 3s 12ms/step - loss: 0.0732 - val_loss: 0.0726\n",
      "Epoch 28/30\n",
      "235/235 [==============================] - 3s 11ms/step - loss: 0.0731 - val_loss: 0.0726\n",
      "Epoch 29/30\n",
      "235/235 [==============================] - 3s 11ms/step - loss: 0.0731 - val_loss: 0.0726\n",
      "Epoch 30/30\n",
      "235/235 [==============================] - 3s 11ms/step - loss: 0.0731 - val_loss: 0.0726\n"
     ]
    },
    {
     "data": {
      "text/plain": [
       "<tensorflow.python.keras.callbacks.History at 0x7f600ff67a90>"
      ]
     },
     "execution_count": 39,
     "metadata": {
      "tags": []
     },
     "output_type": "execute_result"
    }
   ],
   "source": [
    "autoencoder.fit(mnist_x_train, mnist_x_train,\n",
    "                epochs=30,\n",
    "                batch_size=256,\n",
    "                shuffle=True,\n",
    "                validation_data=(mnist_x_test, mnist_x_test))"
   ]
  },
  {
   "cell_type": "code",
   "execution_count": 40,
   "metadata": {
    "executionInfo": {
     "elapsed": 83193,
     "status": "ok",
     "timestamp": 1601649098153,
     "user": {
      "displayName": "Umberto Michelucci",
      "photoUrl": "https://lh3.googleusercontent.com/a-/AOh14Ggrkq7MAw6QQDY8sxIXNAo8wGBCTJXUym30fmVK=s64",
      "userId": "10493425851464515093"
     },
     "user_tz": -120
    },
    "id": "SzN50nAoteN8"
   },
   "outputs": [],
   "source": [
    "encoded_imgs = encoder.predict(mnist_x_test)\n",
    "decoded_imgs = decoder.predict(encoded_imgs)"
   ]
  },
  {
   "cell_type": "code",
   "execution_count": 41,
   "metadata": {
    "colab": {
     "base_uri": "https://localhost:8080/",
     "height": 270
    },
    "executionInfo": {
     "elapsed": 83758,
     "status": "ok",
     "timestamp": 1601649099177,
     "user": {
      "displayName": "Umberto Michelucci",
      "photoUrl": "https://lh3.googleusercontent.com/a-/AOh14Ggrkq7MAw6QQDY8sxIXNAo8wGBCTJXUym30fmVK=s64",
      "userId": "10493425851464515093"
     },
     "user_tz": -120
    },
    "id": "CW5Afyoltf3M",
    "outputId": "7a9e37e8-7f41-4b46-84c8-ff9ebd98fde9"
   },
   "outputs": [
    {
     "data": {
      "image/png": "[encoded data removed]",
      "text/plain": [
       "<Figure size 1440x288 with 20 Axes>"
      ]
     },
     "metadata": {
      "filenames": {
       "image/png": "/Users/umberto/Research/Active Books/Applied Deep Learning - 2nd edition/ADL-Book-2nd-Ed/jupyterbook/_build/jupyter_execute/autoencoders/Your_first_autoencoder_with_Keras_23_0.png"
      },
      "needs_background": "light",
      "tags": []
     },
     "output_type": "display_data"
    }
   ],
   "source": [
    "import matplotlib.pyplot as plt\n",
    "\n",
    "n = 10  # how many digits we will display\n",
    "fig = plt.figure(figsize=(20, 4))\n",
    "for i in range(n):\n",
    "    # display original\n",
    "    ax = plt.subplot(2, n, i + 1)\n",
    "    plt.imshow(mnist_x_test[i].reshape(28, 28))\n",
    "    plt.gray()\n",
    "    ax.get_xaxis().set_visible(False)\n",
    "    ax.get_yaxis().set_visible(False)\n",
    "\n",
    "    # display reconstruction\n",
    "    ax = plt.subplot(2, n, i + 1 + n)\n",
    "    plt.imshow(decoded_imgs[i].reshape(28, 28))\n",
    "    plt.gray()\n",
    "    ax.get_xaxis().set_visible(False)\n",
    "    ax.get_yaxis().set_visible(False)\n",
    "plt.tight_layout()\n",
    "plt.show()\n",
    "\n",
    "fig.savefig('comparison_32.png')"
   ]
  },
  {
   "cell_type": "markdown",
   "metadata": {
    "id": "-ow0kHnTzupz"
   },
   "source": [
    "#(784,8,784)"
   ]
  },
  {
   "cell_type": "code",
   "execution_count": 23,
   "metadata": {
    "colab": {
     "base_uri": "https://localhost:8080/",
     "height": 1000
    },
    "executionInfo": {
     "elapsed": 69017,
     "status": "ok",
     "timestamp": 1601712428453,
     "user": {
      "displayName": "Umberto Michelucci",
      "photoUrl": "https://lh3.googleusercontent.com/a-/AOh14Ggrkq7MAw6QQDY8sxIXNAo8wGBCTJXUym30fmVK=s64",
      "userId": "10493425851464515093"
     },
     "user_tz": -120
    },
    "id": "rwGSERoswp7Y",
    "outputId": "965ec94f-9746-4274-c7e4-10037b63b211"
   },
   "outputs": [
    {
     "name": "stdout",
     "output_type": "stream",
     "text": [
      "Epoch 1/30\n",
      "235/235 [==============================] - 2s 10ms/step - loss: 0.3356 - val_loss: 0.2443\n",
      "Epoch 2/30\n",
      "235/235 [==============================] - 2s 9ms/step - loss: 0.2227 - val_loss: 0.2051\n",
      "Epoch 3/30\n",
      "235/235 [==============================] - 2s 9ms/step - loss: 0.1974 - val_loss: 0.1887\n",
      "Epoch 4/30\n",
      "235/235 [==============================] - 2s 10ms/step - loss: 0.1859 - val_loss: 0.1815\n",
      "Epoch 5/30\n",
      "235/235 [==============================] - 2s 10ms/step - loss: 0.1813 - val_loss: 0.1784\n",
      "Epoch 6/30\n",
      "235/235 [==============================] - 2s 9ms/step - loss: 0.1788 - val_loss: 0.1763\n",
      "Epoch 7/30\n",
      "235/235 [==============================] - 2s 10ms/step - loss: 0.1771 - val_loss: 0.1748\n",
      "Epoch 8/30\n",
      "235/235 [==============================] - 2s 10ms/step - loss: 0.1756 - val_loss: 0.1733\n",
      "Epoch 9/30\n",
      "235/235 [==============================] - 2s 10ms/step - loss: 0.1743 - val_loss: 0.1721\n",
      "Epoch 10/30\n",
      "235/235 [==============================] - 2s 9ms/step - loss: 0.1732 - val_loss: 0.1711\n",
      "Epoch 11/30\n",
      "235/235 [==============================] - 2s 9ms/step - loss: 0.1723 - val_loss: 0.1702\n",
      "Epoch 12/30\n",
      "235/235 [==============================] - 2s 9ms/step - loss: 0.1714 - val_loss: 0.1694\n",
      "Epoch 13/30\n",
      "235/235 [==============================] - 2s 10ms/step - loss: 0.1707 - val_loss: 0.1687\n",
      "Epoch 14/30\n",
      "235/235 [==============================] - 2s 10ms/step - loss: 0.1700 - val_loss: 0.1681\n",
      "Epoch 15/30\n",
      "235/235 [==============================] - 2s 10ms/step - loss: 0.1694 - val_loss: 0.1675\n",
      "Epoch 16/30\n",
      "235/235 [==============================] - 2s 10ms/step - loss: 0.1689 - val_loss: 0.1670\n",
      "Epoch 17/30\n",
      "235/235 [==============================] - 2s 10ms/step - loss: 0.1684 - val_loss: 0.1666\n",
      "Epoch 18/30\n",
      "235/235 [==============================] - 2s 10ms/step - loss: 0.1680 - val_loss: 0.1662\n",
      "Epoch 19/30\n",
      "235/235 [==============================] - 2s 10ms/step - loss: 0.1676 - val_loss: 0.1658\n",
      "Epoch 20/30\n",
      "235/235 [==============================] - 2s 10ms/step - loss: 0.1673 - val_loss: 0.1655\n",
      "Epoch 21/30\n",
      "235/235 [==============================] - 2s 10ms/step - loss: 0.1669 - val_loss: 0.1651\n",
      "Epoch 22/30\n",
      "235/235 [==============================] - 2s 10ms/step - loss: 0.1667 - val_loss: 0.1650\n",
      "Epoch 23/30\n",
      "235/235 [==============================] - 2s 9ms/step - loss: 0.1665 - val_loss: 0.1647\n",
      "Epoch 24/30\n",
      "235/235 [==============================] - 2s 10ms/step - loss: 0.1663 - val_loss: 0.1645\n",
      "Epoch 25/30\n",
      "235/235 [==============================] - 2s 9ms/step - loss: 0.1661 - val_loss: 0.1644\n",
      "Epoch 26/30\n",
      "235/235 [==============================] - 2s 9ms/step - loss: 0.1660 - val_loss: 0.1642\n",
      "Epoch 27/30\n",
      "235/235 [==============================] - 2s 9ms/step - loss: 0.1658 - val_loss: 0.1642\n",
      "Epoch 28/30\n",
      "235/235 [==============================] - 2s 10ms/step - loss: 0.1657 - val_loss: 0.1640\n",
      "Epoch 29/30\n",
      "235/235 [==============================] - 2s 10ms/step - loss: 0.1656 - val_loss: 0.1639\n",
      "Epoch 30/30\n",
      "235/235 [==============================] - 2s 9ms/step - loss: 0.1655 - val_loss: 0.1639\n"
     ]
    },
    {
     "data": {
      "text/plain": [
       "<tensorflow.python.keras.callbacks.History at 0x7fca8f5d26d8>"
      ]
     },
     "execution_count": 23,
     "metadata": {
      "tags": []
     },
     "output_type": "execute_result"
    }
   ],
   "source": [
    "autoencoder, encoder, decoder = create_autoencoders (8)\n",
    "autoencoder.compile(optimizer='adam', loss='binary_crossentropy')\n",
    "autoencoder.fit(mnist_x_train, mnist_x_train,\n",
    "                epochs=30,\n",
    "                batch_size=256,\n",
    "                shuffle=True,\n",
    "                validation_data=(mnist_x_test, mnist_x_test))"
   ]
  },
  {
   "cell_type": "code",
   "execution_count": 24,
   "metadata": {
    "executionInfo": {
     "elapsed": 68368,
     "status": "ok",
     "timestamp": 1601712429146,
     "user": {
      "displayName": "Umberto Michelucci",
      "photoUrl": "https://lh3.googleusercontent.com/a-/AOh14Ggrkq7MAw6QQDY8sxIXNAo8wGBCTJXUym30fmVK=s64",
      "userId": "10493425851464515093"
     },
     "user_tz": -120
    },
    "id": "GLglZqluwxX3"
   },
   "outputs": [],
   "source": [
    "encoded_imgs = encoder.predict(mnist_x_test)\n",
    "decoded_imgs = decoder.predict(encoded_imgs)"
   ]
  },
  {
   "cell_type": "code",
   "execution_count": 25,
   "metadata": {
    "colab": {
     "base_uri": "https://localhost:8080/",
     "height": 34
    },
    "executionInfo": {
     "elapsed": 68065,
     "status": "ok",
     "timestamp": 1601712429147,
     "user": {
      "displayName": "Umberto Michelucci",
      "photoUrl": "https://lh3.googleusercontent.com/a-/AOh14Ggrkq7MAw6QQDY8sxIXNAo8wGBCTJXUym30fmVK=s64",
      "userId": "10493425851464515093"
     },
     "user_tz": -120
    },
    "id": "TdUKDD6MzLk7",
    "outputId": "ed666fc4-7ec1-4c85-a4bc-9b8b56ffca8a"
   },
   "outputs": [
    {
     "data": {
      "text/plain": [
       "(10000, 8)"
      ]
     },
     "execution_count": 25,
     "metadata": {
      "tags": []
     },
     "output_type": "execute_result"
    }
   ],
   "source": [
    "encoded_imgs.shape"
   ]
  },
  {
   "cell_type": "code",
   "execution_count": 26,
   "metadata": {
    "colab": {
     "base_uri": "https://localhost:8080/",
     "height": 270
    },
    "executionInfo": {
     "elapsed": 68068,
     "status": "ok",
     "timestamp": 1601712430210,
     "user": {
      "displayName": "Umberto Michelucci",
      "photoUrl": "https://lh3.googleusercontent.com/a-/AOh14Ggrkq7MAw6QQDY8sxIXNAo8wGBCTJXUym30fmVK=s64",
      "userId": "10493425851464515093"
     },
     "user_tz": -120
    },
    "id": "H4EdcV8uw0VR",
    "outputId": "5ed1b0c9-d3cf-4d47-c9d5-0f3ff07508fd"
   },
   "outputs": [
    {
     "data": {
      "image/png": "[encoded data removed]",
      "text/plain": [
       "<Figure size 1440x288 with 20 Axes>"
      ]
     },
     "metadata": {
      "filenames": {
       "image/png": "/Users/umberto/Research/Active Books/Applied Deep Learning - 2nd edition/ADL-Book-2nd-Ed/jupyterbook/_build/jupyter_execute/autoencoders/Your_first_autoencoder_with_Keras_28_0.png"
      },
      "needs_background": "light",
      "tags": []
     },
     "output_type": "display_data"
    }
   ],
   "source": [
    "import matplotlib.pyplot as plt\n",
    "\n",
    "n = 10  # how many digits we will display\n",
    "fig = plt.figure(figsize=(20, 4))\n",
    "for i in range(n):\n",
    "    # display original\n",
    "    ax = plt.subplot(2, n, i + 1)\n",
    "    plt.imshow(mnist_x_test[i].reshape(28, 28))\n",
    "    plt.gray()\n",
    "    ax.get_xaxis().set_visible(False)\n",
    "    ax.get_yaxis().set_visible(False)\n",
    "\n",
    "    # display reconstruction\n",
    "    ax = plt.subplot(2, n, i + 1 + n)\n",
    "    plt.imshow(decoded_imgs[i].reshape(28, 28))\n",
    "    plt.gray()\n",
    "    ax.get_xaxis().set_visible(False)\n",
    "    ax.get_yaxis().set_visible(False)\n",
    "plt.tight_layout()\n",
    "plt.show()\n",
    "\n",
    "fig.savefig('comparison_8.png')"
   ]
  },
  {
   "cell_type": "markdown",
   "metadata": {
    "id": "2fD0-hMwzZT1"
   },
   "source": [
    "## kNN Study"
   ]
  },
  {
   "cell_type": "code",
   "execution_count": 28,
   "metadata": {
    "executionInfo": {
     "elapsed": 2090,
     "status": "ok",
     "timestamp": 1601712443393,
     "user": {
      "displayName": "Umberto Michelucci",
      "photoUrl": "https://lh3.googleusercontent.com/a-/AOh14Ggrkq7MAw6QQDY8sxIXNAo8wGBCTJXUym30fmVK=s64",
      "userId": "10493425851464515093"
     },
     "user_tz": -120
    },
    "id": "3Hu9WJ_b4CjW"
   },
   "outputs": [],
   "source": [
    "encoded_train_imgs = encoder.predict(mnist_x_train)\n",
    "#decoded_imgs = decoder.predict(encoded_imgs)"
   ]
  },
  {
   "cell_type": "code",
   "execution_count": 35,
   "metadata": {
    "executionInfo": {
     "elapsed": 649,
     "status": "ok",
     "timestamp": 1601712521290,
     "user": {
      "displayName": "Umberto Michelucci",
      "photoUrl": "https://lh3.googleusercontent.com/a-/AOh14Ggrkq7MAw6QQDY8sxIXNAo8wGBCTJXUym30fmVK=s64",
      "userId": "10493425851464515093"
     },
     "user_tz": -120
    },
    "id": "0cyCF5GO4wsz"
   },
   "outputs": [],
   "source": [
    "def plot_confusion_matrix(data, labels, output_filename):\n",
    "    \"\"\"Plot confusion matrix using heatmap.\n",
    " \n",
    "    Args:\n",
    "        data (list of list): List of lists with confusion matrix data.\n",
    "        labels (list): Labels which will be plotted across x and y axis.\n",
    "        output_filename (str): Path to output file.\n",
    " \n",
    "    \"\"\"\n",
    "    sns.set(color_codes=True)\n",
    "    plt.figure(1, figsize=(9, 6))\n",
    " \n",
    "    #plt.title(\"Confusion Matrix\")\n",
    " \n",
    "    sns.set(font_scale=1.3)\n",
    "    ax = sns.heatmap(data, annot=True, cmap=\"Blues\", cbar_kws={'label': 'Scale'},fmt='d')\n",
    " \n",
    "    ax.set_xticklabels(labels, fontsize = 16)\n",
    "    ax.set_yticklabels(labels, fontsize = 16)\n",
    " \n",
    "    ax.set_xlabel(\"Predicted Label\", fontsize = 16)\n",
    "    ax.set_xlabel(\"True Label\", fontsize = 16)\n",
    " \n",
    "    plt.savefig(output_filename, bbox_inches='tight', dpi=300)\n",
    "    plt.show()\n",
    "    plt.close()"
   ]
  },
  {
   "cell_type": "code",
   "execution_count": 30,
   "metadata": {
    "executionInfo": {
     "elapsed": 490,
     "status": "ok",
     "timestamp": 1601712449110,
     "user": {
      "displayName": "Umberto Michelucci",
      "photoUrl": "https://lh3.googleusercontent.com/a-/AOh14Ggrkq7MAw6QQDY8sxIXNAo8wGBCTJXUym30fmVK=s64",
      "userId": "10493425851464515093"
     },
     "user_tz": -120
    },
    "id": "ShVpu23L35jj"
   },
   "outputs": [],
   "source": [
    "# importing necessary libraries \n",
    "from sklearn import datasets \n",
    "from sklearn.metrics import confusion_matrix \n",
    "from sklearn.model_selection import train_test_split \n",
    "import seaborn as sns\n",
    "  \n"
   ]
  },
  {
   "cell_type": "code",
   "execution_count": 33,
   "metadata": {
    "colab": {
     "base_uri": "https://localhost:8080/",
     "height": 51
    },
    "executionInfo": {
     "elapsed": 2020,
     "status": "ok",
     "timestamp": 1601712489515,
     "user": {
      "displayName": "Umberto Michelucci",
      "photoUrl": "https://lh3.googleusercontent.com/a-/AOh14Ggrkq7MAw6QQDY8sxIXNAo8wGBCTJXUym30fmVK=s64",
      "userId": "10493425851464515093"
     },
     "user_tz": -120
    },
    "id": "PEZuHJg8ff7j",
    "outputId": "c4c8d5d8-1df0-4d24-c38e-f5f4ea97faa1"
   },
   "outputs": [
    {
     "name": "stdout",
     "output_type": "stream",
     "text": [
      "0.8986\n",
      "1.4894161224365234\n"
     ]
    }
   ],
   "source": [
    "start = time.time()\n",
    " \n",
    "# training a KNN classifier \n",
    "from sklearn.neighbors import KNeighborsClassifier \n",
    "knn = KNeighborsClassifier(n_neighbors = 7).fit(encoded_train_imgs, mnist_y_train) \n",
    "  \n",
    "# accuracy on X_test \n",
    "accuracy = knn.score(encoded_imgs, mnist_y_test) \n",
    "print (accuracy )\n",
    "\n",
    "end = time.time()\n",
    "print(end - start)\n",
    "  \n"
   ]
  },
  {
   "cell_type": "code",
   "execution_count": 36,
   "metadata": {
    "colab": {
     "base_uri": "https://localhost:8080/",
     "height": 401
    },
    "executionInfo": {
     "elapsed": 3534,
     "status": "ok",
     "timestamp": 1601712527837,
     "user": {
      "displayName": "Umberto Michelucci",
      "photoUrl": "https://lh3.googleusercontent.com/a-/AOh14Ggrkq7MAw6QQDY8sxIXNAo8wGBCTJXUym30fmVK=s64",
      "userId": "10493425851464515093"
     },
     "user_tz": -120
    },
    "id": "XJXa2Oye40K_",
    "outputId": "517bc32a-e9f9-4665-bc15-bd1ec7769193"
   },
   "outputs": [
    {
     "data": {
      "image/png": "[encoded data removed]",
      "text/plain": [
       "<Figure size 648x432 with 2 Axes>"
      ]
     },
     "metadata": {
      "filenames": {
       "image/png": "/Users/umberto/Research/Active Books/Applied Deep Learning - 2nd edition/ADL-Book-2nd-Ed/jupyterbook/_build/jupyter_execute/autoencoders/Your_first_autoencoder_with_Keras_34_0.png"
      },
      "tags": []
     },
     "output_type": "display_data"
    }
   ],
   "source": [
    "# creating a confusion matrix \n",
    "knn_predictions = knn.predict(encoded_imgs)  \n",
    "cm = confusion_matrix(mnist_y_test, knn_predictions)\n",
    "cm \n",
    "plot_confusion_matrix(cm, [0,1,2,3,4,5,6,7,8,9], \"confusion_matrix.png\")"
   ]
  },
  {
   "cell_type": "markdown",
   "metadata": {
    "id": "hUySdOkeaA_X"
   },
   "source": [
    "### kNN With all the features"
   ]
  },
  {
   "cell_type": "code",
   "execution_count": 11,
   "metadata": {
    "colab": {
     "base_uri": "https://localhost:8080/",
     "height": 51
    },
    "executionInfo": {
     "elapsed": 1000427,
     "status": "ok",
     "timestamp": 1601712135252,
     "user": {
      "displayName": "Umberto Michelucci",
      "photoUrl": "https://lh3.googleusercontent.com/a-/AOh14Ggrkq7MAw6QQDY8sxIXNAo8wGBCTJXUym30fmVK=s64",
      "userId": "10493425851464515093"
     },
     "user_tz": -120
    },
    "id": "gXhGvgfpaDie",
    "outputId": "e6bea5ee-a5a1-4223-f558-ccdd56261441"
   },
   "outputs": [
    {
     "name": "stdout",
     "output_type": "stream",
     "text": [
      "0.9694\n",
      "999.7572972774506\n"
     ]
    }
   ],
   "source": [
    "start = time.time()\n",
    "\n",
    "from sklearn.neighbors import KNeighborsClassifier \n",
    "knn2 = KNeighborsClassifier(n_neighbors = 7).fit(mnist_x_train, mnist_y_train) \n",
    "# accuracy on X_test \n",
    "accuracy = knn2.score(mnist_x_test, mnist_y_test) \n",
    "print (accuracy )\n",
    "\n",
    "end = time.time()\n",
    "print(end - start)"
   ]
  },
  {
   "cell_type": "code",
   "execution_count": 12,
   "metadata": {
    "colab": {
     "base_uri": "https://localhost:8080/",
     "height": 34
    },
    "executionInfo": {
     "elapsed": 462,
     "status": "ok",
     "timestamp": 1601712251235,
     "user": {
      "displayName": "Umberto Michelucci",
      "photoUrl": "https://lh3.googleusercontent.com/a-/AOh14Ggrkq7MAw6QQDY8sxIXNAo8wGBCTJXUym30fmVK=s64",
      "userId": "10493425851464515093"
     },
     "user_tz": -120
    },
    "id": "Ku162ciLfUzg",
    "outputId": "1158e4c5-9732-44b4-db2f-d0763e78f2a8"
   },
   "outputs": [
    {
     "data": {
      "text/plain": [
       "16.666666666666668"
      ]
     },
     "execution_count": 12,
     "metadata": {
      "tags": []
     },
     "output_type": "execute_result"
    }
   ],
   "source": [
    "1000/60 \n",
    "# 16 minutes"
   ]
  },
  {
   "cell_type": "code",
   "execution_count": null,
   "metadata": {
    "id": "jEuKn2CugdRZ"
   },
   "outputs": [],
   "source": [
    "# creating a confusion matrix \n",
    "knn_predictions = knn2.predict(encoded_imgs)  \n",
    "cm = confusion_matrix(mnist_y_test, knn_predictions)\n",
    "cm \n",
    "plot_confusion_matrix(cm, [0,1,2,3,4,5,6,7,8,9], \"confusion_matrix_total.png\")"
   ]
  },
  {
   "cell_type": "markdown",
   "metadata": {
    "id": "KVvL5CtKooYi"
   },
   "source": [
    "# MSE"
   ]
  },
  {
   "cell_type": "code",
   "execution_count": null,
   "metadata": {
    "id": "CHeZ-jh-pIHN"
   },
   "outputs": [],
   "source": [
    "dim = 16\n",
    "\n",
    "input_img = Input(shape = (784,))\n",
    "encoded = Dense(dim, activation = 'relu')(input_img)\n",
    "decoded = Dense(784, activation = 'sigmoid')(encoded)\n",
    "\n",
    "autoencoder = Model(input_img, decoded)\n",
    "encoder = Model(input_img, encoded)"
   ]
  },
  {
   "cell_type": "code",
   "execution_count": null,
   "metadata": {
    "id": "Yne4LJ5Qprml"
   },
   "outputs": [],
   "source": [
    "encoded_input = Input(shape = (dim,))\n",
    "decoder = autoencoder.layers[-1]\n",
    "decoder = Model(encoded_input, decoder(encoded_input))"
   ]
  },
  {
   "cell_type": "code",
   "execution_count": null,
   "metadata": {
    "id": "x25we9gypuQ8"
   },
   "outputs": [],
   "source": [
    "autoencoder.compile(optimizer='adam', loss='mse')"
   ]
  },
  {
   "cell_type": "code",
   "execution_count": null,
   "metadata": {
    "colab": {
     "base_uri": "https://localhost:8080/",
     "height": 374
    },
    "executionInfo": {
     "elapsed": 13580,
     "status": "ok",
     "timestamp": 1601312503095,
     "user": {
      "displayName": "Umberto Michelucci",
      "photoUrl": "https://lh3.googleusercontent.com/a-/AOh14Ggrkq7MAw6QQDY8sxIXNAo8wGBCTJXUym30fmVK=s64",
      "userId": "10493425851464515093"
     },
     "user_tz": -120
    },
    "id": "4Wv5Cb89pwU7",
    "outputId": "f7558c96-f700-44e9-abf3-da80e8bb7969"
   },
   "outputs": [
    {
     "name": "stdout",
     "output_type": "stream",
     "text": [
      "Epoch 1/10\n",
      "235/235 [==============================] - 1s 6ms/step - loss: 0.0807 - val_loss: 0.0524\n",
      "Epoch 2/10\n",
      "235/235 [==============================] - 1s 5ms/step - loss: 0.0448 - val_loss: 0.0387\n",
      "Epoch 3/10\n",
      "235/235 [==============================] - 1s 5ms/step - loss: 0.0359 - val_loss: 0.0329\n",
      "Epoch 4/10\n",
      "235/235 [==============================] - 1s 5ms/step - loss: 0.0317 - val_loss: 0.0298\n",
      "Epoch 5/10\n",
      "235/235 [==============================] - 1s 5ms/step - loss: 0.0287 - val_loss: 0.0268\n",
      "Epoch 6/10\n",
      "235/235 [==============================] - 1s 5ms/step - loss: 0.0266 - val_loss: 0.0256\n",
      "Epoch 7/10\n",
      "235/235 [==============================] - 1s 5ms/step - loss: 0.0256 - val_loss: 0.0248\n",
      "Epoch 8/10\n",
      "235/235 [==============================] - 1s 5ms/step - loss: 0.0248 - val_loss: 0.0241\n",
      "Epoch 9/10\n",
      "235/235 [==============================] - 1s 5ms/step - loss: 0.0242 - val_loss: 0.0235\n",
      "Epoch 10/10\n",
      "235/235 [==============================] - 1s 5ms/step - loss: 0.0237 - val_loss: 0.0230\n"
     ]
    },
    {
     "data": {
      "text/plain": [
       "<tensorflow.python.keras.callbacks.History at 0x7f3dff5afd30>"
      ]
     },
     "execution_count": 71,
     "metadata": {
      "tags": []
     },
     "output_type": "execute_result"
    }
   ],
   "source": [
    "autoencoder.fit(x_train, x_train,\n",
    "                epochs=10,\n",
    "                batch_size=256,\n",
    "                shuffle=True,\n",
    "                validation_data=(x_test, x_test))"
   ]
  },
  {
   "cell_type": "code",
   "execution_count": null,
   "metadata": {
    "id": "eWvGMfR5pzBq"
   },
   "outputs": [],
   "source": [
    "encoded_imgs = encoder.predict(x_test)\n",
    "decoded_imgs = decoder.predict(encoded_imgs)"
   ]
  },
  {
   "cell_type": "code",
   "execution_count": null,
   "metadata": {
    "colab": {
     "base_uri": "https://localhost:8080/",
     "height": 248
    },
    "executionInfo": {
     "elapsed": 14367,
     "status": "ok",
     "timestamp": 1601312504777,
     "user": {
      "displayName": "Umberto Michelucci",
      "photoUrl": "https://lh3.googleusercontent.com/a-/AOh14Ggrkq7MAw6QQDY8sxIXNAo8wGBCTJXUym30fmVK=s64",
      "userId": "10493425851464515093"
     },
     "user_tz": -120
    },
    "id": "AGuhZFYcp2Pc",
    "outputId": "dc7ebc91-76a6-479f-d890-e9c63385a817"
   },
   "outputs": [
    {
     "data": {
      "image/png": "[encoded data removed]",
      "text/plain": [
       "<Figure size 1440x288 with 20 Axes>"
      ]
     },
     "metadata": {
      "filenames": {
       "image/png": "/Users/umberto/Research/Active Books/Applied Deep Learning - 2nd edition/ADL-Book-2nd-Ed/jupyterbook/_build/jupyter_execute/autoencoders/Your_first_autoencoder_with_Keras_45_0.png"
      },
      "needs_background": "light",
      "tags": []
     },
     "output_type": "display_data"
    }
   ],
   "source": [
    "import matplotlib.pyplot as plt\n",
    "\n",
    "n = 10  # how many digits we will display\n",
    "plt.figure(figsize=(20, 4))\n",
    "for i in range(n):\n",
    "    # display original\n",
    "    ax = plt.subplot(2, n, i + 1)\n",
    "    plt.imshow(x_test[i].reshape(28, 28))\n",
    "    plt.gray()\n",
    "    ax.get_xaxis().set_visible(False)\n",
    "    ax.get_yaxis().set_visible(False)\n",
    "\n",
    "    # display reconstruction\n",
    "    ax = plt.subplot(2, n, i + 1 + n)\n",
    "    plt.imshow(decoded_imgs[i].reshape(28, 28))\n",
    "    plt.gray()\n",
    "    ax.get_xaxis().set_visible(False)\n",
    "    ax.get_yaxis().set_visible(False)\n",
    "plt.show()"
   ]
  },
  {
   "cell_type": "markdown",
   "metadata": {
    "id": "qBAq_uiwp3wt"
   },
   "source": [
    "## Fashion MNIST"
   ]
  },
  {
   "cell_type": "code",
   "execution_count": 39,
   "metadata": {
    "colab": {
     "base_uri": "https://localhost:8080/",
     "height": 1000
    },
    "executionInfo": {
     "elapsed": 73483,
     "status": "ok",
     "timestamp": 1601712846968,
     "user": {
      "displayName": "Umberto Michelucci",
      "photoUrl": "https://lh3.googleusercontent.com/a-/AOh14Ggrkq7MAw6QQDY8sxIXNAo8wGBCTJXUym30fmVK=s64",
      "userId": "10493425851464515093"
     },
     "user_tz": -120
    },
    "id": "CH-E8OZ-s44c",
    "outputId": "1e15f6c8-39e0-45e2-b343-a9942e404c28"
   },
   "outputs": [
    {
     "name": "stdout",
     "output_type": "stream",
     "text": [
      "Epoch 1/30\n",
      "235/235 [==============================] - 3s 11ms/step - loss: 0.4659 - val_loss: 0.3832\n",
      "Epoch 2/30\n",
      "235/235 [==============================] - 2s 10ms/step - loss: 0.3655 - val_loss: 0.3541\n",
      "Epoch 3/30\n",
      "235/235 [==============================] - 2s 10ms/step - loss: 0.3459 - val_loss: 0.3423\n",
      "Epoch 4/30\n",
      "235/235 [==============================] - 2s 10ms/step - loss: 0.3356 - val_loss: 0.3340\n",
      "Epoch 5/30\n",
      "235/235 [==============================] - 2s 10ms/step - loss: 0.3293 - val_loss: 0.3292\n",
      "Epoch 6/30\n",
      "235/235 [==============================] - 2s 10ms/step - loss: 0.3255 - val_loss: 0.3260\n",
      "Epoch 7/30\n",
      "235/235 [==============================] - 2s 10ms/step - loss: 0.3227 - val_loss: 0.3237\n",
      "Epoch 8/30\n",
      "235/235 [==============================] - 2s 10ms/step - loss: 0.3205 - val_loss: 0.3216\n",
      "Epoch 9/30\n",
      "235/235 [==============================] - 2s 10ms/step - loss: 0.3188 - val_loss: 0.3202\n",
      "Epoch 10/30\n",
      "235/235 [==============================] - 2s 9ms/step - loss: 0.3176 - val_loss: 0.3192\n",
      "Epoch 11/30\n",
      "235/235 [==============================] - 2s 9ms/step - loss: 0.3168 - val_loss: 0.3185\n",
      "Epoch 12/30\n",
      "235/235 [==============================] - 2s 9ms/step - loss: 0.3162 - val_loss: 0.3179\n",
      "Epoch 13/30\n",
      "235/235 [==============================] - 2s 9ms/step - loss: 0.3157 - val_loss: 0.3176\n",
      "Epoch 14/30\n",
      "235/235 [==============================] - 2s 10ms/step - loss: 0.3154 - val_loss: 0.3172\n",
      "Epoch 15/30\n",
      "235/235 [==============================] - 2s 9ms/step - loss: 0.3151 - val_loss: 0.3172\n",
      "Epoch 16/30\n",
      "235/235 [==============================] - 2s 9ms/step - loss: 0.3149 - val_loss: 0.3168\n",
      "Epoch 17/30\n",
      "235/235 [==============================] - 2s 9ms/step - loss: 0.3148 - val_loss: 0.3167\n",
      "Epoch 18/30\n",
      "235/235 [==============================] - 2s 9ms/step - loss: 0.3146 - val_loss: 0.3167\n",
      "Epoch 19/30\n",
      "235/235 [==============================] - 2s 9ms/step - loss: 0.3145 - val_loss: 0.3166\n",
      "Epoch 20/30\n",
      "235/235 [==============================] - 2s 10ms/step - loss: 0.3144 - val_loss: 0.3164\n",
      "Epoch 21/30\n",
      "235/235 [==============================] - 4s 17ms/step - loss: 0.3143 - val_loss: 0.3164\n",
      "Epoch 22/30\n",
      "235/235 [==============================] - 4s 17ms/step - loss: 0.3142 - val_loss: 0.3163\n",
      "Epoch 23/30\n",
      "235/235 [==============================] - 4s 16ms/step - loss: 0.3141 - val_loss: 0.3162\n",
      "Epoch 24/30\n",
      "235/235 [==============================] - 2s 9ms/step - loss: 0.3141 - val_loss: 0.3161\n",
      "Epoch 25/30\n",
      "235/235 [==============================] - 2s 9ms/step - loss: 0.3140 - val_loss: 0.3160\n",
      "Epoch 26/30\n",
      "235/235 [==============================] - 2s 10ms/step - loss: 0.3139 - val_loss: 0.3159\n",
      "Epoch 27/30\n",
      "235/235 [==============================] - 2s 9ms/step - loss: 0.3139 - val_loss: 0.3160\n",
      "Epoch 28/30\n",
      "235/235 [==============================] - 2s 9ms/step - loss: 0.3138 - val_loss: 0.3160\n",
      "Epoch 29/30\n",
      "235/235 [==============================] - 2s 9ms/step - loss: 0.3138 - val_loss: 0.3158\n",
      "Epoch 30/30\n",
      "235/235 [==============================] - 2s 9ms/step - loss: 0.3137 - val_loss: 0.3158\n"
     ]
    },
    {
     "data": {
      "text/plain": [
       "<tensorflow.python.keras.callbacks.History at 0x7fca83374fd0>"
      ]
     },
     "execution_count": 39,
     "metadata": {
      "tags": []
     },
     "output_type": "execute_result"
    }
   ],
   "source": [
    "autoencoder, encoder, decoder = create_autoencoders (8)\n",
    "autoencoder.compile(optimizer='adam', loss='binary_crossentropy')\n",
    "autoencoder.fit(fashion_x_train, fashion_x_train,\n",
    "                epochs=30,\n",
    "                batch_size=256,\n",
    "                shuffle=True,\n",
    "                validation_data=(fashion_x_test, fashion_x_test))"
   ]
  },
  {
   "cell_type": "code",
   "execution_count": 40,
   "metadata": {
    "executionInfo": {
     "elapsed": 1198,
     "status": "ok",
     "timestamp": 1601712848169,
     "user": {
      "displayName": "Umberto Michelucci",
      "photoUrl": "https://lh3.googleusercontent.com/a-/AOh14Ggrkq7MAw6QQDY8sxIXNAo8wGBCTJXUym30fmVK=s64",
      "userId": "10493425851464515093"
     },
     "user_tz": -120
    },
    "id": "TcChJ6NCtYr1"
   },
   "outputs": [],
   "source": [
    "encoded_imgs = encoder.predict(fashion_x_test)\n",
    "decoded_imgs = decoder.predict(encoded_imgs)"
   ]
  },
  {
   "cell_type": "code",
   "execution_count": 42,
   "metadata": {
    "colab": {
     "base_uri": "https://localhost:8080/",
     "height": 244
    },
    "executionInfo": {
     "elapsed": 1311,
     "status": "ok",
     "timestamp": 1601712856956,
     "user": {
      "displayName": "Umberto Michelucci",
      "photoUrl": "https://lh3.googleusercontent.com/a-/AOh14Ggrkq7MAw6QQDY8sxIXNAo8wGBCTJXUym30fmVK=s64",
      "userId": "10493425851464515093"
     },
     "user_tz": -120
    },
    "id": "Q3WdZxsitKgk",
    "outputId": "c39df5ca-787f-4756-a4ad-6af2ef2944f7"
   },
   "outputs": [
    {
     "data": {
      "image/png": "[encoded data removed]",
      "text/plain": [
       "<Figure size 1440x288 with 20 Axes>"
      ]
     },
     "metadata": {
      "filenames": {
       "image/png": "/Users/umberto/Research/Active Books/Applied Deep Learning - 2nd edition/ADL-Book-2nd-Ed/jupyterbook/_build/jupyter_execute/autoencoders/Your_first_autoencoder_with_Keras_49_0.png"
      },
      "tags": []
     },
     "output_type": "display_data"
    }
   ],
   "source": [
    "import matplotlib.pyplot as plt\n",
    "\n",
    "n = 10  # how many digits we will display\n",
    "plt.figure(figsize=(20, 4))\n",
    "for i in range(n):\n",
    "    # display original\n",
    "    ax = plt.subplot(2, n, i + 1)\n",
    "    plt.imshow(fashion_x_test[i].reshape(28, 28))\n",
    "    plt.gray()\n",
    "    ax.get_xaxis().set_visible(False)\n",
    "    ax.get_yaxis().set_visible(False)\n",
    "\n",
    "    # display reconstruction\n",
    "    ax = plt.subplot(2, n, i + 1 + n)\n",
    "    plt.imshow(decoded_imgs[i].reshape(28, 28))\n",
    "    plt.gray()\n",
    "    ax.get_xaxis().set_visible(False)\n",
    "    ax.get_yaxis().set_visible(False)\n",
    "plt.show()"
   ]
  },
  {
   "cell_type": "code",
   "execution_count": 45,
   "metadata": {
    "colab": {
     "base_uri": "https://localhost:8080/",
     "height": 51
    },
    "executionInfo": {
     "elapsed": 1046633,
     "status": "ok",
     "timestamp": 1601713956498,
     "user": {
      "displayName": "Umberto Michelucci",
      "photoUrl": "https://lh3.googleusercontent.com/a-/AOh14Ggrkq7MAw6QQDY8sxIXNAo8wGBCTJXUym30fmVK=s64",
      "userId": "10493425851464515093"
     },
     "user_tz": -120
    },
    "id": "L1nP0LVDtT-3",
    "outputId": "23f39ad6-0497-4956-9faa-b7ada398611a"
   },
   "outputs": [
    {
     "name": "stdout",
     "output_type": "stream",
     "text": [
      "0.854\n",
      "1046.022537946701\n"
     ]
    }
   ],
   "source": [
    "start = time.time()\n",
    "\n",
    "from sklearn.neighbors import KNeighborsClassifier \n",
    "knn = KNeighborsClassifier(n_neighbors = 7).fit(fashion_x_train, fashion_y_train) \n",
    "# accuracy on X_test \n",
    "accuracy = knn.score(fashion_x_test, fashion_y_test) \n",
    "print (accuracy )\n",
    "\n",
    "end = time.time()\n",
    "print(end - start)"
   ]
  },
  {
   "cell_type": "markdown",
   "metadata": {
    "id": "7z1rIeQ-iEJT"
   },
   "source": [
    "## kNN on learned representation"
   ]
  },
  {
   "cell_type": "code",
   "execution_count": 48,
   "metadata": {
    "executionInfo": {
     "elapsed": 2975,
     "status": "ok",
     "timestamp": 1601713984811,
     "user": {
      "displayName": "Umberto Michelucci",
      "photoUrl": "https://lh3.googleusercontent.com/a-/AOh14Ggrkq7MAw6QQDY8sxIXNAo8wGBCTJXUym30fmVK=s64",
      "userId": "10493425851464515093"
     },
     "user_tz": -120
    },
    "id": "YL9BbtyRh23b"
   },
   "outputs": [],
   "source": [
    "encoded_fashion_train_imgs = encoder.predict(fashion_x_train)\n",
    "encoded_fashion_test_imgs = encoder.predict(fashion_x_test)"
   ]
  },
  {
   "cell_type": "code",
   "execution_count": 49,
   "metadata": {
    "colab": {
     "base_uri": "https://localhost:8080/",
     "height": 51
    },
    "executionInfo": {
     "elapsed": 3425,
     "status": "ok",
     "timestamp": 1601713985627,
     "user": {
      "displayName": "Umberto Michelucci",
      "photoUrl": "https://lh3.googleusercontent.com/a-/AOh14Ggrkq7MAw6QQDY8sxIXNAo8wGBCTJXUym30fmVK=s64",
      "userId": "10493425851464515093"
     },
     "user_tz": -120
    },
    "id": "FS2Q4_AKiL5-",
    "outputId": "cd25f65e-77ae-42d9-de99-4bab2d1f638d"
   },
   "outputs": [
    {
     "name": "stdout",
     "output_type": "stream",
     "text": [
      "0.7982\n",
      "0.9014310836791992\n"
     ]
    }
   ],
   "source": [
    "start = time.time()\n",
    " \n",
    "# training a KNN classifier \n",
    "from sklearn.neighbors import KNeighborsClassifier \n",
    "knn = KNeighborsClassifier(n_neighbors = 7).fit(encoded_fashion_train_imgs, fashion_y_train) \n",
    "  \n",
    "# accuracy on X_test \n",
    "accuracy = knn.score(encoded_fashion_test_imgs, fashion_y_test) \n",
    "print (accuracy )\n",
    "\n",
    "end = time.time()\n",
    "print(end - start)"
   ]
  },
  {
   "cell_type": "markdown",
   "metadata": {
    "id": "EopH1TOuiX7J"
   },
   "source": [
    "# (784,16,784)"
   ]
  },
  {
   "cell_type": "code",
   "execution_count": 50,
   "metadata": {
    "colab": {
     "base_uri": "https://localhost:8080/",
     "height": 1000
    },
    "executionInfo": {
     "elapsed": 65953,
     "status": "ok",
     "timestamp": 1601714101367,
     "user": {
      "displayName": "Umberto Michelucci",
      "photoUrl": "https://lh3.googleusercontent.com/a-/AOh14Ggrkq7MAw6QQDY8sxIXNAo8wGBCTJXUym30fmVK=s64",
      "userId": "10493425851464515093"
     },
     "user_tz": -120
    },
    "id": "8PPfUo28mIgX",
    "outputId": "e933a6db-e07a-4b60-ed9d-dc227a54889d"
   },
   "outputs": [
    {
     "name": "stdout",
     "output_type": "stream",
     "text": [
      "Epoch 1/30\n",
      "235/235 [==============================] - 2s 10ms/step - loss: 0.4417 - val_loss: 0.3679\n",
      "Epoch 2/30\n",
      "235/235 [==============================] - 2s 9ms/step - loss: 0.3452 - val_loss: 0.3334\n",
      "Epoch 3/30\n",
      "235/235 [==============================] - 2s 9ms/step - loss: 0.3253 - val_loss: 0.3217\n",
      "Epoch 4/30\n",
      "235/235 [==============================] - 2s 9ms/step - loss: 0.3155 - val_loss: 0.3140\n",
      "Epoch 5/30\n",
      "235/235 [==============================] - 2s 9ms/step - loss: 0.3091 - val_loss: 0.3088\n",
      "Epoch 6/30\n",
      "235/235 [==============================] - 2s 9ms/step - loss: 0.3051 - val_loss: 0.3057\n",
      "Epoch 7/30\n",
      "235/235 [==============================] - 2s 9ms/step - loss: 0.3026 - val_loss: 0.3039\n",
      "Epoch 8/30\n",
      "235/235 [==============================] - 2s 9ms/step - loss: 0.3012 - val_loss: 0.3027\n",
      "Epoch 9/30\n",
      "235/235 [==============================] - 2s 9ms/step - loss: 0.3003 - val_loss: 0.3020\n",
      "Epoch 10/30\n",
      "235/235 [==============================] - 2s 9ms/step - loss: 0.2996 - val_loss: 0.3014\n",
      "Epoch 11/30\n",
      "235/235 [==============================] - 2s 9ms/step - loss: 0.2992 - val_loss: 0.3012\n",
      "Epoch 12/30\n",
      "235/235 [==============================] - 2s 9ms/step - loss: 0.2988 - val_loss: 0.3008\n",
      "Epoch 13/30\n",
      "235/235 [==============================] - 2s 9ms/step - loss: 0.2985 - val_loss: 0.3005\n",
      "Epoch 14/30\n",
      "235/235 [==============================] - 2s 9ms/step - loss: 0.2983 - val_loss: 0.3004\n",
      "Epoch 15/30\n",
      "235/235 [==============================] - 2s 9ms/step - loss: 0.2981 - val_loss: 0.3001\n",
      "Epoch 16/30\n",
      "235/235 [==============================] - 2s 9ms/step - loss: 0.2979 - val_loss: 0.3000\n",
      "Epoch 17/30\n",
      "235/235 [==============================] - 2s 9ms/step - loss: 0.2978 - val_loss: 0.2999\n",
      "Epoch 18/30\n",
      "235/235 [==============================] - 2s 9ms/step - loss: 0.2977 - val_loss: 0.2999\n",
      "Epoch 19/30\n",
      "235/235 [==============================] - 2s 9ms/step - loss: 0.2976 - val_loss: 0.2997\n",
      "Epoch 20/30\n",
      "235/235 [==============================] - 2s 9ms/step - loss: 0.2975 - val_loss: 0.2996\n",
      "Epoch 21/30\n",
      "235/235 [==============================] - 2s 9ms/step - loss: 0.2974 - val_loss: 0.2995\n",
      "Epoch 22/30\n",
      "235/235 [==============================] - 2s 9ms/step - loss: 0.2973 - val_loss: 0.2995\n",
      "Epoch 23/30\n",
      "235/235 [==============================] - 2s 9ms/step - loss: 0.2972 - val_loss: 0.2994\n",
      "Epoch 24/30\n",
      "235/235 [==============================] - 2s 9ms/step - loss: 0.2971 - val_loss: 0.2993\n",
      "Epoch 25/30\n",
      "235/235 [==============================] - 2s 9ms/step - loss: 0.2971 - val_loss: 0.2993\n",
      "Epoch 26/30\n",
      "235/235 [==============================] - 2s 9ms/step - loss: 0.2970 - val_loss: 0.2992\n",
      "Epoch 27/30\n",
      "235/235 [==============================] - 2s 9ms/step - loss: 0.2970 - val_loss: 0.2992\n",
      "Epoch 28/30\n",
      "235/235 [==============================] - 2s 9ms/step - loss: 0.2969 - val_loss: 0.2991\n",
      "Epoch 29/30\n",
      "235/235 [==============================] - 2s 9ms/step - loss: 0.2969 - val_loss: 0.2992\n",
      "Epoch 30/30\n",
      "235/235 [==============================] - 2s 9ms/step - loss: 0.2969 - val_loss: 0.2990\n"
     ]
    },
    {
     "data": {
      "text/plain": [
       "<tensorflow.python.keras.callbacks.History at 0x7fca87c7fe10>"
      ]
     },
     "execution_count": 50,
     "metadata": {
      "tags": []
     },
     "output_type": "execute_result"
    }
   ],
   "source": [
    "autoencoder, encoder, decoder = create_autoencoders (16)\n",
    "autoencoder.compile(optimizer='adam', loss='binary_crossentropy')\n",
    "autoencoder.fit(fashion_x_train, fashion_x_train,\n",
    "                epochs=30,\n",
    "                batch_size=256,\n",
    "                shuffle=True,\n",
    "                validation_data=(fashion_x_test, fashion_x_test))"
   ]
  },
  {
   "cell_type": "code",
   "execution_count": 51,
   "metadata": {
    "executionInfo": {
     "elapsed": 1852,
     "status": "ok",
     "timestamp": 1601714103915,
     "user": {
      "displayName": "Umberto Michelucci",
      "photoUrl": "https://lh3.googleusercontent.com/a-/AOh14Ggrkq7MAw6QQDY8sxIXNAo8wGBCTJXUym30fmVK=s64",
      "userId": "10493425851464515093"
     },
     "user_tz": -120
    },
    "id": "nuAhbpAQmJqN"
   },
   "outputs": [],
   "source": [
    "encoded_fashion_train_imgs = encoder.predict(fashion_x_train)\n",
    "encoded_fashion_test_imgs = encoder.predict(fashion_x_test)"
   ]
  },
  {
   "cell_type": "code",
   "execution_count": 52,
   "metadata": {
    "colab": {
     "base_uri": "https://localhost:8080/",
     "height": 51
    },
    "executionInfo": {
     "elapsed": 5481,
     "status": "ok",
     "timestamp": 1601714107551,
     "user": {
      "displayName": "Umberto Michelucci",
      "photoUrl": "https://lh3.googleusercontent.com/a-/AOh14Ggrkq7MAw6QQDY8sxIXNAo8wGBCTJXUym30fmVK=s64",
      "userId": "10493425851464515093"
     },
     "user_tz": -120
    },
    "id": "44ogzPh1mO9l",
    "outputId": "e62edecb-d559-410c-b47b-f118f4ae8cb2"
   },
   "outputs": [
    {
     "name": "stdout",
     "output_type": "stream",
     "text": [
      "0.8343\n",
      "3.603889226913452\n"
     ]
    }
   ],
   "source": [
    "start = time.time()\n",
    " \n",
    "# training a KNN classifier \n",
    "from sklearn.neighbors import KNeighborsClassifier \n",
    "knn = KNeighborsClassifier(n_neighbors = 7).fit(encoded_fashion_train_imgs, fashion_y_train) \n",
    "  \n",
    "# accuracy on X_test \n",
    "accuracy = knn.score(encoded_fashion_test_imgs, fashion_y_test) \n",
    "print (accuracy )\n",
    "\n",
    "end = time.time()\n",
    "print(end - start)"
   ]
  },
  {
   "cell_type": "code",
   "execution_count": null,
   "metadata": {
    "id": "uyxbZRMFmPTY"
   },
   "outputs": [],
   "source": []
  }
 ],
 "metadata": {
  "colab": {
   "authorship_tag": "ABX9TyOIQYi7Ks+eIyZK1Q7OgIF3",
   "collapsed_sections": [],
   "name": "Your first autoencoder with Keras.ipynb",
   "provenance": []
  },
  "kernelspec": {
   "display_name": "Python 3",
   "name": "python3"
  },
  "language_info": {
   "codemirror_mode": {
    "name": "ipython",
    "version": 3
   },
   "file_extension": ".py",
   "mimetype": "text/x-python",
   "name": "python",
   "nbconvert_exporter": "python",
   "pygments_lexer": "ipython3",
   "version": "3.7.2"
  }
 },
 "nbformat": 4,
 "nbformat_minor": 0
}