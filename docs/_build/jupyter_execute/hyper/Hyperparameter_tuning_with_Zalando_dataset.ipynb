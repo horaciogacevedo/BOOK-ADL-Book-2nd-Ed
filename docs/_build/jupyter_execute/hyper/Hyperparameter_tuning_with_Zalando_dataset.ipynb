{
 "cells": [
  {
   "cell_type": "markdown",
   "metadata": {
    "id": "uSuXUMIVmhgo"
   },
   "source": [
    "# Hyperparameter Tuning with the Zalando Dataset\n",
    "\n",
    "Version 1.0"
   ]
  },
  {
   "cell_type": "markdown",
   "metadata": {
    "id": "tJo_NK-nmqCf"
   },
   "source": [
    "(C) 2020 - Umberto Michelucci, Michela Sperti\n",
    "\n",
    "This notebook is part of the book _Applied Deep Learning: a case based approach, **2nd edition**_ from APRESS by [U. Michelucci](mailto:umberto.michelucci@toelt.ai) and [M. Sperti](mailto:michela.sperti@toelt.ai)."
   ]
  },
  {
   "cell_type": "markdown",
   "metadata": {
    "id": "31wfEV06mtro"
   },
   "source": [
    "The purpose of this notebook is to give a practical example (with a dataset taken from the real world) of hyperparameter tuning with Feed-Forward Neural Networks."
   ]
  },
  {
   "cell_type": "markdown",
   "metadata": {
    "id": "V2wkdTiVmy1F"
   },
   "source": [
    "## Notebook Learning Goals"
   ]
  },
  {
   "cell_type": "markdown",
   "metadata": {
    "id": "6pqNL9dfm4Uj"
   },
   "source": [
    "At the end of the notebook you are going to know how to tune the hyperparameters of a Feed-Forward Neural Network in Keras, with **grid search** and **random search**."
   ]
  },
  {
   "cell_type": "markdown",
   "metadata": {
    "id": "M3qVVU9PdL42"
   },
   "source": [
    "## Dataset Overview"
   ]
  },
  {
   "cell_type": "markdown",
   "metadata": {
    "id": "QQmvnLBBdQJQ"
   },
   "source": [
    "**Context**\n",
    "\n",
    "Fashion-MNIST is a dataset of Zalando's article images (consisting of a training set of 60000 examples and a test set of 10000 examples). Each example is a 28x28 grayscale image, associated with a label from 10 classes. Zalando intends Fashion-MNIST to serve as a direct drop-in replacement for the original MNIST dataset for benchmarking machine learning algorithms. It shares the same image size and structure of training and testing splits.\n",
    "\n",
    "The original MNIST dataset contains a lot of handwritten digits. Members of the AI/ML/Data Science community love this dataset and use it as a benchmark to validate their algorithms. In fact, MNIST is often the first dataset researchers try. \"If it doesn't work on MNIST, it won't work at all\", they said. \"Well, if it does work on MNIST, it may still fail on others.\"\n",
    "Zalando seeks to replace the original MNIST dataset\n",
    "\n",
    "**Content**\n",
    "\n",
    "\n",
    "Each image is 28 pixels in height and 28 pixels in width, for a total of 784 pixels in total. Each pixel has a single pixel-value associated with it, indicating the lightness or darkness of that pixel, with higher numbers meaning darker. This pixel-value is an integer between 0 and 255. The training and test data sets have 785 columns. The first column consists of the class labels (see above), and represents the article of clothing. The rest of the columns contain the pixel-values of the associated image.\n",
    "\n",
    "To locate a pixel on the image, suppose that we have decomposed $x$ as $x = 28i + j$, where $i$ and $j$ are integers between 0 and 27. The pixel is located on row $i$ and column $j$ of a 28x28 matrix. \n",
    "For example, pixel31 indicates the pixel that is in the fourth column from the left, and the second row from the top. \n",
    "\n",
    "Each row of the dataset is a separate image. Column 1 is the class label. \n",
    "Remaining columns are pixel numbers (784 total). Each value is the darkness of the pixel (1 to 255).\n",
    "\n",
    "**Labels**\n",
    "\n",
    "Each training and test example is assigned to one of the following labels:\n",
    "- 0 T-shirt/top\n",
    "- 1 Trouser\n",
    "- 2 Pullover\n",
    "- 3 Dress\n",
    "- 4 Coat\n",
    "- 5 Sandal\n",
    "- 6 Shirt\n",
    "- 7 Sneaker\n",
    "- 8 Bag\n",
    "- 9 Ankle boot \n",
    "\n",
    "**Acknowledgements**\n",
    "\n",
    "Original dataset was downloaded from TensorFlow datasets catalog.\n",
    "\n",
    "**License**\n",
    "\n",
    "The MIT License (MIT) Copyright © [2017] Zalando SE, https://tech.zalando.com\n",
    "\n",
    "Permission is hereby granted, free of charge, to any person obtaining a copy of this software and associated documentation files (the “Software”), to deal in the Software without restriction, including without limitation the rights to use, copy, modify, merge, publish, distribute, sublicense, and/or sell copies of the Software, and to permit persons to whom the Software is furnished to do so, subject to the following conditions:\n",
    "\n",
    "The above copyright notice and this permission notice shall be included in all copies or substantial portions of the Software.\n",
    "\n",
    "THE SOFTWARE IS PROVIDED “AS IS”, WITHOUT WARRANTY OF ANY KIND, EXPRESS OR IMPLIED, INCLUDING BUT NOT LIMITED TO THE WARRANTIES OF MERCHANTABILITY, FITNESS FOR A PARTICULAR PURPOSE AND NONINFRINGEMENT. IN NO EVENT SHALL THE AUTHORS OR COPYRIGHT HOLDERS BE LIABLE FOR ANY CLAIM, DAMAGES OR OTHER LIABILITY, WHETHER IN AN ACTION OF CONTRACT, TORT OR OTHERWISE, ARISING FROM, OUT OF OR IN CONNECTION WITH THE SOFTWARE OR THE USE OR OTHER DEALINGS IN THE SOFTWARE."
   ]
  },
  {
   "cell_type": "markdown",
   "metadata": {
    "id": "01WOckHydTa0"
   },
   "source": [
    "## Libraries and Dataset Import"
   ]
  },
  {
   "cell_type": "markdown",
   "metadata": {
    "id": "-kx_RsXsdWKL"
   },
   "source": [
    "This section contains the necessary libraries (such as tensorflow or pandas) you need to import to run the notebook."
   ]
  },
  {
   "cell_type": "code",
   "execution_count": null,
   "metadata": {
    "colab": {
     "base_uri": "https://localhost:8080/"
    },
    "executionInfo": {
     "elapsed": 15454,
     "status": "ok",
     "timestamp": 1635592075417,
     "user": {
      "displayName": "Michela Sperti",
      "photoUrl": "https://lh3.googleusercontent.com/a-/AOh14Gh7mD9r-1Xj0Qve63ZPZx9UHRv0PkVhL5ayiHNv=s64",
      "userId": "13210266879998244642"
     },
     "user_tz": -120
    },
    "id": "r_nCA1HrdYzp",
    "outputId": "27d52fb7-f1df-4c5c-8b98-21f695123e0b"
   },
   "outputs": [
    {
     "name": "stdout",
     "output_type": "stream",
     "text": [
      "Collecting git+https://github.com/tensorflow/docs\n",
      "  Cloning https://github.com/tensorflow/docs to /tmp/pip-req-build-tmebecoo\n",
      "  Running command git clone -q https://github.com/tensorflow/docs /tmp/pip-req-build-tmebecoo\n",
      "Requirement already satisfied: astor in /usr/local/lib/python3.7/dist-packages (from tensorflow-docs==0.0.0.dev0) (0.8.1)\n",
      "Requirement already satisfied: absl-py in /usr/local/lib/python3.7/dist-packages (from tensorflow-docs==0.0.0.dev0) (0.12.0)\n",
      "Requirement already satisfied: protobuf>=3.14 in /usr/local/lib/python3.7/dist-packages (from tensorflow-docs==0.0.0.dev0) (3.17.3)\n",
      "Requirement already satisfied: pyyaml in /usr/local/lib/python3.7/dist-packages (from tensorflow-docs==0.0.0.dev0) (3.13)\n",
      "Requirement already satisfied: six>=1.9 in /usr/local/lib/python3.7/dist-packages (from protobuf>=3.14->tensorflow-docs==0.0.0.dev0) (1.15.0)\n"
     ]
    }
   ],
   "source": [
    "# This command install code from the tensorflow docs repository.\n",
    "# We need to use tensorflow_docs.modeling function when training our model.\n",
    "# This function will generate a report on the network's perfomances\n",
    "# step by step during the training phase (see Training Phase section of the\n",
    "# notebook). \n",
    "\n",
    "# You can safely ignore this cell if you don't understand what it does.\n",
    "\n",
    "!pip install git+https://github.com/tensorflow/docs"
   ]
  },
  {
   "cell_type": "code",
   "execution_count": null,
   "metadata": {
    "id": "Uei6QOXPdbNA"
   },
   "outputs": [],
   "source": [
    "# general libraries\n",
    "import pandas as pd\n",
    "import numpy as np\n",
    "import matplotlib\n",
    "import matplotlib.pyplot as plt\n",
    "import matplotlib.font_manager as fm\n",
    "from random import *\n",
    "import time\n",
    "\n",
    "# tensorflow libraries\n",
    "from tensorflow.keras.datasets import fashion_mnist\n",
    "import tensorflow as tf\n",
    "from tensorflow import keras\n",
    "from tensorflow.keras import layers\n",
    "import tensorflow_docs as tfdocs\n",
    "import tensorflow_docs.modeling"
   ]
  },
  {
   "cell_type": "code",
   "execution_count": null,
   "metadata": {
    "id": "gUs3QBrdddO3"
   },
   "outputs": [],
   "source": [
    "# Referring to the following cell, if you want to re-clone a repository\n",
    "# inside the google colab instance, you need to delete it first. \n",
    "# You can delete the repositories contained in this instance executing \n",
    "# the following two lines of code (deleting the # comment symbol).\n",
    "\n",
    "# !rm -rf ADL-Book-2nd-Ed"
   ]
  },
  {
   "cell_type": "code",
   "execution_count": null,
   "metadata": {
    "colab": {
     "base_uri": "https://localhost:8080/"
    },
    "executionInfo": {
     "elapsed": 11,
     "status": "ok",
     "timestamp": 1635592077510,
     "user": {
      "displayName": "Michela Sperti",
      "photoUrl": "https://lh3.googleusercontent.com/a-/AOh14Gh7mD9r-1Xj0Qve63ZPZx9UHRv0PkVhL5ayiHNv=s64",
      "userId": "13210266879998244642"
     },
     "user_tz": -120
    },
    "id": "cM4ZoA0IdfFA",
    "outputId": "c47e4662-99f3-4709-ef39-de0e19e6c38e"
   },
   "outputs": [
    {
     "name": "stdout",
     "output_type": "stream",
     "text": [
      "fatal: destination path 'ADL-Book-2nd-Ed' already exists and is not an empty directory.\n"
     ]
    }
   ],
   "source": [
    "# This command actually clone the repository of the book in the google colab\n",
    "# instance. In this way this notebook will have access to the modules\n",
    "# we have written for this book.\n",
    "\n",
    "# Please note that in case you have already run this cell, and you run it again\n",
    "# you may get the error message:\n",
    "#\n",
    "# fatal: destination path 'ADL-Book-2nd-Ed' already exists and is not an empty directory.\n",
    "# \n",
    "# In this case you can safely ignore the error message.\n",
    "\n",
    "!git clone https://github.com/toelt-llc/ADL-Book-2nd-Ed.git"
   ]
  },
  {
   "cell_type": "code",
   "execution_count": null,
   "metadata": {
    "id": "uaUul8jfdg8B"
   },
   "outputs": [],
   "source": [
    "# This cell imports some custom written functions that we have created to \n",
    "# make the plotting easier. You don't need to undertsand the details and \n",
    "# you can simply ignore this cell.\n",
    "# Simply run it with CMD+Enter (on Mac) or CTRL+Enter (Windows or Ubuntu) to\n",
    "# import the necessary functions.\n",
    "\n",
    "import sys\n",
    "sys.path.append('ADL-Book-2nd-Ed/modules/')\n",
    "\n",
    "from style_setting import set_style"
   ]
  },
  {
   "cell_type": "markdown",
   "metadata": {
    "id": "ApJyxhGzdjbu"
   },
   "source": [
    "The following cells are needed to **download** the dataset."
   ]
  },
  {
   "cell_type": "code",
   "execution_count": null,
   "metadata": {
    "id": "FOBUq_VTdlpG"
   },
   "outputs": [],
   "source": [
    "((trainX, trainY), (testX, testY)) = fashion_mnist.load_data()"
   ]
  },
  {
   "cell_type": "markdown",
   "metadata": {
    "id": "4llkCHYXdpAJ"
   },
   "source": [
    "## Helper Functions"
   ]
  },
  {
   "cell_type": "code",
   "execution_count": null,
   "metadata": {
    "id": "lMpK7PTGdrPU"
   },
   "outputs": [],
   "source": [
    "def get_label_name(idx):\n",
    "  \"\"\"Returns the corresponding label's name, given its numerical value.\"\"\"\n",
    "  \n",
    "  if (idx == 0):\n",
    "      return '(0) T-shirt/top'\n",
    "  elif (idx == 1):\n",
    "      return '(1) Trouser'\n",
    "  elif (idx == 2):\n",
    "      return '(2) Pullover'\n",
    "  elif (idx == 3):\n",
    "      return '(3) Dress'\n",
    "  elif (idx == 4):\n",
    "      return '(4) Coat'\n",
    "  elif (idx == 5):\n",
    "      return '(5) Sandal'\n",
    "  elif (idx == 6):\n",
    "      return '(6) Shirt'\n",
    "  elif (idx == 7):\n",
    "      return '(7) Sneaker'\n",
    "  elif (idx == 8):\n",
    "      return '(8) Bag'\n",
    "  elif (idx == 9):\n",
    "      return '(9) Ankle boot'"
   ]
  },
  {
   "cell_type": "code",
   "execution_count": null,
   "metadata": {
    "id": "eXTLAT9-dtKq"
   },
   "outputs": [],
   "source": [
    "def get_random_element_with_label (data, lbls, lbl):\n",
    "  \"\"\"Returns one numpy array (one column) with an example of a choosen label.\"\"\"\n",
    "  \n",
    "  tmp = lbls == lbl\n",
    "  subset = data[tmp.flatten(), :]\n",
    "  return subset[randint(1, subset.shape[1]), :]"
   ]
  },
  {
   "cell_type": "markdown",
   "metadata": {
    "id": "ZrJD6TF7dvf0"
   },
   "source": [
    "Now you have all the necessary elements to successfully implement this tutorial. **Let's have a look at our data**:"
   ]
  },
  {
   "cell_type": "code",
   "execution_count": null,
   "metadata": {
    "colab": {
     "base_uri": "https://localhost:8080/"
    },
    "executionInfo": {
     "elapsed": 7,
     "status": "ok",
     "timestamp": 1635592078235,
     "user": {
      "displayName": "Michela Sperti",
      "photoUrl": "https://lh3.googleusercontent.com/a-/AOh14Gh7mD9r-1Xj0Qve63ZPZx9UHRv0PkVhL5ayiHNv=s64",
      "userId": "13210266879998244642"
     },
     "user_tz": -120
    },
    "id": "AUHympxVdyWW",
    "outputId": "3e8184bc-fc5d-4809-bbb1-3c214f1db82b"
   },
   "outputs": [
    {
     "name": "stdout",
     "output_type": "stream",
     "text": [
      "Dimensions of the training dataset:  (60000, 28, 28)\n",
      "Dimensions of the test dataset:  (10000, 28, 28)\n",
      "Dimensions of the training labels:  (60000,)\n",
      "Dimensions of the test labels:  (10000,)\n"
     ]
    }
   ],
   "source": [
    "print('Dimensions of the training dataset: ', trainX.shape)\n",
    "print('Dimensions of the test dataset: ', testX.shape)\n",
    "print('Dimensions of the training labels: ', trainY.shape)\n",
    "print('Dimensions of the test labels: ', testY.shape)"
   ]
  },
  {
   "cell_type": "markdown",
   "metadata": {
    "id": "7komaFNhd16l"
   },
   "source": [
    "## Dataset Preparation"
   ]
  },
  {
   "cell_type": "markdown",
   "metadata": {
    "id": "h_ZJLSETd546"
   },
   "source": [
    "We now one-hot encode the labels and change the images dimensions, to get easy to use data for later. To know more about one-hot encoding process see the [Further Readings](#fr) section or refer to the hands-on chapter of the book about feed-forward neural networks."
   ]
  },
  {
   "cell_type": "code",
   "execution_count": null,
   "metadata": {
    "id": "vo2dp6s3d9Lj"
   },
   "outputs": [],
   "source": [
    "labels_train = np.zeros((60000, 10))\n",
    "labels_train[np.arange(60000), trainY] = 1\n",
    "\n",
    "data_train = trainX.reshape(60000, 784)"
   ]
  },
  {
   "cell_type": "code",
   "execution_count": null,
   "metadata": {
    "id": "lAjoThrCd9Of"
   },
   "outputs": [],
   "source": [
    "labels_test = np.zeros((10000, 10))\n",
    "labels_test[np.arange(10000), testY] = 1\n",
    "\n",
    "data_test = testX.reshape(10000, 784)"
   ]
  },
  {
   "cell_type": "code",
   "execution_count": null,
   "metadata": {
    "colab": {
     "base_uri": "https://localhost:8080/"
    },
    "executionInfo": {
     "elapsed": 6,
     "status": "ok",
     "timestamp": 1635592078236,
     "user": {
      "displayName": "Michela Sperti",
      "photoUrl": "https://lh3.googleusercontent.com/a-/AOh14Gh7mD9r-1Xj0Qve63ZPZx9UHRv0PkVhL5ayiHNv=s64",
      "userId": "13210266879998244642"
     },
     "user_tz": -120
    },
    "id": "zrF6j5NNd9Rp",
    "outputId": "57b4cc9f-e105-4e0e-d117-6aed7a0bf3f1"
   },
   "outputs": [
    {
     "name": "stdout",
     "output_type": "stream",
     "text": [
      "Dimensions of the training dataset:  (60000, 784)\n",
      "Dimensions of the test dataset:  (10000, 784)\n",
      "Dimensions of the training labels:  (60000, 10)\n",
      "Dimensions of the test labels:  (10000, 10)\n"
     ]
    }
   ],
   "source": [
    "print('Dimensions of the training dataset: ', data_train.shape)\n",
    "print('Dimensions of the test dataset: ', data_test.shape)\n",
    "print('Dimensions of the training labels: ', labels_train.shape)\n",
    "print('Dimensions of the test labels: ', labels_test.shape)"
   ]
  },
  {
   "cell_type": "markdown",
   "metadata": {
    "id": "UhXddwMTeD1Y"
   },
   "source": [
    "## Data Normalization"
   ]
  },
  {
   "cell_type": "markdown",
   "metadata": {
    "id": "1vT8xx0VeG9F"
   },
   "source": [
    "Let's normalize the training data dividing by 255.0 to get the values between 0 and 1."
   ]
  },
  {
   "cell_type": "code",
   "execution_count": null,
   "metadata": {
    "id": "JET1WerNeJLB"
   },
   "outputs": [],
   "source": [
    "data_train_norm = np.array(data_train/255.0)\n",
    "data_test_norm = np.array(data_test/255.0)"
   ]
  },
  {
   "cell_type": "markdown",
   "metadata": {
    "id": "teWKgfkqeLH7"
   },
   "source": [
    "Let's plot an image as example."
   ]
  },
  {
   "cell_type": "code",
   "execution_count": null,
   "metadata": {
    "colab": {
     "base_uri": "https://localhost:8080/",
     "height": 281
    },
    "executionInfo": {
     "elapsed": 358,
     "status": "ok",
     "timestamp": 1635592078869,
     "user": {
      "displayName": "Michela Sperti",
      "photoUrl": "https://lh3.googleusercontent.com/a-/AOh14Gh7mD9r-1Xj0Qve63ZPZx9UHRv0PkVhL5ayiHNv=s64",
      "userId": "13210266879998244642"
     },
     "user_tz": -120
    },
    "id": "cBy0v_AceMzd",
    "outputId": "4e7553ea-45d4-43b7-a7ed-56c69ef4e00e"
   },
   "outputs": [
    {
     "data": {
      "image/png": "[encoded data removed]",
      "text/plain": [
       "<Figure size 432x288 with 1 Axes>"
      ]
     },
     "metadata": {
      "filenames": {
       "image/png": "/Users/umberto/Research/Active Books/Applied Deep Learning - 2nd edition/ADL-Book-2nd-Ed/docs/_build/jupyter_execute/hyper/Hyperparameter_tuning_with_Zalando_dataset_30_0.png"
      },
      "needs_background": "light"
     },
     "output_type": "display_data"
    }
   ],
   "source": [
    "idx = 5\n",
    "plt.imshow(data_train_norm[idx, :].reshape(28, 28), cmap = matplotlib.cm.binary, interpolation = 'nearest')\n",
    "plt.axis(\"on\")\n",
    "plt.title(get_label_name(trainY[idx]))\n",
    "plt.show()"
   ]
  },
  {
   "cell_type": "markdown",
   "metadata": {
    "id": "tHaN9Y_NeQMX"
   },
   "source": [
    "Now let's plot one example of each type (label)."
   ]
  },
  {
   "cell_type": "code",
   "execution_count": null,
   "metadata": {
    "id": "x9ldJErseRAn"
   },
   "outputs": [],
   "source": [
    "# The following code create a numpy array where in column 0 you will find \n",
    "# an example of label 0, in column 1 of label 1 and so on.\n",
    "labels_overview = np.empty([784, 10])\n",
    "for i in range (0, 10):\n",
    "    col = get_random_element_with_label(data_train_norm, trainY, i)\n",
    "    labels_overview[:,i] = col"
   ]
  },
  {
   "cell_type": "code",
   "execution_count": null,
   "metadata": {
    "colab": {
     "base_uri": "https://localhost:8080/",
     "height": 862
    },
    "executionInfo": {
     "elapsed": 312,
     "status": "ok",
     "timestamp": 1635592079173,
     "user": {
      "displayName": "Michela Sperti",
      "photoUrl": "https://lh3.googleusercontent.com/a-/AOh14Gh7mD9r-1Xj0Qve63ZPZx9UHRv0PkVhL5ayiHNv=s64",
      "userId": "13210266879998244642"
     },
     "user_tz": -120
    },
    "id": "PvdP77aBeS0g",
    "outputId": "6d0e1445-1ad9-4dd9-aa9b-9a38da818e93"
   },
   "outputs": [
    {
     "data": {
      "image/png": "[encoded data removed]",
      "text/plain": [
       "<Figure size 1080x1080 with 10 Axes>"
      ]
     },
     "metadata": {
      "filenames": {
       "image/png": "/Users/umberto/Research/Active Books/Applied Deep Learning - 2nd edition/ADL-Book-2nd-Ed/docs/_build/jupyter_execute/hyper/Hyperparameter_tuning_with_Zalando_dataset_33_0.png"
      },
      "needs_background": "light"
     },
     "output_type": "display_data"
    }
   ],
   "source": [
    "f = plt.figure(figsize = (15, 15))\n",
    "count = 1\n",
    "for i in range(0, 10):\n",
    "    plt.subplot(5, 2, count)\n",
    "    count = count + 1\n",
    "    plt.subplots_adjust(hspace = 0.5)\n",
    "    plt.title(get_label_name(i))\n",
    "    some_digit_image = labels_overview[:, i].reshape(28, 28)\n",
    "    plt.imshow(some_digit_image, cmap = matplotlib.cm.binary, interpolation = \"nearest\")\n",
    "    plt.axis(\"off\")\n",
    "    pass"
   ]
  },
  {
   "cell_type": "markdown",
   "metadata": {
    "id": "lG-qVAwkjI4k"
   },
   "source": [
    "## Feed-forward Network Model with One Hidden Layer "
   ]
  },
  {
   "cell_type": "markdown",
   "metadata": {
    "id": "uMrdGyBljO-J"
   },
   "source": [
    "We will use a feed-forward network model with one single hidden layer. Our model will be made of an input layer of 784 neurons, an hidden layer (our task will be to tune this layer and choosing the best number of neurons fot it) and an output layer of 10 neurons with a softmax function as activation function.\n",
    "\n",
    "We need to define two functions: one to build the model and one to train it. As parameter to pass to the functions we define the `number_neurons`, i.e., the number of neurons of the network's hidden layer, we want to optimize."
   ]
  },
  {
   "cell_type": "code",
   "execution_count": null,
   "metadata": {
    "id": "fS-thM8Cjfm7"
   },
   "outputs": [],
   "source": [
    "def build_model(number_neurons, learning_rate):\n",
    "  # create model\n",
    "\tmodel = keras.Sequential()\n",
    "\tmodel.add(layers.Dense(number_neurons, input_dim = 784, activation = 'relu')) # add first hidden layer and set input dimensions\n",
    "\tmodel.add(layers.Dense(10, activation = 'softmax')) # add output layer\n",
    "\t# compile model\n",
    "\tmodel.compile(loss = 'categorical_crossentropy', optimizer = tf.keras.optimizers.SGD(learning_rate = learning_rate), metrics = ['categorical_accuracy'])\n",
    "\treturn model"
   ]
  },
  {
   "cell_type": "code",
   "execution_count": null,
   "metadata": {
    "id": "d6u_BUUlo6pS"
   },
   "outputs": [],
   "source": [
    "def train_model(number_neurons, learning_rate, number_epochs, mb_size):\n",
    "  # build model\n",
    "  model = build_model(number_neurons, learning_rate)\n",
    "  # train model\n",
    "  history = model.fit(\n",
    "    data_train_norm, labels_train,\n",
    "    epochs = number_epochs, verbose = 0,\n",
    "    batch_size = mb_size,\n",
    "    callbacks = [tfdocs.modeling.EpochDots()])\n",
    "  # test model\n",
    "  train_loss, train_accuracy = model.evaluate(data_train_norm, labels_train, verbose = 0)\n",
    "  test_loss, test_accuracy = model.evaluate(data_test_norm, labels_test, verbose = 0)\n",
    "  return train_accuracy, test_accuracy"
   ]
  },
  {
   "cell_type": "markdown",
   "metadata": {
    "id": "kVSr33Q60POp"
   },
   "source": [
    "Now we can train the model and compute the accuracy on the training and test datasets. We used to accuracy as performance indicator since the dataset is balanced. We first set as number of neurons 15. "
   ]
  },
  {
   "cell_type": "code",
   "execution_count": null,
   "metadata": {
    "colab": {
     "base_uri": "https://localhost:8080/"
    },
    "executionInfo": {
     "elapsed": 145673,
     "status": "ok",
     "timestamp": 1635592225103,
     "user": {
      "displayName": "Michela Sperti",
      "photoUrl": "https://lh3.googleusercontent.com/a-/AOh14Gh7mD9r-1Xj0Qve63ZPZx9UHRv0PkVhL5ayiHNv=s64",
      "userId": "13210266879998244642"
     },
     "user_tz": -120
    },
    "id": "01huHY98oyOz",
    "outputId": "0120a29b-0cc4-4de0-d3aa-56bda93b220e"
   },
   "outputs": [
    {
     "name": "stdout",
     "output_type": "stream",
     "text": [
      "\n",
      "Epoch: 0, categorical_accuracy:0.2652,  loss:2.0472,  \n",
      "...................................................................................................."
     ]
    }
   ],
   "source": [
    "train_accuracy, test_accuracy = train_model(15, 0.001, 100, 50)"
   ]
  },
  {
   "cell_type": "code",
   "execution_count": null,
   "metadata": {
    "colab": {
     "base_uri": "https://localhost:8080/"
    },
    "executionInfo": {
     "elapsed": 34,
     "status": "ok",
     "timestamp": 1635592225104,
     "user": {
      "displayName": "Michela Sperti",
      "photoUrl": "https://lh3.googleusercontent.com/a-/AOh14Gh7mD9r-1Xj0Qve63ZPZx9UHRv0PkVhL5ayiHNv=s64",
      "userId": "13210266879998244642"
     },
     "user_tz": -120
    },
    "id": "dpb5Nq_nqheA",
    "outputId": "03c2899f-abbb-4c33-8006-de25c8f6926f"
   },
   "outputs": [
    {
     "name": "stdout",
     "output_type": "stream",
     "text": [
      "0.8548833131790161\n",
      "0.8396000266075134\n"
     ]
    }
   ],
   "source": [
    "print(train_accuracy)\n",
    "print(test_accuracy)"
   ]
  },
  {
   "cell_type": "markdown",
   "metadata": {
    "id": "EPswsO8c0eEu"
   },
   "source": [
    "As you can see from above, the accuracy is already quite good. Let's try to see if we are able to raise it, testing several numbers of neurons. We can do this easily through a **grid search** approach."
   ]
  },
  {
   "cell_type": "markdown",
   "metadata": {
    "id": "8b8mrAfw0t_L"
   },
   "source": [
    "### Grid Search"
   ]
  },
  {
   "cell_type": "code",
   "execution_count": null,
   "metadata": {
    "colab": {
     "base_uri": "https://localhost:8080/"
    },
    "executionInfo": {
     "elapsed": 4018373,
     "status": "ok",
     "timestamp": 1635596243447,
     "user": {
      "displayName": "Michela Sperti",
      "photoUrl": "https://lh3.googleusercontent.com/a-/AOh14Gh7mD9r-1Xj0Qve63ZPZx9UHRv0PkVhL5ayiHNv=s64",
      "userId": "13210266879998244642"
     },
     "user_tz": -120
    },
    "id": "e0u1wH-lt3_0",
    "outputId": "576a476a-b3c7-45c1-a1d4-e4d2982267e5"
   },
   "outputs": [
    {
     "name": "stdout",
     "output_type": "stream",
     "text": [
      "\n",
      "Epoch: 0, categorical_accuracy:0.0848,  loss:2.3042,  \n",
      "....................................................................................................\n",
      "Number of neurons: 1 Training accuracy: 0.10000000149011612 Test accuracy 0.10000000149011612\n",
      "\n",
      "Epoch: 0, categorical_accuracy:0.1421,  loss:2.2109,  \n",
      "....................................................................................................\n",
      "Number of neurons: 5 Training accuracy: 0.8242166638374329 Test accuracy 0.8123000264167786\n",
      "\n",
      "Epoch: 0, categorical_accuracy:0.3156,  loss:2.0403,  \n",
      "....................................................................................................\n",
      "Number of neurons: 10 Training accuracy: 0.8476166725158691 Test accuracy 0.8323000073432922\n",
      "\n",
      "Epoch: 0, categorical_accuracy:0.4149,  loss:1.7950,  \n",
      "....................................................................................................\n",
      "Number of neurons: 15 Training accuracy: 0.8549166917800903 Test accuracy 0.8373000025749207\n",
      "\n",
      "Epoch: 0, categorical_accuracy:0.4340,  loss:1.8436,  \n",
      "....................................................................................................\n",
      "Number of neurons: 25 Training accuracy: 0.8603666424751282 Test accuracy 0.8443999886512756\n",
      "\n",
      "Epoch: 0, categorical_accuracy:0.4018,  loss:1.9412,  \n",
      "....................................................................................................\n",
      "Number of neurons: 30 Training accuracy: 0.8577166795730591 Test accuracy 0.8413000106811523\n",
      "\n",
      "Epoch: 0, categorical_accuracy:0.4749,  loss:1.7830,  \n",
      "....................................................................................................\n",
      "Number of neurons: 50 Training accuracy: 0.8661333322525024 Test accuracy 0.847000002861023\n",
      "\n",
      "Epoch: 0, categorical_accuracy:0.5397,  loss:1.6344,  \n",
      "....................................................................................................\n",
      "Number of neurons: 150 Training accuracy: 0.8677166700363159 Test accuracy 0.8513000011444092\n",
      "\n",
      "Epoch: 0, categorical_accuracy:0.5613,  loss:1.5577,  \n",
      "....................................................................................................\n",
      "Number of neurons: 300 Training accuracy: 0.869350016117096 Test accuracy 0.8511999845504761\n",
      "\n",
      "Epoch: 0, categorical_accuracy:0.6180,  loss:1.4087,  \n",
      "....................................................................................................\n",
      "Number of neurons: 1000 Training accuracy: 0.8740166425704956 Test accuracy 0.8554999828338623\n",
      "\n",
      "Epoch: 0, categorical_accuracy:0.6162,  loss:1.3984,  \n",
      "....................................................................................................\n",
      "Number of neurons: 3000 Training accuracy: 0.8754000067710876 Test accuracy 0.8568999767303467\n"
     ]
    }
   ],
   "source": [
    "nn = [1, 5, 10, 15, 25, 30, 50, 150, 300, 1000, 3000]\n",
    "accuracy_list = []\n",
    "for nn_ in nn:\n",
    "    train_accuracy, test_accuracy = train_model(nn_, 0.001, 100, 50)\n",
    "    print()\n",
    "    print('Number of neurons:', nn_, 'Training accuracy:', train_accuracy, 'Test accuracy', test_accuracy)\n",
    "    accuracy_list.append(test_accuracy)\n"
   ]
  },
  {
   "cell_type": "markdown",
   "metadata": {
    "id": "-YciPFF5fEPJ"
   },
   "source": [
    "Not surprisingly more neurons deliver better accuracy, with no signs of overfitting of the train dataset, since the accuracy on the test dataset is almost equal to the one on the train dataset. \n",
    "\n",
    "Now let's plot **the accuracy on the test dataset vs. the number of neurons in the hidden layer**. Note that the x-axis uses a *logarithmic scale*, to make the changes more evident."
   ]
  },
  {
   "cell_type": "code",
   "execution_count": null,
   "metadata": {
    "id": "F1QbC_C31x7S"
   },
   "outputs": [],
   "source": [
    "# The following line contains the path to fonts that are used to plot result in\n",
    "# a uniform way.\n",
    "\n",
    "f = set_style().set_general_style_parameters()"
   ]
  },
  {
   "cell_type": "code",
   "execution_count": null,
   "metadata": {
    "colab": {
     "base_uri": "https://localhost:8080/",
     "height": 395
    },
    "executionInfo": {
     "elapsed": 1437,
     "status": "ok",
     "timestamp": 1635602276905,
     "user": {
      "displayName": "Michela Sperti",
      "photoUrl": "https://lh3.googleusercontent.com/a-/AOh14Gh7mD9r-1Xj0Qve63ZPZx9UHRv0PkVhL5ayiHNv=s64",
      "userId": "13210266879998244642"
     },
     "user_tz": -120
    },
    "id": "vbGJhYpa10hS",
    "outputId": "0a3c1569-f99b-48d9-d348-6c8ee651a01e"
   },
   "outputs": [
    {
     "data": {
      "image/png": "[encoded data removed]",
      "text/plain": [
       "<Figure size 640x400 with 1 Axes>"
      ]
     },
     "metadata": {
      "filenames": {
       "image/png": "/Users/umberto/Research/Active Books/Applied Deep Learning - 2nd edition/ADL-Book-2nd-Ed/docs/_build/jupyter_execute/hyper/Hyperparameter_tuning_with_Zalando_dataset_46_0.png"
      },
      "needs_background": "light"
     },
     "output_type": "display_data"
    }
   ],
   "source": [
    "fig = plt.figure()\n",
    "ax = fig.add_subplot(111)\n",
    "\n",
    "ax.plot(nn, accuracy_list, color = 'black')\n",
    "\n",
    "plt.ylabel('Accuracy on the test dataset', fontproperties = fm.FontProperties(fname = f))\n",
    "plt.xlabel('Number of neurons in the hidden layer', fontproperties = fm.FontProperties(fname = f))\n",
    "\n",
    "plt.ylim(0,1)\n",
    "\n",
    "plt.axis(True)\n",
    "plt.xscale('log')\n",
    "\n",
    "#fig.savefig('Figure8-26.png', dpi = 300, bbox_inches = 'tight')\n",
    "plt.show()"
   ]
  },
  {
   "cell_type": "markdown",
   "metadata": {
    "id": "aD6HUDLehUbp"
   },
   "source": [
    "If your goal would be to reach 80% of accuracy you could well stop here. But there are a few things to consider: first, we may be able to do better, and secondly training the network with 3000 neurons takes quite some time. \n",
    "\n",
    "*We should see if we can get the same result in a fraction of the time*. We want a model that trains as fast as we can! Let us try a slightly different approach. Since we want to be faster let us consider **a model with 4 layers**. We could also tune the number of layers but let us stick to 4 for this example and let us tune the other parameters. \n",
    "\n",
    "We will try to find the optimal value for: \n",
    "1. learning rate\n",
    "2. minibatch size\n",
    "3. number of neurons in each layer \n",
    "4. number of epochs. "
   ]
  },
  {
   "cell_type": "markdown",
   "metadata": {
    "id": "4vFVtbwiiFBh"
   },
   "source": [
    "### Random Search"
   ]
  },
  {
   "cell_type": "markdown",
   "metadata": {
    "id": "AILKRNDsiHec"
   },
   "source": [
    "For each parameter we will select *randomly* 10 values:\n",
    "1. Learning rate: we will use the search on the logarithmic scale between $10^{-1}$ and $10^{-3}$\n",
    "2. Minibatch size: between $20$ and $80$\n",
    "3. Number of neurons: between $35$ and $60$ \n",
    "4. Number of epochs: between $40$ and $100$.\n"
   ]
  },
  {
   "cell_type": "code",
   "execution_count": null,
   "metadata": {
    "id": "mUvJYiOT3Bj4"
   },
   "outputs": [],
   "source": [
    "neurons_ = np.random.randint(low = 35, high = 60.0, size = (10))\n",
    "r = - np.random.random([10])*3.0 - 1\n",
    "learning_ = 10**r\n",
    "mb_size_ = np.random.randint(low = 20, high = 80, size = 10)\n",
    "epochs_ = np.random.randint(low = 40, high = 100, size = (10))"
   ]
  },
  {
   "cell_type": "markdown",
   "metadata": {
    "id": "S38R24BIioH_"
   },
   "source": [
    "Let's print the result for every possible combination."
   ]
  },
  {
   "cell_type": "code",
   "execution_count": null,
   "metadata": {
    "colab": {
     "base_uri": "https://localhost:8080/"
    },
    "executionInfo": {
     "elapsed": 1565956,
     "status": "ok",
     "timestamp": 1635597811187,
     "user": {
      "displayName": "Michela Sperti",
      "photoUrl": "https://lh3.googleusercontent.com/a-/AOh14Gh7mD9r-1Xj0Qve63ZPZx9UHRv0PkVhL5ayiHNv=s64",
      "userId": "13210266879998244642"
     },
     "user_tz": -120
    },
    "id": "9Ytw80yO3EVs",
    "outputId": "045a6bfc-b078-4658-f763-c2043cb3f639"
   },
   "outputs": [
    {
     "name": "stdout",
     "output_type": "stream",
     "text": [
      "\n",
      "Epoch: 0, categorical_accuracy:0.7851,  loss:0.6132,  \n",
      "............................................\n",
      "Epochs: 44 Number of neurons: 36 Learning rate: 0.0753702006793808 Minibatch size 54 Training accuracy: 0.9013166427612305 Test Accuracy 0.8636999726295471\n",
      "\n",
      "Epoch: 0, categorical_accuracy:0.1460,  loss:2.2589,  \n",
      "............................................................\n",
      "Epochs: 60 Number of neurons: 47 Learning rate: 0.0001505449519265441 Minibatch size 51 Training accuracy: 0.7894999980926514 Test Accuracy 0.7763000130653381\n",
      "\n",
      "Epoch: 0, categorical_accuracy:0.7553,  loss:0.7407,  \n",
      "....................................................................................\n",
      "Epochs: 84 Number of neurons: 54 Learning rate: 0.02191786021047373 Minibatch size 58 Training accuracy: 0.9240666627883911 Test Accuracy 0.8770999908447266\n",
      "\n",
      "Epoch: 0, categorical_accuracy:0.4805,  loss:1.6619,  \n",
      "...........................................................................\n",
      "Epochs: 75 Number of neurons: 43 Learning rate: 0.0005466443079304537 Minibatch size 22 Training accuracy: 0.8614333271980286 Test Accuracy 0.8445000052452087\n",
      "\n",
      "Epoch: 0, categorical_accuracy:0.6157,  loss:1.2926,  \n",
      "........................................................................\n",
      "Epochs: 72 Number of neurons: 38 Learning rate: 0.0016475038157743966 Minibatch size 26 Training accuracy: 0.8784166574478149 Test Accuracy 0.8583999872207642\n",
      "\n",
      "Epoch: 0, categorical_accuracy:0.3934,  loss:1.9123,  \n",
      "...........................................\n",
      "Epochs: 43 Number of neurons: 59 Learning rate: 0.00037318772908989504 Minibatch size 30 Training accuracy: 0.8333333134651184 Test Accuracy 0.8223000168800354\n",
      "\n",
      "Epoch: 0, categorical_accuracy:0.7820,  loss:0.6432,  \n",
      "..............................................................\n",
      "Epochs: 62 Number of neurons: 37 Learning rate: 0.017282239636868056 Minibatch size 22 Training accuracy: 0.9207500219345093 Test Accuracy 0.8758000135421753\n",
      "\n",
      "Epoch: 0, categorical_accuracy:0.6770,  loss:1.0158,  \n",
      "...................................................................................................\n",
      "Epochs: 99 Number of neurons: 56 Learning rate: 0.0038539746481237184 Minibatch size 34 Training accuracy: 0.8999666571617126 Test Accuracy 0.8708000183105469\n",
      "\n",
      "Epoch: 0, categorical_accuracy:0.5961,  loss:1.2969,  \n",
      "...................................................................\n",
      "Epochs: 67 Number of neurons: 57 Learning rate: 0.0019519827387776492 Minibatch size 40 Training accuracy: 0.872866690158844 Test Accuracy 0.8561999797821045\n",
      "\n",
      "Epoch: 0, categorical_accuracy:0.6872,  loss:1.0031,  \n",
      "...................................................................................\n",
      "Epochs: 83 Number of neurons: 42 Learning rate: 0.004850458008838077 Minibatch size 37 Training accuracy: 0.8953999876976013 Test Accuracy 0.8708000183105469\n"
     ]
    }
   ],
   "source": [
    "for i in range(len(neurons_)):\n",
    "    train_accuracy, test_accuracy = train_model(neurons_[i], learning_[i], epochs_[i], mb_size_[i])\n",
    "    print()\n",
    "    print('Epochs:', epochs_[i], 'Number of neurons:', neurons_[i], 'Learning rate:', learning_[i], 'Minibatch size', mb_size_[i],\n",
    "          'Training accuracy:', train_accuracy, 'Test Accuracy', test_accuracy)"
   ]
  },
  {
   "cell_type": "markdown",
   "metadata": {
    "id": "ZfsQm4izmtyg"
   },
   "source": [
    "You will find that the combinations with 44 epochs, 36 neurons in each layer, a learning rate of 0.07537 and a minibatch size of 54 gives you an accuracy on the dev dataset of 0.86. Not bad, considering that this is also faster than the model with 1 layer and 3000 neurons and 6% better. \n",
    "\n",
    "Our naïve initial test gave us an accuracy of 0.84, so with hyperparameter tuning we got 2% better than our initial guess. In the deep learning this is considered a good result. What we did should give you an idea of how powerful hyperparameter tuning can be if done properly. Keep in mind you should spend quite some time doing it, and especially thinking about how to do it. "
   ]
  },
  {
   "cell_type": "markdown",
   "metadata": {
    "id": "_KpgX4W8nCd8"
   },
   "source": [
    "## Exercises"
   ]
  },
  {
   "cell_type": "markdown",
   "metadata": {
    "id": "3J38NJG0nQRB"
   },
   "source": [
    "1. [*Easy Difficulty*] Try different optimizers (for example Adam) and consider wider ranges for the parameters, more parameters combinations and so on. See how results change.\n",
    "2. [*Hard Difficulty*] Try to implement Bayesian Optimization. You can find all implementation details in Chapter 8 of the book. \n",
    "3. [*Medium Difficulty*] Try to optimize a multiclass classification model like the one we saw together in this notebook, but with a different dataset, the MNIST database of handwritten digits (http://yann.lecun.com/exdb/mnist/). To download the dataset from TensorFlow use the following lines of code:\n",
    "```\n",
    "from tensorflow import keras \n",
    "(x_train, y_train), (x_test, y_test) = keras.datasets.mnist.load_data()\n",
    "```"
   ]
  },
  {
   "cell_type": "markdown",
   "metadata": {
    "id": "mDgjWwv5nHwH"
   },
   "source": [
    "## Further Readings <a name = \"fr\"></a>"
   ]
  },
  {
   "cell_type": "markdown",
   "metadata": {
    "id": "OTbDJqUjnFvl"
   },
   "source": [
    "**Fashion-MNIST dataset**\n",
    "\n",
    "1. Xiao, Han, Kashif Rasul, and Roland Vollgraf. \"Fashion-mnist: a novel image dataset for benchmarking machine learning algorithms.\" arXiv preprint arXiv:1708.07747 (2017)"
   ]
  },
  {
   "cell_type": "code",
   "execution_count": null,
   "metadata": {
    "id": "4XLbzXl-lBTq"
   },
   "outputs": [],
   "source": []
  }
 ],
 "metadata": {
  "colab": {
   "authorship_tag": "ABX9TyNd28PPqpFtxoO5m+jxp3NA",
   "collapsed_sections": [],
   "name": "Hyperparameter_tuning_with_Zalando_dataset.ipynb",
   "provenance": [],
   "toc_visible": true
  },
  "kernelspec": {
   "display_name": "Python 3",
   "name": "python3"
  }
 },
 "nbformat": 4,
 "nbformat_minor": 0
}