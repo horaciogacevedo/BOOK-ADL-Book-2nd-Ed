{
 "cells": [
  {
   "cell_type": "markdown",
   "metadata": {
    "id": "Yve8Y4GSbWSy"
   },
   "source": [
    "# Linear Regression with NumPy"
   ]
  },
  {
   "cell_type": "markdown",
   "metadata": {
    "id": "XUb7vmqFPJHd"
   },
   "source": [
    "(C) 2020 - Umberto Michelucci, Michela Sperti\n",
    "\n",
    "This notebook is part of the book _Applied Deep Learning: a case based approach, **2nd edition**_ from APRESS by [U. Michelucci](mailto:umberto.michelucci@toelt.ai) and [M. Sperti](mailto:michela.sperti@toelt.ai)."
   ]
  },
  {
   "cell_type": "markdown",
   "metadata": {
    "id": "QOeJ7X_EbdzD"
   },
   "source": [
    "The purpose of this notebook (that is intended to be analyzed in parallel with *Linear_Regression_with_One_Neuron.ipynb*) is to show a Linear Regression example performed with traditional math formulas and implemented with NumPy Python library."
   ]
  },
  {
   "cell_type": "markdown",
   "metadata": {
    "id": "x-4CZn2NcC6g"
   },
   "source": [
    "## Notebook Learning Goals"
   ]
  },
  {
   "cell_type": "markdown",
   "metadata": {
    "id": "LVLLwQh6cD4Z"
   },
   "source": [
    "At the end of the notebook you are going to know every math detail behind linear regression. Moreover, you will have see an example of **matrix operations** in Python, performed with NumPy library. It is very useful to know this library, since it is the most famous and used package for scientific computing in Python."
   ]
  },
  {
   "cell_type": "markdown",
   "metadata": {
    "id": "SAIzK16Ir1VP"
   },
   "source": [
    "## Real Case Example: **Radon Contamination**"
   ]
  },
  {
   "cell_type": "markdown",
   "metadata": {
    "id": "HcO1xaj8r3cO"
   },
   "source": [
    "For this tutorial, we will use the same dataset already present in *Linear_Regression_with_One_Neuron.ipynb* notebook. The reason is to compare the two final results in order to demonstrate that neural networks can easily solve a traditional linear regression problem, with a very simple architecture. Therefore, keep in mind what you have learnt in *Linear_Regression_with_One_Neuron.ipynb*. "
   ]
  },
  {
   "cell_type": "markdown",
   "metadata": {
    "id": "TQVb0LPBjZjs"
   },
   "source": [
    "## Theory behind Linear Regression"
   ]
  },
  {
   "cell_type": "markdown",
   "metadata": {
    "id": "UWVPNhijs9xb"
   },
   "source": [
    "The formula to be implemented is the following:\n",
    "\n",
    "$$\n",
    "\\mathbf{p} = (X^T X)^{-1} X^T Y\n",
    "$$\n",
    "\n",
    "where in our radon contamination regression problem, $X$ is the matrix of features and $Y$ is the column of corresponding labels."
   ]
  },
  {
   "cell_type": "markdown",
   "metadata": {
    "id": "9dXAkeUWtZ4K"
   },
   "source": [
    "**Derivation**"
   ]
  },
  {
   "cell_type": "markdown",
   "metadata": {
    "id": "SCk2wnqXtB_N"
   },
   "source": [
    "Let's now derive the formula analytically. Since this is a linear regression problem, the function we want to minimize is defined as the Mean Square Error (MSE):\n",
    "\n",
    "$$\n",
    "\\text{MSE} = \\frac{1}{n} \\sum_{i=1}^{n} (p_0 + p_1 x_i -y_i  )  \n",
    "$$\n",
    "\n",
    "where $x_i$ are the measurements and $y_i$ are the correspondent target measurements. $n$ is the total number of observations at our disposal and $p_i$ are the coefficients we want to determine. \n",
    "\n",
    "We will show the derivation in one dimension for simplicity, but the process is very easily expanded to many dimensions."
   ]
  },
  {
   "cell_type": "markdown",
   "metadata": {
    "id": "8Fz0ar6gtF_5"
   },
   "source": [
    "Let's define:\n",
    "\n",
    "$$\n",
    "Y = \\left(\n",
    "\\begin{eqnarray}\n",
    "y_1 \\\\\n",
    "... \\\\\n",
    "y_n \\\\\n",
    "\\end {eqnarray}\n",
    "\\right)\n",
    "$$\n",
    "\n",
    "To minimize the MSE we need to find the best $\\mathbf{p} = (p_0, p_1)$ that solve the equations\n",
    "\n",
    "$$\n",
    "\\left\\{\n",
    "\\begin{eqnarray}\n",
    "\\frac{\\partial \\ \\text{MSE}}{\\partial p_0} & = & 0 \\\\\n",
    "\\frac{\\partial \\ \\text{MSE}}{\\partial p_1} & = & 0 \\\\\n",
    "\\end{eqnarray}\n",
    "\\right.\n",
    "$$"
   ]
  },
  {
   "cell_type": "markdown",
   "metadata": {
    "id": "XVEjdwZOtMa4"
   },
   "source": [
    "Let's also define \n",
    "\n",
    "$$\n",
    "\\hat Y = X\\mathbf{p}\n",
    "$$\n",
    "\n",
    "where\n",
    "\n",
    "$$\n",
    "X = \\left(\n",
    "\\begin{eqnarray}\n",
    "1 & \\ &x_1 \\\\\n",
    "... & \\ &... \\\\\n",
    "1 & \\ &x_n \\\\\n",
    "\\end {eqnarray}\n",
    "\\right)\n",
    "$$\n",
    "\n",
    "so that\n",
    "\n",
    "$$\n",
    "\\hat Y = \\left(\n",
    "\\begin{eqnarray}\n",
    "p_0+p_1x_1 \\\\\n",
    "... \\\\\n",
    "p_0+p_1x_n \\\\\n",
    "\\end {eqnarray}\n",
    "\\right)\n",
    "$$\n",
    "\n",
    "With this notation we can write\n",
    "\n",
    "$$\n",
    "\\text{MSE} = \\frac{1}{n} \\sum_{i=1}^{n} (\\hat Y_i - Y_i  )  \n",
    "$$\n",
    "\n",
    "Note that the following is valid (you can easily check)\n",
    "\n",
    "$$\n",
    "Y^T Y = y_1^2 + ... + y_n^2\n",
    "$$\n",
    "\n",
    "So we can write the MSE in matrix form as\n",
    "\n",
    "$$\n",
    "\\text{MSE} = \\frac{1}{n}(\\hat Y - Y)^T (\\hat Y - Y) \n",
    "$$\n",
    "\n",
    "and therefore\n",
    "\n",
    "$$\n",
    "\\text{MSE} = \\frac{1}{n}(X\\mathbf{p} - Y)^T (X\\mathbf{p} - Y) =  \\frac{1}{n}(\\mathbf{p}^TX - Y^T) (X\\mathbf{p} - Y)\n",
    "$$\n",
    "\n",
    "To find the best parameters we can neglect the $1/n$ factor. Performing the multiplication of the matrices we find (you must be careful when multiplying them)\n",
    "\n",
    "$$\n",
    "\\text{MSE} = \\mathbf{p}^T X^T X \\mathbf{p}-\\mathbf{p}^TX^TY-Y^TX\\mathbf{p} -Y^T Y =  \\mathbf{p}^T X^T X \\mathbf{p} - 2Y^TX\\mathbf{p}-Y^TY\n",
    "$$\n",
    "\n",
    "since is easy to verify that\n",
    "\n",
    "$$\n",
    "\\mathbf{p}^TX^TY = Y^TX\\mathbf{p} = \\sum_{i=1}^n y_i \\hat y_i\n",
    "$$"
   ]
  },
  {
   "cell_type": "markdown",
   "metadata": {
    "id": "pW2Q8Eyijlc-"
   },
   "source": [
    "At this point, using rules to evaluate derivatives of matrices we have\n",
    "\n",
    "$$\n",
    "\\nabla \\text{MSE}_\\mathbf{p} = 2(\\mathbf{p} X ^T X-Y^TX) = 0\n",
    "$$\n",
    "\n",
    "and solving for $\\mathbf{p}$ we get\n",
    "\n",
    "$$\n",
    "\\mathbf{p}^T = Y^TX (X^T X)^{-1}\n",
    "$$\n",
    "\n",
    "and taking the transpose of both sides\n",
    "\n",
    "$$\n",
    "\\mathbf{p} = \\left[\n",
    "(X^TX)^{-1}\n",
    "\\right\n",
    "]^T X^T Y \n",
    "$$\n",
    "\n",
    "note that $(A^{-1})^T = (A^T)^{-1}$ and therefore\n",
    "\n",
    "$$\n",
    "\\mathbf{p} = (X^TX)^{-1} X^T Y \n",
    "$$\n",
    "\n",
    "since $(X^TX)^{-1} = X^TX$.\n"
   ]
  },
  {
   "cell_type": "markdown",
   "metadata": {
    "id": "S-d5FbIljghj"
   },
   "source": [
    "## Numpy Implementation"
   ]
  },
  {
   "cell_type": "markdown",
   "metadata": {
    "id": "CI4FqRhavmcl"
   },
   "source": [
    "Now the idea is to calculate the previously derived formula using NumPy operations between matrices."
   ]
  },
  {
   "cell_type": "markdown",
   "metadata": {
    "id": "wbga419cuCqe"
   },
   "source": [
    "### Libraries and Dataset Import"
   ]
  },
  {
   "cell_type": "markdown",
   "metadata": {
    "id": "PgQ2BhMOvyZP"
   },
   "source": [
    "The following lines will produce as ouput the radon dataset to which we will apply the regression model. You can just execute them, since we have already analyzed the details in *Linear_Regression_with_One_Neuron.ipynb* notebook."
   ]
  },
  {
   "cell_type": "code",
   "execution_count": null,
   "metadata": {
    "id": "jGfK0q--vZUo"
   },
   "outputs": [],
   "source": [
    "# general libraries\n",
    "import os\n",
    "import numpy as np\n",
    "import matplotlib.pyplot as plt\n",
    "import matplotlib.font_manager as fm"
   ]
  },
  {
   "cell_type": "code",
   "execution_count": null,
   "metadata": {
    "id": "Scz2G7xzOvUM"
   },
   "outputs": [],
   "source": [
    "# Referring to the following cell, if you want to re-clone a repository\n",
    "# inside the google colab instance, you need to delete it first. \n",
    "# You can delete the repositories contained in this instance executing \n",
    "# the following two lines of code (deleting the # comment symbol).\n",
    "\n",
    "# !rm -rf ADL-Book-2nd-Ed "
   ]
  },
  {
   "cell_type": "code",
   "execution_count": null,
   "metadata": {
    "colab": {
     "base_uri": "https://localhost:8080/",
     "height": 34
    },
    "executionInfo": {
     "elapsed": 1599,
     "status": "ok",
     "timestamp": 1599832672775,
     "user": {
      "displayName": "Michela Sperti",
      "photoUrl": "https://lh3.googleusercontent.com/a-/AOh14GhY5BhpI7OHwDEkRAuDd5v2Zg69S6Y-gyvuHTbK=s64",
      "userId": "13210266879998244642"
     },
     "user_tz": -120
    },
    "id": "CF2YlyHAvGcN",
    "outputId": "f3ef8df8-2048-44a1-9a43-a026abe4f588"
   },
   "outputs": [
    {
     "name": "stdout",
     "output_type": "stream",
     "text": [
      "fatal: destination path 'ADL-Book-2nd-Ed' already exists and is not an empty directory.\n"
     ]
    }
   ],
   "source": [
    "# This command actually clone the repository of the book in the google colab\n",
    "# instance. In this way this notebook will have access to the modules\n",
    "# we have written for this book.\n",
    "\n",
    "# Please note that in case you have already run this cell, and you run it again\n",
    "# you may get the error message:\n",
    "#\n",
    "# fatal: destination path 'ADL-Book-2nd-Ed' already exists and is not an empty directory.\n",
    "# \n",
    "# In this case you can safely ignore the error message.\n",
    "\n",
    "!git clone https://github.com/toelt-llc/ADL-Book-2nd-Ed.git"
   ]
  },
  {
   "cell_type": "code",
   "execution_count": null,
   "metadata": {
    "id": "TOkwGh8TvJtv"
   },
   "outputs": [],
   "source": [
    "# This cell imports some custom written functions that we have created to \n",
    "# make the loading of the data and the plotting easier. You don't need \n",
    "# to undertsand the details and you can simply ignore this cell.\n",
    "# Simply run it with CMD+Enter (on Mac) or CTRL+Enter (Windows or Ubuntu) to\n",
    "# import the necessary functions.\n",
    "\n",
    "import sys\n",
    "sys.path.append('ADL-Book-2nd-Ed/modules/')\n",
    "\n",
    "from read_radon_dataset import read_data\n",
    "from style_setting import set_style"
   ]
  },
  {
   "cell_type": "code",
   "execution_count": null,
   "metadata": {
    "id": "zfA3JztavTxA"
   },
   "outputs": [],
   "source": [
    "# This cell provides the dataset on which you will implement the linear regression model.\n",
    "# Data are temporarily put into \"tmp\" folder. \"url_base\" contains the link to access the dataset.\n",
    "\n",
    "# After cell's execution, you will have a variable containing features (\"radon_features\"),\n",
    "# a variable containing labels (\"radon_labels\") and an informative variable containing\n",
    "# all countries including in the dataset. \n",
    "\n",
    "# You don't need to understand the implementation's details and you can simply ignore this cell.\n",
    "# Simply run it with CMD+Enter (on Mac) or CTRL+Enter (Windows or Ubuntu) to\n",
    "# import the necessary functions.\n",
    "\n",
    "# inputs to download the dataset\n",
    "CACHE_DIR = os.path.join(os.sep, 'tmp', 'radon')\n",
    "url_base = 'http://www.stat.columbia.edu/~gelman/arm/examples/radon/'\n",
    "# Alternative source:\n",
    "# url_base = ('https://raw.githubusercontent.com/pymc-devs/uq_chapter/master/reference/data/')\n",
    "\n",
    "rd = read_data(CACHE_DIR, url_base)\n",
    "radon_features, radon_labels, county_name = rd.create_dataset()"
   ]
  },
  {
   "cell_type": "markdown",
   "metadata": {
    "id": "SFkHmBVRW6SE"
   },
   "source": [
    "### Dataset Splitting"
   ]
  },
  {
   "cell_type": "markdown",
   "metadata": {
    "id": "m9CV_nAIZ1va"
   },
   "source": [
    "The following lines will produce as output the training dataset and the testing dataset for model's development, which are the same sets used in the example performed with one neuron, so that we can compare final results of both approaches. You can just execute the following cell, since we have already analyzed the details in *Linear_Regression_with_One_Neuron.ipynb* notebook."
   ]
  },
  {
   "cell_type": "code",
   "execution_count": null,
   "metadata": {
    "colab": {
     "base_uri": "https://localhost:8080/",
     "height": 50
    },
    "executionInfo": {
     "elapsed": 3574,
     "status": "ok",
     "timestamp": 1599832674766,
     "user": {
      "displayName": "Michela Sperti",
      "photoUrl": "https://lh3.googleusercontent.com/a-/AOh14GhY5BhpI7OHwDEkRAuDd5v2Zg69S6Y-gyvuHTbK=s64",
      "userId": "13210266879998244642"
     },
     "user_tz": -120
    },
    "id": "OwhqwFRQZq8G",
    "outputId": "145f980b-73b4-410f-cd73-56ba8d80e07b"
   },
   "outputs": [
    {
     "name": "stdout",
     "output_type": "stream",
     "text": [
      "The training dataset dimensions are:  (733, 4)\n",
      "The testing dataset dimensions are:  (186, 4)\n"
     ]
    }
   ],
   "source": [
    "np.random.seed(42)\n",
    "rnd = np.random.rand(len(radon_features)) < 0.8\n",
    "\n",
    "train_x = radon_features[rnd] # training dataset (features)\n",
    "train_y = radon_labels[rnd] # training dataset (labels)\n",
    "test_x = radon_features[~rnd] # testing dataset (features)\n",
    "test_y = radon_labels[~rnd] # testing dataset (labels)\n",
    "\n",
    "print('The training dataset dimensions are: ', train_x.shape)\n",
    "print('The testing dataset dimensions are: ', test_x.shape)"
   ]
  },
  {
   "cell_type": "markdown",
   "metadata": {
    "id": "kuGbA0e2a7Gh"
   },
   "source": [
    "### Regression Coefficients Computation"
   ]
  },
  {
   "cell_type": "markdown",
   "metadata": {
    "id": "5vOy7j20wKSX"
   },
   "source": [
    "Notice that `radon_features` is $X$ and `radon_labels` is $Y$. Remember we want to calculate the linear regression coefficients:\n",
    "\n",
    "$$\n",
    "\\mathbf{p} = (X^T X)^{-1} X^T Y\n",
    "$$"
   ]
  },
  {
   "cell_type": "code",
   "execution_count": null,
   "metadata": {
    "id": "6j8wakTUwgzF"
   },
   "outputs": [],
   "source": [
    "# We convert our data into NumPy arrays since we will use NumPy operations\n",
    "X_train = train_x.values\n",
    "Y_train = train_y.values\n",
    "X_test = test_x.values"
   ]
  },
  {
   "cell_type": "code",
   "execution_count": null,
   "metadata": {
    "id": "yEIeO1QV0h1j"
   },
   "outputs": [],
   "source": [
    "X_T = np.transpose(X_train) # np.transpose returns the transpose of a matrix"
   ]
  },
  {
   "cell_type": "code",
   "execution_count": null,
   "metadata": {
    "id": "p_C116Iy1hi9"
   },
   "outputs": [],
   "source": [
    "# np.linalg.inv returns the inverse of a matric\n",
    "# np.matmul returns the multiplication between two matrices\n",
    "p = np.matmul(np.matmul(np.linalg.inv(np.matmul(X_T,X_train)),X_T),Y_train)"
   ]
  },
  {
   "cell_type": "markdown",
   "metadata": {
    "id": "xy90YisM2KQf"
   },
   "source": [
    "Easy, right? You had a proof of the power and easiness of use of NumPy library in the case of matrices' operations. Now let's have a look at **p**."
   ]
  },
  {
   "cell_type": "code",
   "execution_count": null,
   "metadata": {
    "colab": {
     "base_uri": "https://localhost:8080/",
     "height": 34
    },
    "executionInfo": {
     "elapsed": 3550,
     "status": "ok",
     "timestamp": 1599832674768,
     "user": {
      "displayName": "Michela Sperti",
      "photoUrl": "https://lh3.googleusercontent.com/a-/AOh14GhY5BhpI7OHwDEkRAuDd5v2Zg69S6Y-gyvuHTbK=s64",
      "userId": "13210266879998244642"
     },
     "user_tz": -120
    },
    "id": "mj86_0o62e4B",
    "outputId": "97bc938e-6fae-444d-ae7d-91b45feae89c"
   },
   "outputs": [
    {
     "name": "stdout",
     "output_type": "stream",
     "text": [
      "[-0.82682133  0.01678125  5.79487471 -0.13826876]\n"
     ]
    }
   ],
   "source": [
    "print(p)"
   ]
  },
  {
   "cell_type": "markdown",
   "metadata": {
    "id": "a-gzsINv2iMa"
   },
   "source": [
    "These are the four regression coefficients that fully describe our linear regression model. You can compare these numbers with the ones obtained in the *Linear_regression_with_one_neuron.ipynb* notebook. Let's try to predict some radon activities now."
   ]
  },
  {
   "cell_type": "markdown",
   "metadata": {
    "id": "N1nQ3HZwbdvA"
   },
   "source": [
    "### Model's Performances Evaluation"
   ]
  },
  {
   "cell_type": "code",
   "execution_count": null,
   "metadata": {
    "id": "ssDcO4jmc5Ah"
   },
   "outputs": [],
   "source": [
    "# The following line contains the path to fonts that are used to plot result in\n",
    "# a uniform way.\n",
    "\n",
    "f = set_style().set_general_style_parameters()"
   ]
  },
  {
   "cell_type": "code",
   "execution_count": null,
   "metadata": {
    "colab": {
     "base_uri": "https://localhost:8080/",
     "height": 406
    },
    "executionInfo": {
     "elapsed": 3535,
     "status": "ok",
     "timestamp": 1599832674770,
     "user": {
      "displayName": "Michela Sperti",
      "photoUrl": "https://lh3.googleusercontent.com/a-/AOh14GhY5BhpI7OHwDEkRAuDd5v2Zg69S6Y-gyvuHTbK=s64",
      "userId": "13210266879998244642"
     },
     "user_tz": -120
    },
    "id": "bYfc9lTRbgzw",
    "outputId": "e1b5a50e-dba8-424b-f00a-6ae5362c4cfc"
   },
   "outputs": [
    {
     "data": {
      "image/png": "[encoded data removed]",
      "text/plain": [
       "<Figure size 640x400 with 1 Axes>"
      ]
     },
     "metadata": {
      "filenames": {
       "image/png": "/Users/umberto/Research/Active Books/Applied Deep Learning - 2nd edition/ADL-Book-2nd-Ed/docs/_build/jupyter_execute/Chapter14/Linear_regression_with_numpy_36_0.png"
      },
      "needs_background": "light",
      "tags": []
     },
     "output_type": "display_data"
    }
   ],
   "source": [
    "test_predictions = np.dot(X_test,p) # predict radon activities using the linear regression \n",
    "# coefficients just calculated\n",
    "\n",
    "# Predictions vs. True Values PLOT\n",
    "\n",
    "fig = plt.figure()\n",
    "ax = fig.add_subplot(111)\n",
    "\n",
    "plt.scatter(test_y, test_predictions, marker = 'o', c = 'blue')\n",
    "plt.plot([-5,20], [-5,20], color = 'black', ls = '--')\n",
    "\n",
    "plt.ylabel('Predictions [activity]', fontproperties = fm.FontProperties(fname = f))\n",
    "plt.xlabel('True Values [activity]', fontproperties = fm.FontProperties(fname = f))\n",
    "plt.title('Linear Regression with NumPy', fontproperties = fm.FontProperties(fname = f))\n",
    "\n",
    "plt.ylim(-5, 20)\n",
    "plt.xlim(-5, 20)\n",
    "\n",
    "plt.axis(True)\n",
    "ax.set_facecolor((241/255.0, 247/255.0, 240/255.0))\n",
    "plt.show()"
   ]
  },
  {
   "cell_type": "markdown",
   "metadata": {
    "id": "Khyxy_ZbcyEO"
   },
   "source": [
    "## Further Readings"
   ]
  },
  {
   "cell_type": "markdown",
   "metadata": {
    "id": "YM-XAsunc2l8"
   },
   "source": [
    "**NumPy package**"
   ]
  },
  {
   "cell_type": "markdown",
   "metadata": {
    "id": "sI4pw7vecz92"
   },
   "source": [
    "1. All documentation (with lots of tutorial and examples already implemented): https://numpy.org/doc/stable/"
   ]
  }
 ],
 "metadata": {
  "colab": {
   "collapsed_sections": [],
   "name": "Linear_regression_with_numpy.ipynb",
   "provenance": [],
   "toc_visible": true
  },
  "kernelspec": {
   "display_name": "Python 3",
   "name": "python3"
  }
 },
 "nbformat": 4,
 "nbformat_minor": 0
}