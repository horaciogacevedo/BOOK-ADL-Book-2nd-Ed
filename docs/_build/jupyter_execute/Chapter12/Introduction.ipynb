{
 "cells": [
  {
   "cell_type": "markdown",
   "metadata": {
    "id": "UZCvcFVYv9Pf"
   },
   "source": [
    "Keras is an API, running on top of TensorFlow environment, used for defining and training deep learning models. In particular, TensorFlow implements the specification in its `tf.keras` module."
   ]
  },
  {
   "cell_type": "code",
   "execution_count": null,
   "metadata": {
    "id": "LL9ctehx0q_c"
   },
   "outputs": [],
   "source": []
  }
 ],
 "metadata": {
  "colab": {
   "authorship_tag": "ABX9TyNsYbjF+SIVqGq3+fuizf5o",
   "collapsed_sections": [],
   "name": "Introduction.ipynb",
   "provenance": []
  },
  "kernelspec": {
   "display_name": "Python 3",
   "name": "python3"
  }
 },
 "nbformat": 4,
 "nbformat_minor": 0
}