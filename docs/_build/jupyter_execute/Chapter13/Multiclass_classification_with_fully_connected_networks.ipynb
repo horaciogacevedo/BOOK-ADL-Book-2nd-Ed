{
 "cells": [
  {
   "cell_type": "markdown",
   "metadata": {
    "id": "uSuXUMIVmhgo"
   },
   "source": [
    "# Multiclass Classification with Fully Connected Networks\n",
    "\n",
    "Version 1.0"
   ]
  },
  {
   "cell_type": "markdown",
   "metadata": {
    "id": "tJo_NK-nmqCf"
   },
   "source": [
    "(C) 2020 - Umberto Michelucci, Michela Sperti\n",
    "\n",
    "This notebook is part of the book _Applied Deep Learning: a case based approach, **2nd edition**_ from APRESS by [U. Michelucci](mailto:umberto.michelucci@toelt.ai) and [M. Sperti](mailto:michela.sperti@toelt.ai)."
   ]
  },
  {
   "cell_type": "markdown",
   "metadata": {
    "id": "31wfEV06mtro"
   },
   "source": [
    "The purpose of this notebook is to give a practical example (with a dataset taken from the real world) of a multiclass classification problem solved by means of a Feed-Forward Neural Network architecture."
   ]
  },
  {
   "cell_type": "markdown",
   "metadata": {
    "id": "V2wkdTiVmy1F"
   },
   "source": [
    "## Notebook Learning Goals"
   ]
  },
  {
   "cell_type": "markdown",
   "metadata": {
    "id": "6pqNL9dfm4Uj"
   },
   "source": [
    "At the end of the notebook you are going to know how to implement yourself a feed-forward neural network architecture in Keras. Moreover, you will have learnt the main differences between the three versions of the gradient descent optimizer (i.e. batch gradient descent, stochastic gradient descent and mini-batch gradient descent). Finally, you are going to know what optimizing a neural network means and how to choose the best network among several possibilities."
   ]
  },
  {
   "cell_type": "markdown",
   "metadata": {
    "id": "Pyeczq1gNvry"
   },
   "source": [
    "## Dataset Overview"
   ]
  },
  {
   "cell_type": "markdown",
   "metadata": {
    "id": "gsMQwWQsNxsF"
   },
   "source": [
    "**Context**\n",
    "\n",
    "Fashion-MNIST is a dataset of Zalando's article images (consisting of a training set of 60000 examples and a test set of 10000 examples). Each example is a 28x28 grayscale image, associated with a label from 10 classes. Zalando intends Fashion-MNIST to serve as a direct drop-in replacement for the original MNIST dataset for benchmarking machine learning algorithms. It shares the same image size and structure of training and testing splits.\n",
    "\n",
    "The original MNIST dataset contains a lot of handwritten digits. Members of the AI/ML/Data Science community love this dataset and use it as a benchmark to validate their algorithms. In fact, MNIST is often the first dataset researchers try. \"If it doesn't work on MNIST, it won't work at all\", they said. \"Well, if it does work on MNIST, it may still fail on others.\"\n",
    "Zalando seeks to replace the original MNIST dataset\n",
    "\n",
    "**Content**\n",
    "\n",
    "\n",
    "Each image is 28 pixels in height and 28 pixels in width, for a total of 784 pixels in total. Each pixel has a single pixel-value associated with it, indicating the lightness or darkness of that pixel, with higher numbers meaning darker. This pixel-value is an integer between 0 and 255. The training and test data sets have 785 columns. The first column consists of the class labels (see above), and represents the article of clothing. The rest of the columns contain the pixel-values of the associated image.\n",
    "\n",
    "To locate a pixel on the image, suppose that we have decomposed $x$ as $x = 28i + j$, where $i$ and $j$ are integers between 0 and 27. The pixel is located on row $i$ and column $j$ of a 28x28 matrix. \n",
    "For example, pixel31 indicates the pixel that is in the fourth column from the left, and the second row from the top. \n",
    "\n",
    "Each row of the dataset is a separate image. Column 1 is the class label. \n",
    "Remaining columns are pixel numbers (784 total). Each value is the darkness of the pixel (1 to 255).\n",
    "\n",
    "**Labels**\n",
    "\n",
    "Each training and test example is assigned to one of the following labels:\n",
    "- 0 T-shirt/top\n",
    "- 1 Trouser\n",
    "- 2 Pullover\n",
    "- 3 Dress\n",
    "- 4 Coat\n",
    "- 5 Sandal\n",
    "- 6 Shirt\n",
    "- 7 Sneaker\n",
    "- 8 Bag\n",
    "- 9 Ankle boot \n",
    "\n",
    "**Acknowledgements**\n",
    "\n",
    "Original dataset was downloaded from TensorFlow datasets catalog.\n",
    "\n",
    "**License**\n",
    "\n",
    "The MIT License (MIT) Copyright © [2017] Zalando SE, https://tech.zalando.com\n",
    "\n",
    "Permission is hereby granted, free of charge, to any person obtaining a copy of this software and associated documentation files (the “Software”), to deal in the Software without restriction, including without limitation the rights to use, copy, modify, merge, publish, distribute, sublicense, and/or sell copies of the Software, and to permit persons to whom the Software is furnished to do so, subject to the following conditions:\n",
    "\n",
    "The above copyright notice and this permission notice shall be included in all copies or substantial portions of the Software.\n",
    "\n",
    "THE SOFTWARE IS PROVIDED “AS IS”, WITHOUT WARRANTY OF ANY KIND, EXPRESS OR IMPLIED, INCLUDING BUT NOT LIMITED TO THE WARRANTIES OF MERCHANTABILITY, FITNESS FOR A PARTICULAR PURPOSE AND NONINFRINGEMENT. IN NO EVENT SHALL THE AUTHORS OR COPYRIGHT HOLDERS BE LIABLE FOR ANY CLAIM, DAMAGES OR OTHER LIABILITY, WHETHER IN AN ACTION OF CONTRACT, TORT OR OTHERWISE, ARISING FROM, OUT OF OR IN CONNECTION WITH THE SOFTWARE OR THE USE OR OTHER DEALINGS IN THE SOFTWARE."
   ]
  },
  {
   "cell_type": "markdown",
   "metadata": {
    "id": "eQU99XnBNxya"
   },
   "source": [
    "## Libraries and Dataset Import"
   ]
  },
  {
   "cell_type": "markdown",
   "metadata": {
    "id": "1jQxCOMVRn20"
   },
   "source": [
    "This section contains the necessary libraries (such as tensorflow or pandas) you need to import to run the notebook."
   ]
  },
  {
   "cell_type": "code",
   "execution_count": null,
   "metadata": {
    "colab": {
     "base_uri": "https://localhost:8080/",
     "height": 490
    },
    "executionInfo": {
     "elapsed": 21993,
     "status": "ok",
     "timestamp": 1615714945829,
     "user": {
      "displayName": "Michela Sperti",
      "photoUrl": "https://lh3.googleusercontent.com/a-/AOh14Gh7mD9r-1Xj0Qve63ZPZx9UHRv0PkVhL5ayiHNv=s64",
      "userId": "13210266879998244642"
     },
     "user_tz": -60
    },
    "id": "StkNZUHGP3N7",
    "outputId": "23186c19-71b9-4341-d244-033358bb63a5"
   },
   "outputs": [
    {
     "name": "stdout",
     "output_type": "stream",
     "text": [
      "Collecting git+https://github.com/tensorflow/docs\n",
      "  Cloning https://github.com/tensorflow/docs to /tmp/pip-req-build-fjjd7bsb\n",
      "  Running command git clone -q https://github.com/tensorflow/docs /tmp/pip-req-build-fjjd7bsb\n",
      "Requirement already satisfied: astor in /usr/local/lib/python3.7/dist-packages (from tensorflow-docs===0.0.00c8dbd4ba403cf3fdd30917f86f817f5228d3812-) (0.8.1)\n",
      "Requirement already satisfied: absl-py in /usr/local/lib/python3.7/dist-packages (from tensorflow-docs===0.0.00c8dbd4ba403cf3fdd30917f86f817f5228d3812-) (0.10.0)\n",
      "Collecting protobuf>=3.14\n",
      "\u001b[?25l  Downloading https://files.pythonhosted.org/packages/7d/cc/abf8e30629db7a8b15efb79d4c87e235895d2c636ce7a4ac625cfc816f07/protobuf-3.15.6-cp37-cp37m-manylinux1_x86_64.whl (1.0MB)\n",
      "\u001b[K     |████████████████████████████████| 1.0MB 9.3MB/s \n",
      "\u001b[?25hRequirement already satisfied: pyyaml in /usr/local/lib/python3.7/dist-packages (from tensorflow-docs===0.0.00c8dbd4ba403cf3fdd30917f86f817f5228d3812-) (3.13)\n",
      "Requirement already satisfied: six in /usr/local/lib/python3.7/dist-packages (from absl-py->tensorflow-docs===0.0.00c8dbd4ba403cf3fdd30917f86f817f5228d3812-) (1.15.0)\n",
      "Building wheels for collected packages: tensorflow-docs\n",
      "  Building wheel for tensorflow-docs (setup.py) ... \u001b[?25l\u001b[?25hdone\n",
      "  Created wheel for tensorflow-docs: filename=tensorflow_docs-0.0.00c8dbd4ba403cf3fdd30917f86f817f5228d3812_-cp37-none-any.whl size=147330 sha256=9ed6d253c77ceb2a25a8edbc456968e47b4cb86a76672a39754815396a55e317\n",
      "  Stored in directory: /tmp/pip-ephem-wheel-cache-g9kwqb78/wheels/eb/1b/35/fce87697be00d2fc63e0b4b395b0d9c7e391a10e98d9a0d97f\n",
      "Successfully built tensorflow-docs\n",
      "Installing collected packages: protobuf, tensorflow-docs\n",
      "  Found existing installation: protobuf 3.12.4\n",
      "    Uninstalling protobuf-3.12.4:\n",
      "      Successfully uninstalled protobuf-3.12.4\n",
      "Successfully installed protobuf-3.15.6 tensorflow-docs-0.0.00c8dbd4ba403cf3fdd30917f86f817f5228d3812-\n"
     ]
    },
    {
     "data": {
      "application/vnd.colab-display-data+json": {
       "pip_warning": {
        "packages": [
         "google"
        ]
       }
      }
     },
     "metadata": {
      "tags": []
     },
     "output_type": "display_data"
    }
   ],
   "source": [
    "# This command install code from the tensorflow docs repository.\n",
    "# We need to use tensorflow_docs.modeling function when training our model.\n",
    "# This function will generate a report on the network's perfomances\n",
    "# step by step during the training phase (see Training Phase section of the\n",
    "# notebook). \n",
    "\n",
    "# You can safely ignore this cell if you don't understand what it does.\n",
    "\n",
    "!pip install git+https://github.com/tensorflow/docs"
   ]
  },
  {
   "cell_type": "code",
   "execution_count": null,
   "metadata": {
    "id": "-SJmNiOLNbp2"
   },
   "outputs": [],
   "source": [
    "# general libraries\n",
    "import pandas as pd\n",
    "import numpy as np\n",
    "import matplotlib\n",
    "import matplotlib.pyplot as plt\n",
    "import matplotlib.font_manager as fm\n",
    "from random import *\n",
    "import time\n",
    "\n",
    "# tensorflow libraries\n",
    "from tensorflow.keras.datasets import fashion_mnist\n",
    "import tensorflow as tf\n",
    "from tensorflow import keras\n",
    "from tensorflow.keras import layers\n",
    "import tensorflow_docs as tfdocs\n",
    "import tensorflow_docs.modeling"
   ]
  },
  {
   "cell_type": "code",
   "execution_count": null,
   "metadata": {
    "id": "tGXll6t_TLQ-"
   },
   "outputs": [],
   "source": [
    "# Referring to the following cell, if you want to re-clone a repository\n",
    "# inside the google colab instance, you need to delete it first. \n",
    "# You can delete the repositories contained in this instance executing \n",
    "# the following two lines of code (deleting the # comment symbol).\n",
    "\n",
    "# !rm -rf ADL-Book-2nd-Ed"
   ]
  },
  {
   "cell_type": "code",
   "execution_count": null,
   "metadata": {
    "colab": {
     "base_uri": "https://localhost:8080/"
    },
    "executionInfo": {
     "elapsed": 36559,
     "status": "ok",
     "timestamp": 1615714960981,
     "user": {
      "displayName": "Michela Sperti",
      "photoUrl": "https://lh3.googleusercontent.com/a-/AOh14Gh7mD9r-1Xj0Qve63ZPZx9UHRv0PkVhL5ayiHNv=s64",
      "userId": "13210266879998244642"
     },
     "user_tz": -60
    },
    "id": "Kz8-f7S6TLxF",
    "outputId": "05173a11-d054-4162-8c8e-0726957cb05c"
   },
   "outputs": [
    {
     "name": "stdout",
     "output_type": "stream",
     "text": [
      "Cloning into 'ADL-Book-2nd-Ed'...\n",
      "remote: Enumerating objects: 86, done.\u001b[K\n",
      "remote: Counting objects: 100% (86/86), done.\u001b[K\n",
      "remote: Compressing objects: 100% (83/83), done.\u001b[K\n",
      "remote: Total 1013 (delta 16), reused 50 (delta 3), pack-reused 927\u001b[K\n",
      "Receiving objects: 100% (1013/1013), 151.66 MiB | 13.79 MiB/s, done.\n",
      "Resolving deltas: 100% (444/444), done.\n"
     ]
    }
   ],
   "source": [
    "# This command actually clone the repository of the book in the google colab\n",
    "# instance. In this way this notebook will have access to the modules\n",
    "# we have written for this book.\n",
    "\n",
    "# Please note that in case you have already run this cell, and you run it again\n",
    "# you may get the error message:\n",
    "#\n",
    "# fatal: destination path 'ADL-Book-2nd-Ed' already exists and is not an empty directory.\n",
    "# \n",
    "# In this case you can safely ignore the error message.\n",
    "\n",
    "!git clone https://github.com/toelt-llc/ADL-Book-2nd-Ed.git"
   ]
  },
  {
   "cell_type": "code",
   "execution_count": null,
   "metadata": {
    "id": "odiWJF6PTQxQ"
   },
   "outputs": [],
   "source": [
    "# This cell imports some custom written functions that we have created to \n",
    "# make the plotting easier. You don't need to undertsand the details and \n",
    "# you can simply ignore this cell.\n",
    "# Simply run it with CMD+Enter (on Mac) or CTRL+Enter (Windows or Ubuntu) to\n",
    "# import the necessary functions.\n",
    "\n",
    "import sys\n",
    "sys.path.append('ADL-Book-2nd-Ed/modules/')\n",
    "\n",
    "from style_setting import set_style"
   ]
  },
  {
   "cell_type": "markdown",
   "metadata": {
    "id": "OTn4AZ3iR0N2"
   },
   "source": [
    "The following cells are needed to **download** the dataset."
   ]
  },
  {
   "cell_type": "code",
   "execution_count": null,
   "metadata": {
    "colab": {
     "base_uri": "https://localhost:8080/"
    },
    "executionInfo": {
     "elapsed": 37353,
     "status": "ok",
     "timestamp": 1615714962311,
     "user": {
      "displayName": "Michela Sperti",
      "photoUrl": "https://lh3.googleusercontent.com/a-/AOh14Gh7mD9r-1Xj0Qve63ZPZx9UHRv0PkVhL5ayiHNv=s64",
      "userId": "13210266879998244642"
     },
     "user_tz": -60
    },
    "id": "5KVrdP01Nf8p",
    "outputId": "56d4083d-796f-4603-cfd1-f934fee6f3bf"
   },
   "outputs": [
    {
     "name": "stdout",
     "output_type": "stream",
     "text": [
      "Downloading data from https://storage.googleapis.com/tensorflow/tf-keras-datasets/train-labels-idx1-ubyte.gz\n",
      "32768/29515 [=================================] - 0s 0us/step\n",
      "Downloading data from https://storage.googleapis.com/tensorflow/tf-keras-datasets/train-images-idx3-ubyte.gz\n",
      "26427392/26421880 [==============================] - 0s 0us/step\n",
      "Downloading data from https://storage.googleapis.com/tensorflow/tf-keras-datasets/t10k-labels-idx1-ubyte.gz\n",
      "8192/5148 [===============================================] - 0s 0us/step\n",
      "Downloading data from https://storage.googleapis.com/tensorflow/tf-keras-datasets/t10k-images-idx3-ubyte.gz\n",
      "4423680/4422102 [==============================] - 0s 0us/step\n"
     ]
    }
   ],
   "source": [
    "((trainX, trainY), (testX, testY)) = fashion_mnist.load_data()"
   ]
  },
  {
   "cell_type": "markdown",
   "metadata": {
    "id": "a4qOOLjBTzqf"
   },
   "source": [
    "## Helper Functions"
   ]
  },
  {
   "cell_type": "code",
   "execution_count": null,
   "metadata": {
    "id": "mVyQco1ySu0P"
   },
   "outputs": [],
   "source": [
    "def get_label_name(idx):\n",
    "  \"\"\"Returns the corresponding label's name, given its numerical value.\"\"\"\n",
    "  \n",
    "  if (idx == 0):\n",
    "      return '(0) T-shirt/top'\n",
    "  elif (idx == 1):\n",
    "      return '(1) Trouser'\n",
    "  elif (idx == 2):\n",
    "      return '(2) Pullover'\n",
    "  elif (idx == 3):\n",
    "      return '(3) Dress'\n",
    "  elif (idx == 4):\n",
    "      return '(4) Coat'\n",
    "  elif (idx == 5):\n",
    "      return '(5) Sandal'\n",
    "  elif (idx == 6):\n",
    "      return '(6) Shirt'\n",
    "  elif (idx == 7):\n",
    "      return '(7) Sneaker'\n",
    "  elif (idx == 8):\n",
    "      return '(8) Bag'\n",
    "  elif (idx == 9):\n",
    "      return '(9) Ankle boot'"
   ]
  },
  {
   "cell_type": "code",
   "execution_count": null,
   "metadata": {
    "id": "fjS6ut5pY7u0"
   },
   "outputs": [],
   "source": [
    "def get_random_element_with_label (data, lbls, lbl):\n",
    "  \"\"\"Returns one numpy array (one column) with an example of a choosen label.\"\"\"\n",
    "  \n",
    "  tmp = lbls == lbl\n",
    "  subset = data[tmp.flatten(), :]\n",
    "  return subset[randint(1, subset.shape[1]), :]"
   ]
  },
  {
   "cell_type": "markdown",
   "metadata": {
    "id": "THXfa-zzR6nR"
   },
   "source": [
    "Now you have all the necessary elements to successfully implement this tutorial. **Let's have a look at our data**:"
   ]
  },
  {
   "cell_type": "code",
   "execution_count": null,
   "metadata": {
    "colab": {
     "base_uri": "https://localhost:8080/"
    },
    "executionInfo": {
     "elapsed": 36170,
     "status": "ok",
     "timestamp": 1615714962316,
     "user": {
      "displayName": "Michela Sperti",
      "photoUrl": "https://lh3.googleusercontent.com/a-/AOh14Gh7mD9r-1Xj0Qve63ZPZx9UHRv0PkVhL5ayiHNv=s64",
      "userId": "13210266879998244642"
     },
     "user_tz": -60
    },
    "id": "X3Y9MT5-SKUo",
    "outputId": "6eac4eda-6f5a-4407-e155-f49935cfa880"
   },
   "outputs": [
    {
     "name": "stdout",
     "output_type": "stream",
     "text": [
      "Dimensions of the training dataset:  (60000, 28, 28)\n",
      "Dimensions of the test dataset:  (10000, 28, 28)\n",
      "Dimensions of the training labels:  (60000,)\n",
      "Dimensions of the test labels:  (10000,)\n"
     ]
    }
   ],
   "source": [
    "print('Dimensions of the training dataset: ', trainX.shape)\n",
    "print('Dimensions of the test dataset: ', testX.shape)\n",
    "print('Dimensions of the training labels: ', trainY.shape)\n",
    "print('Dimensions of the test labels: ', testY.shape)"
   ]
  },
  {
   "cell_type": "markdown",
   "metadata": {
    "id": "LBGWrFNSUiHK"
   },
   "source": [
    "## Dataset Preparation"
   ]
  },
  {
   "cell_type": "markdown",
   "metadata": {
    "id": "jAL59BT-WxdZ"
   },
   "source": [
    "We now one-hot encode the labels and change the images dimensions, to get easy to use data for later. To know more about one-hot encoding process see the [Further Readings](#fr) section or refer to the hands-on chapter 15 of the book."
   ]
  },
  {
   "cell_type": "code",
   "execution_count": null,
   "metadata": {
    "id": "SKqTeh99Ukmr"
   },
   "outputs": [],
   "source": [
    "labels_train = np.zeros((60000, 10))\n",
    "labels_train[np.arange(60000), trainY] = 1\n",
    "\n",
    "data_train = trainX.reshape(60000, 784)"
   ]
  },
  {
   "cell_type": "code",
   "execution_count": null,
   "metadata": {
    "id": "pycYjKNaV-yF"
   },
   "outputs": [],
   "source": [
    "labels_test = np.zeros((10000, 10))\n",
    "labels_test[np.arange(10000), testY] = 1\n",
    "\n",
    "data_test = testX.reshape(10000, 784)"
   ]
  },
  {
   "cell_type": "code",
   "execution_count": null,
   "metadata": {
    "colab": {
     "base_uri": "https://localhost:8080/"
    },
    "executionInfo": {
     "elapsed": 34853,
     "status": "ok",
     "timestamp": 1615714962317,
     "user": {
      "displayName": "Michela Sperti",
      "photoUrl": "https://lh3.googleusercontent.com/a-/AOh14Gh7mD9r-1Xj0Qve63ZPZx9UHRv0PkVhL5ayiHNv=s64",
      "userId": "13210266879998244642"
     },
     "user_tz": -60
    },
    "id": "E0jbNUEtV-AL",
    "outputId": "fc34e908-090e-4c93-eda5-9429ebc1d1da"
   },
   "outputs": [
    {
     "name": "stdout",
     "output_type": "stream",
     "text": [
      "Dimensions of the training dataset:  (60000, 784)\n",
      "Dimensions of the test dataset:  (10000, 784)\n",
      "Dimensions of the training labels:  (60000, 10)\n",
      "Dimensions of the test labels:  (10000, 10)\n"
     ]
    }
   ],
   "source": [
    "print('Dimensions of the training dataset: ', data_train.shape)\n",
    "print('Dimensions of the test dataset: ', data_test.shape)\n",
    "print('Dimensions of the training labels: ', labels_train.shape)\n",
    "print('Dimensions of the test labels: ', labels_test.shape)"
   ]
  },
  {
   "cell_type": "markdown",
   "metadata": {
    "id": "twjV9fLeWuxD"
   },
   "source": [
    "## Data Normalization"
   ]
  },
  {
   "cell_type": "markdown",
   "metadata": {
    "id": "qczwnpO5W-lc"
   },
   "source": [
    "Let's normalize the training data dividing by 255.0 to get the values between 0 and 1."
   ]
  },
  {
   "cell_type": "code",
   "execution_count": null,
   "metadata": {
    "id": "irw_Zy5SXCwG"
   },
   "outputs": [],
   "source": [
    "data_train_norm = np.array(data_train/255.0)\n",
    "data_test_norm = np.array(data_test/255.0)"
   ]
  },
  {
   "cell_type": "markdown",
   "metadata": {
    "id": "ssf4ztsVXed4"
   },
   "source": [
    "Let's plot an image as example."
   ]
  },
  {
   "cell_type": "code",
   "execution_count": null,
   "metadata": {
    "colab": {
     "base_uri": "https://localhost:8080/",
     "height": 281
    },
    "executionInfo": {
     "elapsed": 34114,
     "status": "ok",
     "timestamp": 1615714962667,
     "user": {
      "displayName": "Michela Sperti",
      "photoUrl": "https://lh3.googleusercontent.com/a-/AOh14Gh7mD9r-1Xj0Qve63ZPZx9UHRv0PkVhL5ayiHNv=s64",
      "userId": "13210266879998244642"
     },
     "user_tz": -60
    },
    "id": "fCUOIf2nXdFe",
    "outputId": "beb1d89e-4417-490a-b22f-7c6f0c21e721"
   },
   "outputs": [
    {
     "data": {
      "image/png": "[encoded data removed]",
      "text/plain": [
       "<Figure size 432x288 with 1 Axes>"
      ]
     },
     "metadata": {
      "filenames": {
       "image/png": "/Users/umberto/Research/Active Books/Applied Deep Learning - 2nd edition/ADL-Book-2nd-Ed/docs/_build/jupyter_execute/Chapter13/Multiclass_classification_with_fully_connected_networks_30_0.png"
      },
      "needs_background": "light",
      "tags": []
     },
     "output_type": "display_data"
    }
   ],
   "source": [
    "idx = 5\n",
    "plt.imshow(data_train_norm[idx, :].reshape(28, 28), cmap = matplotlib.cm.binary, interpolation = 'nearest')\n",
    "plt.axis(\"on\")\n",
    "plt.title(get_label_name(trainY[idx]))\n",
    "plt.show()"
   ]
  },
  {
   "cell_type": "markdown",
   "metadata": {
    "id": "mH1MiamGZJ-i"
   },
   "source": [
    "Now let's plot one example of each type (label)."
   ]
  },
  {
   "cell_type": "code",
   "execution_count": null,
   "metadata": {
    "id": "_IuI9n8RZQlj"
   },
   "outputs": [],
   "source": [
    "# The following code create a numpy array where in column 0 you will find \n",
    "# an example of label 0, in column 1 of label 1 and so on.\n",
    "labels_overview = np.empty([784, 10])\n",
    "for i in range (0, 10):\n",
    "    col = get_random_element_with_label(data_train_norm, trainY, i)\n",
    "    labels_overview[:,i] = col"
   ]
  },
  {
   "cell_type": "code",
   "execution_count": null,
   "metadata": {
    "colab": {
     "base_uri": "https://localhost:8080/",
     "height": 862
    },
    "executionInfo": {
     "elapsed": 33956,
     "status": "ok",
     "timestamp": 1615714963491,
     "user": {
      "displayName": "Michela Sperti",
      "photoUrl": "https://lh3.googleusercontent.com/a-/AOh14Gh7mD9r-1Xj0Qve63ZPZx9UHRv0PkVhL5ayiHNv=s64",
      "userId": "13210266879998244642"
     },
     "user_tz": -60
    },
    "id": "cAuGXhJsZaxA",
    "outputId": "a45ac5d3-fdfe-46da-c666-b452255ce262"
   },
   "outputs": [
    {
     "data": {
      "image/png": "[encoded data removed]",
      "text/plain": [
       "<Figure size 1080x1080 with 10 Axes>"
      ]
     },
     "metadata": {
      "filenames": {
       "image/png": "/Users/umberto/Research/Active Books/Applied Deep Learning - 2nd edition/ADL-Book-2nd-Ed/docs/_build/jupyter_execute/Chapter13/Multiclass_classification_with_fully_connected_networks_33_0.png"
      },
      "needs_background": "light",
      "tags": []
     },
     "output_type": "display_data"
    }
   ],
   "source": [
    "f = plt.figure(figsize = (15, 15))\n",
    "count = 1\n",
    "for i in range(0, 10):\n",
    "    plt.subplot(5, 2, count)\n",
    "    count = count + 1\n",
    "    plt.subplots_adjust(hspace = 0.5)\n",
    "    plt.title(get_label_name(i))\n",
    "    some_digit_image = labels_overview[:, i].reshape(28, 28)\n",
    "    plt.imshow(some_digit_image, cmap = matplotlib.cm.binary, interpolation = \"nearest\")\n",
    "    plt.axis(\"off\")\n",
    "    pass"
   ]
  },
  {
   "cell_type": "markdown",
   "metadata": {
    "id": "lMbJ-aluHlUa"
   },
   "source": [
    "## Feed-forward Network Model with One Hidden Layer "
   ]
  },
  {
   "cell_type": "markdown",
   "metadata": {
    "id": "a_nzm3cBJLMY"
   },
   "source": [
    "We will first use a feed-forward network model with one single hidden layer. Our model will be made of an input layer of 784 neurons, an hidden layer of 15 neurons and an output layer of 10 neurons with a softmax function as activation function. Softmax function here is needed since we one-hot encoded the labels. To have more details about this, see the [Further Readings](#fr) section of the notebook or refer to the hands-on chapter of the book about feed-forward neural networks."
   ]
  },
  {
   "cell_type": "code",
   "execution_count": null,
   "metadata": {
    "id": "m85Rlq7BIQmd"
   },
   "outputs": [],
   "source": [
    "def build_model(opt):\n",
    "  # create model\n",
    "\tmodel = keras.Sequential()\n",
    "\tmodel.add(layers.Dense(15, input_dim = 784, activation = 'relu')) # add first hidden layer and set input dimensions\n",
    "\tmodel.add(layers.Dense(10, activation = 'softmax')) # add output layer\n",
    "\t# compile model\n",
    "\tmodel.compile(loss = 'categorical_crossentropy', optimizer = opt, metrics = ['categorical_accuracy'])\n",
    "\treturn model"
   ]
  },
  {
   "cell_type": "code",
   "execution_count": null,
   "metadata": {
    "id": "3s8S3sfhOgRB"
   },
   "outputs": [],
   "source": [
    "model = build_model(tf.keras.optimizers.SGD(momentum = 0.0, learning_rate = 0.01))"
   ]
  },
  {
   "cell_type": "code",
   "execution_count": null,
   "metadata": {
    "colab": {
     "base_uri": "https://localhost:8080/"
    },
    "executionInfo": {
     "elapsed": 16460,
     "status": "ok",
     "timestamp": 1615390882276,
     "user": {
      "displayName": "Michela Sperti",
      "photoUrl": "https://lh3.googleusercontent.com/a-/AOh14Gh7mD9r-1Xj0Qve63ZPZx9UHRv0PkVhL5ayiHNv=s64",
      "userId": "13210266879998244642"
     },
     "user_tz": -60
    },
    "id": "jvCUc3i9OsIS",
    "outputId": "f65319cd-ec98-4f2d-8a4d-732789297eae"
   },
   "outputs": [
    {
     "name": "stdout",
     "output_type": "stream",
     "text": [
      "Model: \"sequential\"\n",
      "_________________________________________________________________\n",
      "Layer (type)                 Output Shape              Param #   \n",
      "=================================================================\n",
      "dense (Dense)                (None, 15)                11775     \n",
      "_________________________________________________________________\n",
      "dense_1 (Dense)              (None, 10)                160       \n",
      "=================================================================\n",
      "Total params: 11,935\n",
      "Trainable params: 11,935\n",
      "Non-trainable params: 0\n",
      "_________________________________________________________________\n"
     ]
    }
   ],
   "source": [
    "model.summary()"
   ]
  },
  {
   "cell_type": "markdown",
   "metadata": {
    "id": "ivu937Fv8IPk"
   },
   "source": [
    "We now train the model."
   ]
  },
  {
   "cell_type": "code",
   "execution_count": null,
   "metadata": {
    "colab": {
     "base_uri": "https://localhost:8080/"
    },
    "executionInfo": {
     "elapsed": 225684,
     "status": "ok",
     "timestamp": 1615391091512,
     "user": {
      "displayName": "Michela Sperti",
      "photoUrl": "https://lh3.googleusercontent.com/a-/AOh14Gh7mD9r-1Xj0Qve63ZPZx9UHRv0PkVhL5ayiHNv=s64",
      "userId": "13210266879998244642"
     },
     "user_tz": -60
    },
    "id": "6ynPoulfOv2M",
    "outputId": "8c5da95c-15aa-4f98-b097-4d6d4c9ea73a"
   },
   "outputs": [
    {
     "name": "stdout",
     "output_type": "stream",
     "text": [
      "\n",
      "Epoch: 0, categorical_accuracy:0.1196,  loss:2.2998,  \n",
      "....................................................................................................\n",
      "Epoch: 100, categorical_accuracy:0.3988,  loss:1.7928,  \n",
      "....................................................................................................\n",
      "Epoch: 200, categorical_accuracy:0.5263,  loss:1.3827,  \n",
      "....................................................................................................\n",
      "Epoch: 300, categorical_accuracy:0.6404,  loss:1.1565,  \n",
      "....................................................................................................\n",
      "Epoch: 400, categorical_accuracy:0.6767,  loss:1.0166,  \n",
      "....................................................................................................\n",
      "Epoch: 500, categorical_accuracy:0.6975,  loss:0.9267,  \n",
      "....................................................................................................\n",
      "Epoch: 600, categorical_accuracy:0.7140,  loss:0.8634,  \n",
      "....................................................................................................\n",
      "Epoch: 700, categorical_accuracy:0.7273,  loss:0.8156,  \n",
      "....................................................................................................\n",
      "Epoch: 800, categorical_accuracy:0.7394,  loss:0.7774,  \n",
      "....................................................................................................\n",
      "Epoch: 900, categorical_accuracy:0.7497,  loss:0.7460,  \n",
      "...................................................................................................."
     ]
    }
   ],
   "source": [
    "EPOCHS = 1000\n",
    "\n",
    "history = model.fit(\n",
    "  data_train_norm, labels_train,\n",
    "  epochs = EPOCHS, verbose = 0,\n",
    "  batch_size = data_train_norm.shape[0],\n",
    "  callbacks = [tfdocs.modeling.EpochDots()])"
   ]
  },
  {
   "cell_type": "code",
   "execution_count": null,
   "metadata": {
    "colab": {
     "base_uri": "https://localhost:8080/",
     "height": 198
    },
    "executionInfo": {
     "elapsed": 225673,
     "status": "ok",
     "timestamp": 1615391091513,
     "user": {
      "displayName": "Michela Sperti",
      "photoUrl": "https://lh3.googleusercontent.com/a-/AOh14Gh7mD9r-1Xj0Qve63ZPZx9UHRv0PkVhL5ayiHNv=s64",
      "userId": "13210266879998244642"
     },
     "user_tz": -60
    },
    "id": "Es04QX9JOzSk",
    "outputId": "a653b99b-ae5e-4195-840b-c5ff6f847a21"
   },
   "outputs": [
    {
     "data": {
      "text/html": [
       "<div>\n",
       "<style scoped>\n",
       "    .dataframe tbody tr th:only-of-type {\n",
       "        vertical-align: middle;\n",
       "    }\n",
       "\n",
       "    .dataframe tbody tr th {\n",
       "        vertical-align: top;\n",
       "    }\n",
       "\n",
       "    .dataframe thead th {\n",
       "        text-align: right;\n",
       "    }\n",
       "</style>\n",
       "<table border=\"1\" class=\"dataframe\">\n",
       "  <thead>\n",
       "    <tr style=\"text-align: right;\">\n",
       "      <th></th>\n",
       "      <th>loss</th>\n",
       "      <th>categorical_accuracy</th>\n",
       "      <th>epoch</th>\n",
       "    </tr>\n",
       "  </thead>\n",
       "  <tbody>\n",
       "    <tr>\n",
       "      <th>995</th>\n",
       "      <td>0.720737</td>\n",
       "      <td>0.758050</td>\n",
       "      <td>995</td>\n",
       "    </tr>\n",
       "    <tr>\n",
       "      <th>996</th>\n",
       "      <td>0.720491</td>\n",
       "      <td>0.758167</td>\n",
       "      <td>996</td>\n",
       "    </tr>\n",
       "    <tr>\n",
       "      <th>997</th>\n",
       "      <td>0.720246</td>\n",
       "      <td>0.758367</td>\n",
       "      <td>997</td>\n",
       "    </tr>\n",
       "    <tr>\n",
       "      <th>998</th>\n",
       "      <td>0.720001</td>\n",
       "      <td>0.758417</td>\n",
       "      <td>998</td>\n",
       "    </tr>\n",
       "    <tr>\n",
       "      <th>999</th>\n",
       "      <td>0.719756</td>\n",
       "      <td>0.758500</td>\n",
       "      <td>999</td>\n",
       "    </tr>\n",
       "  </tbody>\n",
       "</table>\n",
       "</div>"
      ],
      "text/plain": [
       "         loss  categorical_accuracy  epoch\n",
       "995  0.720737              0.758050    995\n",
       "996  0.720491              0.758167    996\n",
       "997  0.720246              0.758367    997\n",
       "998  0.720001              0.758417    998\n",
       "999  0.719756              0.758500    999"
      ]
     },
     "execution_count": 21,
     "metadata": {
      "tags": []
     },
     "output_type": "execute_result"
    }
   ],
   "source": [
    "hist = pd.DataFrame(history.history)\n",
    "hist['epoch'] = history.epoch\n",
    "hist.tail()"
   ]
  },
  {
   "cell_type": "markdown",
   "metadata": {
    "id": "Y0rQEtdU8M0G"
   },
   "source": [
    "And we used the trained model on the test dataset."
   ]
  },
  {
   "cell_type": "code",
   "execution_count": null,
   "metadata": {
    "colab": {
     "base_uri": "https://localhost:8080/"
    },
    "executionInfo": {
     "elapsed": 226131,
     "status": "ok",
     "timestamp": 1615391091981,
     "user": {
      "displayName": "Michela Sperti",
      "photoUrl": "https://lh3.googleusercontent.com/a-/AOh14Gh7mD9r-1Xj0Qve63ZPZx9UHRv0PkVhL5ayiHNv=s64",
      "userId": "13210266879998244642"
     },
     "user_tz": -60
    },
    "id": "eZuOsXsn8RPG",
    "outputId": "c3a10397-f62d-4c88-db34-17f82e5cab37"
   },
   "outputs": [
    {
     "name": "stdout",
     "output_type": "stream",
     "text": [
      "The accuracy on the test set is equal to:  74 %.\n"
     ]
    }
   ],
   "source": [
    "test_loss, test_accuracy = model.evaluate(data_test_norm, labels_test, verbose = 0)\n",
    "print('The accuracy on the test set is equal to: ', int(test_accuracy*100), '%.')"
   ]
  },
  {
   "cell_type": "markdown",
   "metadata": {
    "id": "zMTIHKqTgDBs"
   },
   "source": [
    "Notice that, when training the model, we have set **`batch_size = data_train_norm.shape[0]`** inside Keras `fit` method. The reason for this choice is that we implemented the so-called *batch gradient descent* (i.e. the standard and most simple version of gradient descent). Since Keras set by default the batch size to 32 observations (see Keras `fit` method official documentation for more details, in the [Further Readings](#fr) section of the notebook), while the batch gradient descent updates weights and biases after all training observations have been seen by the network, we needed to change this parameter to obtain the basic version of gradient descent.\n",
    "\n",
    "In the same way, we needed to set the **`momentum = 0.0`** inside the method `tf.keras.optimizers.SGD`. Therefore, since Keras does not include a function to perform the standard gradient descent, we used the Stochastic Gradient Descent function, setting the momentum to zero and the batch size to the entire number of observations."
   ]
  },
  {
   "cell_type": "markdown",
   "metadata": {
    "id": "CHJ8h_GUqAye"
   },
   "source": [
    "We implemented this first feed-forward model to get an idea of what the final performances can be and which are the basic components of feed-forward neural networks in Keras. Now, let's see in more detail which kind of optimizers we can use to obtain the best performances and how they differ from each other."
   ]
  },
  {
   "cell_type": "markdown",
   "metadata": {
    "id": "DwfBQt4MUlWj"
   },
   "source": [
    "## Gradient Descent Variations"
   ]
  },
  {
   "cell_type": "markdown",
   "metadata": {
    "id": "Ob8RneYyKG36"
   },
   "source": [
    "We will compare three different variations of the gradient descent optimizer to see how much they are efficient."
   ]
  },
  {
   "cell_type": "markdown",
   "metadata": {
    "id": "qXOJwDfyU9w4"
   },
   "source": [
    "### Batch Gradient Descent"
   ]
  },
  {
   "cell_type": "markdown",
   "metadata": {
    "id": "Cvb-54xMKf3g"
   },
   "source": [
    "As we just saw, the batch gradient descent can be defined by the Keras function `tf.keras.optimizers.SGD`, setting the `momentum = 0.0` and the `batch_size = data_train_norm.shape[0]`."
   ]
  },
  {
   "cell_type": "code",
   "execution_count": null,
   "metadata": {
    "id": "xeslqmiIoSFH"
   },
   "outputs": [],
   "source": [
    "start = time.time()"
   ]
  },
  {
   "cell_type": "code",
   "execution_count": null,
   "metadata": {
    "id": "9Q-YRqZ9VAJF"
   },
   "outputs": [],
   "source": [
    "model_bgd = build_model(tf.keras.optimizers.SGD(momentum = 0.0, learning_rate = 0.01))"
   ]
  },
  {
   "cell_type": "code",
   "execution_count": null,
   "metadata": {
    "colab": {
     "base_uri": "https://localhost:8080/"
    },
    "executionInfo": {
     "elapsed": 247245,
     "status": "ok",
     "timestamp": 1615391113114,
     "user": {
      "displayName": "Michela Sperti",
      "photoUrl": "https://lh3.googleusercontent.com/a-/AOh14Gh7mD9r-1Xj0Qve63ZPZx9UHRv0PkVhL5ayiHNv=s64",
      "userId": "13210266879998244642"
     },
     "user_tz": -60
    },
    "id": "7OIVtA00UoUa",
    "outputId": "bd55c07b-f6c2-470e-ffd7-f9d981824d6c"
   },
   "outputs": [
    {
     "name": "stdout",
     "output_type": "stream",
     "text": [
      "\n",
      "Epoch: 0, categorical_accuracy:0.0552,  loss:2.3861,  \n",
      "...................................................................................................."
     ]
    }
   ],
   "source": [
    "EPOCHS = 100\n",
    "\n",
    "history_bgd = model_bgd.fit(\n",
    "  data_train_norm, labels_train,\n",
    "  epochs = EPOCHS, verbose = 0,\n",
    "  batch_size = data_train_norm.shape[0],\n",
    "  callbacks = [tfdocs.modeling.EpochDots()])"
   ]
  },
  {
   "cell_type": "code",
   "execution_count": null,
   "metadata": {
    "colab": {
     "base_uri": "https://localhost:8080/"
    },
    "executionInfo": {
     "elapsed": 247234,
     "status": "ok",
     "timestamp": 1615391113115,
     "user": {
      "displayName": "Michela Sperti",
      "photoUrl": "https://lh3.googleusercontent.com/a-/AOh14Gh7mD9r-1Xj0Qve63ZPZx9UHRv0PkVhL5ayiHNv=s64",
      "userId": "13210266879998244642"
     },
     "user_tz": -60
    },
    "id": "Q1wPZJIXoU4X",
    "outputId": "6708a5c5-48ce-4f4e-94de-ff204549e1f4"
   },
   "outputs": [
    {
     "name": "stdout",
     "output_type": "stream",
     "text": [
      "This took 0.35 minutes.\n"
     ]
    }
   ],
   "source": [
    "print('This took {:.2f} minutes.'.format((time.time() - start)/60))"
   ]
  },
  {
   "cell_type": "code",
   "execution_count": null,
   "metadata": {
    "colab": {
     "base_uri": "https://localhost:8080/",
     "height": 198
    },
    "executionInfo": {
     "elapsed": 247423,
     "status": "ok",
     "timestamp": 1615391113317,
     "user": {
      "displayName": "Michela Sperti",
      "photoUrl": "https://lh3.googleusercontent.com/a-/AOh14Gh7mD9r-1Xj0Qve63ZPZx9UHRv0PkVhL5ayiHNv=s64",
      "userId": "13210266879998244642"
     },
     "user_tz": -60
    },
    "id": "UcO32lbKWeo7",
    "outputId": "3156b396-6663-42ba-87bd-8bdcde5f4dfb"
   },
   "outputs": [
    {
     "data": {
      "text/html": [
       "<div>\n",
       "<style scoped>\n",
       "    .dataframe tbody tr th:only-of-type {\n",
       "        vertical-align: middle;\n",
       "    }\n",
       "\n",
       "    .dataframe tbody tr th {\n",
       "        vertical-align: top;\n",
       "    }\n",
       "\n",
       "    .dataframe thead th {\n",
       "        text-align: right;\n",
       "    }\n",
       "</style>\n",
       "<table border=\"1\" class=\"dataframe\">\n",
       "  <thead>\n",
       "    <tr style=\"text-align: right;\">\n",
       "      <th></th>\n",
       "      <th>loss</th>\n",
       "      <th>categorical_accuracy</th>\n",
       "      <th>epoch</th>\n",
       "    </tr>\n",
       "  </thead>\n",
       "  <tbody>\n",
       "    <tr>\n",
       "      <th>95</th>\n",
       "      <td>1.876968</td>\n",
       "      <td>0.421200</td>\n",
       "      <td>95</td>\n",
       "    </tr>\n",
       "    <tr>\n",
       "      <th>96</th>\n",
       "      <td>1.873217</td>\n",
       "      <td>0.423750</td>\n",
       "      <td>96</td>\n",
       "    </tr>\n",
       "    <tr>\n",
       "      <th>97</th>\n",
       "      <td>1.869471</td>\n",
       "      <td>0.426417</td>\n",
       "      <td>97</td>\n",
       "    </tr>\n",
       "    <tr>\n",
       "      <th>98</th>\n",
       "      <td>1.865731</td>\n",
       "      <td>0.429133</td>\n",
       "      <td>98</td>\n",
       "    </tr>\n",
       "    <tr>\n",
       "      <th>99</th>\n",
       "      <td>1.861996</td>\n",
       "      <td>0.431717</td>\n",
       "      <td>99</td>\n",
       "    </tr>\n",
       "  </tbody>\n",
       "</table>\n",
       "</div>"
      ],
      "text/plain": [
       "        loss  categorical_accuracy  epoch\n",
       "95  1.876968              0.421200     95\n",
       "96  1.873217              0.423750     96\n",
       "97  1.869471              0.426417     97\n",
       "98  1.865731              0.429133     98\n",
       "99  1.861996              0.431717     99"
      ]
     },
     "execution_count": 27,
     "metadata": {
      "tags": []
     },
     "output_type": "execute_result"
    }
   ],
   "source": [
    "hist_bgd = pd.DataFrame(history_bgd.history)\n",
    "hist_bgd['epoch'] = history_bgd.epoch\n",
    "hist_bgd.tail()"
   ]
  },
  {
   "cell_type": "markdown",
   "metadata": {
    "id": "8cvDBi2EdIAw"
   },
   "source": [
    "### Stochastic Gradient Descent"
   ]
  },
  {
   "cell_type": "markdown",
   "metadata": {
    "id": "lbiQfFQuK4P7"
   },
   "source": [
    "The stochastic gradient descent, as the name suggests, selects a single observation from the dataset with a random probability distribution (which cannot be exactly predicted) and updates weights and biases based on that single observation. Then the process is repeated several times. \n",
    "\n",
    "To implement stochastic gradient descent, we need to change the **momentum** parameter, setting it to a value which is **not zero** and we need to set the **mini-batch** size to **1** (in fact, stochastic gradient descent chooses one training sample at a time to update the weights and biases)."
   ]
  },
  {
   "cell_type": "code",
   "execution_count": null,
   "metadata": {
    "id": "tKHxRjgkolrv"
   },
   "outputs": [],
   "source": [
    "start = time.time()"
   ]
  },
  {
   "cell_type": "code",
   "execution_count": null,
   "metadata": {
    "id": "UVDqVlwOdLVM"
   },
   "outputs": [],
   "source": [
    "model_sgd = build_model(tf.keras.optimizers.SGD(momentum = 0.9, learning_rate = 0.0001))"
   ]
  },
  {
   "cell_type": "code",
   "execution_count": null,
   "metadata": {
    "colab": {
     "base_uri": "https://localhost:8080/"
    },
    "executionInfo": {
     "elapsed": 3632842,
     "status": "ok",
     "timestamp": 1615718577114,
     "user": {
      "displayName": "Michela Sperti",
      "photoUrl": "https://lh3.googleusercontent.com/a-/AOh14Gh7mD9r-1Xj0Qve63ZPZx9UHRv0PkVhL5ayiHNv=s64",
      "userId": "13210266879998244642"
     },
     "user_tz": -60
    },
    "id": "WTEMWgeXdWBp",
    "outputId": "d8256419-1a9c-4a8e-c0ef-5c5db181c85c"
   },
   "outputs": [
    {
     "name": "stdout",
     "output_type": "stream",
     "text": [
      "\n",
      "Epoch: 0, categorical_accuracy:0.7794,  loss:0.6514,  \n",
      "...................................................................................................."
     ]
    }
   ],
   "source": [
    "EPOCHS = 100\n",
    "\n",
    "history_sgd = model_sgd.fit(\n",
    "  data_train_norm, labels_train,\n",
    "  epochs = EPOCHS, verbose = 0,\n",
    "  batch_size = 1,\n",
    "  callbacks = [tfdocs.modeling.EpochDots()])"
   ]
  },
  {
   "cell_type": "code",
   "execution_count": null,
   "metadata": {
    "colab": {
     "base_uri": "https://localhost:8080/"
    },
    "executionInfo": {
     "elapsed": 3632312,
     "status": "ok",
     "timestamp": 1615718577116,
     "user": {
      "displayName": "Michela Sperti",
      "photoUrl": "https://lh3.googleusercontent.com/a-/AOh14Gh7mD9r-1Xj0Qve63ZPZx9UHRv0PkVhL5ayiHNv=s64",
      "userId": "13210266879998244642"
     },
     "user_tz": -60
    },
    "id": "35iYaZbtoqW7",
    "outputId": "204c3d19-a788-4c88-88d5-c8c6743ab499"
   },
   "outputs": [
    {
     "name": "stdout",
     "output_type": "stream",
     "text": [
      "This took 60.23 minutes.\n"
     ]
    }
   ],
   "source": [
    "print('This took {:.2f} minutes.'.format((time.time() - start)/60))"
   ]
  },
  {
   "cell_type": "code",
   "execution_count": null,
   "metadata": {
    "colab": {
     "base_uri": "https://localhost:8080/",
     "height": 198
    },
    "executionInfo": {
     "elapsed": 3631322,
     "status": "ok",
     "timestamp": 1615718577118,
     "user": {
      "displayName": "Michela Sperti",
      "photoUrl": "https://lh3.googleusercontent.com/a-/AOh14Gh7mD9r-1Xj0Qve63ZPZx9UHRv0PkVhL5ayiHNv=s64",
      "userId": "13210266879998244642"
     },
     "user_tz": -60
    },
    "id": "CrE25xiydc8O",
    "outputId": "25ac68dc-6f4c-4b04-bfa7-045da4f010e8"
   },
   "outputs": [
    {
     "data": {
      "text/html": [
       "<div>\n",
       "<style scoped>\n",
       "    .dataframe tbody tr th:only-of-type {\n",
       "        vertical-align: middle;\n",
       "    }\n",
       "\n",
       "    .dataframe tbody tr th {\n",
       "        vertical-align: top;\n",
       "    }\n",
       "\n",
       "    .dataframe thead th {\n",
       "        text-align: right;\n",
       "    }\n",
       "</style>\n",
       "<table border=\"1\" class=\"dataframe\">\n",
       "  <thead>\n",
       "    <tr style=\"text-align: right;\">\n",
       "      <th></th>\n",
       "      <th>loss</th>\n",
       "      <th>categorical_accuracy</th>\n",
       "      <th>epoch</th>\n",
       "    </tr>\n",
       "  </thead>\n",
       "  <tbody>\n",
       "    <tr>\n",
       "      <th>95</th>\n",
       "      <td>0.266158</td>\n",
       "      <td>0.903250</td>\n",
       "      <td>95</td>\n",
       "    </tr>\n",
       "    <tr>\n",
       "      <th>96</th>\n",
       "      <td>0.264982</td>\n",
       "      <td>0.904917</td>\n",
       "      <td>96</td>\n",
       "    </tr>\n",
       "    <tr>\n",
       "      <th>97</th>\n",
       "      <td>0.264688</td>\n",
       "      <td>0.904633</td>\n",
       "      <td>97</td>\n",
       "    </tr>\n",
       "    <tr>\n",
       "      <th>98</th>\n",
       "      <td>0.264469</td>\n",
       "      <td>0.904117</td>\n",
       "      <td>98</td>\n",
       "    </tr>\n",
       "    <tr>\n",
       "      <th>99</th>\n",
       "      <td>0.263607</td>\n",
       "      <td>0.905600</td>\n",
       "      <td>99</td>\n",
       "    </tr>\n",
       "  </tbody>\n",
       "</table>\n",
       "</div>"
      ],
      "text/plain": [
       "        loss  categorical_accuracy  epoch\n",
       "95  0.266158              0.903250     95\n",
       "96  0.264982              0.904917     96\n",
       "97  0.264688              0.904633     97\n",
       "98  0.264469              0.904117     98\n",
       "99  0.263607              0.905600     99"
      ]
     },
     "execution_count": 22,
     "metadata": {
      "tags": []
     },
     "output_type": "execute_result"
    }
   ],
   "source": [
    "hist_sgd = pd.DataFrame(history_sgd.history)\n",
    "hist_sgd['epoch'] = history_sgd.epoch\n",
    "hist_sgd.tail()"
   ]
  },
  {
   "cell_type": "markdown",
   "metadata": {
    "id": "6KE0S_TTidlR"
   },
   "source": [
    "### Mini-batch Gradient Descent"
   ]
  },
  {
   "cell_type": "markdown",
   "metadata": {
    "id": "334rZIuULJhd"
   },
   "source": [
    "With this variation of the gradient descent, the dataset is split into a certain number of groups of observations (called batches) and weights are updated only after each batch has been fed to the model. This is by far the method most commonly used in the field of deep learning."
   ]
  },
  {
   "cell_type": "code",
   "execution_count": null,
   "metadata": {
    "id": "RISAzI7Dom0C"
   },
   "outputs": [],
   "source": [
    "start = time.time()"
   ]
  },
  {
   "cell_type": "code",
   "execution_count": null,
   "metadata": {
    "id": "Xu3ri5cGidPd"
   },
   "outputs": [],
   "source": [
    "model_mbgd = build_model(tf.keras.optimizers.SGD(momentum = 0.9, learning_rate = 0.01))"
   ]
  },
  {
   "cell_type": "code",
   "execution_count": null,
   "metadata": {
    "colab": {
     "base_uri": "https://localhost:8080/"
    },
    "executionInfo": {
     "elapsed": 370641,
     "status": "ok",
     "timestamp": 1615391236623,
     "user": {
      "displayName": "Michela Sperti",
      "photoUrl": "https://lh3.googleusercontent.com/a-/AOh14Gh7mD9r-1Xj0Qve63ZPZx9UHRv0PkVhL5ayiHNv=s64",
      "userId": "13210266879998244642"
     },
     "user_tz": -60
    },
    "id": "psmBdcFcimr3",
    "outputId": "7eb486e9-964c-4acd-f27e-87d4459e5e76"
   },
   "outputs": [
    {
     "name": "stdout",
     "output_type": "stream",
     "text": [
      "\n",
      "Epoch: 0, categorical_accuracy:0.7879,  loss:0.6068,  \n",
      "...................................................................................................."
     ]
    }
   ],
   "source": [
    "EPOCHS = 100\n",
    "\n",
    "history_mbgd = model_mbgd.fit(\n",
    "  data_train_norm, labels_train,\n",
    "  epochs = EPOCHS, verbose = 0,\n",
    "  batch_size = 50,\n",
    "  callbacks = [tfdocs.modeling.EpochDots()])"
   ]
  },
  {
   "cell_type": "code",
   "execution_count": null,
   "metadata": {
    "colab": {
     "base_uri": "https://localhost:8080/"
    },
    "executionInfo": {
     "elapsed": 370632,
     "status": "ok",
     "timestamp": 1615391236624,
     "user": {
      "displayName": "Michela Sperti",
      "photoUrl": "https://lh3.googleusercontent.com/a-/AOh14Gh7mD9r-1Xj0Qve63ZPZx9UHRv0PkVhL5ayiHNv=s64",
      "userId": "13210266879998244642"
     },
     "user_tz": -60
    },
    "id": "0tyXzj7bosMS",
    "outputId": "35182653-ea86-4d30-f2c3-d5ec7580b5c1"
   },
   "outputs": [
    {
     "name": "stdout",
     "output_type": "stream",
     "text": [
      "This took 1.70 minutes.\n"
     ]
    }
   ],
   "source": [
    "print('This took {:.2f} minutes.'.format((time.time() - start)/60))"
   ]
  },
  {
   "cell_type": "code",
   "execution_count": null,
   "metadata": {
    "colab": {
     "base_uri": "https://localhost:8080/",
     "height": 198
    },
    "executionInfo": {
     "elapsed": 370624,
     "status": "ok",
     "timestamp": 1615391236625,
     "user": {
      "displayName": "Michela Sperti",
      "photoUrl": "https://lh3.googleusercontent.com/a-/AOh14Gh7mD9r-1Xj0Qve63ZPZx9UHRv0PkVhL5ayiHNv=s64",
      "userId": "13210266879998244642"
     },
     "user_tz": -60
    },
    "id": "rAiiLaKpirE6",
    "outputId": "c7c42ed5-12db-4614-9a3a-e0b321a47e8f"
   },
   "outputs": [
    {
     "data": {
      "text/html": [
       "<div>\n",
       "<style scoped>\n",
       "    .dataframe tbody tr th:only-of-type {\n",
       "        vertical-align: middle;\n",
       "    }\n",
       "\n",
       "    .dataframe tbody tr th {\n",
       "        vertical-align: top;\n",
       "    }\n",
       "\n",
       "    .dataframe thead th {\n",
       "        text-align: right;\n",
       "    }\n",
       "</style>\n",
       "<table border=\"1\" class=\"dataframe\">\n",
       "  <thead>\n",
       "    <tr style=\"text-align: right;\">\n",
       "      <th></th>\n",
       "      <th>loss</th>\n",
       "      <th>categorical_accuracy</th>\n",
       "      <th>epoch</th>\n",
       "    </tr>\n",
       "  </thead>\n",
       "  <tbody>\n",
       "    <tr>\n",
       "      <th>95</th>\n",
       "      <td>0.264526</td>\n",
       "      <td>0.902383</td>\n",
       "      <td>95</td>\n",
       "    </tr>\n",
       "    <tr>\n",
       "      <th>96</th>\n",
       "      <td>0.264654</td>\n",
       "      <td>0.903250</td>\n",
       "      <td>96</td>\n",
       "    </tr>\n",
       "    <tr>\n",
       "      <th>97</th>\n",
       "      <td>0.263360</td>\n",
       "      <td>0.903100</td>\n",
       "      <td>97</td>\n",
       "    </tr>\n",
       "    <tr>\n",
       "      <th>98</th>\n",
       "      <td>0.263430</td>\n",
       "      <td>0.903933</td>\n",
       "      <td>98</td>\n",
       "    </tr>\n",
       "    <tr>\n",
       "      <th>99</th>\n",
       "      <td>0.263868</td>\n",
       "      <td>0.901950</td>\n",
       "      <td>99</td>\n",
       "    </tr>\n",
       "  </tbody>\n",
       "</table>\n",
       "</div>"
      ],
      "text/plain": [
       "        loss  categorical_accuracy  epoch\n",
       "95  0.264526              0.902383     95\n",
       "96  0.264654              0.903250     96\n",
       "97  0.263360              0.903100     97\n",
       "98  0.263430              0.903933     98\n",
       "99  0.263868              0.901950     99"
      ]
     },
     "execution_count": 37,
     "metadata": {
      "tags": []
     },
     "output_type": "execute_result"
    }
   ],
   "source": [
    "hist_mbgd = pd.DataFrame(history_mbgd.history)\n",
    "hist_mbgd['epoch'] = history_mbgd.epoch\n",
    "hist_mbgd.tail()"
   ]
  },
  {
   "cell_type": "markdown",
   "metadata": {
    "id": "iCg7NvT3L79B"
   },
   "source": [
    "As you can notice from the above results, the **batch gradient descent** is the fastest method in terms of learning phase execution, while the **stochastic gradient descent** is very slow. After 100 epochs, the batch gradient descent reaches an accuracy of only 43% on the training set, while the stochastic gradient descent performs increasingly better (91% accuracy), but it takes around 1 hour to train!!! In the first case the *entire training dataset* is presented to the net before the actual weights and biases update takes place, while in the second case *a single observation* is randomly picked up to perform update.\n",
    "\n",
    "The **mini-batch gradient descent**, on the contrary, is slightly slower than the batch gradient descent, but after only 100 epochs achieves an accuracy of 90% on the training dataset. In this case, groups of 50 training set observations are presented to the net before the actual weights and biases update takes place. Therefore, updates are more frequent with respect to the traditional gradient descent, leading to an overall increasing performance.\n",
    "\n",
    "The mini-batch gradient descent is definitely the best compromise in terms of execution time and classification performance. In fact, it is currently the preferred method to be used as optimizer in deep neural networks, among the different gradient descent types, since it can reach high performances, maintaining a good trade-off between performance and execution time."
   ]
  },
  {
   "cell_type": "markdown",
   "metadata": {
    "id": "4vESn95jHZjM"
   },
   "source": [
    "#### Comparison of Mini-batch Sizes"
   ]
  },
  {
   "cell_type": "markdown",
   "metadata": {
    "id": "NLC_eY37Mc7x"
   },
   "source": [
    "We now define a function to easily try different mini-batch sizes and compare the relative performances."
   ]
  },
  {
   "cell_type": "code",
   "execution_count": null,
   "metadata": {
    "id": "KdWFS9moIKKC"
   },
   "outputs": [],
   "source": [
    "def mini_batch_gradient_descent(mb_size):\n",
    "  # build model\n",
    "  model_mbgd = build_model(tf.keras.optimizers.SGD(momentum = 0.9, learning_rate = 0.0001))\n",
    "  # set number of epochs\n",
    "  EPOCHS = 100\n",
    "  # train model\n",
    "  history_mbgd = model_mbgd.fit(\n",
    "    data_train_norm, labels_train,\n",
    "    epochs = EPOCHS, verbose = 0,\n",
    "    batch_size = mb_size,\n",
    "    callbacks = [tfdocs.modeling.EpochDots()])\n",
    "  # save performances\n",
    "  hist_mbgd = pd.DataFrame(history_mbgd.history)\n",
    "  hist_mbgd['epoch'] = history_mbgd.epoch  \n",
    "  return hist_mbgd"
   ]
  },
  {
   "cell_type": "markdown",
   "metadata": {
    "id": "BMZ_yuwQMrQq"
   },
   "source": [
    "We also save the execution time associated to each mini-batch size."
   ]
  },
  {
   "cell_type": "code",
   "execution_count": null,
   "metadata": {
    "colab": {
     "base_uri": "https://localhost:8080/"
    },
    "executionInfo": {
     "elapsed": 1682604,
     "status": "ok",
     "timestamp": 1615392548626,
     "user": {
      "displayName": "Michela Sperti",
      "photoUrl": "https://lh3.googleusercontent.com/a-/AOh14Gh7mD9r-1Xj0Qve63ZPZx9UHRv0PkVhL5ayiHNv=s64",
      "userId": "13210266879998244642"
     },
     "user_tz": -60
    },
    "id": "NLHJpJ59JnlK",
    "outputId": "3253d07c-18d3-47c0-96ca-d79512478769"
   },
   "outputs": [
    {
     "name": "stdout",
     "output_type": "stream",
     "text": [
      "\n",
      "Epoch: 0, categorical_accuracy:0.6618,  loss:1.0341,  \n",
      "....................................................................................................\n",
      "Epoch: 0, categorical_accuracy:0.4857,  loss:1.6622,  \n",
      "....................................................................................................\n",
      "Epoch: 0, categorical_accuracy:0.3795,  loss:1.9353,  \n",
      "....................................................................................................\n",
      "Epoch: 0, categorical_accuracy:0.2293,  loss:2.1291,  \n",
      "....................................................................................................\n",
      "Epoch: 0, categorical_accuracy:0.0830,  loss:2.2095,  \n",
      "....................................................................................................\n",
      "Epoch: 0, categorical_accuracy:0.2086,  loss:2.1759,  \n",
      "...................................................................................................."
     ]
    }
   ],
   "source": [
    "start = time.time()\n",
    "res_5 = mini_batch_gradient_descent(5)\n",
    "time_5 = (time.time() - start)/60\n",
    "\n",
    "start = time.time()\n",
    "res_20 = mini_batch_gradient_descent(20)\n",
    "time_20 = (time.time() - start)/60\n",
    "\n",
    "start = time.time()\n",
    "res_50 = mini_batch_gradient_descent(50)\n",
    "time_50 = (time.time() - start)/60\n",
    "\n",
    "start = time.time()\n",
    "res_100 = mini_batch_gradient_descent(100)\n",
    "time_100 = (time.time() - start)/60\n",
    "\n",
    "start = time.time()\n",
    "res_200 = mini_batch_gradient_descent(200)\n",
    "time_200 = (time.time() - start)/60\n",
    "\n",
    "start = time.time()\n",
    "res_300 = mini_batch_gradient_descent(300)\n",
    "time_300 = (time.time() - start)/60"
   ]
  },
  {
   "cell_type": "markdown",
   "metadata": {
    "id": "6dTulU4UM54S"
   },
   "source": [
    "Have a look at the results. We compared the performance and the execution time of 6 different mini-batch sizes:\n",
    "- 5\n",
    "- 20\n",
    "- 50\n",
    "- 100\n",
    "- 200\n",
    "- 300"
   ]
  },
  {
   "cell_type": "code",
   "execution_count": null,
   "metadata": {
    "id": "cbZoW_B0KDVv"
   },
   "outputs": [],
   "source": [
    "# The following line contains the path to fonts that are used to plot result in\n",
    "# a uniform way.\n",
    "\n",
    "f = set_style().set_general_style_parameters()"
   ]
  },
  {
   "cell_type": "code",
   "execution_count": null,
   "metadata": {
    "colab": {
     "base_uri": "https://localhost:8080/",
     "height": 392
    },
    "executionInfo": {
     "elapsed": 1683783,
     "status": "ok",
     "timestamp": 1615392549817,
     "user": {
      "displayName": "Michela Sperti",
      "photoUrl": "https://lh3.googleusercontent.com/a-/AOh14Gh7mD9r-1Xj0Qve63ZPZx9UHRv0PkVhL5ayiHNv=s64",
      "userId": "13210266879998244642"
     },
     "user_tz": -60
    },
    "id": "nVTqGdySJ7EC",
    "outputId": "4e6ae245-2515-4477-b630-af99708c03fd"
   },
   "outputs": [
    {
     "data": {
      "image/png": "[encoded data removed]",
      "text/plain": [
       "<Figure size 640x400 with 1 Axes>"
      ]
     },
     "metadata": {
      "filenames": {
       "image/png": "/Users/umberto/Research/Active Books/Applied Deep Learning - 2nd edition/ADL-Book-2nd-Ed/docs/_build/jupyter_execute/Chapter13/Multiclass_classification_with_fully_connected_networks_77_0.png"
      },
      "needs_background": "light",
      "tags": []
     },
     "output_type": "display_data"
    }
   ],
   "source": [
    "fig = plt.figure()\n",
    "ax = fig.add_subplot(111)\n",
    "\n",
    "ax.plot(res_20['epoch'], res_20['loss'], color = 'black', label = 'Mini-batch size 20')\n",
    "ax.plot(res_50['epoch'], res_50['loss'], color = 'blue', label = 'Mini-batch size 50')\n",
    "ax.plot(res_100['epoch'], res_100['loss'], color = 'red', label = 'Mini-batch size 100')\n",
    "ax.plot(res_200['epoch'], res_200['loss'], color = 'green', label = 'Mini-batch size 200')\n",
    "\n",
    "plt.ylabel('Cost function $J$', fontproperties = fm.FontProperties(fname = f))\n",
    "plt.xlabel('Epochs', fontproperties = fm.FontProperties(fname = f))\n",
    "plt.legend(loc = 'best')\n",
    "\n",
    "plt.ylim(0.3, 1.0)\n",
    "plt.xlim(0, 100)\n",
    "\n",
    "plt.axis(True)\n",
    "plt.show()"
   ]
  },
  {
   "cell_type": "markdown",
   "metadata": {
    "id": "-WncEOCUNSXX"
   },
   "source": [
    "The above plot, which reports the decreasing cost function against the number of epochs for 4 of the 6 sizes that have been tested, shows that the smaller the mini-batch size, the lower the cost function. Before discussing about which can be the best solution, let's have a look at the time required to training the network for different mini-batch sizes."
   ]
  },
  {
   "cell_type": "markdown",
   "metadata": {
    "id": "sKnSskg9Malh"
   },
   "source": [
    "#### Time Needed by Different Batch Sizes"
   ]
  },
  {
   "cell_type": "code",
   "execution_count": null,
   "metadata": {
    "id": "YEpXg-qZN2FT"
   },
   "outputs": [],
   "source": [
    "time_mb = [time_5, time_20, time_50, time_100, time_200, time_300]\n",
    "cost_funct_100 = [res_5['loss'].values[-1], res_20['loss'].values[-1], res_50['loss'].values[-1],\n",
    "                  res_100['loss'].values[-1], res_200['loss'].values[-1], res_300['loss'].values[-1]]\n",
    "label_mb = [5, 20, 50, 100, 200, 300]"
   ]
  },
  {
   "cell_type": "code",
   "execution_count": null,
   "metadata": {
    "colab": {
     "base_uri": "https://localhost:8080/",
     "height": 394
    },
    "executionInfo": {
     "elapsed": 1683776,
     "status": "ok",
     "timestamp": 1615392549820,
     "user": {
      "displayName": "Michela Sperti",
      "photoUrl": "https://lh3.googleusercontent.com/a-/AOh14Gh7mD9r-1Xj0Qve63ZPZx9UHRv0PkVhL5ayiHNv=s64",
      "userId": "13210266879998244642"
     },
     "user_tz": -60
    },
    "id": "2rF7Y_5XMfhb",
    "outputId": "b7884502-84f2-4129-9989-b05a564921b3"
   },
   "outputs": [
    {
     "data": {
      "image/png": "[encoded data removed]",
      "text/plain": [
       "<Figure size 640x400 with 1 Axes>"
      ]
     },
     "metadata": {
      "filenames": {
       "image/png": "/Users/umberto/Research/Active Books/Applied Deep Learning - 2nd edition/ADL-Book-2nd-Ed/docs/_build/jupyter_execute/Chapter13/Multiclass_classification_with_fully_connected_networks_81_0.png"
      },
      "needs_background": "light",
      "tags": []
     },
     "output_type": "display_data"
    }
   ],
   "source": [
    "fig = plt.figure()\n",
    "ax = fig.add_subplot(111)\n",
    "\n",
    "ax.scatter(time_mb, cost_funct_100,  color = 'blue')\n",
    "\n",
    "plt.ylabel('Cost function $J$ after 100 epochs', fontproperties = fm.FontProperties(fname = f))\n",
    "plt.xlabel('Time (min)', fontproperties = fm.FontProperties(fname = f))\n",
    "\n",
    "for i, txt in enumerate(label_mb):\n",
    "  ax.annotate(txt, (time_mb[i] + 0.3, cost_funct_100[i]))\n",
    "\n",
    "plt.ylim(0.30, 0.60)\n",
    "plt.xlim(0, 16)\n",
    "\n",
    "plt.axis(True)\n",
    "plt.show()"
   ]
  },
  {
   "cell_type": "markdown",
   "metadata": {
    "id": "MH0u88SUNq4k"
   },
   "source": [
    "As you can see, to choose which is the best value for the mini-batch size, we must always consider the trade-off between performance and execution time. In fact, with a very little mini-batch size (5) we obtain a very low cost function, but with a high execution time (around 14 minutes). Let's know recap what we have just seen."
   ]
  },
  {
   "cell_type": "markdown",
   "metadata": {
    "id": "aPHhzE1zDSpw"
   },
   "source": [
    "##### Final Tips"
   ]
  },
  {
   "cell_type": "markdown",
   "metadata": {
    "id": "NTGed425Dad0"
   },
   "source": [
    "So, how can we choose the size of mini-batches? \n",
    "\n",
    "- As a general rule of thumb, small numbers (such as 30 of 50) are a good option.\n",
    "- In general, the lower the mini-batch size, the lower is the value achieved by the cost function.\n",
    "- However, you must always consider both running time and convergence speed (with respect to number of epochs).\n",
    "\n",
    "For example, as you can see in the last figure, after 100 epochs, a mini-batch size of 5 reaches a very low cost function value, but the running time is increasingly higher than a mini-batch size of 20. In this specific case, 20 is a better choice, since it takes into account both the performance and the running time."
   ]
  },
  {
   "cell_type": "markdown",
   "metadata": {
    "id": "NwXmyOq9Q7XM"
   },
   "source": [
    "## Examples of Wrong Predictions"
   ]
  },
  {
   "cell_type": "markdown",
   "metadata": {
    "id": "Q4FObBKPOtEY"
   },
   "source": [
    "It is instructive to inspect where the network got wrong results."
   ]
  },
  {
   "cell_type": "code",
   "execution_count": null,
   "metadata": {
    "id": "LbLG3f9pR7NH"
   },
   "outputs": [],
   "source": [
    "pred_prob_test = model.predict(data_test_norm) # predictions\n",
    "pred_test = np.argmax(pred_prob_test, 1) # keep the highest probability returned by the softmax function"
   ]
  },
  {
   "cell_type": "code",
   "execution_count": null,
   "metadata": {
    "id": "83DSqNi8ne4I"
   },
   "outputs": [],
   "source": [
    "corr_pred = pred_test == testY"
   ]
  },
  {
   "cell_type": "markdown",
   "metadata": {
    "id": "F3gqWUT4obm1"
   },
   "source": [
    "The `corr_pred` array contains True when the prediction on the test set is right and False when it is not."
   ]
  },
  {
   "cell_type": "code",
   "execution_count": null,
   "metadata": {
    "colab": {
     "base_uri": "https://localhost:8080/"
    },
    "executionInfo": {
     "elapsed": 1683766,
     "status": "ok",
     "timestamp": 1615392549823,
     "user": {
      "displayName": "Michela Sperti",
      "photoUrl": "https://lh3.googleusercontent.com/a-/AOh14Gh7mD9r-1Xj0Qve63ZPZx9UHRv0PkVhL5ayiHNv=s64",
      "userId": "13210266879998244642"
     },
     "user_tz": -60
    },
    "id": "_7Pp4FvTo7Xz",
    "outputId": "8eb9b934-d8ec-48a2-8cb2-9b3161f50283"
   },
   "outputs": [
    {
     "data": {
      "text/plain": [
       "array([ True,  True,  True,  True,  True,  True, False,  True, False,\n",
       "        True, False,  True, False,  True,  True,  True,  True, False,\n",
       "        True,  True, False, False,  True, False,  True, False, False,\n",
       "       False,  True,  True,  True,  True,  True,  True,  True,  True,\n",
       "        True,  True,  True,  True, False,  True,  True, False,  True,\n",
       "       False, False,  True, False, False])"
      ]
     },
     "execution_count": 46,
     "metadata": {
      "tags": []
     },
     "output_type": "execute_result"
    }
   ],
   "source": [
    "corr_pred[:50]"
   ]
  },
  {
   "cell_type": "markdown",
   "metadata": {
    "id": "pTYrA0CMPRzk"
   },
   "source": [
    "Let's plot one example of wrong prediction."
   ]
  },
  {
   "cell_type": "code",
   "execution_count": null,
   "metadata": {
    "colab": {
     "base_uri": "https://localhost:8080/",
     "height": 568
    },
    "executionInfo": {
     "elapsed": 1683994,
     "status": "ok",
     "timestamp": 1615392550056,
     "user": {
      "displayName": "Michela Sperti",
      "photoUrl": "https://lh3.googleusercontent.com/a-/AOh14Gh7mD9r-1Xj0Qve63ZPZx9UHRv0PkVhL5ayiHNv=s64",
      "userId": "13210266879998244642"
     },
     "user_tz": -60
    },
    "id": "QuLV4Pn9oigV",
    "outputId": "3131c4ae-4703-4667-c773-54194de0c703"
   },
   "outputs": [
    {
     "data": {
      "image/png": "[encoded data removed]",
      "text/plain": [
       "<Figure size 640x640 with 1 Axes>"
      ]
     },
     "metadata": {
      "filenames": {
       "image/png": "/Users/umberto/Research/Active Books/Applied Deep Learning - 2nd edition/ADL-Book-2nd-Ed/docs/_build/jupyter_execute/Chapter13/Multiclass_classification_with_fully_connected_networks_92_0.png"
      },
      "needs_background": "light",
      "tags": []
     },
     "output_type": "display_data"
    }
   ],
   "source": [
    "f = plt.figure(figsize = (8, 8));\n",
    "plt.imshow(data_test_norm[12, :].reshape(28, 28), cmap = matplotlib.cm.binary, interpolation = 'nearest')\n",
    "plt.title('True : ' + get_label_name(testY[12]) + ' - Pred.: '+str(get_label_name(pred_test[12])))\n",
    "plt.axis('on')\n",
    "plt.show()"
   ]
  },
  {
   "cell_type": "markdown",
   "metadata": {
    "id": "rskT1bGrrQIy"
   },
   "source": [
    "Let's get 10 random examples of wrongly classified images."
   ]
  },
  {
   "cell_type": "code",
   "execution_count": null,
   "metadata": {
    "id": "xJcKY34frISY"
   },
   "outputs": [],
   "source": [
    "lim = 70\n",
    "wrongly_classified_images = data_test_norm[0:lim, :]\n",
    "wrongly_classified_images = wrongly_classified_images[corr_pred[0:lim] == False, :]\n",
    "wrong_labels = testY[0:lim]\n",
    "wrong_labels = wrong_labels[corr_pred[0:lim] == False]\n",
    "wrong_pred = pred_test[0:lim]\n",
    "wrong_pred = wrong_pred[corr_pred[0:lim] == False]"
   ]
  },
  {
   "cell_type": "code",
   "execution_count": null,
   "metadata": {
    "colab": {
     "base_uri": "https://localhost:8080/",
     "height": 984
    },
    "executionInfo": {
     "elapsed": 1684690,
     "status": "ok",
     "timestamp": 1615392550761,
     "user": {
      "displayName": "Michela Sperti",
      "photoUrl": "https://lh3.googleusercontent.com/a-/AOh14Gh7mD9r-1Xj0Qve63ZPZx9UHRv0PkVhL5ayiHNv=s64",
      "userId": "13210266879998244642"
     },
     "user_tz": -60
    },
    "id": "FX96VKuMrWzn",
    "outputId": "e96f6799-3e50-4aab-ceaf-c6d3132070bd"
   },
   "outputs": [
    {
     "data": {
      "image/png": "[encoded data removed]",
      "text/plain": [
       "<Figure size 1200x1200 with 10 Axes>"
      ]
     },
     "metadata": {
      "filenames": {
       "image/png": "/Users/umberto/Research/Active Books/Applied Deep Learning - 2nd edition/ADL-Book-2nd-Ed/docs/_build/jupyter_execute/Chapter13/Multiclass_classification_with_fully_connected_networks_95_0.png"
      },
      "needs_background": "light",
      "tags": []
     },
     "output_type": "display_data"
    }
   ],
   "source": [
    "f = plt.figure(figsize = (15, 15))\n",
    "\n",
    "count = 1 \n",
    "for i in range(0, 10):\n",
    "    plt.subplot(5, 2, count)\n",
    "    count = count + 1\n",
    "    plt.subplots_adjust(hspace = 0.5)\n",
    "    plt.title('True: ' + get_label_name(wrong_labels[i]) + ' - Pred: ' + get_label_name(wrong_pred[i]))\n",
    "    some_digit_image = wrongly_classified_images[i,:].reshape(28, 28)\n",
    "    plt.imshow(some_digit_image, cmap = matplotlib.cm.binary, interpolation = 'nearest')\n",
    "    plt.axis('off')\n",
    "    pass"
   ]
  },
  {
   "cell_type": "markdown",
   "metadata": {
    "id": "DrRmBFGus6RL"
   },
   "source": [
    "The question to ask yourself is: would I have done the same errors made by the network? For example, in the case reported left top, the answer is yes: it is difficult to say if that image is a coat or a shirt. So, the error may be acceptable."
   ]
  },
  {
   "cell_type": "markdown",
   "metadata": {
    "id": "VwtLX3YYivkr"
   },
   "source": [
    "## Adding Many Layers Efficiently"
   ]
  },
  {
   "cell_type": "markdown",
   "metadata": {
    "id": "tDhqaKFePbHg"
   },
   "source": [
    "Until know we have changed the optimizer, but always working with the same architecture made of one single hidden layer. Let's try adding several layers and several numbers of neurons per layer.\n",
    "\n",
    "We first write a function to easily change and test different number of layers and neurons per layer of our model."
   ]
  },
  {
   "cell_type": "code",
   "execution_count": null,
   "metadata": {
    "id": "KgM7d9Lsiu0V"
   },
   "outputs": [],
   "source": [
    "def model_nlayers(num_neurons, num_layers):\n",
    "    # build model\n",
    "    inputs = keras.Input(shape = 784) # input layer\n",
    "    # first hidden layer\n",
    "    dense = layers.Dense(num_neurons, activation = 'relu')(inputs)\n",
    "    # customized number of layers and neurons per layer\n",
    "    for i in range(num_layers - 1):       \n",
    "        dense = layers.Dense(num_neurons, activation = 'relu')(dense)\n",
    "    # output layer   \n",
    "    outputs = layers.Dense(10, activation = 'softmax')(dense)\n",
    "    model = keras.Model(inputs = inputs, outputs = outputs, name = 'model')\n",
    "    # set optimizer and loss\n",
    "    opt = tf.keras.optimizers.SGD(momentum = 0.9, learning_rate = 0.0001)\n",
    "    model.compile(loss = 'categorical_crossentropy', optimizer = opt, metrics = ['categorical_accuracy'])\n",
    "    \n",
    "    # train model\n",
    "    history = model.fit(\n",
    "      data_train_norm, labels_train,\n",
    "      epochs = 200, verbose = 0,\n",
    "      batch_size = 50,\n",
    "      callbacks = [tfdocs.modeling.EpochDots()])\n",
    "    # save performances\n",
    "    hist = pd.DataFrame(history.history)\n",
    "    hist['epoch'] = history.epoch \n",
    "\n",
    "    return hist, model"
   ]
  },
  {
   "cell_type": "code",
   "execution_count": null,
   "metadata": {
    "colab": {
     "base_uri": "https://localhost:8080/"
    },
    "executionInfo": {
     "elapsed": 50891,
     "status": "ok",
     "timestamp": 1615719731992,
     "user": {
      "displayName": "Michela Sperti",
      "photoUrl": "https://lh3.googleusercontent.com/a-/AOh14Gh7mD9r-1Xj0Qve63ZPZx9UHRv0PkVhL5ayiHNv=s64",
      "userId": "13210266879998244642"
     },
     "user_tz": -60
    },
    "id": "sbZ9v3VDIyGy",
    "outputId": "f2cfdd99-bc17-4389-cbe1-45bc2f011127"
   },
   "outputs": [
    {
     "name": "stdout",
     "output_type": "stream",
     "text": [
      "\n",
      "Epoch: 0, categorical_accuracy:0.2895,  loss:1.9510,  \n",
      "....................................................................................................\n",
      "Epoch: 100, categorical_accuracy:0.8501,  loss:0.4346,  \n",
      "....................................................................................................\n",
      "Epoch: 0, categorical_accuracy:0.2192,  loss:2.1002,  \n",
      "....................................................................................................\n",
      "Epoch: 100, categorical_accuracy:0.8481,  loss:0.4347,  \n",
      "....................................................................................................\n",
      "Epoch: 0, categorical_accuracy:0.1972,  loss:2.2526,  \n",
      "....................................................................................................\n",
      "Epoch: 100, categorical_accuracy:0.8120,  loss:0.5151,  \n",
      "....................................................................................................\n",
      "Epoch: 0, categorical_accuracy:0.1023,  loss:2.2771,  \n",
      "....................................................................................................\n",
      "Epoch: 100, categorical_accuracy:0.8527,  loss:0.4271,  \n",
      "....................................................................................................\n",
      "Epoch: 0, categorical_accuracy:0.3182,  loss:2.1058,  \n",
      "....................................................................................................\n",
      "Epoch: 100, categorical_accuracy:0.8892,  loss:0.3104,  \n",
      "...................................................................................................."
     ]
    }
   ],
   "source": [
    "res_10_1, model_10_1 = model_nlayers(10, 1)\n",
    "res_10_2, model_10_2 = model_nlayers(10, 2)\n",
    "res_10_3, model_10_3 = model_nlayers(10, 3)\n",
    "res_10_4, model_10_4 = model_nlayers(10, 4)\n",
    "res_100_4, model_100_4 = model_nlayers(100, 4)"
   ]
  },
  {
   "cell_type": "code",
   "execution_count": null,
   "metadata": {
    "id": "sipOiLvTZOo_"
   },
   "outputs": [],
   "source": [
    "# The following line contains the path to fonts that are used to plot result in\n",
    "# a uniform way.\n",
    "\n",
    "f = set_style().set_general_style_parameters()"
   ]
  },
  {
   "cell_type": "code",
   "execution_count": null,
   "metadata": {
    "colab": {
     "base_uri": "https://localhost:8080/",
     "height": 392
    },
    "executionInfo": {
     "elapsed": 911,
     "status": "ok",
     "timestamp": 1615719732897,
     "user": {
      "displayName": "Michela Sperti",
      "photoUrl": "https://lh3.googleusercontent.com/a-/AOh14Gh7mD9r-1Xj0Qve63ZPZx9UHRv0PkVhL5ayiHNv=s64",
      "userId": "13210266879998244642"
     },
     "user_tz": -60
    },
    "id": "f4WzBgKjJm9X",
    "outputId": "87593654-8988-400d-d574-1add1c48e0b8"
   },
   "outputs": [
    {
     "data": {
      "image/png": "[encoded data removed]",
      "text/plain": [
       "<Figure size 640x400 with 1 Axes>"
      ]
     },
     "metadata": {
      "filenames": {
       "image/png": "/Users/umberto/Research/Active Books/Applied Deep Learning - 2nd edition/ADL-Book-2nd-Ed/docs/_build/jupyter_execute/Chapter13/Multiclass_classification_with_fully_connected_networks_102_0.png"
      },
      "needs_background": "light",
      "tags": []
     },
     "output_type": "display_data"
    }
   ],
   "source": [
    "fig = plt.figure()\n",
    "ax = fig.add_subplot(111)\n",
    "\n",
    "ax.plot(res_10_1['epoch'], res_10_1['loss'], color = 'black', label = '1 layer / 10 neurons')\n",
    "ax.plot(res_10_2['epoch'], res_10_2['loss'], color = 'blue', label = '2 layers / 10 neurons')\n",
    "ax.plot(res_10_3['epoch'], res_10_3['loss'], color = 'red', label = '3 layers / 10 neurons')\n",
    "ax.plot(res_10_4['epoch'], res_10_4['loss'], color = 'green', label = '4 layers / 10 neurons')\n",
    "ax.plot(res_100_4['epoch'], res_100_4['loss'], color = 'purple', label = '4 layers / 100 neurons')\n",
    "\n",
    "plt.ylabel('Cost function $J$', fontproperties = fm.FontProperties(fname = f))\n",
    "plt.xlabel('Epochs', fontproperties = fm.FontProperties(fname = f))\n",
    "plt.legend(loc = 'best')\n",
    "\n",
    "plt.ylim(0.2, 1.0)\n",
    "plt.xlim(0, 200)\n",
    "\n",
    "plt.axis(True)\n",
    "plt.show()"
   ]
  },
  {
   "cell_type": "markdown",
   "metadata": {
    "id": "3_fnx2LhQraI"
   },
   "source": [
    "In the above plot you can see the results of testing 5 different combinations of neurons and layers:\n",
    "- 1 layer and 10 neurons\n",
    "- 2 layers and 10 neurons\n",
    "- 3 layers and 10 neurons\n",
    "- 4 layers and 10 neurons\n",
    "- 4 layers and 100 neurons\n",
    "\n",
    "You can be forced to think that the last model is the best, but you first have to check overfitting (never forget overfitting). In fact, when the model is too complex, it can be too precise on the training dataset and not general on other datasets. Let's check it together."
   ]
  },
  {
   "cell_type": "code",
   "execution_count": null,
   "metadata": {
    "colab": {
     "base_uri": "https://localhost:8080/"
    },
    "executionInfo": {
     "elapsed": 1247,
     "status": "ok",
     "timestamp": 1615719734130,
     "user": {
      "displayName": "Michela Sperti",
      "photoUrl": "https://lh3.googleusercontent.com/a-/AOh14Gh7mD9r-1Xj0Qve63ZPZx9UHRv0PkVhL5ayiHNv=s64",
      "userId": "13210266879998244642"
     },
     "user_tz": -60
    },
    "id": "8qMr8rIZuzWJ",
    "outputId": "ffd49922-97ef-43e7-f70b-0dcae6783505"
   },
   "outputs": [
    {
     "name": "stdout",
     "output_type": "stream",
     "text": [
      "The accuracy on the train set is equal to:  91 %.\n"
     ]
    }
   ],
   "source": [
    "train_loss, train_accuracy = model_100_4.evaluate(data_train_norm, labels_train, verbose = 0)\n",
    "print('The accuracy on the train set is equal to: ', int(train_accuracy*100), '%.')"
   ]
  },
  {
   "cell_type": "code",
   "execution_count": null,
   "metadata": {
    "colab": {
     "base_uri": "https://localhost:8080/"
    },
    "executionInfo": {
     "elapsed": 644,
     "status": "ok",
     "timestamp": 1615719734764,
     "user": {
      "displayName": "Michela Sperti",
      "photoUrl": "https://lh3.googleusercontent.com/a-/AOh14Gh7mD9r-1Xj0Qve63ZPZx9UHRv0PkVhL5ayiHNv=s64",
      "userId": "13210266879998244642"
     },
     "user_tz": -60
    },
    "id": "OPWjUW8auWRR",
    "outputId": "95d0a781-6563-4cda-8bb7-8e636484b60a"
   },
   "outputs": [
    {
     "name": "stdout",
     "output_type": "stream",
     "text": [
      "The accuracy on the test set is equal to:  87 %.\n"
     ]
    }
   ],
   "source": [
    "test_loss, test_accuracy = model_100_4.evaluate(data_test_norm, labels_test, verbose = 0)\n",
    "print('The accuracy on the test set is equal to: ', int(test_accuracy*100), '%.')"
   ]
  },
  {
   "cell_type": "markdown",
   "metadata": {
    "id": "zn7MOVFMfcI7"
   },
   "source": [
    "And in fact, as you can see from the performance of the last model in terms of accuracy on the training and test set, it is starting to go in overfitting regime."
   ]
  },
  {
   "cell_type": "markdown",
   "metadata": {
    "id": "4QqJHG0ES-06"
   },
   "source": [
    "## Comparing Different Networks"
   ]
  },
  {
   "cell_type": "markdown",
   "metadata": {
    "id": "T6q14zPHvEob"
   },
   "source": [
    "We now study how adding more  neurons in a network with one hidden layer changes the training phase of the network itself."
   ]
  },
  {
   "cell_type": "code",
   "execution_count": null,
   "metadata": {
    "colab": {
     "base_uri": "https://localhost:8080/"
    },
    "executionInfo": {
     "elapsed": 3723547,
     "status": "ok",
     "timestamp": 1615394589640,
     "user": {
      "displayName": "Michela Sperti",
      "photoUrl": "https://lh3.googleusercontent.com/a-/AOh14Gh7mD9r-1Xj0Qve63ZPZx9UHRv0PkVhL5ayiHNv=s64",
      "userId": "13210266879998244642"
     },
     "user_tz": -60
    },
    "id": "1u4olFxYTJ0-",
    "outputId": "98ef7693-71ab-4563-ae4b-bc3cac04b972"
   },
   "outputs": [
    {
     "name": "stdout",
     "output_type": "stream",
     "text": [
      "\n",
      "Epoch: 0, categorical_accuracy:0.1463,  loss:2.2445,  \n",
      "....................................................................................................\n",
      "Epoch: 100, categorical_accuracy:0.3083,  loss:1.7661,  \n",
      "....................................................................................................\n",
      "Epoch: 0, categorical_accuracy:0.1853,  loss:2.1649,  \n",
      "....................................................................................................\n",
      "Epoch: 100, categorical_accuracy:0.8246,  loss:0.5089,  \n",
      "....................................................................................................\n",
      "Epoch: 0, categorical_accuracy:0.3774,  loss:1.8675,  \n",
      "....................................................................................................\n",
      "Epoch: 100, categorical_accuracy:0.8557,  loss:0.4202,  \n",
      "....................................................................................................\n",
      "Epoch: 0, categorical_accuracy:0.3945,  loss:1.8782,  \n",
      "....................................................................................................\n",
      "Epoch: 100, categorical_accuracy:0.8570,  loss:0.4172,  \n",
      "...................................................................................................."
     ]
    }
   ],
   "source": [
    "res_1_1 = model_nlayers(1, 1)\n",
    "res_5_1 = model_nlayers(5, 1)\n",
    "res_15_1 = model_nlayers(15, 1)\n",
    "res_30_1 = model_nlayers(30, 1)"
   ]
  },
  {
   "cell_type": "code",
   "execution_count": null,
   "metadata": {
    "id": "Jq6Lo3-bVdgs"
   },
   "outputs": [],
   "source": [
    "# The following line contains the path to fonts that are used to plot result in\n",
    "# a uniform way.\n",
    "\n",
    "f = set_style().set_general_style_parameters()"
   ]
  },
  {
   "cell_type": "code",
   "execution_count": null,
   "metadata": {
    "colab": {
     "base_uri": "https://localhost:8080/",
     "height": 392
    },
    "executionInfo": {
     "elapsed": 3723911,
     "status": "ok",
     "timestamp": 1615394590012,
     "user": {
      "displayName": "Michela Sperti",
      "photoUrl": "https://lh3.googleusercontent.com/a-/AOh14Gh7mD9r-1Xj0Qve63ZPZx9UHRv0PkVhL5ayiHNv=s64",
      "userId": "13210266879998244642"
     },
     "user_tz": -60
    },
    "id": "MVWFTIXmVfXH",
    "outputId": "7886bb4c-404c-4b36-8715-515f43b3d47c"
   },
   "outputs": [
    {
     "data": {
      "image/png": "[encoded data removed]",
      "text/plain": [
       "<Figure size 640x400 with 1 Axes>"
      ]
     },
     "metadata": {
      "filenames": {
       "image/png": "/Users/umberto/Research/Active Books/Applied Deep Learning - 2nd edition/ADL-Book-2nd-Ed/docs/_build/jupyter_execute/Chapter13/Multiclass_classification_with_fully_connected_networks_111_0.png"
      },
      "needs_background": "light",
      "tags": []
     },
     "output_type": "display_data"
    }
   ],
   "source": [
    "fig = plt.figure()\n",
    "ax = fig.add_subplot(111)\n",
    "\n",
    "ax.plot(res_1_1['epoch'], res_1_1['loss'], color = 'black', label = '1 neuron')\n",
    "ax.plot(res_5_1['epoch'], res_5_1['loss'], color = 'blue', label = '5 neurons')\n",
    "ax.plot(res_15_1['epoch'], res_15_1['loss'], color = 'red', label = '15 neurons')\n",
    "ax.plot(res_30_1['epoch'], res_30_1['loss'], color = 'green', label = '30 neurons')\n",
    "\n",
    "plt.ylabel('Cost function $J$', fontproperties = fm.FontProperties(fname = f))\n",
    "plt.xlabel('Epochs', fontproperties = fm.FontProperties(fname = f))\n",
    "plt.legend(loc = 'best')\n",
    "\n",
    "plt.ylim(0.2, 3.0)\n",
    "plt.xlim(0, 200)\n",
    "\n",
    "plt.axis(True)\n",
    "plt.show()"
   ]
  },
  {
   "cell_type": "markdown",
   "metadata": {
    "id": "JKiVWBdRRrG3"
   },
   "source": [
    "As you can see from the above plot, one single neuron is too simple (and underfits the dataset), while at a certain point, adding so many neurons does not change the performance."
   ]
  },
  {
   "cell_type": "markdown",
   "metadata": {
    "id": "reI2ssAPvXLQ"
   },
   "source": [
    "### Final Tips"
   ]
  },
  {
   "cell_type": "markdown",
   "metadata": {
    "id": "TzMEcmDEv9nF"
   },
   "source": [
    "The best way to get experience with feed-forward neural networks is to play with the models. As you can imagine, there is no one solution that fits all the cases and there is no specific rule. In each case you have to try different architectures (varying number of layers and number of neurons), parameters (learning rate), optimizers, .... Then you check the performance of your models on the training and test datasets to see which is the one that gives best values (without overfitting) and you inspect the plot of loss function vs number of epochs to understand if the model was well trained.\n",
    "\n",
    "General useful advice can be:\n",
    "- Always start with the less complex models (e.g. small number of neurons and layers) and move to more complex ones.\n",
    "- In case you cannot achieve good accuracy, check if any of your layers has a particularly low number of neurons. This may have killed the effective capacity of learning. Remember when we tried a model with just one neuron.\n",
    "- Remember that a low or high number of neurons is always relative to the number of features you have (the more the features the more the complexity of learning)."
   ]
  },
  {
   "cell_type": "markdown",
   "metadata": {
    "id": "_KpgX4W8nCd8"
   },
   "source": [
    "## Exercises"
   ]
  },
  {
   "cell_type": "markdown",
   "metadata": {
    "id": "3J38NJG0nQRB"
   },
   "source": [
    "1. [*Easy Difficulty*] Try to build a multiclass classification model like the one we saw together in this notebook, but with a different dataset, the MNIST database of handwritten digits (http://yann.lecun.com/exdb/mnist/). To download the dataset from TensorFlow use the following lines of code:\n",
    "```\n",
    "from tensorflow import keras \n",
    "(x_train, y_train), (x_test, y_test) = keras.datasets.mnist.load_data()\n",
    "```\n",
    "2. [*Medium Difficulty*] Try to apply He weights initialization (https://www.tensorflow.org/api_docs/python/tf/keras/initializers/HeNormal) in the multiclass classification problem we saw in the notebook and see if you can speed up the learning phase. \n",
    "3. [*Hard Difficulty*] Try to optimize the feed-forward neural network built in this notebook to reach the best possible accuracy (without overfitting the training dataset!). Tune the number of epochs, the learning rate, the optimizer, the number of neurons, layers and mini-batches. Hint: write a function like the one we used to test different numbers of layers and neurons and give it as inputs all the tunable parameters. \n",
    "4. [*Hard Difficulty*] Consider the regression problem we solved with a model made by one single neuron in the notebook linked to Chapter 14 (predicting radon activity in U.S. houses). Try to build a feed-forward neural network to solve the same regression task. See if you can get better prediction performances. Hint: you will need to change the loss function and the metrics to evaluate your results, and one-hot encoding will not be necessary anymore. "
   ]
  },
  {
   "cell_type": "markdown",
   "metadata": {
    "id": "mDgjWwv5nHwH"
   },
   "source": [
    "## Further Readings <a name = \"fr\"></a>"
   ]
  },
  {
   "cell_type": "markdown",
   "metadata": {
    "id": "OTbDJqUjnFvl"
   },
   "source": [
    "**Fashion-MNIST dataset**\n",
    "\n",
    "1. Xiao, Han, Kashif Rasul, and Roland Vollgraf. \"Fashion-mnist: a novel image dataset for benchmarking machine learning algorithms.\" arXiv preprint arXiv:1708.07747 (2017)\n",
    "\n",
    "**One-hot encoding, integer encoding, softmax function**\n",
    "\n",
    "1. https://deepai.org/machine-learning-glossary-and-terms/one-hot-encoding (what one-hot encoding means)\n",
    "2. https://towardsdatascience.com/softmax-activation-function-how-it-actually-works-d292d335bd78 (why we need to use softmax function and the difference between one-hot encoding and integer encoding)\n",
    "\n",
    "**Keras fit method**\n",
    "1. https://keras.io/api/models/model_training_apis/#fit-method (official documentation)\n",
    "\n"
   ]
  },
  {
   "cell_type": "code",
   "execution_count": null,
   "metadata": {
    "id": "4XLbzXl-lBTq"
   },
   "outputs": [],
   "source": []
  }
 ],
 "metadata": {
  "colab": {
   "authorship_tag": "ABX9TyPDkuIkddBo3+JkSoCrEBaw",
   "collapsed_sections": [],
   "name": "Multiclass_classification_with_fully_connected_networks.ipynb",
   "provenance": [],
   "toc_visible": true
  },
  "kernelspec": {
   "display_name": "Python 3",
   "name": "python3"
  }
 },
 "nbformat": 4,
 "nbformat_minor": 0
}