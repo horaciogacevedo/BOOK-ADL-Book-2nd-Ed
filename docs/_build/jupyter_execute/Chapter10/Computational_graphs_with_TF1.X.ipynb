{
 "cells": [
  {
   "cell_type": "markdown",
   "metadata": {
    "id": "3nAeit30_QFR"
   },
   "source": [
    "# Computational Graphs\n",
    "\n",
    "Version 1.02"
   ]
  },
  {
   "cell_type": "markdown",
   "metadata": {
    "id": "sZPp4N77SCLv"
   },
   "source": [
    "(C) 2020 - Umberto Michelucci, Michela Sperti\n",
    "\n",
    "This notebook is part of the book _Applied Deep Learning: a case based approach, **2nd edition**_ from APRESS by [U. Michelucci](mailto:umberto.michelucci@toelt.ai) and [M. Sperti](mailto:michela.sperti@toelt.ai)."
   ]
  },
  {
   "cell_type": "markdown",
   "metadata": {
    "id": "APoj4XCPSDyI"
   },
   "source": [
    "## Notebook Learning Goals"
   ]
  },
  {
   "cell_type": "markdown",
   "metadata": {
    "id": "7WxTNy1rFjMA"
   },
   "source": [
    "At the end of the notebook you are going to have a clear idea of Computational Graphs foundations and, having seen a practical example, you are going to intuitively comprehend why they are a fundamental tool necessary for efficient code writing and why they are the philosophical concept at the base of TensorFlow (from version 1.X to version 2.X)."
   ]
  },
  {
   "cell_type": "markdown",
   "metadata": {
    "id": "G4PhD5ttHbZk"
   },
   "source": [
    "## TensorFlow Setup"
   ]
  },
  {
   "cell_type": "markdown",
   "metadata": {
    "id": "P--el1xUIM2A"
   },
   "source": [
    "In this notebook, we want to use TensorFlow version 1.X over 2.X. This is possible in Google Colab, using %tensorflow_version *decorator*. The reasons is that with TensorFlow 1 is easier to see how Computational Graph comes into play when developing neural networks model. In TensorFlow 2.X, computational graphs are present but more hidden and therefore more difficult to study easily."
   ]
  },
  {
   "cell_type": "code",
   "execution_count": null,
   "metadata": {
    "colab": {
     "base_uri": "https://localhost:8080/"
    },
    "executionInfo": {
     "elapsed": 685,
     "status": "ok",
     "timestamp": 1605723376154,
     "user": {
      "displayName": "Michela Sperti",
      "photoUrl": "https://lh3.googleusercontent.com/a-/AOh14Gh7mD9r-1Xj0Qve63ZPZx9UHRv0PkVhL5ayiHNv=s64",
      "userId": "13210266879998244642"
     },
     "user_tz": -60
    },
    "id": "FdTqOXioZxFC",
    "outputId": "70626fb9-d870-4215-d573-a98d38bdc309"
   },
   "outputs": [
    {
     "name": "stdout",
     "output_type": "stream",
     "text": [
      "TensorFlow 1.x selected.\n"
     ]
    }
   ],
   "source": [
    "# We select TensorFlow version 1.X\n",
    "%tensorflow_version 1.x "
   ]
  },
  {
   "cell_type": "markdown",
   "metadata": {
    "id": "aMJpUoxUOVfU"
   },
   "source": [
    "## Libraries Import"
   ]
  },
  {
   "cell_type": "markdown",
   "metadata": {
    "id": "SmlJTx8tOiVi"
   },
   "source": [
    "This section contains the necessary libraries (such as tensorflow or matplotlib) you need to import to run the notebook."
   ]
  },
  {
   "cell_type": "code",
   "execution_count": null,
   "metadata": {
    "id": "Weyqwtro-mX-"
   },
   "outputs": [],
   "source": [
    "# general libraries\n",
    "import matplotlib.pyplot as plt\n",
    "import matplotlib.font_manager as fm\n",
    "\n",
    "# tensorflow libraries\n",
    "import tensorflow as tf\n",
    "\n",
    "# ignore warnings\n",
    "import warnings\n",
    "warnings.simplefilter('ignore')"
   ]
  },
  {
   "cell_type": "code",
   "execution_count": null,
   "metadata": {
    "colab": {
     "base_uri": "https://localhost:8080/"
    },
    "executionInfo": {
     "elapsed": 4977,
     "status": "ok",
     "timestamp": 1605723380455,
     "user": {
      "displayName": "Michela Sperti",
      "photoUrl": "https://lh3.googleusercontent.com/a-/AOh14Gh7mD9r-1Xj0Qve63ZPZx9UHRv0PkVhL5ayiHNv=s64",
      "userId": "13210266879998244642"
     },
     "user_tz": -60
    },
    "id": "0_MEgbof-op9",
    "outputId": "ccbb8d82-52ed-494a-ccd1-5f8fff854721"
   },
   "outputs": [
    {
     "name": "stdout",
     "output_type": "stream",
     "text": [
      "1.15.2\n"
     ]
    }
   ],
   "source": [
    "# check tensorflow version\n",
    "print(tf.__version__)"
   ]
  },
  {
   "cell_type": "markdown",
   "metadata": {
    "id": "4wdhpP0MJnkh"
   },
   "source": [
    "Now we clone the repository for the book to be able to access the modules that we have written for all the juypter notebooks."
   ]
  },
  {
   "cell_type": "code",
   "execution_count": null,
   "metadata": {
    "id": "ekk8kNUsJcsz"
   },
   "outputs": [],
   "source": [
    "# Referring to the following cell, if you want to re-clone a repository\n",
    "# inside the google colab instance, you need to delete it first. \n",
    "# You can delete the repositories contained in this instance executing \n",
    "# the following two lines of code (deleting the # comment symbol).\n",
    "\n",
    "# !rm -rf ADL-Book-2nd-Ed "
   ]
  },
  {
   "cell_type": "code",
   "execution_count": null,
   "metadata": {
    "colab": {
     "base_uri": "https://localhost:8080/"
    },
    "executionInfo": {
     "elapsed": 9364,
     "status": "ok",
     "timestamp": 1605723384849,
     "user": {
      "displayName": "Michela Sperti",
      "photoUrl": "https://lh3.googleusercontent.com/a-/AOh14Gh7mD9r-1Xj0Qve63ZPZx9UHRv0PkVhL5ayiHNv=s64",
      "userId": "13210266879998244642"
     },
     "user_tz": -60
    },
    "id": "66DYw4LEJff0",
    "outputId": "5cd5f418-277e-4362-9b18-e98a6c3d9808"
   },
   "outputs": [
    {
     "name": "stdout",
     "output_type": "stream",
     "text": [
      "Cloning into 'ADL-Book-2nd-Ed'...\n",
      "remote: Enumerating objects: 16, done.\u001b[K\n",
      "remote: Counting objects: 100% (16/16), done.\u001b[K\n",
      "remote: Compressing objects: 100% (10/10), done.\u001b[K\n",
      "remote: Total 849 (delta 9), reused 13 (delta 6), pack-reused 833\u001b[K\n",
      "Receiving objects: 100% (849/849), 60.20 MiB | 39.98 MiB/s, done.\n",
      "Resolving deltas: 100% (403/403), done.\n"
     ]
    }
   ],
   "source": [
    "# This command actually clone the repository of the book in the google colab\n",
    "# instance. In this way this notebook will have access to the modules\n",
    "# we have written for this book.\n",
    "\n",
    "# Please note that in case you have already run this cell, and you run it again\n",
    "# you may get the error message:\n",
    "#\n",
    "# fatal: destination path 'ADL-Book-2nd-Ed' already exists and is not an empty directory.\n",
    "# \n",
    "# In this case you can safely ignore the error message.\n",
    "\n",
    "!git clone https://github.com/toelt-llc/ADL-Book-2nd-Ed.git"
   ]
  },
  {
   "cell_type": "code",
   "execution_count": null,
   "metadata": {
    "id": "iUmtq-D8Jhym"
   },
   "outputs": [],
   "source": [
    "# This cell imports some custom written functions that we have created to \n",
    "# make the loading of the data and the plotting easier. You don't need \n",
    "# to undertsand the details and you can simply ignore this cell.\n",
    "# Simply run it with CMD+Enter (on Mac) or CTRL+Enter (Windows or Ubuntu) to\n",
    "# import the necessary functions.\n",
    "\n",
    "import sys\n",
    "sys.path.append('ADL-Book-2nd-Ed/modules/')\n",
    "\n",
    "from style_setting import set_style\n",
    "from import_image import display_image"
   ]
  },
  {
   "cell_type": "markdown",
   "metadata": {
    "id": "jqa1hywVKrBX"
   },
   "source": [
    "## Computational Graphs"
   ]
  },
  {
   "cell_type": "markdown",
   "metadata": {
    "id": "8MnvdoMPLWmE"
   },
   "source": [
    "In a nutshell, a computational graph is an abstract way of describing computations as a [directed graph](https://en.wikipedia.org/wiki/Directed_graph). A directed graph is a data structure consisting of nodes (vertices) and edges. Each node corresponds to an operation\n",
    "or a variable. Variables can feed their values into operations, and operations can feed their results into other operations. Usually, nodes are plotted as a circle (or ellipsis), with variable names or operations inside, and when one node’s value is the input to another node, an arrow goes from one to another. It normally describes a set of operations, their order and their dependencies. "
   ]
  },
  {
   "cell_type": "markdown",
   "metadata": {
    "id": "gN1lBWjY_TiL"
   },
   "source": [
    "TensorFlow is strongly based on computational graphs (both versions 1 and 2). Therefore it is important to understand why they are so important. \n",
    "\n",
    "One of the main reasons is that we can use the topology of the graph to execute the nodes in the most efficient manner, e.g. using multiple GPUs on a single machine or even distribute the execution across multiple machines. In fact if nodes have no dependencies from one another, we can execute them in parallel, making the execution of the entire graph faster. Having a graph allows TensorFlow to place different operations on different piece of hardware (or CPUs) for example, or schedule them in the most efficient way possible automatically.\n",
    "\n",
    "There is another more deep reason. A computational graph is a language agnostic way of representing a set of operations. Having the graph allows us to substitute some operations with versions written in different languages (C for example), or even write the entire graph in a completely different language entirely. For example to run specific operations on dedicated hardware ([like TPUs on the edge, like in Coral Devices](https://coral.ai/docs/edgetpu/tflite-python/)) you can invoke, for specific operations, [delegates](https://www.fast.ai/2019/08/06/delegation/) that are specific pieces of software that are developed specifically for the dedicated hardware. Using delegates without a computational graphs would be really hard to do."
   ]
  },
  {
   "cell_type": "markdown",
   "metadata": {
    "id": "sk9jLNnBfreL"
   },
   "source": [
    "### Example "
   ]
  },
  {
   "cell_type": "markdown",
   "metadata": {
    "id": "2Z__U77tfkpg"
   },
   "source": [
    "Let's look at an example. A basic computational graph for the computation of $z=x+2y$ is represented in the following picture. "
   ]
  },
  {
   "cell_type": "code",
   "execution_count": null,
   "metadata": {
    "colab": {
     "base_uri": "https://localhost:8080/",
     "height": 539
    },
    "executionInfo": {
     "elapsed": 9359,
     "status": "ok",
     "timestamp": 1605723384851,
     "user": {
      "displayName": "Michela Sperti",
      "photoUrl": "https://lh3.googleusercontent.com/a-/AOh14Gh7mD9r-1Xj0Qve63ZPZx9UHRv0PkVhL5ayiHNv=s64",
      "userId": "13210266879998244642"
     },
     "user_tz": -60
    },
    "id": "7LUmYBiDYC9C",
    "outputId": "98643f61-3e7c-4cac-b656-bfb356115f6e"
   },
   "outputs": [
    {
     "data": {
      "image/png": "[encoded data removed]",
      "text/plain": [
       "<IPython.core.display.Image object>"
      ]
     },
     "metadata": {
      "filenames": {
       "image/png": "/Users/umberto/Research/Active Books/Applied Deep Learning - 2nd edition/ADL-Book-2nd-Ed/docs/_build/jupyter_execute/Chapter10/Computational_graphs_with_TF1.X_20_0.png"
      },
      "tags": []
     },
     "output_type": "display_data"
    }
   ],
   "source": [
    "di = display_image() # display picture\n",
    "di.display_img('CG.png','chapter11')"
   ]
  },
  {
   "cell_type": "markdown",
   "metadata": {
    "id": "APNbKOcAoDuI"
   },
   "source": [
    "An important aspect to understand is that such a graph only *defines* the operations, describing *how* they must be performed (this is called the computational graph's **construction phase**). To actually execute the operations and computing the result, values have to be assigned to the inputs $x$ and $y$ (this is called the computational graph's **evaluation phase**).\n",
    "\n",
    "Note that the input variables do not need to be real numbers. They can be matrices, vectors, and so on."
   ]
  },
  {
   "cell_type": "markdown",
   "metadata": {
    "id": "Cv10R9JpqbcB"
   },
   "source": [
    "### Construction Phase"
   ]
  },
  {
   "cell_type": "markdown",
   "metadata": {
    "id": "NyaGRMpErj66"
   },
   "source": [
    "The following lines create the computational graph described in the picture above and assign the value 1 to x and 2 to y. Note that in this phase no evaluation takes place."
   ]
  },
  {
   "cell_type": "code",
   "execution_count": null,
   "metadata": {
    "id": "Q-VjAw4fn-g5"
   },
   "outputs": [],
   "source": [
    "# We use constant values to define the inputs of our computational graph and all\n",
    "# the operations contained in it.\n",
    "\n",
    "x = tf.constant(1) # node x\n",
    "y = tf.constant(2) # node y\n",
    "c = 2 # the third node is simply a number, while the two previous nodes can be \n",
    "      # matrices, vectors, etc.\n",
    "\n",
    "b = tf.multiply(y,c) # node b\n",
    "z = tf.add(x,b) # node z"
   ]
  },
  {
   "cell_type": "markdown",
   "metadata": {
    "id": "1QzT-aDcQNgC"
   },
   "source": [
    "In a normal Python code ```z``` would contain the result we expect. Let's check what it contains now."
   ]
  },
  {
   "cell_type": "code",
   "execution_count": null,
   "metadata": {
    "colab": {
     "base_uri": "https://localhost:8080/"
    },
    "executionInfo": {
     "elapsed": 9352,
     "status": "ok",
     "timestamp": 1605723384852,
     "user": {
      "displayName": "Michela Sperti",
      "photoUrl": "https://lh3.googleusercontent.com/a-/AOh14Gh7mD9r-1Xj0Qve63ZPZx9UHRv0PkVhL5ayiHNv=s64",
      "userId": "13210266879998244642"
     },
     "user_tz": -60
    },
    "id": "LFm8D3sgQWEN",
    "outputId": "09695a36-22eb-4479-f763-e3e45f1773b7"
   },
   "outputs": [
    {
     "name": "stdout",
     "output_type": "stream",
     "text": [
      "Tensor(\"Add:0\", shape=(), dtype=int32)\n"
     ]
    }
   ],
   "source": [
    "print(z)"
   ]
  },
  {
   "cell_type": "markdown",
   "metadata": {
    "id": "aYCxcF8gQXeY"
   },
   "source": [
    "As you can see the variable ```z``` does not contain any value. We only know that is a ```Tensor```, that is a scalar (```shape=()```) and that is an integer (```dtype=int32```). But no value has been assigned to it since we have only constructed the computational graph at this point."
   ]
  },
  {
   "cell_type": "markdown",
   "metadata": {
    "id": "gFRQe6Mkr5uP"
   },
   "source": [
    "### Evaluation Phase"
   ]
  },
  {
   "cell_type": "markdown",
   "metadata": {
    "id": "wppyeEV-sQYf"
   },
   "source": [
    "The following lines create a session and run the graph. A ```Session``` is a Python object that connects the graph to the hardware so that can be executed with the method ```run()```."
   ]
  },
  {
   "cell_type": "code",
   "execution_count": null,
   "metadata": {
    "colab": {
     "base_uri": "https://localhost:8080/"
    },
    "executionInfo": {
     "elapsed": 9774,
     "status": "ok",
     "timestamp": 1605723385279,
     "user": {
      "displayName": "Michela Sperti",
      "photoUrl": "https://lh3.googleusercontent.com/a-/AOh14Gh7mD9r-1Xj0Qve63ZPZx9UHRv0PkVhL5ayiHNv=s64",
      "userId": "13210266879998244642"
     },
     "user_tz": -60
    },
    "id": "4H2HShxysNNo",
    "outputId": "b102a447-2a75-4a6e-85cc-7f8088643504"
   },
   "outputs": [
    {
     "name": "stdout",
     "output_type": "stream",
     "text": [
      "5\n"
     ]
    }
   ],
   "source": [
    "sess = tf.Session()\n",
    "print(sess.run(z))\n",
    "sess.close()"
   ]
  },
  {
   "cell_type": "markdown",
   "metadata": {
    "id": "n8HsnCDJQz93"
   },
   "source": [
    "Now you can see that we get the result since we have evaluated the graph. Note that ```z``` does not yet contain any value as can be easily checked."
   ]
  },
  {
   "cell_type": "code",
   "execution_count": null,
   "metadata": {
    "colab": {
     "base_uri": "https://localhost:8080/"
    },
    "executionInfo": {
     "elapsed": 9770,
     "status": "ok",
     "timestamp": 1605723385280,
     "user": {
      "displayName": "Michela Sperti",
      "photoUrl": "https://lh3.googleusercontent.com/a-/AOh14Gh7mD9r-1Xj0Qve63ZPZx9UHRv0PkVhL5ayiHNv=s64",
      "userId": "13210266879998244642"
     },
     "user_tz": -60
    },
    "id": "1xHeacqnQxg1",
    "outputId": "ed93bd12-9f21-4ca1-97c3-72c9115bb1b0"
   },
   "outputs": [
    {
     "name": "stdout",
     "output_type": "stream",
     "text": [
      "Tensor(\"Add:0\", shape=(), dtype=int32)\n"
     ]
    }
   ],
   "source": [
    "print(z)"
   ]
  },
  {
   "cell_type": "markdown",
   "metadata": {
    "id": "_igfpztux7z_"
   },
   "source": [
    "## Practical Example: Solving a Differential Equation Numerically"
   ]
  },
  {
   "cell_type": "markdown",
   "metadata": {
    "id": "37EDsgu1EQQw"
   },
   "source": [
    "Differential equations can describe nearly all systems whose behaviour changes over time. They are applied in lots of fields, from engineering to economics, social science, biology, etc.\n",
    "\n",
    "In the following cells we are going to solve a differential equation numerically, describing it through a computational graph in TensorFlow. The equation is the one which describes the position of a mass $m$ attached to a spring of stiffness $k$:\n",
    "\n",
    "$$\n",
    "m \\frac{d^2x}{dt^2}+kx=0\n",
    "$$\n",
    "\n",
    "The problem's initial conditions are $x(0)=1\\,\\textrm{m}$ and $dx / dt=0\\,\\text{m/s}$. \n",
    "\n",
    "$m=5\\,\\text{kg}$ and $k=5\\,\\textrm{N/m}$.\n",
    "\n",
    "We can describe the problem with the following computational graph. "
   ]
  },
  {
   "cell_type": "code",
   "execution_count": null,
   "metadata": {
    "colab": {
     "base_uri": "https://localhost:8080/",
     "height": 778
    },
    "executionInfo": {
     "elapsed": 9767,
     "status": "ok",
     "timestamp": 1605723385282,
     "user": {
      "displayName": "Michela Sperti",
      "photoUrl": "https://lh3.googleusercontent.com/a-/AOh14Gh7mD9r-1Xj0Qve63ZPZx9UHRv0PkVhL5ayiHNv=s64",
      "userId": "13210266879998244642"
     },
     "user_tz": -60
    },
    "id": "5D5exavnYcjk",
    "outputId": "03f9fc7e-1510-4780-ed8b-685f1aaf1a63"
   },
   "outputs": [
    {
     "data": {
      "image/png": "[encoded data removed]",
      "text/plain": [
       "<IPython.core.display.Image object>"
      ]
     },
     "metadata": {
      "filenames": {
       "image/png": "/Users/umberto/Research/Active Books/Applied Deep Learning - 2nd edition/ADL-Book-2nd-Ed/docs/_build/jupyter_execute/Chapter10/Computational_graphs_with_TF1.X_35_0.png"
      },
      "tags": []
     },
     "output_type": "display_data"
    }
   ],
   "source": [
    "di = display_image() # display picture\n",
    "di.display_img('CGeq.png','chapter11')"
   ]
  },
  {
   "cell_type": "markdown",
   "metadata": {
    "id": "3LjfNn58b3IH"
   },
   "source": [
    "Let's define each node of the computational graph (variables and operations on them)."
   ]
  },
  {
   "cell_type": "code",
   "execution_count": null,
   "metadata": {
    "id": "iFmd24JfHwae"
   },
   "outputs": [],
   "source": [
    "# Computational graph's construction phase\n",
    "# First we define variables\n",
    "\n",
    "t = tf.Variable(0.0) # initial time, s\n",
    "x = tf.Variable(1.0) # initial position, m\n",
    "v = tf.Variable(0.0) # initial velocity, m/s\n",
    "\n",
    "m = tf.constant(5.0) # mass, kg\n",
    "k = tf.constant(5.0) # spring stiffness, N/m\n",
    "dt = tf.constant(0.1) # time's interval, s"
   ]
  },
  {
   "cell_type": "code",
   "execution_count": null,
   "metadata": {
    "id": "fVdgRhhSIK3t"
   },
   "outputs": [],
   "source": [
    "# Then we define operations\n",
    "\n",
    "a = tf.multiply(-1.0,tf.multiply(tf.divide(k,m),x)) # acceleration\n",
    "update_v = v.assign(tf.add(v,tf.multiply(a,dt))) # velocity\n",
    "update_t = t.assign(tf.add(t,dt)) # time\n",
    "update_x = x.assign(tf.add(x,tf.multiply(v,dt))) # position"
   ]
  },
  {
   "cell_type": "markdown",
   "metadata": {
    "id": "MO8nPQD8M9-R"
   },
   "source": [
    "The following line contains the path to fonts that are used to plot result in a uniform way."
   ]
  },
  {
   "cell_type": "code",
   "execution_count": null,
   "metadata": {
    "id": "JcJhYHRCKiXy"
   },
   "outputs": [],
   "source": [
    "# You can safely ignore this cell, just executing it.\n",
    "f = set_style().set_general_style_parameters()"
   ]
  },
  {
   "cell_type": "markdown",
   "metadata": {
    "id": "KIomKsMQNH5u"
   },
   "source": [
    "Let's evaluate our built graph."
   ]
  },
  {
   "cell_type": "code",
   "execution_count": null,
   "metadata": {
    "id": "_7QtN_0OIsm2"
   },
   "outputs": [],
   "source": [
    "# Computational graph's evaluation phase\n",
    "\n",
    "init = tf.global_variables_initializer() # initialize computational graph's variables\n",
    "t_list,x_list,v_list = [],[],[] # these lists are needed to plot results\n",
    "\n",
    "with tf.Session() as sess: # create session to evaluate compuational graph\n",
    "  sess.run(init) # run inizialization\n",
    "  interval = 0.0\n",
    "  while interval < 30.0: # simulate solutions for different times\n",
    "    velocity = update_v.eval() # update velocity\n",
    "    interval = update_t.eval() # update time's interval\n",
    "    position = update_x.eval() # # update position\n",
    "    t_list.append(interval)\n",
    "    x_list.append(position)\n",
    "    v_list.append(velocity)\n",
    "sess.close() # always remember to close session to free resources"
   ]
  },
  {
   "cell_type": "markdown",
   "metadata": {
    "id": "2o48MqtVNVWj"
   },
   "source": [
    "Let's finally plot our results: spring's position and velocity as a function of time."
   ]
  },
  {
   "cell_type": "code",
   "execution_count": null,
   "metadata": {
    "colab": {
     "base_uri": "https://localhost:8080/",
     "height": 392
    },
    "executionInfo": {
     "elapsed": 10426,
     "status": "ok",
     "timestamp": 1605723385954,
     "user": {
      "displayName": "Michela Sperti",
      "photoUrl": "https://lh3.googleusercontent.com/a-/AOh14Gh7mD9r-1Xj0Qve63ZPZx9UHRv0PkVhL5ayiHNv=s64",
      "userId": "13210266879998244642"
     },
     "user_tz": -60
    },
    "id": "TD3nyzPNK43f",
    "outputId": "59f449c8-2576-4ddd-a556-605f883bb211"
   },
   "outputs": [
    {
     "data": {
      "image/png": "[encoded data removed]",
      "text/plain": [
       "<Figure size 640x400 with 1 Axes>"
      ]
     },
     "metadata": {
      "filenames": {
       "image/png": "/Users/umberto/Research/Active Books/Applied Deep Learning - 2nd edition/ADL-Book-2nd-Ed/docs/_build/jupyter_execute/Chapter10/Computational_graphs_with_TF1.X_44_0.png"
      },
      "needs_background": "light",
      "tags": []
     },
     "output_type": "display_data"
    }
   ],
   "source": [
    "# Position versus time plot\n",
    "\n",
    "fig = plt.figure()\n",
    "ax = fig.add_subplot(111)\n",
    "plt.plot(t_list, x_list, color = 'blue')\n",
    "plt.ylabel('x(t) [m]', fontproperties = fm.FontProperties(fname = f))\n",
    "plt.xlabel('t [s]', fontproperties = fm.FontProperties(fname = f))\n",
    "plt.ylim(-1, 1)\n",
    "plt.xlim(0, 30)\n",
    "plt.axis(True)\n",
    "plt.show()"
   ]
  },
  {
   "cell_type": "code",
   "execution_count": null,
   "metadata": {
    "colab": {
     "base_uri": "https://localhost:8080/",
     "height": 392
    },
    "executionInfo": {
     "elapsed": 10421,
     "status": "ok",
     "timestamp": 1605723385955,
     "user": {
      "displayName": "Michela Sperti",
      "photoUrl": "https://lh3.googleusercontent.com/a-/AOh14Gh7mD9r-1Xj0Qve63ZPZx9UHRv0PkVhL5ayiHNv=s64",
      "userId": "13210266879998244642"
     },
     "user_tz": -60
    },
    "id": "O_sIS-6TRWDO",
    "outputId": "3febaa6c-ea8d-47fc-b8de-891d9e357241"
   },
   "outputs": [
    {
     "data": {
      "image/png": "[encoded data removed]",
      "text/plain": [
       "<Figure size 640x400 with 1 Axes>"
      ]
     },
     "metadata": {
      "filenames": {
       "image/png": "/Users/umberto/Research/Active Books/Applied Deep Learning - 2nd edition/ADL-Book-2nd-Ed/docs/_build/jupyter_execute/Chapter10/Computational_graphs_with_TF1.X_45_0.png"
      },
      "needs_background": "light",
      "tags": []
     },
     "output_type": "display_data"
    }
   ],
   "source": [
    "# Velocity versus time plot\n",
    "\n",
    "fig = plt.figure()\n",
    "ax = fig.add_subplot(111)\n",
    "plt.plot(t_list, v_list, color = 'blue')\n",
    "plt.ylabel('v(t) [m]', fontproperties = fm.FontProperties(fname = f))\n",
    "plt.xlabel('t [s]', fontproperties = fm.FontProperties(fname = f))\n",
    "plt.ylim(-1, 1)\n",
    "plt.xlim(0, 30)\n",
    "plt.axis(True)\n",
    "plt.show()"
   ]
  },
  {
   "cell_type": "markdown",
   "metadata": {
    "id": "v67duqJ8Rg2L"
   },
   "source": [
    "## TensorBoard"
   ]
  },
  {
   "cell_type": "markdown",
   "metadata": {
    "id": "6GI2oZB7Rk86"
   },
   "source": [
    "TensorFlow provides a useful free resource to visualize your computational graphs and check whether they have been correctly designed: [TensorBoard](#fr). TensorBoard is a graphs' dashboard that enables **op-level** graphs' visualization and **conceptual** graphs' visualization.\n",
    "\n",
    "TensorBoard works by reading the log files which you place inside the specified `--logdir` and creates a web server, enabling you to visualize your graphs by using a browser.\n",
    "\n",
    "Remember that this is only a visualization tool, therefore, if you execute it, you can just see a description of your graph, but no computation will be performed."
   ]
  },
  {
   "cell_type": "markdown",
   "metadata": {
    "id": "QwbW00wq1sgv"
   },
   "source": [
    "## Exercises"
   ]
  },
  {
   "cell_type": "markdown",
   "metadata": {
    "id": "lYZcJzRH1v02"
   },
   "source": [
    "1. [*Easy Difficulty*] Create and evaluate a computational graph which performs the following operation: $z=w_1y+w_2y$, where $y=x^2$ and $x$, $w_1$, and $w_2$ are scalars (you decide which values assign to them).\n",
    "2. [*Medium Difficulty*] Create and evaluate a computational graph which performs the following operation: $z=w_1y+w_2y$, where $y=x^2$ and $x$, $w_1$, and $w_2$ are vectors (you decide which values assign to them).\n",
    "3. [*Hard Difficulty*] Try to solve numerically the following differential equation: $ \\frac{d^2x}{dt^2}+3\\frac{dx}{dt}+5x=0\n",
    "$. Define it by a computational graph, like in the example seen in the notebook."
   ]
  },
  {
   "cell_type": "markdown",
   "metadata": {
    "id": "dnoKQ7U3ACdY"
   },
   "source": [
    "## Further Readings <a name = \"fr\"></a>"
   ]
  },
  {
   "cell_type": "markdown",
   "metadata": {
    "id": "53GzHGRAAGzP"
   },
   "source": [
    "**TensorBoard**"
   ]
  },
  {
   "cell_type": "markdown",
   "metadata": {
    "id": "695VO5slAV5l"
   },
   "source": [
    "1. Tensorboard for computational Graphs: https://www.tensorflow.org/tensorboard/graphs"
   ]
  },
  {
   "cell_type": "code",
   "execution_count": null,
   "metadata": {
    "id": "KYIXlq70RtMZ"
   },
   "outputs": [],
   "source": []
  }
 ],
 "metadata": {
  "colab": {
   "collapsed_sections": [],
   "name": "Computational_graphs_with_TF1.X.ipynb",
   "provenance": [],
   "toc_visible": true
  },
  "kernelspec": {
   "display_name": "Python 3",
   "name": "python3"
  }
 },
 "nbformat": 4,
 "nbformat_minor": 0
}